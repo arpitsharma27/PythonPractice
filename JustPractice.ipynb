{
  "nbformat": 4,
  "nbformat_minor": 0,
  "metadata": {
    "colab": {
      "name": "JustPractice.ipynb",
      "provenance": [],
      "authorship_tag": "ABX9TyMgBShS6vVXIf88vMjW/oi2",
      "include_colab_link": true
    },
    "kernelspec": {
      "name": "python3",
      "display_name": "Python 3"
    },
    "language_info": {
      "name": "python"
    }
  },
  "cells": [
    {
      "cell_type": "markdown",
      "metadata": {
        "id": "view-in-github",
        "colab_type": "text"
      },
      "source": [
        "<a href=\"https://colab.research.google.com/github/arpitsharma27/PythonPractice/blob/main/JustPractice.ipynb\" target=\"_parent\"><img src=\"https://colab.research.google.com/assets/colab-badge.svg\" alt=\"Open In Colab\"/></a>"
      ]
    },
    {
      "cell_type": "code",
      "metadata": {
        "id": "lqzqq08AlxW6"
      },
      "source": [
        "import pandas as pd\n",
        "import statsmodels.api as sm"
      ],
      "execution_count": 2,
      "outputs": []
    },
    {
      "cell_type": "code",
      "metadata": {
        "id": "tTXVw4CIl1YJ"
      },
      "source": [
        "# Import data that will be used to construct confidence interval of population mean\n",
        "df = pd.read_csv(\"https://raw.githubusercontent.com/UMstatspy/UMStatsPy/master/Course_1/Cartwheeldata.csv\")\n"
      ],
      "execution_count": 3,
      "outputs": []
    },
    {
      "cell_type": "code",
      "metadata": {
        "colab": {
          "base_uri": "https://localhost:8080/",
          "height": 821
        },
        "id": "UBhJ_u5Wl5uO",
        "outputId": "7c8d6ec2-571d-4f87-8162-c875bd2ec4ee"
      },
      "source": [
        "df"
      ],
      "execution_count": 4,
      "outputs": [
        {
          "output_type": "execute_result",
          "data": {
            "text/html": [
              "<div>\n",
              "<style scoped>\n",
              "    .dataframe tbody tr th:only-of-type {\n",
              "        vertical-align: middle;\n",
              "    }\n",
              "\n",
              "    .dataframe tbody tr th {\n",
              "        vertical-align: top;\n",
              "    }\n",
              "\n",
              "    .dataframe thead th {\n",
              "        text-align: right;\n",
              "    }\n",
              "</style>\n",
              "<table border=\"1\" class=\"dataframe\">\n",
              "  <thead>\n",
              "    <tr style=\"text-align: right;\">\n",
              "      <th></th>\n",
              "      <th>ID</th>\n",
              "      <th>Age</th>\n",
              "      <th>Gender</th>\n",
              "      <th>GenderGroup</th>\n",
              "      <th>Glasses</th>\n",
              "      <th>GlassesGroup</th>\n",
              "      <th>Height</th>\n",
              "      <th>Wingspan</th>\n",
              "      <th>CWDistance</th>\n",
              "      <th>Complete</th>\n",
              "      <th>CompleteGroup</th>\n",
              "      <th>Score</th>\n",
              "    </tr>\n",
              "  </thead>\n",
              "  <tbody>\n",
              "    <tr>\n",
              "      <th>0</th>\n",
              "      <td>1</td>\n",
              "      <td>56</td>\n",
              "      <td>F</td>\n",
              "      <td>1</td>\n",
              "      <td>Y</td>\n",
              "      <td>1</td>\n",
              "      <td>62.00</td>\n",
              "      <td>61.0</td>\n",
              "      <td>79</td>\n",
              "      <td>Y</td>\n",
              "      <td>1</td>\n",
              "      <td>7</td>\n",
              "    </tr>\n",
              "    <tr>\n",
              "      <th>1</th>\n",
              "      <td>2</td>\n",
              "      <td>26</td>\n",
              "      <td>F</td>\n",
              "      <td>1</td>\n",
              "      <td>Y</td>\n",
              "      <td>1</td>\n",
              "      <td>62.00</td>\n",
              "      <td>60.0</td>\n",
              "      <td>70</td>\n",
              "      <td>Y</td>\n",
              "      <td>1</td>\n",
              "      <td>8</td>\n",
              "    </tr>\n",
              "    <tr>\n",
              "      <th>2</th>\n",
              "      <td>3</td>\n",
              "      <td>33</td>\n",
              "      <td>F</td>\n",
              "      <td>1</td>\n",
              "      <td>Y</td>\n",
              "      <td>1</td>\n",
              "      <td>66.00</td>\n",
              "      <td>64.0</td>\n",
              "      <td>85</td>\n",
              "      <td>Y</td>\n",
              "      <td>1</td>\n",
              "      <td>7</td>\n",
              "    </tr>\n",
              "    <tr>\n",
              "      <th>3</th>\n",
              "      <td>4</td>\n",
              "      <td>39</td>\n",
              "      <td>F</td>\n",
              "      <td>1</td>\n",
              "      <td>N</td>\n",
              "      <td>0</td>\n",
              "      <td>64.00</td>\n",
              "      <td>63.0</td>\n",
              "      <td>87</td>\n",
              "      <td>Y</td>\n",
              "      <td>1</td>\n",
              "      <td>10</td>\n",
              "    </tr>\n",
              "    <tr>\n",
              "      <th>4</th>\n",
              "      <td>5</td>\n",
              "      <td>27</td>\n",
              "      <td>M</td>\n",
              "      <td>2</td>\n",
              "      <td>N</td>\n",
              "      <td>0</td>\n",
              "      <td>73.00</td>\n",
              "      <td>75.0</td>\n",
              "      <td>72</td>\n",
              "      <td>N</td>\n",
              "      <td>0</td>\n",
              "      <td>4</td>\n",
              "    </tr>\n",
              "    <tr>\n",
              "      <th>5</th>\n",
              "      <td>6</td>\n",
              "      <td>24</td>\n",
              "      <td>M</td>\n",
              "      <td>2</td>\n",
              "      <td>N</td>\n",
              "      <td>0</td>\n",
              "      <td>75.00</td>\n",
              "      <td>71.0</td>\n",
              "      <td>81</td>\n",
              "      <td>N</td>\n",
              "      <td>0</td>\n",
              "      <td>3</td>\n",
              "    </tr>\n",
              "    <tr>\n",
              "      <th>6</th>\n",
              "      <td>7</td>\n",
              "      <td>28</td>\n",
              "      <td>M</td>\n",
              "      <td>2</td>\n",
              "      <td>N</td>\n",
              "      <td>0</td>\n",
              "      <td>75.00</td>\n",
              "      <td>76.0</td>\n",
              "      <td>107</td>\n",
              "      <td>Y</td>\n",
              "      <td>1</td>\n",
              "      <td>10</td>\n",
              "    </tr>\n",
              "    <tr>\n",
              "      <th>7</th>\n",
              "      <td>8</td>\n",
              "      <td>22</td>\n",
              "      <td>F</td>\n",
              "      <td>1</td>\n",
              "      <td>N</td>\n",
              "      <td>0</td>\n",
              "      <td>65.00</td>\n",
              "      <td>62.0</td>\n",
              "      <td>98</td>\n",
              "      <td>Y</td>\n",
              "      <td>1</td>\n",
              "      <td>9</td>\n",
              "    </tr>\n",
              "    <tr>\n",
              "      <th>8</th>\n",
              "      <td>9</td>\n",
              "      <td>29</td>\n",
              "      <td>M</td>\n",
              "      <td>2</td>\n",
              "      <td>Y</td>\n",
              "      <td>1</td>\n",
              "      <td>74.00</td>\n",
              "      <td>73.0</td>\n",
              "      <td>106</td>\n",
              "      <td>N</td>\n",
              "      <td>0</td>\n",
              "      <td>5</td>\n",
              "    </tr>\n",
              "    <tr>\n",
              "      <th>9</th>\n",
              "      <td>10</td>\n",
              "      <td>33</td>\n",
              "      <td>F</td>\n",
              "      <td>1</td>\n",
              "      <td>Y</td>\n",
              "      <td>1</td>\n",
              "      <td>63.00</td>\n",
              "      <td>60.0</td>\n",
              "      <td>65</td>\n",
              "      <td>Y</td>\n",
              "      <td>1</td>\n",
              "      <td>8</td>\n",
              "    </tr>\n",
              "    <tr>\n",
              "      <th>10</th>\n",
              "      <td>11</td>\n",
              "      <td>30</td>\n",
              "      <td>M</td>\n",
              "      <td>2</td>\n",
              "      <td>Y</td>\n",
              "      <td>1</td>\n",
              "      <td>69.50</td>\n",
              "      <td>66.0</td>\n",
              "      <td>96</td>\n",
              "      <td>Y</td>\n",
              "      <td>1</td>\n",
              "      <td>6</td>\n",
              "    </tr>\n",
              "    <tr>\n",
              "      <th>11</th>\n",
              "      <td>12</td>\n",
              "      <td>28</td>\n",
              "      <td>F</td>\n",
              "      <td>1</td>\n",
              "      <td>Y</td>\n",
              "      <td>1</td>\n",
              "      <td>62.75</td>\n",
              "      <td>58.0</td>\n",
              "      <td>79</td>\n",
              "      <td>Y</td>\n",
              "      <td>1</td>\n",
              "      <td>10</td>\n",
              "    </tr>\n",
              "    <tr>\n",
              "      <th>12</th>\n",
              "      <td>13</td>\n",
              "      <td>25</td>\n",
              "      <td>F</td>\n",
              "      <td>1</td>\n",
              "      <td>Y</td>\n",
              "      <td>1</td>\n",
              "      <td>65.00</td>\n",
              "      <td>64.5</td>\n",
              "      <td>92</td>\n",
              "      <td>Y</td>\n",
              "      <td>1</td>\n",
              "      <td>6</td>\n",
              "    </tr>\n",
              "    <tr>\n",
              "      <th>13</th>\n",
              "      <td>14</td>\n",
              "      <td>23</td>\n",
              "      <td>F</td>\n",
              "      <td>1</td>\n",
              "      <td>N</td>\n",
              "      <td>0</td>\n",
              "      <td>61.50</td>\n",
              "      <td>57.5</td>\n",
              "      <td>66</td>\n",
              "      <td>Y</td>\n",
              "      <td>1</td>\n",
              "      <td>4</td>\n",
              "    </tr>\n",
              "    <tr>\n",
              "      <th>14</th>\n",
              "      <td>15</td>\n",
              "      <td>31</td>\n",
              "      <td>M</td>\n",
              "      <td>2</td>\n",
              "      <td>Y</td>\n",
              "      <td>1</td>\n",
              "      <td>73.00</td>\n",
              "      <td>74.0</td>\n",
              "      <td>72</td>\n",
              "      <td>Y</td>\n",
              "      <td>1</td>\n",
              "      <td>9</td>\n",
              "    </tr>\n",
              "    <tr>\n",
              "      <th>15</th>\n",
              "      <td>16</td>\n",
              "      <td>26</td>\n",
              "      <td>M</td>\n",
              "      <td>2</td>\n",
              "      <td>Y</td>\n",
              "      <td>1</td>\n",
              "      <td>71.00</td>\n",
              "      <td>72.0</td>\n",
              "      <td>115</td>\n",
              "      <td>Y</td>\n",
              "      <td>1</td>\n",
              "      <td>6</td>\n",
              "    </tr>\n",
              "    <tr>\n",
              "      <th>16</th>\n",
              "      <td>17</td>\n",
              "      <td>26</td>\n",
              "      <td>F</td>\n",
              "      <td>1</td>\n",
              "      <td>N</td>\n",
              "      <td>0</td>\n",
              "      <td>61.50</td>\n",
              "      <td>59.5</td>\n",
              "      <td>90</td>\n",
              "      <td>N</td>\n",
              "      <td>0</td>\n",
              "      <td>10</td>\n",
              "    </tr>\n",
              "    <tr>\n",
              "      <th>17</th>\n",
              "      <td>18</td>\n",
              "      <td>27</td>\n",
              "      <td>M</td>\n",
              "      <td>2</td>\n",
              "      <td>N</td>\n",
              "      <td>0</td>\n",
              "      <td>66.00</td>\n",
              "      <td>66.0</td>\n",
              "      <td>74</td>\n",
              "      <td>Y</td>\n",
              "      <td>1</td>\n",
              "      <td>5</td>\n",
              "    </tr>\n",
              "    <tr>\n",
              "      <th>18</th>\n",
              "      <td>19</td>\n",
              "      <td>23</td>\n",
              "      <td>M</td>\n",
              "      <td>2</td>\n",
              "      <td>Y</td>\n",
              "      <td>1</td>\n",
              "      <td>70.00</td>\n",
              "      <td>69.0</td>\n",
              "      <td>64</td>\n",
              "      <td>Y</td>\n",
              "      <td>1</td>\n",
              "      <td>3</td>\n",
              "    </tr>\n",
              "    <tr>\n",
              "      <th>19</th>\n",
              "      <td>20</td>\n",
              "      <td>24</td>\n",
              "      <td>F</td>\n",
              "      <td>1</td>\n",
              "      <td>Y</td>\n",
              "      <td>1</td>\n",
              "      <td>68.00</td>\n",
              "      <td>66.0</td>\n",
              "      <td>85</td>\n",
              "      <td>Y</td>\n",
              "      <td>1</td>\n",
              "      <td>8</td>\n",
              "    </tr>\n",
              "    <tr>\n",
              "      <th>20</th>\n",
              "      <td>21</td>\n",
              "      <td>23</td>\n",
              "      <td>M</td>\n",
              "      <td>2</td>\n",
              "      <td>Y</td>\n",
              "      <td>1</td>\n",
              "      <td>69.00</td>\n",
              "      <td>67.0</td>\n",
              "      <td>66</td>\n",
              "      <td>N</td>\n",
              "      <td>0</td>\n",
              "      <td>2</td>\n",
              "    </tr>\n",
              "    <tr>\n",
              "      <th>21</th>\n",
              "      <td>22</td>\n",
              "      <td>29</td>\n",
              "      <td>M</td>\n",
              "      <td>2</td>\n",
              "      <td>N</td>\n",
              "      <td>0</td>\n",
              "      <td>71.00</td>\n",
              "      <td>70.0</td>\n",
              "      <td>101</td>\n",
              "      <td>Y</td>\n",
              "      <td>1</td>\n",
              "      <td>8</td>\n",
              "    </tr>\n",
              "    <tr>\n",
              "      <th>22</th>\n",
              "      <td>23</td>\n",
              "      <td>25</td>\n",
              "      <td>M</td>\n",
              "      <td>2</td>\n",
              "      <td>N</td>\n",
              "      <td>0</td>\n",
              "      <td>70.00</td>\n",
              "      <td>68.0</td>\n",
              "      <td>82</td>\n",
              "      <td>Y</td>\n",
              "      <td>1</td>\n",
              "      <td>4</td>\n",
              "    </tr>\n",
              "    <tr>\n",
              "      <th>23</th>\n",
              "      <td>24</td>\n",
              "      <td>26</td>\n",
              "      <td>M</td>\n",
              "      <td>2</td>\n",
              "      <td>N</td>\n",
              "      <td>0</td>\n",
              "      <td>69.00</td>\n",
              "      <td>71.0</td>\n",
              "      <td>63</td>\n",
              "      <td>Y</td>\n",
              "      <td>1</td>\n",
              "      <td>5</td>\n",
              "    </tr>\n",
              "    <tr>\n",
              "      <th>24</th>\n",
              "      <td>25</td>\n",
              "      <td>23</td>\n",
              "      <td>F</td>\n",
              "      <td>1</td>\n",
              "      <td>Y</td>\n",
              "      <td>1</td>\n",
              "      <td>65.00</td>\n",
              "      <td>63.0</td>\n",
              "      <td>67</td>\n",
              "      <td>N</td>\n",
              "      <td>0</td>\n",
              "      <td>3</td>\n",
              "    </tr>\n",
              "  </tbody>\n",
              "</table>\n",
              "</div>"
            ],
            "text/plain": [
              "    ID  Age Gender  GenderGroup  ... CWDistance  Complete  CompleteGroup  Score\n",
              "0    1   56      F            1  ...         79         Y              1      7\n",
              "1    2   26      F            1  ...         70         Y              1      8\n",
              "2    3   33      F            1  ...         85         Y              1      7\n",
              "3    4   39      F            1  ...         87         Y              1     10\n",
              "4    5   27      M            2  ...         72         N              0      4\n",
              "5    6   24      M            2  ...         81         N              0      3\n",
              "6    7   28      M            2  ...        107         Y              1     10\n",
              "7    8   22      F            1  ...         98         Y              1      9\n",
              "8    9   29      M            2  ...        106         N              0      5\n",
              "9   10   33      F            1  ...         65         Y              1      8\n",
              "10  11   30      M            2  ...         96         Y              1      6\n",
              "11  12   28      F            1  ...         79         Y              1     10\n",
              "12  13   25      F            1  ...         92         Y              1      6\n",
              "13  14   23      F            1  ...         66         Y              1      4\n",
              "14  15   31      M            2  ...         72         Y              1      9\n",
              "15  16   26      M            2  ...        115         Y              1      6\n",
              "16  17   26      F            1  ...         90         N              0     10\n",
              "17  18   27      M            2  ...         74         Y              1      5\n",
              "18  19   23      M            2  ...         64         Y              1      3\n",
              "19  20   24      F            1  ...         85         Y              1      8\n",
              "20  21   23      M            2  ...         66         N              0      2\n",
              "21  22   29      M            2  ...        101         Y              1      8\n",
              "22  23   25      M            2  ...         82         Y              1      4\n",
              "23  24   26      M            2  ...         63         Y              1      5\n",
              "24  25   23      F            1  ...         67         N              0      3\n",
              "\n",
              "[25 rows x 12 columns]"
            ]
          },
          "metadata": {
            "tags": []
          },
          "execution_count": 4
        }
      ]
    },
    {
      "cell_type": "code",
      "metadata": {
        "colab": {
          "base_uri": "https://localhost:8080/"
        },
        "id": "8b7uunzhl6er",
        "outputId": "c02366ee-479f-4c43-93ba-4ef6692ec72d"
      },
      "source": [
        "df.Height.describe()\n"
      ],
      "execution_count": 5,
      "outputs": [
        {
          "output_type": "execute_result",
          "data": {
            "text/plain": [
              "count    25.000000\n",
              "mean     67.650000\n",
              "std       4.431187\n",
              "min      61.500000\n",
              "25%      64.000000\n",
              "50%      68.000000\n",
              "75%      71.000000\n",
              "max      75.000000\n",
              "Name: Height, dtype: float64"
            ]
          },
          "metadata": {
            "tags": []
          },
          "execution_count": 5
        }
      ]
    },
    {
      "cell_type": "code",
      "metadata": {
        "colab": {
          "base_uri": "https://localhost:8080/"
        },
        "id": "eS6Ibyj4mWhp",
        "outputId": "7690e95d-2671-4277-a319-00ade46b8733"
      },
      "source": [
        "sm.stats.DescrStatsW(df['Height']).zconfint_mean()"
      ],
      "execution_count": 6,
      "outputs": [
        {
          "output_type": "execute_result",
          "data": {
            "text/plain": [
              "(65.91300668334998, 69.38699331665003)"
            ]
          },
          "metadata": {
            "tags": []
          },
          "execution_count": 6
        }
      ]
    },
    {
      "cell_type": "code",
      "metadata": {
        "colab": {
          "base_uri": "https://localhost:8080/"
        },
        "id": "BcmOl_pbnD3u",
        "outputId": "218e0ef9-548d-4f12-f595-ef811fa2870f"
      },
      "source": [
        "sm.stats.DescrStatsW(df['Height']).ztest_mean()"
      ],
      "execution_count": 7,
      "outputs": [
        {
          "output_type": "execute_result",
          "data": {
            "text/plain": [
              "(76.33395147993528, 0.0)"
            ]
          },
          "metadata": {
            "tags": []
          },
          "execution_count": 7
        }
      ]
    },
    {
      "cell_type": "code",
      "metadata": {
        "colab": {
          "base_uri": "https://localhost:8080/"
        },
        "id": "nZg-AVH81LY0",
        "outputId": "a91a5e22-88b7-44e9-ceb8-a3d8c64b72da"
      },
      "source": [
        "sm.stats.DescrStatsW(df['Height']).ztest_mean(0.5)"
      ],
      "execution_count": 8,
      "outputs": [
        {
          "output_type": "execute_result",
          "data": {
            "text/plain": [
              "(75.76976854216784, 0.0)"
            ]
          },
          "metadata": {
            "tags": []
          },
          "execution_count": 8
        }
      ]
    },
    {
      "cell_type": "code",
      "metadata": {
        "id": "06gQxf381hgk"
      },
      "source": [
        "import scipy.stats\n",
        "import numpy as np"
      ],
      "execution_count": 9,
      "outputs": []
    },
    {
      "cell_type": "code",
      "metadata": {
        "id": "V4DcxADSjEru"
      },
      "source": [
        "def confidence_interval(data,confidence=0.95):\n",
        "  a=np.array(data)*1\n",
        "  n=len(a)\n",
        "  mean , se = np.mean(a) , scipy.stats.sem(a)\n",
        "  h= se * scipy.stats.t.ppf((1+confidence)/2,n-1)\n",
        "  return mean,se , mean-h , mean+h"
      ],
      "execution_count": 14,
      "outputs": []
    },
    {
      "cell_type": "code",
      "metadata": {
        "id": "5ynwl-QGkKrc",
        "outputId": "a2510c74-713c-4138-a7cc-86c3cbd2d196",
        "colab": {
          "base_uri": "https://localhost:8080/"
        }
      },
      "source": [
        "confidence_interval(df.Height)"
      ],
      "execution_count": 15,
      "outputs": [
        {
          "output_type": "execute_result",
          "data": {
            "text/plain": [
              "(67.65, 0.8862373647430279, 65.82089597764586, 69.47910402235415)"
            ]
          },
          "metadata": {
            "tags": []
          },
          "execution_count": 15
        }
      ]
    },
    {
      "cell_type": "code",
      "metadata": {
        "id": "QfY02nYGkQ0l",
        "outputId": "ededaac6-1150-4f81-8c82-1d20296cdb15",
        "colab": {
          "base_uri": "https://localhost:8080/"
        }
      },
      "source": [
        "confidence_interval(df[df['Gender']==\"M\"].Height)"
      ],
      "execution_count": 30,
      "outputs": [
        {
          "output_type": "execute_result",
          "data": {
            "text/plain": [
              "(71.1923076923077, 0.7414868585087824, 69.57674661196194, 72.80786877265345)"
            ]
          },
          "metadata": {
            "tags": []
          },
          "execution_count": 30
        }
      ]
    },
    {
      "cell_type": "code",
      "metadata": {
        "id": "UXi_TPcOp7ue"
      },
      "source": [
        "mean , se ,lb, ub=confidence_interval(df[df['Gender']==\"M\"].Height)"
      ],
      "execution_count": 37,
      "outputs": []
    },
    {
      "cell_type": "code",
      "metadata": {
        "id": "_ojgsRTxq0Je",
        "outputId": "39d2fa2f-d935-415c-a3a7-2876e99cd4b9",
        "colab": {
          "base_uri": "https://localhost:8080/"
        }
      },
      "source": [
        "mean , se , lb ,ub"
      ],
      "execution_count": 38,
      "outputs": [
        {
          "output_type": "execute_result",
          "data": {
            "text/plain": [
              "(71.1923076923077, 0.7414868585087824, 69.57674661196194, 72.80786877265345)"
            ]
          },
          "metadata": {
            "tags": []
          },
          "execution_count": 38
        }
      ]
    },
    {
      "cell_type": "code",
      "metadata": {
        "id": "Go9tPfsjnieh"
      },
      "source": [
        "just_M_H=df[df['Gender']==\"M\"].Height"
      ],
      "execution_count": 28,
      "outputs": []
    },
    {
      "cell_type": "code",
      "metadata": {
        "id": "0wkqQAPLnzPr",
        "outputId": "8b35ba34-d7c7-4ea2-9748-331a3c1c2340",
        "colab": {
          "base_uri": "https://localhost:8080/"
        }
      },
      "source": [
        "just_M_H"
      ],
      "execution_count": 29,
      "outputs": [
        {
          "output_type": "execute_result",
          "data": {
            "text/plain": [
              "4     73.0\n",
              "5     75.0\n",
              "6     75.0\n",
              "8     74.0\n",
              "10    69.5\n",
              "14    73.0\n",
              "15    71.0\n",
              "17    66.0\n",
              "18    70.0\n",
              "20    69.0\n",
              "21    71.0\n",
              "22    70.0\n",
              "23    69.0\n",
              "Name: Height, dtype: float64"
            ]
          },
          "metadata": {
            "tags": []
          },
          "execution_count": 29
        }
      ]
    },
    {
      "cell_type": "code",
      "metadata": {
        "id": "9rrcaUOMoZGZ"
      },
      "source": [
        ""
      ],
      "execution_count": null,
      "outputs": []
    }
  ]
}