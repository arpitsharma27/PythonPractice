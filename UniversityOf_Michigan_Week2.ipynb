{
  "nbformat": 4,
  "nbformat_minor": 0,
  "metadata": {
    "colab": {
      "name": "UniversityOf_Michigan_Week2.ipynb",
      "provenance": [],
      "authorship_tag": "ABX9TyN9g4xz7Wx97nboTiKcFED9",
      "include_colab_link": true
    },
    "kernelspec": {
      "name": "python3",
      "display_name": "Python 3"
    }
  },
  "cells": [
    {
      "cell_type": "markdown",
      "metadata": {
        "id": "view-in-github",
        "colab_type": "text"
      },
      "source": [
        "<a href=\"https://colab.research.google.com/github/arpitsharma27/PythonPractice/blob/main/UniversityOf_Michigan_Week2.ipynb\" target=\"_parent\"><img src=\"https://colab.research.google.com/assets/colab-badge.svg\" alt=\"Open In Colab\"/></a>"
      ]
    },
    {
      "cell_type": "markdown",
      "metadata": {
        "id": "TrDwQ4SGPGmE"
      },
      "source": [
        "The below content is from Coursera's course \r\n",
        "\r\n",
        "\"**Understanding and Visualizing Data with Python**\" week 2. \r\n",
        "\r\n",
        "This course is provided by **University Of Washington**.  "
      ]
    },
    {
      "cell_type": "code",
      "metadata": {
        "id": "fN4hxa9VKTBk"
      },
      "source": [
        "import numpy as np"
      ],
      "execution_count": 3,
      "outputs": []
    },
    {
      "cell_type": "code",
      "metadata": {
        "colab": {
          "base_uri": "https://localhost:8080/"
        },
        "id": "og4M-EZ8KUeS",
        "outputId": "f29eab2f-5a93-42dd-c3fd-e3329f630d0a"
      },
      "source": [
        "### Create a 3x1 numpy array\r\n",
        "a = np.array([1,2,3])\r\n",
        "\r\n",
        "### Print object type\r\n",
        "type_a=type(a)\r\n",
        "print('type of array a --' + str(type_a))\r\n",
        "\r\n",
        "### Print shape\r\n",
        "shape_a=a.shape\r\n",
        "print('Shape of array a -- ' + str(shape_a))\r\n",
        "\r\n",
        "### Print some values in a\r\n",
        "print('Some values of array a -- ' + str(a[0]), str(a[1]), str(a[2]))\r\n",
        "\r\n",
        "### Create a 2x2 numpy array\r\n",
        "b = np.array([[1,2],[3,4]])\r\n",
        "\r\n",
        "### Print shape\r\n",
        "print(b.shape)\r\n",
        "print('shape of array b --' + str(b.shape))\r\n",
        "\r\n",
        "## Print some values in b\r\n",
        "print(b[0,0], b[0,1], b[1,1])\r\n",
        "print('Some values in array b --' + str(b[0,0]) + str(b[0,1]) + str(b[1,1])  )\r\n",
        "\r\n",
        "### Create a 3x2 numpy array\r\n",
        "c = np.array([[1,2],[3,4],[5,6]])\r\n",
        "\r\n",
        "### Print shape\r\n",
        "print(c.shape)\r\n",
        "\r\n",
        "### Print some values in c\r\n",
        "print(c[0,1], c[1,0], c[2,0], c[2,1])"
      ],
      "execution_count": 4,
      "outputs": [
        {
          "output_type": "stream",
          "text": [
            "type of array a --<class 'numpy.ndarray'>\n",
            "Shape of array a -- (3,)\n",
            "Some values of array a -- 1 2 3\n",
            "(2, 2)\n",
            "shape of array b --(2, 2)\n",
            "1 2 4\n",
            "Some values in array b --124\n",
            "(3, 2)\n",
            "2 3 5 6\n"
          ],
          "name": "stdout"
        }
      ]
    },
    {
      "cell_type": "code",
      "metadata": {
        "colab": {
          "base_uri": "https://localhost:8080/"
        },
        "id": "pV68E97OKdY8",
        "outputId": "c8eb5f4a-2708-4660-b54a-917d2a221cc6"
      },
      "source": [
        "### 2x3 zero array \r\n",
        "d = np.zeros((2,3))\r\n",
        "\r\n",
        "print(d)\r\n",
        "\r\n",
        "### 4x2 array of ones\r\n",
        "e = np.ones((4,2))\r\n",
        "\r\n",
        "print(e)\r\n",
        "\r\n",
        "### 2x2 constant array\r\n",
        "f = np.full((2,2), 9)\r\n",
        "\r\n",
        "print(f)\r\n",
        "\r\n",
        "### 3x3 random array\r\n",
        "g = np.random.random((3,3))\r\n",
        "\r\n",
        "print(g)\r\n"
      ],
      "execution_count": 5,
      "outputs": [
        {
          "output_type": "stream",
          "text": [
            "[[0. 0. 0.]\n",
            " [0. 0. 0.]]\n",
            "[[1. 1.]\n",
            " [1. 1.]\n",
            " [1. 1.]\n",
            " [1. 1.]]\n",
            "[[9 9]\n",
            " [9 9]]\n",
            "[[0.7758397  0.28993818 0.07982561]\n",
            " [0.73918093 0.71149522 0.82272168]\n",
            " [0.95902833 0.10874694 0.25653385]]\n"
          ],
          "name": "stdout"
        }
      ]
    },
    {
      "cell_type": "code",
      "metadata": {
        "colab": {
          "base_uri": "https://localhost:8080/"
        },
        "id": "iZrlQrjLPycP",
        "outputId": "005baa75-4c6e-4eb8-ae32-8d4a53546460"
      },
      "source": [
        "#Practice\r\n",
        "p1=np.zeros((4,3))\r\n",
        "print(p1)\r\n",
        "print(\"\")\r\n",
        "p2=np.zeros_like(p1)\r\n",
        "print(p2)\r\n",
        "print()\r\n",
        "p3=np.random.randint((3,3))\r\n",
        "print(p3)\r\n",
        "print()\r\n",
        "p4=np.full((3,3),5)\r\n",
        "print(p4)"
      ],
      "execution_count": 6,
      "outputs": [
        {
          "output_type": "stream",
          "text": [
            "[[0. 0. 0.]\n",
            " [0. 0. 0.]\n",
            " [0. 0. 0.]\n",
            " [0. 0. 0.]]\n",
            "\n",
            "[[0. 0. 0.]\n",
            " [0. 0. 0.]\n",
            " [0. 0. 0.]\n",
            " [0. 0. 0.]]\n",
            "\n",
            "[1 2]\n",
            "\n",
            "[[5 5 5]\n",
            " [5 5 5]\n",
            " [5 5 5]]\n"
          ],
          "name": "stdout"
        }
      ]
    },
    {
      "cell_type": "markdown",
      "metadata": {
        "id": "pOI8ovRoRvxW"
      },
      "source": [
        "**Array Indexing**"
      ]
    },
    {
      "cell_type": "code",
      "metadata": {
        "colab": {
          "base_uri": "https://localhost:8080/"
        },
        "id": "V3QB1PdyQITm",
        "outputId": "c4240136-65c7-454f-819d-55e67c023361"
      },
      "source": [
        "### Create 3x4 array\r\n",
        "h = np.array([[1,2,3,4,], [5,6,7,8], [9,10,11,12]])\r\n",
        "\r\n",
        "print(h)\r\n",
        "\r\n",
        "### Slice array to make a 2x2 sub-array\r\n",
        "i = h[:2, 1:3]\r\n",
        "\r\n",
        "print(i)"
      ],
      "execution_count": 7,
      "outputs": [
        {
          "output_type": "stream",
          "text": [
            "[[ 1  2  3  4]\n",
            " [ 5  6  7  8]\n",
            " [ 9 10 11 12]]\n",
            "[[2 3]\n",
            " [6 7]]\n"
          ],
          "name": "stdout"
        }
      ]
    },
    {
      "cell_type": "code",
      "metadata": {
        "colab": {
          "base_uri": "https://localhost:8080/"
        },
        "id": "d2zRDnquVzVF",
        "outputId": "70b9c94f-f430-42cc-b914-53c5ca5dddca"
      },
      "source": [
        "print(h[0,1])\r\n",
        "\r\n",
        "### Modify the slice\r\n",
        "i[0,0] = 1738\r\n",
        "\r\n",
        "### Print to show how modifying the slice also changes the base object\r\n",
        "print(h[0,1])"
      ],
      "execution_count": 8,
      "outputs": [
        {
          "output_type": "stream",
          "text": [
            "2\n",
            "1738\n"
          ],
          "name": "stdout"
        }
      ]
    },
    {
      "cell_type": "code",
      "metadata": {
        "colab": {
          "base_uri": "https://localhost:8080/"
        },
        "id": "R_CL3uNGR64W",
        "outputId": "47ca89ba-c9e9-4ce1-d561-6a28dfcee8e8"
      },
      "source": [
        "p1=np.array([[1,2,3],[4,5,6],[7,8,9]])\r\n",
        "print(p1)\r\n",
        "only_5=p1[1:2,1:2]\r\n",
        "print(only_5)\r\n",
        "print(\"\")\r\n",
        "p2=np.array([[1,2,3,4,5],[1,2,3,4,5],[1,2,3,4,5]])\r\n",
        "print(p2)\r\n",
        "only_1=p2[0:4,0:1]\r\n",
        "print(only_1)\r\n",
        "print()\r\n",
        "only_2=p2[:,1:2] ## You dont have to specify any number before/after a colon if you want all members.\r\n",
        "print(only_2)\r\n",
        "print()\r\n",
        "all_234=p2[:,1:4]\r\n",
        "print(all_234)"
      ],
      "execution_count": 9,
      "outputs": [
        {
          "output_type": "stream",
          "text": [
            "[[1 2 3]\n",
            " [4 5 6]\n",
            " [7 8 9]]\n",
            "[[5]]\n",
            "\n",
            "[[1 2 3 4 5]\n",
            " [1 2 3 4 5]\n",
            " [1 2 3 4 5]]\n",
            "[[1]\n",
            " [1]\n",
            " [1]]\n",
            "\n",
            "[[2]\n",
            " [2]\n",
            " [2]]\n",
            "\n",
            "[[2 3 4]\n",
            " [2 3 4]\n",
            " [2 3 4]]\n"
          ],
          "name": "stdout"
        }
      ]
    },
    {
      "cell_type": "markdown",
      "metadata": {
        "id": "Tt4oJRXaWlBz"
      },
      "source": [
        "**Datatypes in Arrays**\r\n",
        "\r\n",
        "Datatypes in arrays is different than type of array."
      ]
    },
    {
      "cell_type": "code",
      "metadata": {
        "id": "qiJVM4xPSgLi",
        "colab": {
          "base_uri": "https://localhost:8080/"
        },
        "outputId": "0dcf3446-e608-43a3-b1a9-36649de0e6f0"
      },
      "source": [
        "##Integer\r\n",
        "j=np.array([1,2])\r\n",
        "print(j.dtype)\r\n",
        "print(type(j))"
      ],
      "execution_count": 11,
      "outputs": [
        {
          "output_type": "stream",
          "text": [
            "int64\n",
            "<class 'numpy.ndarray'>\n"
          ],
          "name": "stdout"
        }
      ]
    },
    {
      "cell_type": "code",
      "metadata": {
        "colab": {
          "base_uri": "https://localhost:8080/"
        },
        "id": "gfZzzQ8bm5WE",
        "outputId": "95188d85-7be0-453a-b38d-c40d5c6cd53a"
      },
      "source": [
        "#Float\r\n",
        "f=np.array([1.0, 2.4])\r\n",
        "print(f.dtype)\r\n",
        "print(type(f))"
      ],
      "execution_count": 12,
      "outputs": [
        {
          "output_type": "stream",
          "text": [
            "float64\n",
            "<class 'numpy.ndarray'>\n"
          ],
          "name": "stdout"
        }
      ]
    },
    {
      "cell_type": "code",
      "metadata": {
        "colab": {
          "base_uri": "https://localhost:8080/"
        },
        "id": "MsmNrZT0nlli",
        "outputId": "1878d2e2-bc09-4d3f-9400-f8f16c9dc73b"
      },
      "source": [
        "#Force Data Type\r\n",
        "fdtype=np.array([1.0,2.0],dtype=np.int64)\r\n",
        "sdtype=np.array([1.0,2.0],dtype='S')\r\n",
        "print(fdtype.dtype)\r\n",
        "print(sdtype.dtype)\r\n",
        "print(type(fdtype))"
      ],
      "execution_count": 14,
      "outputs": [
        {
          "output_type": "stream",
          "text": [
            "int64\n",
            "|S3\n",
            "<class 'numpy.ndarray'>\n"
          ],
          "name": "stdout"
        }
      ]
    },
    {
      "cell_type": "markdown",
      "metadata": {
        "id": "-Wip_OBCq3fv"
      },
      "source": [
        "**ARRAY MATH**\r\n",
        "\r\n",
        "Basic mathematical functions operate elementwise on arrays, and are available both as operator overloads and as functions in the numpy module:"
      ]
    },
    {
      "cell_type": "code",
      "metadata": {
        "id": "myO3gSStn2d7"
      },
      "source": [
        "x=np.array([[1,2],[3,4]],dtype=np.float64)\r\n",
        "y=np.array([[5,6],[7,8]],dtype=np.float64)"
      ],
      "execution_count": 28,
      "outputs": []
    },
    {
      "cell_type": "code",
      "metadata": {
        "colab": {
          "base_uri": "https://localhost:8080/"
        },
        "id": "o1W41E_lrj3Y",
        "outputId": "2e4b74e9-bf91-4280-a48e-b2bd0b63994a"
      },
      "source": [
        "print(x)\r\n",
        "print()\r\n",
        "print(y)\r\n",
        "print()\r\n",
        "print(x+y)\r\n",
        "print()\r\n",
        "print(x*y)\r\n",
        "print()\r\n",
        "print(x**y)"
      ],
      "execution_count": 30,
      "outputs": [
        {
          "output_type": "stream",
          "text": [
            "[[1. 2.]\n",
            " [3. 4.]]\n",
            "\n",
            "[[5. 6.]\n",
            " [7. 8.]]\n",
            "\n",
            "[[ 6.  8.]\n",
            " [10. 12.]]\n",
            "\n",
            "[[ 5. 12.]\n",
            " [21. 32.]]\n",
            "\n",
            "[[1.0000e+00 6.4000e+01]\n",
            " [2.1870e+03 6.5536e+04]]\n"
          ],
          "name": "stdout"
        }
      ]
    },
    {
      "cell_type": "code",
      "metadata": {
        "colab": {
          "base_uri": "https://localhost:8080/"
        },
        "id": "fdKzDn-mrlTG",
        "outputId": "f115fb8e-96d7-4b12-b0e5-0758020092d2"
      },
      "source": [
        "print(x)\r\n",
        "print()\r\n",
        "print(y)\r\n",
        "print()\r\n",
        "print(np.add(x,y))\r\n",
        "print()\r\n",
        "print(np.subtract(x,y))\r\n",
        "print()\r\n",
        "print(np.multiply(x,y))\r\n",
        "print()\r\n",
        "print(np.power(x,y))"
      ],
      "execution_count": 29,
      "outputs": [
        {
          "output_type": "stream",
          "text": [
            "[[1. 2.]\n",
            " [3. 4.]]\n",
            "\n",
            "[[5. 6.]\n",
            " [7. 8.]]\n",
            "\n",
            "[[ 6.  8.]\n",
            " [10. 12.]]\n",
            "\n",
            "[[-4. -4.]\n",
            " [-4. -4.]]\n",
            "\n",
            "[[ 5. 12.]\n",
            " [21. 32.]]\n",
            "\n",
            "[[1.0000e+00 6.4000e+01]\n",
            " [2.1870e+03 6.5536e+04]]\n"
          ],
          "name": "stdout"
        }
      ]
    },
    {
      "cell_type": "code",
      "metadata": {
        "colab": {
          "base_uri": "https://localhost:8080/"
        },
        "id": "ig_4i-zssEGp",
        "outputId": "5aef6fdc-06a5-4a0e-ab0b-55a59401dd9d"
      },
      "source": [
        "print(x)\r\n",
        "print(np.mean(x))\r\n",
        "print(np.mean(x,axis=0))\r\n",
        "print(np.mean(x,axis=1))"
      ],
      "execution_count": 36,
      "outputs": [
        {
          "output_type": "stream",
          "text": [
            "[[1. 2.]\n",
            " [3. 4.]]\n",
            "2.5\n",
            "[2. 3.]\n",
            "[1.5 3.5]\n"
          ],
          "name": "stdout"
        }
      ]
    },
    {
      "cell_type": "code",
      "metadata": {
        "colab": {
          "base_uri": "https://localhost:8080/"
        },
        "id": "JK7nDR4CwF2Y",
        "outputId": "14fb6c42-5e84-41fb-d32d-0d568a89c9ba"
      },
      "source": [
        "mean_all=np.mean(x)\r\n",
        "print(mean_all)\r\n",
        "print(type(mean_all))"
      ],
      "execution_count": 37,
      "outputs": [
        {
          "output_type": "stream",
          "text": [
            "2.5\n",
            "<class 'numpy.float64'>\n"
          ],
          "name": "stdout"
        }
      ]
    },
    {
      "cell_type": "code",
      "metadata": {
        "colab": {
          "base_uri": "https://localhost:8080/"
        },
        "id": "J26K1oke2j4P",
        "outputId": "c8049613-890f-4c18-a293-2df19fe0816d"
      },
      "source": [
        "mean_rows=np.mean(x,axis=1)\r\n",
        "print(mean_rows)\r\n",
        "print(type(mean_rows))"
      ],
      "execution_count": 39,
      "outputs": [
        {
          "output_type": "stream",
          "text": [
            "[1.5 3.5]\n",
            "<class 'numpy.ndarray'>\n"
          ],
          "name": "stdout"
        }
      ]
    },
    {
      "cell_type": "code",
      "metadata": {
        "colab": {
          "base_uri": "https://localhost:8080/"
        },
        "id": "0Whtqlk92ttv",
        "outputId": "1295dbda-e5f0-4cfb-e41d-170fb59e63d3"
      },
      "source": [
        "mean_cols=np.mean(x,axis=0)\r\n",
        "print(mean_cols)\r\n",
        "print(type(mean_cols))"
      ],
      "execution_count": 40,
      "outputs": [
        {
          "output_type": "stream",
          "text": [
            "[2. 3.]\n",
            "<class 'numpy.ndarray'>\n"
          ],
          "name": "stdout"
        }
      ]
    },
    {
      "cell_type": "markdown",
      "metadata": {
        "id": "KiiWx_L93SbL"
      },
      "source": [
        "**SciPy**\r\n",
        "\r\n",
        "Numpy provides a high-performance multidimensional array and basic tools to compute with and manipulate these arrays. SciPy builds on this, and provides a large number of functions that operate on numpy arrays and are useful for different types of scientific and engineering applications.\r\n",
        "\r\n",
        "SciPy.Stats is just one of the sub-libraries.\r\n",
        "\r\n",
        "**SciPy.Stats**\r\n",
        "\r\n",
        "The SciPy.Stats module contains a large number of probability distributions as well as a growing library of statistical functions such as:\r\n",
        "\r\n",
        "\r\n",
        "*   Continuous and Discrete Distributions(i.e. Normal, Uniform, Binomial, etc.)\r\n",
        "*   Descriptive Statistics\r\n",
        "*   Statistical Tests(i.e. T-Test)\r\n",
        "\r\n",
        "\r\n",
        "\r\n",
        "\r\n",
        "\r\n",
        "\r\n"
      ]
    },
    {
      "cell_type": "code",
      "metadata": {
        "id": "xpIfXUFd2_ra"
      },
      "source": [
        "from scipy import stats\r\n",
        "import numpy as np"
      ],
      "execution_count": 41,
      "outputs": []
    },
    {
      "cell_type": "code",
      "metadata": {
        "id": "hRciBplz4_eq"
      },
      "source": [
        ""
      ],
      "execution_count": null,
      "outputs": []
    }
  ]
}