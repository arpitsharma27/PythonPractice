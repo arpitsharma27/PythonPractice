{
  "nbformat": 4,
  "nbformat_minor": 0,
  "metadata": {
    "colab": {
      "name": "UniversityOf_Michigan_Week2.ipynb",
      "provenance": [],
      "authorship_tag": "ABX9TyNB0kjVT+8mUORbjfujvbrC",
      "include_colab_link": true
    },
    "kernelspec": {
      "name": "python3",
      "display_name": "Python 3"
    }
  },
  "cells": [
    {
      "cell_type": "markdown",
      "metadata": {
        "id": "view-in-github",
        "colab_type": "text"
      },
      "source": [
        "<a href=\"https://colab.research.google.com/github/arpitsharma27/PythonPractice/blob/main/UniversityOf_Michigan_Week2.ipynb\" target=\"_parent\"><img src=\"https://colab.research.google.com/assets/colab-badge.svg\" alt=\"Open In Colab\"/></a>"
      ]
    },
    {
      "cell_type": "markdown",
      "metadata": {
        "id": "TrDwQ4SGPGmE"
      },
      "source": [
        "The below content is from Coursera's course \r\n",
        "\r\n",
        "\"**Understanding and Visualizing Data with Python**\" week 2. \r\n",
        "\r\n",
        "This course is provided by **University Of Washington**.  "
      ]
    },
    {
      "cell_type": "code",
      "metadata": {
        "id": "fN4hxa9VKTBk"
      },
      "source": [
        "import numpy as np"
      ],
      "execution_count": 1,
      "outputs": []
    },
    {
      "cell_type": "code",
      "metadata": {
        "colab": {
          "base_uri": "https://localhost:8080/"
        },
        "id": "og4M-EZ8KUeS",
        "outputId": "c4068c70-771e-48f5-baa7-bd30ac7436f5"
      },
      "source": [
        "### Create a 3x1 numpy array\r\n",
        "a = np.array([1,2,3])\r\n",
        "\r\n",
        "### Print object type\r\n",
        "type_a=type(a)\r\n",
        "print('type of array a --' + str(type_a))\r\n",
        "\r\n",
        "### Print shape\r\n",
        "shape_a=a.shape\r\n",
        "print('Shape of array a -- ' + str(shape_a))\r\n",
        "\r\n",
        "### Print some values in a\r\n",
        "print('Some values of array a -- ' + str(a[0]), str(a[1]), str(a[2]))\r\n",
        "\r\n",
        "### Create a 2x2 numpy array\r\n",
        "b = np.array([[1,2],[3,4]])\r\n",
        "\r\n",
        "### Print shape\r\n",
        "print(b.shape)\r\n",
        "print('shape of array b --' + str(b.shape))\r\n",
        "\r\n",
        "## Print some values in b\r\n",
        "print(b[0,0], b[0,1], b[1,1])\r\n",
        "print('Some values in array b --' + str(b[0,0]) + str(b[0,1]) + str(b[1,1])  )\r\n",
        "\r\n",
        "### Create a 3x2 numpy array\r\n",
        "c = np.array([[1,2],[3,4],[5,6]])\r\n",
        "\r\n",
        "### Print shape\r\n",
        "print(c.shape)\r\n",
        "\r\n",
        "### Print some values in c\r\n",
        "print(c[0,1], c[1,0], c[2,0], c[2,1])"
      ],
      "execution_count": 25,
      "outputs": [
        {
          "output_type": "stream",
          "text": [
            "type of array a --<class 'numpy.ndarray'>\n",
            "Shape of array a -- (3,)\n",
            "Some values of array a -- 1 2 3\n",
            "(2, 2)\n",
            "shape of array b --(2, 2)\n",
            "1 2 4\n",
            "Some values in array b --124\n",
            "(3, 2)\n",
            "2 3 5 6\n"
          ],
          "name": "stdout"
        }
      ]
    },
    {
      "cell_type": "code",
      "metadata": {
        "colab": {
          "base_uri": "https://localhost:8080/"
        },
        "id": "pV68E97OKdY8",
        "outputId": "b1a86df7-bc07-4df9-ad52-36f564ad84cc"
      },
      "source": [
        "### 2x3 zero array \r\n",
        "d = np.zeros((2,3))\r\n",
        "\r\n",
        "print(d)\r\n",
        "\r\n",
        "### 4x2 array of ones\r\n",
        "e = np.ones((4,2))\r\n",
        "\r\n",
        "print(e)\r\n",
        "\r\n",
        "### 2x2 constant array\r\n",
        "f = np.full((2,2), 9)\r\n",
        "\r\n",
        "print(f)\r\n",
        "\r\n",
        "### 3x3 random array\r\n",
        "g = np.random.random((3,3))\r\n",
        "\r\n",
        "print(g)\r\n"
      ],
      "execution_count": 26,
      "outputs": [
        {
          "output_type": "stream",
          "text": [
            "[[0. 0. 0.]\n",
            " [0. 0. 0.]]\n",
            "[[1. 1.]\n",
            " [1. 1.]\n",
            " [1. 1.]\n",
            " [1. 1.]]\n",
            "[[9 9]\n",
            " [9 9]]\n",
            "[[0.19002407 0.07967394 0.95551707]\n",
            " [0.7177553  0.37711794 0.28908582]\n",
            " [0.14566239 0.3591406  0.54178139]]\n"
          ],
          "name": "stdout"
        }
      ]
    },
    {
      "cell_type": "code",
      "metadata": {
        "colab": {
          "base_uri": "https://localhost:8080/"
        },
        "id": "iZrlQrjLPycP",
        "outputId": "4093d554-29c6-438b-f678-83ac3ce1f249"
      },
      "source": [
        "#Practice\r\n",
        "p1=np.zeros((4,3))\r\n",
        "print(p1)\r\n",
        "print(\"\")\r\n",
        "p2=np.zeros_like(p1)\r\n",
        "print(p2)\r\n",
        "print()\r\n",
        "p3=np.random.randint((3,3))\r\n",
        "print(p3)\r\n",
        "print()\r\n",
        "p4=np.full((3,3),5)\r\n",
        "print(p4)"
      ],
      "execution_count": 39,
      "outputs": [
        {
          "output_type": "stream",
          "text": [
            "[[0. 0. 0.]\n",
            " [0. 0. 0.]\n",
            " [0. 0. 0.]\n",
            " [0. 0. 0.]]\n",
            "\n",
            "[[0. 0. 0.]\n",
            " [0. 0. 0.]\n",
            " [0. 0. 0.]\n",
            " [0. 0. 0.]]\n",
            "\n",
            "[2 0]\n",
            "\n",
            "[[5 5 5]\n",
            " [5 5 5]\n",
            " [5 5 5]]\n"
          ],
          "name": "stdout"
        }
      ]
    },
    {
      "cell_type": "markdown",
      "metadata": {
        "id": "pOI8ovRoRvxW"
      },
      "source": [
        "**Array Indexing**"
      ]
    },
    {
      "cell_type": "code",
      "metadata": {
        "colab": {
          "base_uri": "https://localhost:8080/"
        },
        "id": "V3QB1PdyQITm",
        "outputId": "b0913891-86fd-41ff-fb00-595cfd0e82b3"
      },
      "source": [
        "### Create 3x4 array\r\n",
        "h = np.array([[1,2,3,4,], [5,6,7,8], [9,10,11,12]])\r\n",
        "\r\n",
        "print(h)\r\n",
        "\r\n",
        "### Slice array to make a 2x2 sub-array\r\n",
        "i = h[:2, 1:3]\r\n",
        "\r\n",
        "print(i)"
      ],
      "execution_count": 58,
      "outputs": [
        {
          "output_type": "stream",
          "text": [
            "[[ 1  2  3  4]\n",
            " [ 5  6  7  8]\n",
            " [ 9 10 11 12]]\n",
            "[[2 3]\n",
            " [6 7]]\n"
          ],
          "name": "stdout"
        }
      ]
    },
    {
      "cell_type": "code",
      "metadata": {
        "colab": {
          "base_uri": "https://localhost:8080/"
        },
        "id": "d2zRDnquVzVF",
        "outputId": "1934edb9-635e-463a-8f99-74d4b0a2baec"
      },
      "source": [
        "print(h[0,1])\r\n",
        "\r\n",
        "### Modify the slice\r\n",
        "i[0,0] = 1738\r\n",
        "\r\n",
        "### Print to show how modifying the slice also changes the base object\r\n",
        "print(h[0,1])"
      ],
      "execution_count": 59,
      "outputs": [
        {
          "output_type": "stream",
          "text": [
            "2\n",
            "1738\n"
          ],
          "name": "stdout"
        }
      ]
    },
    {
      "cell_type": "code",
      "metadata": {
        "colab": {
          "base_uri": "https://localhost:8080/"
        },
        "id": "R_CL3uNGR64W",
        "outputId": "51464d2f-47b8-4048-952c-b62fa201cc72"
      },
      "source": [
        "p1=np.array([[1,2,3],[4,5,6],[7,8,9]])\r\n",
        "print(p1)\r\n",
        "only_5=p1[1:2,1:2]\r\n",
        "print(only_5)\r\n",
        "print(\"\")\r\n",
        "p2=np.array([[1,2,3,4,5],[1,2,3,4,5],[1,2,3,4,5]])\r\n",
        "print(p2)\r\n",
        "only_1=p2[0:4,0:1]\r\n",
        "print(only_1)\r\n",
        "print()\r\n",
        "only_2=p2[:,1:2] ## You dont have to specify any number before/after a colon if you want all members.\r\n",
        "print(only_2)\r\n",
        "print()\r\n",
        "all_234=p2[:,1:4]\r\n",
        "print(all_234)"
      ],
      "execution_count": 57,
      "outputs": [
        {
          "output_type": "stream",
          "text": [
            "[[1 2 3]\n",
            " [4 5 6]\n",
            " [7 8 9]]\n",
            "[[5]]\n",
            "\n",
            "[[1 2 3 4 5]\n",
            " [1 2 3 4 5]\n",
            " [1 2 3 4 5]]\n",
            "[[1]\n",
            " [1]\n",
            " [1]]\n",
            "\n",
            "[[2]\n",
            " [2]\n",
            " [2]]\n",
            "\n",
            "[[2 3 4]\n",
            " [2 3 4]\n",
            " [2 3 4]]\n"
          ],
          "name": "stdout"
        }
      ]
    },
    {
      "cell_type": "markdown",
      "metadata": {
        "id": "Tt4oJRXaWlBz"
      },
      "source": [
        "**Datatypes in Arrays**"
      ]
    },
    {
      "cell_type": "code",
      "metadata": {
        "id": "qiJVM4xPSgLi"
      },
      "source": [
        ""
      ],
      "execution_count": null,
      "outputs": []
    }
  ]
}