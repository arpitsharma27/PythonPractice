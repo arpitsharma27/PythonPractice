{
  "nbformat": 4,
  "nbformat_minor": 0,
  "metadata": {
    "colab": {
      "name": "UniversityOf_Michigan_Week2.ipynb",
      "provenance": [],
      "authorship_tag": "ABX9TyNE0kPEKvkGQvZWFpwsoYpJ",
      "include_colab_link": true
    },
    "kernelspec": {
      "name": "python3",
      "display_name": "Python 3"
    }
  },
  "cells": [
    {
      "cell_type": "markdown",
      "metadata": {
        "id": "view-in-github",
        "colab_type": "text"
      },
      "source": [
        "<a href=\"https://colab.research.google.com/github/arpitsharma27/PythonPractice/blob/main/UniversityOf_Michigan_Week2.ipynb\" target=\"_parent\"><img src=\"https://colab.research.google.com/assets/colab-badge.svg\" alt=\"Open In Colab\"/></a>"
      ]
    },
    {
      "cell_type": "markdown",
      "metadata": {
        "id": "TrDwQ4SGPGmE"
      },
      "source": [
        "The below content is from Coursera's course \r\n",
        "\r\n",
        "\"**Understanding and Visualizing Data with Python**\" week 2. \r\n",
        "\r\n",
        "This course is provided by **University Of Washington**.  "
      ]
    },
    {
      "cell_type": "code",
      "metadata": {
        "id": "fN4hxa9VKTBk"
      },
      "source": [
        "import numpy as np"
      ],
      "execution_count": 3,
      "outputs": []
    },
    {
      "cell_type": "code",
      "metadata": {
        "colab": {
          "base_uri": "https://localhost:8080/"
        },
        "id": "og4M-EZ8KUeS",
        "outputId": "f29eab2f-5a93-42dd-c3fd-e3329f630d0a"
      },
      "source": [
        "### Create a 3x1 numpy array\r\n",
        "a = np.array([1,2,3])\r\n",
        "\r\n",
        "### Print object type\r\n",
        "type_a=type(a)\r\n",
        "print('type of array a --' + str(type_a))\r\n",
        "\r\n",
        "### Print shape\r\n",
        "shape_a=a.shape\r\n",
        "print('Shape of array a -- ' + str(shape_a))\r\n",
        "\r\n",
        "### Print some values in a\r\n",
        "print('Some values of array a -- ' + str(a[0]), str(a[1]), str(a[2]))\r\n",
        "\r\n",
        "### Create a 2x2 numpy array\r\n",
        "b = np.array([[1,2],[3,4]])\r\n",
        "\r\n",
        "### Print shape\r\n",
        "print(b.shape)\r\n",
        "print('shape of array b --' + str(b.shape))\r\n",
        "\r\n",
        "## Print some values in b\r\n",
        "print(b[0,0], b[0,1], b[1,1])\r\n",
        "print('Some values in array b --' + str(b[0,0]) + str(b[0,1]) + str(b[1,1])  )\r\n",
        "\r\n",
        "### Create a 3x2 numpy array\r\n",
        "c = np.array([[1,2],[3,4],[5,6]])\r\n",
        "\r\n",
        "### Print shape\r\n",
        "print(c.shape)\r\n",
        "\r\n",
        "### Print some values in c\r\n",
        "print(c[0,1], c[1,0], c[2,0], c[2,1])"
      ],
      "execution_count": 4,
      "outputs": [
        {
          "output_type": "stream",
          "text": [
            "type of array a --<class 'numpy.ndarray'>\n",
            "Shape of array a -- (3,)\n",
            "Some values of array a -- 1 2 3\n",
            "(2, 2)\n",
            "shape of array b --(2, 2)\n",
            "1 2 4\n",
            "Some values in array b --124\n",
            "(3, 2)\n",
            "2 3 5 6\n"
          ],
          "name": "stdout"
        }
      ]
    },
    {
      "cell_type": "code",
      "metadata": {
        "colab": {
          "base_uri": "https://localhost:8080/"
        },
        "id": "pV68E97OKdY8",
        "outputId": "c8eb5f4a-2708-4660-b54a-917d2a221cc6"
      },
      "source": [
        "### 2x3 zero array \r\n",
        "d = np.zeros((2,3))\r\n",
        "\r\n",
        "print(d)\r\n",
        "\r\n",
        "### 4x2 array of ones\r\n",
        "e = np.ones((4,2))\r\n",
        "\r\n",
        "print(e)\r\n",
        "\r\n",
        "### 2x2 constant array\r\n",
        "f = np.full((2,2), 9)\r\n",
        "\r\n",
        "print(f)\r\n",
        "\r\n",
        "### 3x3 random array\r\n",
        "g = np.random.random((3,3))\r\n",
        "\r\n",
        "print(g)\r\n"
      ],
      "execution_count": 5,
      "outputs": [
        {
          "output_type": "stream",
          "text": [
            "[[0. 0. 0.]\n",
            " [0. 0. 0.]]\n",
            "[[1. 1.]\n",
            " [1. 1.]\n",
            " [1. 1.]\n",
            " [1. 1.]]\n",
            "[[9 9]\n",
            " [9 9]]\n",
            "[[0.7758397  0.28993818 0.07982561]\n",
            " [0.73918093 0.71149522 0.82272168]\n",
            " [0.95902833 0.10874694 0.25653385]]\n"
          ],
          "name": "stdout"
        }
      ]
    },
    {
      "cell_type": "code",
      "metadata": {
        "colab": {
          "base_uri": "https://localhost:8080/"
        },
        "id": "iZrlQrjLPycP",
        "outputId": "005baa75-4c6e-4eb8-ae32-8d4a53546460"
      },
      "source": [
        "#Practice\r\n",
        "p1=np.zeros((4,3))\r\n",
        "print(p1)\r\n",
        "print(\"\")\r\n",
        "p2=np.zeros_like(p1)\r\n",
        "print(p2)\r\n",
        "print()\r\n",
        "p3=np.random.randint((3,3))\r\n",
        "print(p3)\r\n",
        "print()\r\n",
        "p4=np.full((3,3),5)\r\n",
        "print(p4)"
      ],
      "execution_count": 6,
      "outputs": [
        {
          "output_type": "stream",
          "text": [
            "[[0. 0. 0.]\n",
            " [0. 0. 0.]\n",
            " [0. 0. 0.]\n",
            " [0. 0. 0.]]\n",
            "\n",
            "[[0. 0. 0.]\n",
            " [0. 0. 0.]\n",
            " [0. 0. 0.]\n",
            " [0. 0. 0.]]\n",
            "\n",
            "[1 2]\n",
            "\n",
            "[[5 5 5]\n",
            " [5 5 5]\n",
            " [5 5 5]]\n"
          ],
          "name": "stdout"
        }
      ]
    },
    {
      "cell_type": "markdown",
      "metadata": {
        "id": "pOI8ovRoRvxW"
      },
      "source": [
        "**Array Indexing**"
      ]
    },
    {
      "cell_type": "code",
      "metadata": {
        "colab": {
          "base_uri": "https://localhost:8080/"
        },
        "id": "V3QB1PdyQITm",
        "outputId": "c4240136-65c7-454f-819d-55e67c023361"
      },
      "source": [
        "### Create 3x4 array\r\n",
        "h = np.array([[1,2,3,4,], [5,6,7,8], [9,10,11,12]])\r\n",
        "\r\n",
        "print(h)\r\n",
        "\r\n",
        "### Slice array to make a 2x2 sub-array\r\n",
        "i = h[:2, 1:3]\r\n",
        "\r\n",
        "print(i)"
      ],
      "execution_count": 7,
      "outputs": [
        {
          "output_type": "stream",
          "text": [
            "[[ 1  2  3  4]\n",
            " [ 5  6  7  8]\n",
            " [ 9 10 11 12]]\n",
            "[[2 3]\n",
            " [6 7]]\n"
          ],
          "name": "stdout"
        }
      ]
    },
    {
      "cell_type": "code",
      "metadata": {
        "colab": {
          "base_uri": "https://localhost:8080/"
        },
        "id": "d2zRDnquVzVF",
        "outputId": "70b9c94f-f430-42cc-b914-53c5ca5dddca"
      },
      "source": [
        "print(h[0,1])\r\n",
        "\r\n",
        "### Modify the slice\r\n",
        "i[0,0] = 1738\r\n",
        "\r\n",
        "### Print to show how modifying the slice also changes the base object\r\n",
        "print(h[0,1])"
      ],
      "execution_count": 8,
      "outputs": [
        {
          "output_type": "stream",
          "text": [
            "2\n",
            "1738\n"
          ],
          "name": "stdout"
        }
      ]
    },
    {
      "cell_type": "code",
      "metadata": {
        "colab": {
          "base_uri": "https://localhost:8080/"
        },
        "id": "R_CL3uNGR64W",
        "outputId": "47ca89ba-c9e9-4ce1-d561-6a28dfcee8e8"
      },
      "source": [
        "p1=np.array([[1,2,3],[4,5,6],[7,8,9]])\r\n",
        "print(p1)\r\n",
        "only_5=p1[1:2,1:2]\r\n",
        "print(only_5)\r\n",
        "print(\"\")\r\n",
        "p2=np.array([[1,2,3,4,5],[1,2,3,4,5],[1,2,3,4,5]])\r\n",
        "print(p2)\r\n",
        "only_1=p2[0:4,0:1]\r\n",
        "print(only_1)\r\n",
        "print()\r\n",
        "only_2=p2[:,1:2] ## You dont have to specify any number before/after a colon if you want all members.\r\n",
        "print(only_2)\r\n",
        "print()\r\n",
        "all_234=p2[:,1:4]\r\n",
        "print(all_234)"
      ],
      "execution_count": 9,
      "outputs": [
        {
          "output_type": "stream",
          "text": [
            "[[1 2 3]\n",
            " [4 5 6]\n",
            " [7 8 9]]\n",
            "[[5]]\n",
            "\n",
            "[[1 2 3 4 5]\n",
            " [1 2 3 4 5]\n",
            " [1 2 3 4 5]]\n",
            "[[1]\n",
            " [1]\n",
            " [1]]\n",
            "\n",
            "[[2]\n",
            " [2]\n",
            " [2]]\n",
            "\n",
            "[[2 3 4]\n",
            " [2 3 4]\n",
            " [2 3 4]]\n"
          ],
          "name": "stdout"
        }
      ]
    },
    {
      "cell_type": "markdown",
      "metadata": {
        "id": "Tt4oJRXaWlBz"
      },
      "source": [
        "**Datatypes in Arrays**\r\n",
        "\r\n",
        "Datatypes in arrays is different than type of array."
      ]
    },
    {
      "cell_type": "code",
      "metadata": {
        "id": "qiJVM4xPSgLi",
        "colab": {
          "base_uri": "https://localhost:8080/"
        },
        "outputId": "0dcf3446-e608-43a3-b1a9-36649de0e6f0"
      },
      "source": [
        "##Integer\r\n",
        "j=np.array([1,2])\r\n",
        "print(j.dtype)\r\n",
        "print(type(j))"
      ],
      "execution_count": 11,
      "outputs": [
        {
          "output_type": "stream",
          "text": [
            "int64\n",
            "<class 'numpy.ndarray'>\n"
          ],
          "name": "stdout"
        }
      ]
    },
    {
      "cell_type": "code",
      "metadata": {
        "colab": {
          "base_uri": "https://localhost:8080/"
        },
        "id": "gfZzzQ8bm5WE",
        "outputId": "95188d85-7be0-453a-b38d-c40d5c6cd53a"
      },
      "source": [
        "#Float\r\n",
        "f=np.array([1.0, 2.4])\r\n",
        "print(f.dtype)\r\n",
        "print(type(f))"
      ],
      "execution_count": 12,
      "outputs": [
        {
          "output_type": "stream",
          "text": [
            "float64\n",
            "<class 'numpy.ndarray'>\n"
          ],
          "name": "stdout"
        }
      ]
    },
    {
      "cell_type": "code",
      "metadata": {
        "colab": {
          "base_uri": "https://localhost:8080/"
        },
        "id": "MsmNrZT0nlli",
        "outputId": "1878d2e2-bc09-4d3f-9400-f8f16c9dc73b"
      },
      "source": [
        "#Force Data Type\r\n",
        "fdtype=np.array([1.0,2.0],dtype=np.int64)\r\n",
        "sdtype=np.array([1.0,2.0],dtype='S')\r\n",
        "print(fdtype.dtype)\r\n",
        "print(sdtype.dtype)\r\n",
        "print(type(fdtype))"
      ],
      "execution_count": 14,
      "outputs": [
        {
          "output_type": "stream",
          "text": [
            "int64\n",
            "|S3\n",
            "<class 'numpy.ndarray'>\n"
          ],
          "name": "stdout"
        }
      ]
    },
    {
      "cell_type": "markdown",
      "metadata": {
        "id": "-Wip_OBCq3fv"
      },
      "source": [
        "**ARRAY MATH**\r\n",
        "\r\n",
        "Basic mathematical functions operate elementwise on arrays, and are available both as operator overloads and as functions in the numpy module:"
      ]
    },
    {
      "cell_type": "code",
      "metadata": {
        "id": "myO3gSStn2d7"
      },
      "source": [
        "x=np.array([[1,2],[3,4]],dtype=np.float64)\r\n",
        "y=np.array([[5,6],[7,8]],dtype=np.float64)"
      ],
      "execution_count": 28,
      "outputs": []
    },
    {
      "cell_type": "code",
      "metadata": {
        "colab": {
          "base_uri": "https://localhost:8080/"
        },
        "id": "o1W41E_lrj3Y",
        "outputId": "2e4b74e9-bf91-4280-a48e-b2bd0b63994a"
      },
      "source": [
        "print(x)\r\n",
        "print()\r\n",
        "print(y)\r\n",
        "print()\r\n",
        "print(x+y)\r\n",
        "print()\r\n",
        "print(x*y)\r\n",
        "print()\r\n",
        "print(x**y)"
      ],
      "execution_count": 30,
      "outputs": [
        {
          "output_type": "stream",
          "text": [
            "[[1. 2.]\n",
            " [3. 4.]]\n",
            "\n",
            "[[5. 6.]\n",
            " [7. 8.]]\n",
            "\n",
            "[[ 6.  8.]\n",
            " [10. 12.]]\n",
            "\n",
            "[[ 5. 12.]\n",
            " [21. 32.]]\n",
            "\n",
            "[[1.0000e+00 6.4000e+01]\n",
            " [2.1870e+03 6.5536e+04]]\n"
          ],
          "name": "stdout"
        }
      ]
    },
    {
      "cell_type": "code",
      "metadata": {
        "colab": {
          "base_uri": "https://localhost:8080/"
        },
        "id": "fdKzDn-mrlTG",
        "outputId": "f115fb8e-96d7-4b12-b0e5-0758020092d2"
      },
      "source": [
        "print(x)\r\n",
        "print()\r\n",
        "print(y)\r\n",
        "print()\r\n",
        "print(np.add(x,y))\r\n",
        "print()\r\n",
        "print(np.subtract(x,y))\r\n",
        "print()\r\n",
        "print(np.multiply(x,y))\r\n",
        "print()\r\n",
        "print(np.power(x,y))"
      ],
      "execution_count": 29,
      "outputs": [
        {
          "output_type": "stream",
          "text": [
            "[[1. 2.]\n",
            " [3. 4.]]\n",
            "\n",
            "[[5. 6.]\n",
            " [7. 8.]]\n",
            "\n",
            "[[ 6.  8.]\n",
            " [10. 12.]]\n",
            "\n",
            "[[-4. -4.]\n",
            " [-4. -4.]]\n",
            "\n",
            "[[ 5. 12.]\n",
            " [21. 32.]]\n",
            "\n",
            "[[1.0000e+00 6.4000e+01]\n",
            " [2.1870e+03 6.5536e+04]]\n"
          ],
          "name": "stdout"
        }
      ]
    },
    {
      "cell_type": "code",
      "metadata": {
        "colab": {
          "base_uri": "https://localhost:8080/"
        },
        "id": "ig_4i-zssEGp",
        "outputId": "5aef6fdc-06a5-4a0e-ab0b-55a59401dd9d"
      },
      "source": [
        "print(x)\r\n",
        "print(np.mean(x))\r\n",
        "print(np.mean(x,axis=0))\r\n",
        "print(np.mean(x,axis=1))"
      ],
      "execution_count": 36,
      "outputs": [
        {
          "output_type": "stream",
          "text": [
            "[[1. 2.]\n",
            " [3. 4.]]\n",
            "2.5\n",
            "[2. 3.]\n",
            "[1.5 3.5]\n"
          ],
          "name": "stdout"
        }
      ]
    },
    {
      "cell_type": "code",
      "metadata": {
        "colab": {
          "base_uri": "https://localhost:8080/"
        },
        "id": "JK7nDR4CwF2Y",
        "outputId": "14fb6c42-5e84-41fb-d32d-0d568a89c9ba"
      },
      "source": [
        "mean_all=np.mean(x)\r\n",
        "print(mean_all)\r\n",
        "print(type(mean_all))"
      ],
      "execution_count": 37,
      "outputs": [
        {
          "output_type": "stream",
          "text": [
            "2.5\n",
            "<class 'numpy.float64'>\n"
          ],
          "name": "stdout"
        }
      ]
    },
    {
      "cell_type": "code",
      "metadata": {
        "colab": {
          "base_uri": "https://localhost:8080/"
        },
        "id": "J26K1oke2j4P",
        "outputId": "c8049613-890f-4c18-a293-2df19fe0816d"
      },
      "source": [
        "mean_rows=np.mean(x,axis=1)\r\n",
        "print(mean_rows)\r\n",
        "print(type(mean_rows))"
      ],
      "execution_count": 39,
      "outputs": [
        {
          "output_type": "stream",
          "text": [
            "[1.5 3.5]\n",
            "<class 'numpy.ndarray'>\n"
          ],
          "name": "stdout"
        }
      ]
    },
    {
      "cell_type": "code",
      "metadata": {
        "colab": {
          "base_uri": "https://localhost:8080/"
        },
        "id": "0Whtqlk92ttv",
        "outputId": "1295dbda-e5f0-4cfb-e41d-170fb59e63d3"
      },
      "source": [
        "mean_cols=np.mean(x,axis=0)\r\n",
        "print(mean_cols)\r\n",
        "print(type(mean_cols))"
      ],
      "execution_count": 40,
      "outputs": [
        {
          "output_type": "stream",
          "text": [
            "[2. 3.]\n",
            "<class 'numpy.ndarray'>\n"
          ],
          "name": "stdout"
        }
      ]
    },
    {
      "cell_type": "markdown",
      "metadata": {
        "id": "KiiWx_L93SbL"
      },
      "source": [
        "**SciPy**\r\n",
        "\r\n",
        "Numpy provides a high-performance multidimensional array and basic tools to compute with and manipulate these arrays. SciPy builds on this, and provides a large number of functions that operate on numpy arrays and are useful for different types of scientific and engineering applications.\r\n",
        "\r\n",
        "SciPy.Stats is just one of the sub-libraries.\r\n",
        "\r\n",
        "**SciPy.Stats**\r\n",
        "\r\n",
        "The SciPy.Stats module contains a large number of probability distributions as well as a growing library of statistical functions such as:\r\n",
        "\r\n",
        "\r\n",
        "*   Continuous and Discrete Distributions(i.e. Normal, Uniform, Binomial, etc.)\r\n",
        "*   Descriptive Statistics\r\n",
        "*   Statistical Tests(i.e. T-Test)\r\n",
        "\r\n",
        "\r\n",
        "\r\n",
        "\r\n",
        "\r\n",
        "\r\n"
      ]
    },
    {
      "cell_type": "code",
      "metadata": {
        "id": "xpIfXUFd2_ra"
      },
      "source": [
        "from scipy import stats\r\n",
        "import numpy as np"
      ],
      "execution_count": 41,
      "outputs": []
    },
    {
      "cell_type": "code",
      "metadata": {
        "colab": {
          "base_uri": "https://localhost:8080/"
        },
        "id": "hRciBplz4_eq",
        "outputId": "cdb92b2c-c747-4242-bb25-0e69d799cfa3"
      },
      "source": [
        "#Print Normal Random Variables\r\n",
        "print(stats.norm.rvs(size=10))"
      ],
      "execution_count": 42,
      "outputs": [
        {
          "output_type": "stream",
          "text": [
            "[ 1.18011163 -1.0329472  -1.01465364  0.97168196  0.30465332  0.58569292\n",
            "  0.59215462 -0.00803178  1.10507346  0.18008681]\n"
          ],
          "name": "stdout"
        }
      ]
    },
    {
      "cell_type": "code",
      "metadata": {
        "colab": {
          "base_uri": "https://localhost:8080/",
          "height": 735
        },
        "id": "nd4H-efZIUD9",
        "outputId": "adb148f1-4c03-4427-df92-efb4890beb98"
      },
      "source": [
        "from pylab import *\r\n",
        "\r\n",
        "dx=0.1\r\n",
        "X=np.arange(-2,2,dx)\r\n",
        "print()\r\n",
        "print(X)\r\n",
        "\r\n",
        "Y=exp(-X**2)\r\n",
        "print()\r\n",
        "print(Y)\r\n",
        "\r\n",
        "#Normalize the data to a proper PDF(Probability Density Function)\r\n",
        "Y /= (dx*Y).sum()\r\n",
        "print()\r\n",
        "print(Y)\r\n",
        "\r\n",
        "#Compute the CDF(Cumulative Distribution Function)\r\n",
        "print()\r\n",
        "CY=np.cumsum(Y*dx)\r\n",
        "\r\n",
        "#Plot Both\r\n",
        "plot(X,Y)\r\n",
        "plot(X,CY,'r--')\r\n",
        "\r\n",
        "show()"
      ],
      "execution_count": 51,
      "outputs": [
        {
          "output_type": "stream",
          "text": [
            "\n",
            "[-2.00000000e+00 -1.90000000e+00 -1.80000000e+00 -1.70000000e+00\n",
            " -1.60000000e+00 -1.50000000e+00 -1.40000000e+00 -1.30000000e+00\n",
            " -1.20000000e+00 -1.10000000e+00 -1.00000000e+00 -9.00000000e-01\n",
            " -8.00000000e-01 -7.00000000e-01 -6.00000000e-01 -5.00000000e-01\n",
            " -4.00000000e-01 -3.00000000e-01 -2.00000000e-01 -1.00000000e-01\n",
            "  1.77635684e-15  1.00000000e-01  2.00000000e-01  3.00000000e-01\n",
            "  4.00000000e-01  5.00000000e-01  6.00000000e-01  7.00000000e-01\n",
            "  8.00000000e-01  9.00000000e-01  1.00000000e+00  1.10000000e+00\n",
            "  1.20000000e+00  1.30000000e+00  1.40000000e+00  1.50000000e+00\n",
            "  1.60000000e+00  1.70000000e+00  1.80000000e+00  1.90000000e+00]\n",
            "\n",
            "[0.01831564 0.02705185 0.0391639  0.05557621 0.07730474 0.10539922\n",
            " 0.14085842 0.18451952 0.23692776 0.29819728 0.36787944 0.44485807\n",
            " 0.52729242 0.61262639 0.69767633 0.77880078 0.85214379 0.91393119\n",
            " 0.96078944 0.99004983 1.         0.99004983 0.96078944 0.91393119\n",
            " 0.85214379 0.77880078 0.69767633 0.61262639 0.52729242 0.44485807\n",
            " 0.36787944 0.29819728 0.23692776 0.18451952 0.14085842 0.10539922\n",
            " 0.07730474 0.05557621 0.0391639  0.02705185]\n",
            "\n",
            "[0.01038277 0.01533516 0.02220124 0.03150506 0.04382253 0.05974874\n",
            " 0.07984986 0.10460048 0.13430968 0.16904216 0.2085436  0.25218127\n",
            " 0.29891168 0.34728583 0.39549896 0.44148681 0.48306352 0.51808957\n",
            " 0.54465259 0.56123973 0.56688029 0.56123973 0.54465259 0.51808957\n",
            " 0.48306352 0.44148681 0.39549896 0.34728583 0.29891168 0.25218127\n",
            " 0.2085436  0.16904216 0.13430968 0.10460048 0.07984986 0.05974874\n",
            " 0.04382253 0.03150506 0.02220124 0.01533516]\n",
            "\n"
          ],
          "name": "stdout"
        },
        {
          "output_type": "display_data",
          "data": {
            "image/png": "[encoded data removed]",
            "text/plain": [
              "<Figure size 432x288 with 1 Axes>"
            ]
          },
          "metadata": {
            "tags": [],
            "needs_background": "light"
          }
        }
      ]
    },
    {
      "cell_type": "code",
      "metadata": {
        "colab": {
          "base_uri": "https://localhost:8080/"
        },
        "id": "H08ZHxLfJNTT",
        "outputId": "961c93c2-84bc-450b-d44f-e87772fa578f"
      },
      "source": [
        "#Compute the Normal CDF of certain values.\r\n",
        "print(stats.norm.cdf(np.array([1,-1,0,1,3,4,-2,6])))"
      ],
      "execution_count": 52,
      "outputs": [
        {
          "output_type": "stream",
          "text": [
            "[0.84134475 0.15865525 0.5        0.84134475 0.9986501  0.99996833\n",
            " 0.02275013 1.        ]\n"
          ],
          "name": "stdout"
        }
      ]
    },
    {
      "cell_type": "markdown",
      "metadata": {
        "id": "MLQbkMr1MeD6"
      },
      "source": [
        "**Descriptive Statistics**"
      ]
    },
    {
      "cell_type": "code",
      "metadata": {
        "id": "29dqLeDWMXgO"
      },
      "source": [
        "np.random.seed(123456789)"
      ],
      "execution_count": 53,
      "outputs": []
    },
    {
      "cell_type": "code",
      "metadata": {
        "id": "5jB8IFURNLqt"
      },
      "source": [
        "x=stats.t.rvs(10,size=1000)"
      ],
      "execution_count": 54,
      "outputs": []
    },
    {
      "cell_type": "code",
      "metadata": {
        "colab": {
          "base_uri": "https://localhost:8080/"
        },
        "id": "CEG7oxAfNRdi",
        "outputId": "7d43edbb-0102-4c78-ce26-33698b0d160e"
      },
      "source": [
        "print(x.min())\r\n",
        "print(x.max())\r\n",
        "print(x.mean())\r\n",
        "print(x.var())\r\n",
        "print(x.std())\r\n",
        "stats.describe(x)"
      ],
      "execution_count": 57,
      "outputs": [
        {
          "output_type": "stream",
          "text": [
            "-4.19134464759889\n",
            "5.0465175663642\n",
            "-0.04395143081685511\n",
            "1.1754435378554062\n",
            "1.0841787388873692\n"
          ],
          "name": "stdout"
        },
        {
          "output_type": "execute_result",
          "data": {
            "text/plain": [
              "DescribeResult(nobs=1000, minmax=(-4.19134464759889, 5.0465175663642), mean=-0.04395143081685511, variance=1.1766201580134197, skewness=0.1692984010611804, kurtosis=1.2829796388745605)"
            ]
          },
          "metadata": {
            "tags": []
          },
          "execution_count": 57
        }
      ]
    },
    {
      "cell_type": "markdown",
      "metadata": {
        "id": "ds_en-J9Ue6F"
      },
      "source": [
        "**MatPlotLib**\r\n",
        "\r\n",
        "MatPlotLib is a plotting library."
      ]
    },
    {
      "cell_type": "code",
      "metadata": {
        "id": "iTnLGJb9NSTk"
      },
      "source": [
        "import numpy as np\r\n",
        "import matplotlib.pyplot as plt"
      ],
      "execution_count": 58,
      "outputs": []
    },
    {
      "cell_type": "code",
      "metadata": {
        "id": "pJLVZOnXUzc3"
      },
      "source": [
        "x=np.arange(0,4*np.pi,0.10)\r\n",
        "y=np.sin(x)"
      ],
      "execution_count": 67,
      "outputs": []
    },
    {
      "cell_type": "code",
      "metadata": {
        "colab": {
          "base_uri": "https://localhost:8080/",
          "height": 282
        },
        "id": "hIenPzGeU_Ra",
        "outputId": "10118af9-a51e-42e5-91a7-ccc7d2589410"
      },
      "source": [
        "plt.plot(x,y)\r\n",
        "plt.show()"
      ],
      "execution_count": 70,
      "outputs": [
        {
          "output_type": "execute_result",
          "data": {
            "text/plain": [
              "[<matplotlib.lines.Line2D at 0x7f9314b719d0>]"
            ]
          },
          "metadata": {
            "tags": []
          },
          "execution_count": 70
        },
        {
          "output_type": "display_data",
          "data": {
            "image/png": "[encoded data removed]",
            "text/plain": [
              "<Figure size 432x288 with 1 Axes>"
            ]
          },
          "metadata": {
            "tags": [],
            "needs_background": "light"
          }
        }
      ]
    },
    {
      "cell_type": "code",
      "metadata": {
        "colab": {
          "base_uri": "https://localhost:8080/",
          "height": 295
        },
        "id": "BFnKbgg1Vjwz",
        "outputId": "21a78ad0-b0f7-4dc4-c4ad-c929c5165979"
      },
      "source": [
        "#Compute the x and y coordinates for points on sine and cosine curves\r\n",
        "x=np.arange(0,3*np.pi, 0.1)\r\n",
        "y_sin=np.sin(x)\r\n",
        "y_cos=np.cos(x)\r\n",
        "\r\n",
        "#Plot the points using MatPlotLib\r\n",
        "plt.plot(x,y_sin)\r\n",
        "plt.plot(x,y_cos)\r\n",
        "plt.xlabel('x axis label')\r\n",
        "plt.ylabel('y axis label')\r\n",
        "plt.title('Sine and Cosine')\r\n",
        "plt.legend(['Sine' , 'Cosine'])\r\n",
        "plt.show()"
      ],
      "execution_count": 82,
      "outputs": [
        {
          "output_type": "display_data",
          "data": {
            "image/png": "[encoded data removed]",
            "text/plain": [
              "<Figure size 432x288 with 1 Axes>"
            ]
          },
          "metadata": {
            "tags": [],
            "needs_background": "light"
          }
        }
      ]
    },
    {
      "cell_type": "markdown",
      "metadata": {
        "id": "bRw_H5AyYUuW"
      },
      "source": [
        "**SubPlots**"
      ]
    },
    {
      "cell_type": "code",
      "metadata": {
        "colab": {
          "base_uri": "https://localhost:8080/",
          "height": 281
        },
        "id": "005Vbe93Wkb_",
        "outputId": "af3c5604-2126-42fe-c112-426ff166a658"
      },
      "source": [
        "import numpy as np\r\n",
        "import matplotlib.pyplot as plt\r\n",
        "\r\n",
        "#Compute the x and y coordinates for points on sine and cosine curves\r\n",
        "x=np.arange(0,3*np.pi , 0.1)\r\n",
        "y_sin=np.sin(x)\r\n",
        "y_cos=np.cos(x)\r\n",
        "\r\n",
        "#Set up a subplot grid that has height 2 and width 1,\r\n",
        "#and set the first such subplot as active.\r\n",
        "plt.subplot(2,1,1)\r\n",
        "\r\n",
        "#Make the first plot\r\n",
        "plt.plot(x,y_sin)\r\n",
        "plt.title('Sine')\r\n",
        "\r\n",
        "#Set the second subplot as active, and make the second plot.\r\n",
        "plt.subplot(2,1,2)\r\n",
        "plt.plot(x,y_cos)\r\n",
        "plt.title('Cosine')\r\n",
        "\r\n",
        "plt.show()"
      ],
      "execution_count": 85,
      "outputs": [
        {
          "output_type": "display_data",
          "data": {
            "image/png": "[encoded data removed]",
            "text/plain": [
              "<Figure size 432x288 with 2 Axes>"
            ]
          },
          "metadata": {
            "tags": [],
            "needs_background": "light"
          }
        }
      ]
    },
    {
      "cell_type": "markdown",
      "metadata": {
        "id": "r54sKUekduez"
      },
      "source": [
        "# **Seaborn**\r\n",
        "\r\n",
        "Seaborn is complimentary to MatplotLib and it specifically targets statistical data visualization. But it goes even further than that: Seaborn extends MatplotLib and makes generating visualizations convenient.\r\n",
        "\r\n",
        "While Matplotlib is a robust solution for various problems, Seaborn utilizes more concise parameters for ease-of-use."
      ]
    },
    {
      "cell_type": "markdown",
      "metadata": {
        "id": "U9fZKAHQeOp3"
      },
      "source": [
        "**Scatter Plots**"
      ]
    },
    {
      "cell_type": "code",
      "metadata": {
        "id": "Caop-MZJdMEA"
      },
      "source": [
        "#Import necessary Libraries\r\n",
        "import seaborn as sns\r\n",
        "import matplotlib.pyplot as plt\r\n",
        "import pandas as pd"
      ],
      "execution_count": 88,
      "outputs": []
    },
    {
      "cell_type": "code",
      "metadata": {
        "id": "lpeTrYS5eu14"
      },
      "source": [
        "url=\"https://raw.githubusercontent.com/tamalmuk21/Stat_with_python/master/stat/Cartwheeldata.csv\""
      ],
      "execution_count": 93,
      "outputs": []
    },
    {
      "cell_type": "code",
      "metadata": {
        "id": "ZaX4IwQ-e6Zh"
      },
      "source": [
        "df=pd.read_csv(url)"
      ],
      "execution_count": 94,
      "outputs": []
    },
    {
      "cell_type": "code",
      "metadata": {
        "colab": {
          "base_uri": "https://localhost:8080/",
          "height": 383
        },
        "id": "4ydXVaHbe9JA",
        "outputId": "d260a57b-5a06-4e13-94a4-d10a3fa37b64"
      },
      "source": [
        "#Create Scatter Plot\r\n",
        "sns.lmplot(x='Wingspan',y='CWDistance', data=df)\r\n",
        "plt.show()"
      ],
      "execution_count": 96,
      "outputs": [
        {
          "output_type": "display_data",
          "data": {
            "image/png": "[encoded data removed]",
            "text/plain": [
              "<Figure size 360x360 with 1 Axes>"
            ]
          },
          "metadata": {
            "tags": [],
            "needs_background": "light"
          }
        }
      ]
    },
    {
      "cell_type": "code",
      "metadata": {
        "colab": {
          "base_uri": "https://localhost:8080/",
          "height": 383
        },
        "id": "V8d1A-NsgdLk",
        "outputId": "c92956e8-412e-4696-8463-779f3a5fa506"
      },
      "source": [
        "#ScatterPlot arguments\r\n",
        "sns.lmplot(x='Wingspan', y='CWDistance',data=df,\r\n",
        "           fit_reg=False,\r\n",
        "           hue='Gender')\r\n",
        "plt.show()"
      ],
      "execution_count": 98,
      "outputs": [
        {
          "output_type": "display_data",
          "data": {
            "image/png": "[encoded data removed]",
            "text/plain": [
              "<Figure size 404.875x360 with 1 Axes>"
            ]
          },
          "metadata": {
            "tags": [],
            "needs_background": "light"
          }
        }
      ]
    },
    {
      "cell_type": "code",
      "metadata": {
        "colab": {
          "base_uri": "https://localhost:8080/",
          "height": 279
        },
        "id": "Qw7iZ8TKhtHx",
        "outputId": "091afc4c-5ba5-4dac-c916-2fad1fd5a328"
      },
      "source": [
        "#Construct Cartwheel distance plot\r\n",
        "sns.swarmplot(x='Gender',y='CWDistance',data=df)\r\n",
        "plt.show()"
      ],
      "execution_count": 99,
      "outputs": [
        {
          "output_type": "display_data",
          "data": {
            "image/png": "[encoded data removed]",
            "text/plain": [
              "<Figure size 432x288 with 1 Axes>"
            ]
          },
          "metadata": {
            "tags": [],
            "needs_background": "light"
          }
        }
      ]
    },
    {
      "cell_type": "markdown",
      "metadata": {
        "id": "X4By_ixDiSQK"
      },
      "source": [
        "**BoxPlots**"
      ]
    },
    {
      "cell_type": "code",
      "metadata": {
        "colab": {
          "base_uri": "https://localhost:8080/",
          "height": 268
        },
        "id": "3belIw1UiJ6-",
        "outputId": "d717972f-6af1-4f3d-f78a-7f77557b50b8"
      },
      "source": [
        "sns.boxplot(data=df.loc[:,[\"Age\",\"Height\",\"Wingspan\",\"CWDistance\",\"Score\"]])\r\n",
        "plt.show()"
      ],
      "execution_count": 100,
      "outputs": [
        {
          "output_type": "display_data",
          "data": {
            "image/png": "[encoded data removed]",
            "text/plain": [
              "<Figure size 432x288 with 1 Axes>"
            ]
          },
          "metadata": {
            "tags": [],
            "needs_background": "light"
          }
        }
      ]
    },
    {
      "cell_type": "code",
      "metadata": {
        "colab": {
          "base_uri": "https://localhost:8080/",
          "height": 268
        },
        "id": "a4dVermEimYp",
        "outputId": "83db1162-9263-4d09-f390-23ec7fe1ba6d"
      },
      "source": [
        "#Male Boxplot\r\n",
        "sns.boxplot(data=df.loc[df[\"Gender\"]==\"M\",[\"Age\",\"Height\",\"Wingspan\",\"CWDistance\",\"Score\"]])\r\n",
        "plt.show()"
      ],
      "execution_count": 101,
      "outputs": [
        {
          "output_type": "display_data",
          "data": {
            "image/png": "[encoded data removed]",
            "text/plain": [
              "<Figure size 432x288 with 1 Axes>"
            ]
          },
          "metadata": {
            "tags": [],
            "needs_background": "light"
          }
        }
      ]
    },
    {
      "cell_type": "code",
      "metadata": {
        "colab": {
          "base_uri": "https://localhost:8080/",
          "height": 265
        },
        "id": "j6IRFSZ4jChy",
        "outputId": "31f46cc0-c246-424a-b5b3-6285e20231ea"
      },
      "source": [
        "#FeMale Boxplot\r\n",
        "sns.boxplot(data=df.loc[df[\"Gender\"]==\"F\",[\"Age\",\"Height\",\"Wingspan\",\"CWDistance\",\"Score\"]])\r\n",
        "plt.show()"
      ],
      "execution_count": 102,
      "outputs": [
        {
          "output_type": "display_data",
          "data": {
            "image/png": "[encoded data removed]",
            "text/plain": [
              "<Figure size 432x288 with 1 Axes>"
            ]
          },
          "metadata": {
            "tags": [],
            "needs_background": "light"
          }
        }
      ]
    },
    {
      "cell_type": "code",
      "metadata": {
        "colab": {
          "base_uri": "https://localhost:8080/",
          "height": 265
        },
        "id": "roA3VuxKjG-X",
        "outputId": "3bc576af-adb0-4f19-bcb6-30dd1c098b95"
      },
      "source": [
        "#Male Boxplot\r\n",
        "sns.boxplot(data=df.loc[df[\"Gender\"]==\"M\",[\"Score\"]])\r\n",
        "plt.show()"
      ],
      "execution_count": 103,
      "outputs": [
        {
          "output_type": "display_data",
          "data": {
            "image/png": "[encoded data removed]",
            "text/plain": [
              "<Figure size 432x288 with 1 Axes>"
            ]
          },
          "metadata": {
            "tags": [],
            "needs_background": "light"
          }
        }
      ]
    },
    {
      "cell_type": "code",
      "metadata": {
        "colab": {
          "base_uri": "https://localhost:8080/",
          "height": 265
        },
        "id": "NCFquDzQjS3R",
        "outputId": "a60f2873-4639-479b-9d74-5bcd28b5834e"
      },
      "source": [
        "#FeMale Boxplot\r\n",
        "sns.boxplot(data=df.loc[df[\"Gender\"]==\"F\",[\"Score\"]])\r\n",
        "plt.show()"
      ],
      "execution_count": 104,
      "outputs": [
        {
          "output_type": "display_data",
          "data": {
            "image/png": "[encoded data removed]",
            "text/plain": [
              "<Figure size 432x288 with 1 Axes>"
            ]
          },
          "metadata": {
            "tags": [],
            "needs_background": "light"
          }
        }
      ]
    },
    {
      "cell_type": "markdown",
      "metadata": {
        "id": "JYR2F1i9jZQ0"
      },
      "source": [
        "**Histogram**"
      ]
    },
    {
      "cell_type": "code",
      "metadata": {
        "colab": {
          "base_uri": "https://localhost:8080/",
          "height": 350
        },
        "id": "AKMWffFvjWQH",
        "outputId": "4644d5b9-021d-4124-b21d-4ea7fd25a230"
      },
      "source": [
        "sns.distplot(df.CWDistance)"
      ],
      "execution_count": 105,
      "outputs": [
        {
          "output_type": "stream",
          "text": [
            "/usr/local/lib/python3.7/dist-packages/seaborn/distributions.py:2557: FutureWarning: `distplot` is a deprecated function and will be removed in a future version. Please adapt your code to use either `displot` (a figure-level function with similar flexibility) or `histplot` (an axes-level function for histograms).\n",
            "  warnings.warn(msg, FutureWarning)\n"
          ],
          "name": "stderr"
        },
        {
          "output_type": "execute_result",
          "data": {
            "text/plain": [
              "<matplotlib.axes._subplots.AxesSubplot at 0x7f930a77d690>"
            ]
          },
          "metadata": {
            "tags": []
          },
          "execution_count": 105
        },
        {
          "output_type": "display_data",
          "data": {
            "image/png": "[encoded data removed]",
            "text/plain": [
              "<Figure size 432x288 with 1 Axes>"
            ]
          },
          "metadata": {
            "tags": [],
            "needs_background": "light"
          }
        }
      ]
    },
    {
      "cell_type": "markdown",
      "metadata": {
        "id": "tT0js7uRplYH"
      },
      "source": [
        "**Count Plot**"
      ]
    },
    {
      "cell_type": "code",
      "metadata": {
        "colab": {
          "base_uri": "https://localhost:8080/",
          "height": 283
        },
        "id": "NnXu4GycjgQy",
        "outputId": "151f0d14-6abe-4e63-bfa4-7498ee29b147"
      },
      "source": [
        "sns.countplot(x='Gender', data=df)\r\n",
        "plt.xticks(rotation=-45)\r\n",
        "plt.show()"
      ],
      "execution_count": 106,
      "outputs": [
        {
          "output_type": "display_data",
          "data": {
            "image/png": "[encoded data removed]",
            "text/plain": [
              "<Figure size 432x288 with 1 Axes>"
            ]
          },
          "metadata": {
            "tags": [],
            "needs_background": "light"
          }
        }
      ]
    },
    {
      "cell_type": "code",
      "metadata": {
        "id": "IgkECk8npvp1"
      },
      "source": [
        ""
      ],
      "execution_count": null,
      "outputs": []
    }
  ]
}