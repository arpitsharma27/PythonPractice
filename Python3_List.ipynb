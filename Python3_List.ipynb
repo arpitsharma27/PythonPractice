{
  "nbformat": 4,
  "nbformat_minor": 0,
  "metadata": {
    "colab": {
      "name": "Python3-List.ipynb",
      "provenance": [],
      "authorship_tag": "ABX9TyMiPEibHNeoYB9SEThTZcZO",
      "include_colab_link": true
    },
    "kernelspec": {
      "name": "python3",
      "display_name": "Python 3"
    },
    "language_info": {
      "name": "python"
    }
  },
  "cells": [
    {
      "cell_type": "markdown",
      "metadata": {
        "id": "view-in-github",
        "colab_type": "text"
      },
      "source": [
        "<a href=\"https://colab.research.google.com/github/arpitsharma27/PythonPractice/blob/main/Python3_List.ipynb\" target=\"_parent\"><img src=\"https://colab.research.google.com/assets/colab-badge.svg\" alt=\"Open In Colab\"/></a>"
      ]
    },
    {
      "cell_type": "markdown",
      "source": [
        "#Here is a practice session for List, Tuples, Dictionaries in **Python3**\n",
        "\n",
        "##The **LIST** exercises have been obtained from [here](https://www.w3resource.com/python-exercises/list/)\n"
      ],
      "metadata": {
        "id": "YynUlhwe2fJN"
      }
    },
    {
      "cell_type": "markdown",
      "source": [
        "We will do a **sum** of elements of the List"
      ],
      "metadata": {
        "id": "VoEITgT4324M"
      }
    },
    {
      "cell_type": "code",
      "execution_count": null,
      "metadata": {
        "colab": {
          "base_uri": "https://localhost:8080/"
        },
        "id": "FYKXiUqQyU2K",
        "outputId": "deb9edd4-0ea4-459b-8e1e-77964bc25b0e"
      },
      "outputs": [
        {
          "output_type": "stream",
          "name": "stdout",
          "text": [
            "<class 'list'>\n"
          ]
        }
      ],
      "source": [
        "import random\n",
        "list1 = random.sample(range(-10, 10), 9)\n",
        "list2 = random.sample(range(-5, 5), 7)\n",
        "print(type(list1))"
      ]
    },
    {
      "cell_type": "code",
      "source": [
        "#The below function performs a sum of all the elements of List.\n",
        "#First we have to define a variable \"total\" and equal it to 0\n",
        "#Then we iterate the FOR loop for n times. \n",
        "#n being number of elements in the List.\n",
        "\n",
        "def sum(items):\n",
        "  total=0\n",
        "  for x in items:\n",
        "    total += x\n",
        "  print(\"The sum of List %s is: %s \" % (items, total) )\n",
        "  "
      ],
      "metadata": {
        "id": "Wk_wfCeez39G"
      },
      "execution_count": null,
      "outputs": []
    },
    {
      "cell_type": "code",
      "source": [
        "sum(list1)"
      ],
      "metadata": {
        "colab": {
          "base_uri": "https://localhost:8080/"
        },
        "id": "fQp-UR5t0Kzt",
        "outputId": "d0d24bef-a745-42ab-a1c4-f7ee1cf865b2"
      },
      "execution_count": null,
      "outputs": [
        {
          "output_type": "stream",
          "name": "stdout",
          "text": [
            "The sum of List [7, 3, 4, -8, -3, -10, -7, -5, -6] is: -25 \n"
          ]
        }
      ]
    },
    {
      "cell_type": "code",
      "source": [
        "sum(list2)"
      ],
      "metadata": {
        "colab": {
          "base_uri": "https://localhost:8080/"
        },
        "id": "iku52Sz_0Mv0",
        "outputId": "509fcd6f-434a-4fbf-8a4d-cbf263a30e23"
      },
      "execution_count": null,
      "outputs": [
        {
          "output_type": "stream",
          "name": "stdout",
          "text": [
            "The sum of List [4, -1, -3, -5, 3, 1, -4] is: -5 \n"
          ]
        }
      ]
    },
    {
      "cell_type": "markdown",
      "source": [
        "Similar to above **sum** example we will now multiply the items in each list."
      ],
      "metadata": {
        "id": "uVNsW8x35YST"
      }
    },
    {
      "cell_type": "code",
      "source": [
        "#The below function performs a product of all the elements of List.\n",
        "#First we have to define a variable \"product\" and equal it to 1\n",
        "#Then we iterate the FOR loop for n times. \n",
        "#n being number of elements in the List.\n",
        "\n",
        "def product(items):\n",
        "  product=1\n",
        "  for x in items:\n",
        "    product*=x\n",
        "  print(\"The product of items in list %s is: %s \" %(items , product) )"
      ],
      "metadata": {
        "id": "CWsCp3zw5g5b"
      },
      "execution_count": null,
      "outputs": []
    },
    {
      "cell_type": "code",
      "source": [
        "product(list1)"
      ],
      "metadata": {
        "colab": {
          "base_uri": "https://localhost:8080/"
        },
        "id": "voSDqGMB55sK",
        "outputId": "c103e443-c351-4693-b371-c15d65111e3e"
      },
      "execution_count": null,
      "outputs": [
        {
          "output_type": "stream",
          "name": "stdout",
          "text": [
            "The product of items in list [7, 3, 4, -8, -3, -10, -7, -5, -6] is: 4233600 \n"
          ]
        }
      ]
    },
    {
      "cell_type": "code",
      "source": [
        "product(list2)"
      ],
      "metadata": {
        "colab": {
          "base_uri": "https://localhost:8080/"
        },
        "id": "zIXT-aUo57-J",
        "outputId": "294900d5-97fd-4a3e-c378-85c571b2f0c8"
      },
      "execution_count": null,
      "outputs": [
        {
          "output_type": "stream",
          "name": "stdout",
          "text": [
            "The product of items in list [4, -1, -3, -5, 3, 1, -4] is: 720 \n"
          ]
        }
      ]
    },
    {
      "cell_type": "markdown",
      "source": [
        "Now we will select the **Largest** and **Smallest** number from the list.[link text](https://)"
      ],
      "metadata": {
        "id": "qYV1Fk2uo406"
      }
    },
    {
      "cell_type": "code",
      "source": [
        "'''\n",
        "The below function performs a sorting of all the elements of List.\n",
        "Once the sorting has been performed on the list we then select the \n",
        "last element of the list.\n",
        "'''\n",
        "\n",
        "def largest(items):\n",
        "  items.sort()\n",
        "  largest=items[-1]\n",
        "  smallest=items[0]\n",
        "  print(\"The largest element in the list %s is : %s\" %(items, largest) )\n",
        "  print(\"The smallest element in the list %s is : %s\" %(items, smallest) )"
      ],
      "metadata": {
        "id": "nWfhg6rH6Dog"
      },
      "execution_count": null,
      "outputs": []
    },
    {
      "cell_type": "code",
      "source": [
        "largest(list1)\n",
        "largest(list2)"
      ],
      "metadata": {
        "colab": {
          "base_uri": "https://localhost:8080/"
        },
        "id": "ET5AGRArpPBH",
        "outputId": "e57fd55d-8a6c-410d-930b-47141b6e2249"
      },
      "execution_count": null,
      "outputs": [
        {
          "output_type": "stream",
          "name": "stdout",
          "text": [
            "The largest element in the list [-10, -8, -7, -6, -5, -3, 3, 4, 7] is : 7\n",
            "The smallest element in the list [-10, -8, -7, -6, -5, -3, 3, 4, 7] is : -10\n",
            "The largest element in the list [-5, -4, -3, -1, 1, 3, 4] is : 4\n",
            "The smallest element in the list [-5, -4, -3, -1, 1, 3, 4] is : -5\n"
          ]
        }
      ]
    },
    {
      "cell_type": "code",
      "source": [
        "'''\n",
        "In the above example, we are sorting and then selecting the last element.\n",
        "More efficient approach could be the use of max()\n",
        "'''\n",
        "\n",
        "def largest_smallest(items):\n",
        "  largest=max(items)\n",
        "  smallest=min(items)\n",
        "  print(\"The largest element in the list %s is: %s\" %(items, largest) )\n",
        "  print(\"The smallest element in the list %s is: %s\" %(items,smallest))"
      ],
      "metadata": {
        "id": "vbptYvpxpRz4"
      },
      "execution_count": null,
      "outputs": []
    },
    {
      "cell_type": "code",
      "source": [
        "largest_smallest(list1)\n",
        "largest_smallest(list2)"
      ],
      "metadata": {
        "colab": {
          "base_uri": "https://localhost:8080/"
        },
        "id": "kNfdUL79rRKl",
        "outputId": "bf837e57-8d51-4cd0-e799-dc2386c6ad9a"
      },
      "execution_count": null,
      "outputs": [
        {
          "output_type": "stream",
          "name": "stdout",
          "text": [
            "The largest element in the list [-10, -8, -7, -6, -5, -3, 3, 4, 7] is: 7\n",
            "The smallest element in the list [-10, -8, -7, -6, -5, -3, 3, 4, 7] is: -10\n",
            "The largest element in the list [-5, -4, -3, -1, 1, 3, 4] is: 4\n",
            "The smallest element in the list [-5, -4, -3, -1, 1, 3, 4] is: -5\n"
          ]
        }
      ]
    },
    {
      "cell_type": "markdown",
      "source": [
        "Count the number of strings where the string length is 2 or more and the first and last character are same from a given list of strings"
      ],
      "metadata": {
        "id": "BTRDhS6EteZd"
      }
    },
    {
      "cell_type": "code",
      "source": [
        "ex5=['abc','xyz','aba','1221']"
      ],
      "metadata": {
        "id": "v7Shj3LbrVSV"
      },
      "execution_count": null,
      "outputs": []
    },
    {
      "cell_type": "code",
      "source": [
        "def match_words(words):\n",
        "  ctr=0\n",
        "\n",
        "  for word in words:\n",
        "    if len(word)>1 and word[0] == word[-1]:\n",
        "      ctr+=1\n",
        "  return ctr    "
      ],
      "metadata": {
        "id": "DPVU_uIZt6oZ"
      },
      "execution_count": null,
      "outputs": []
    },
    {
      "cell_type": "code",
      "source": [
        "print(match_words(ex5))"
      ],
      "metadata": {
        "colab": {
          "base_uri": "https://localhost:8080/"
        },
        "id": "iQqVYsihvBea",
        "outputId": "c2c0cee3-7984-4958-c1a0-7cc8de720a34"
      },
      "execution_count": null,
      "outputs": [
        {
          "output_type": "stream",
          "name": "stdout",
          "text": [
            "2\n"
          ]
        }
      ]
    },
    {
      "cell_type": "markdown",
      "source": [
        "Removing **Duplicates** from the list"
      ],
      "metadata": {
        "id": "K_ofU-EzyMbc"
      }
    },
    {
      "cell_type": "code",
      "source": [
        "'''\n",
        "To remove the duplicates from the list using set() method is one of the efficient ways.\n",
        "Note: The ordering is lost using this method.\n",
        "'''\n",
        "\n",
        "def duplicates(items):\n",
        "  unique=list(set(items))\n",
        "  return unique"
      ],
      "metadata": {
        "id": "7GibNHQ6v-XS"
      },
      "execution_count": null,
      "outputs": []
    },
    {
      "cell_type": "code",
      "source": [
        "#creating a list of random numbers.\n",
        "list_with_duplicates=random.sample(range(5,10),5)\n",
        "\n",
        "#just creating a list with duplicates.\n",
        "list_with_duplicates2=list_with_duplicates+list_with_duplicates\n",
        "print(list_with_duplicates2) #visualizing the duplicate list.\n",
        "\n",
        "#testing the function.\n",
        "duplicates(list_with_duplicates)"
      ],
      "metadata": {
        "colab": {
          "base_uri": "https://localhost:8080/"
        },
        "id": "-Z0o_r9ayhUB",
        "outputId": "61af290d-23d8-492d-e857-953998c8430f"
      },
      "execution_count": null,
      "outputs": [
        {
          "output_type": "stream",
          "name": "stdout",
          "text": [
            "[9, 6, 8, 5, 7, 9, 6, 8, 5, 7]\n"
          ]
        },
        {
          "output_type": "execute_result",
          "data": {
            "text/plain": [
              "[5, 6, 7, 8, 9]"
            ]
          },
          "metadata": {},
          "execution_count": 135
        }
      ]
    },
    {
      "cell_type": "code",
      "source": [
        "'''\n",
        "Alternatively, we can use - collections.OrderedDict.fromkeys()\n",
        "-Fastest.\n",
        "-But returns a dictionary\n",
        "-Need to convert the dictionary into List\n",
        "'''\n",
        "from collections import OrderedDict\n",
        "unique_without_set = list(OrderedDict.fromkeys(list_with_duplicates2))\n",
        "\n",
        "print(unique_without_set)"
      ],
      "metadata": {
        "colab": {
          "base_uri": "https://localhost:8080/"
        },
        "id": "zmuUzzFlyjfh",
        "outputId": "e00eb426-4e73-4094-88c0-b890ee92b5b6"
      },
      "execution_count": null,
      "outputs": [
        {
          "output_type": "stream",
          "name": "stdout",
          "text": [
            "[9, 6, 8, 5, 7]\n"
          ]
        }
      ]
    },
    {
      "cell_type": "markdown",
      "source": [
        "Identifying **Empty List**"
      ],
      "metadata": {
        "id": "2Cro3k-650IA"
      }
    },
    {
      "cell_type": "code",
      "source": [
        "empty_list=[]\n",
        "not_empty_list=[1,2]"
      ],
      "metadata": {
        "id": "neoonsZd0KxP"
      },
      "execution_count": null,
      "outputs": []
    },
    {
      "cell_type": "code",
      "source": [
        "#Empty lists are considered False in Python. \n",
        "#Hence the bool() function would return False if the list was passed as an argument.\n",
        "def empty(items):\n",
        "  if not items:\n",
        "    print(\"List is Empty\")\n",
        "  else:\n",
        "    print(\"List is NOT Empty\")"
      ],
      "metadata": {
        "id": "6hEchGV95E9j"
      },
      "execution_count": null,
      "outputs": []
    },
    {
      "cell_type": "code",
      "source": [
        "empty(empty_list)\n",
        "empty(not_empty_list)"
      ],
      "metadata": {
        "colab": {
          "base_uri": "https://localhost:8080/"
        },
        "id": "FEJZZGce5PMq",
        "outputId": "c30341cf-8d3a-4126-c7c5-720b736566c9"
      },
      "execution_count": null,
      "outputs": [
        {
          "output_type": "stream",
          "name": "stdout",
          "text": [
            "List is Empty\n",
            "List is NOT Empty\n"
          ]
        }
      ]
    },
    {
      "cell_type": "markdown",
      "source": [
        "**Find words in a list that are longer than n**"
      ],
      "metadata": {
        "id": "iQPN-wyd7tm1"
      }
    },
    {
      "cell_type": "code",
      "source": [
        "long_list=['a','as','and','alpha','arpit','alaska','america','alphanumeric']"
      ],
      "metadata": {
        "id": "Jp4HORb16Qnj"
      },
      "execution_count": null,
      "outputs": []
    },
    {
      "cell_type": "code",
      "source": [
        "def lenwords(items,n):\n",
        "  list_words=[]\n",
        "  for x in items:\n",
        "    if len(x)>n:\n",
        "      list_words.append(x)\n",
        "  return list_words\n"
      ],
      "metadata": {
        "id": "b3BZYoWj8HeH"
      },
      "execution_count": null,
      "outputs": []
    },
    {
      "cell_type": "code",
      "source": [
        "lenwords(long_list,6)"
      ],
      "metadata": {
        "colab": {
          "base_uri": "https://localhost:8080/"
        },
        "id": "4JbnySqN8hmw",
        "outputId": "f9643a78-f3c1-4c5e-da6f-64806b5bf1a7"
      },
      "execution_count": null,
      "outputs": [
        {
          "output_type": "execute_result",
          "data": {
            "text/plain": [
              "['america', 'alphanumeric']"
            ]
          },
          "metadata": {},
          "execution_count": 163
        }
      ]
    },
    {
      "cell_type": "markdown",
      "source": [
        "**Similarly we need to find list of words that are longer than n from a given list of words.**"
      ],
      "metadata": {
        "id": "YjaelgvI9Qy0"
      }
    },
    {
      "cell_type": "code",
      "source": [
        "long_string=\"Arpit is going to eat ice-cream and then he will eat his dinner kept on kitchen counter\""
      ],
      "metadata": {
        "id": "_u_L4ONb8kCZ"
      },
      "execution_count": null,
      "outputs": []
    },
    {
      "cell_type": "code",
      "source": [
        "def long_words(items,n):\n",
        "  word_len=[]\n",
        "  txt=items.split(\" \")\n",
        "  for x in txt:\n",
        "    if len(x)>n:\n",
        "      word_len.append(x)\n",
        "  return word_len"
      ],
      "metadata": {
        "id": "eWZOrXh29r_u"
      },
      "execution_count": null,
      "outputs": []
    },
    {
      "cell_type": "code",
      "source": [
        "long_words(long_string,6)"
      ],
      "metadata": {
        "colab": {
          "base_uri": "https://localhost:8080/"
        },
        "id": "C37cwRJg-DvA",
        "outputId": "18b12760-59c4-42f5-9972-5bcd9fcaeca0"
      },
      "execution_count": null,
      "outputs": [
        {
          "output_type": "execute_result",
          "data": {
            "text/plain": [
              "['ice-cream', 'kitchen', 'counter']"
            ]
          },
          "metadata": {},
          "execution_count": 179
        }
      ]
    },
    {
      "cell_type": "code",
      "source": [
        "long_words(long_string,4)"
      ],
      "metadata": {
        "colab": {
          "base_uri": "https://localhost:8080/"
        },
        "id": "Sy-2iBDl-GxY",
        "outputId": "14f1ff82-692c-4371-c2a1-6b5d49504670"
      },
      "execution_count": null,
      "outputs": [
        {
          "output_type": "execute_result",
          "data": {
            "text/plain": [
              "['Arpit', 'going', 'ice-cream', 'dinner', 'kitchen', 'counter']"
            ]
          },
          "metadata": {},
          "execution_count": 180
        }
      ]
    },
    {
      "cell_type": "markdown",
      "source": [
        "**Finding if any elements of the two lists are common.**\n",
        "\n",
        "Listing out elements that are common \n",
        "\n",
        "And\n",
        "\n",
        "Listing out elements that are NOT present in Either of the List."
      ],
      "metadata": {
        "id": "ntwV7ar__ZHi"
      }
    },
    {
      "cell_type": "code",
      "source": [
        "long_list=['a','as','and','alpha','arpit','alaska','america','alphanumeric']\n",
        "similar_list=['i','dont','like','alaska','arpit']\n",
        "nowhere=['never','ever']"
      ],
      "metadata": {
        "id": "wQkBOEX6-wof"
      },
      "execution_count": 41,
      "outputs": []
    },
    {
      "cell_type": "code",
      "source": [
        "def find_match(list1,list2):\n",
        "  common_list=[]\n",
        "  for x in list1:\n",
        "    for y in list2:\n",
        "      if x==y:\n",
        "        common_list.append(x)\n",
        "  return common_list"
      ],
      "metadata": {
        "id": "L6evjLds_xCU"
      },
      "execution_count": 42,
      "outputs": []
    },
    {
      "cell_type": "code",
      "source": [
        "common_list = find_match(long_list,similar_list)\n",
        "print(common_list)"
      ],
      "metadata": {
        "colab": {
          "base_uri": "https://localhost:8080/"
        },
        "id": "nYkfwULtAjQV",
        "outputId": "2b22d667-ea3f-437b-f9f9-0052eb0fe9f7"
      },
      "execution_count": 44,
      "outputs": [
        {
          "output_type": "stream",
          "name": "stdout",
          "text": [
            "['arpit', 'alaska']\n"
          ]
        }
      ]
    },
    {
      "cell_type": "code",
      "source": [
        "l3=[x for x in long_list if x not in common_list]\n",
        "l4 = [x for x in similar_list if x not in common_list]"
      ],
      "metadata": {
        "id": "q7f6n6SYCqQF"
      },
      "execution_count": 48,
      "outputs": []
    },
    {
      "cell_type": "code",
      "source": [
        "print(l3)\n",
        "print(l4)"
      ],
      "metadata": {
        "id": "p4ZUEOp8Ah9l",
        "outputId": "39fcde9b-e6dd-4410-f493-0fa8d7f1a150",
        "colab": {
          "base_uri": "https://localhost:8080/"
        }
      },
      "execution_count": 50,
      "outputs": [
        {
          "output_type": "stream",
          "name": "stdout",
          "text": [
            "['a', 'as', 'and', 'alpha', 'america', 'alphanumeric']\n",
            "['i', 'dont', 'like']\n"
          ]
        }
      ]
    },
    {
      "cell_type": "code",
      "source": [
        "l5=l3+l4\n",
        "print(l5)"
      ],
      "metadata": {
        "id": "eM_0ZBYFA-V7",
        "outputId": "12c150f9-1572-4915-8b08-152bb138ef0f",
        "colab": {
          "base_uri": "https://localhost:8080/"
        }
      },
      "execution_count": 51,
      "outputs": [
        {
          "output_type": "stream",
          "name": "stdout",
          "text": [
            "['a', 'as', 'and', 'alpha', 'america', 'alphanumeric', 'i', 'dont', 'like']\n"
          ]
        }
      ]
    },
    {
      "cell_type": "code",
      "source": [
        "from collections import OrderedDict\n",
        "def mismatch_string(list1,list2):\n",
        "  mismatch_list=[]\n",
        "  for x in list1:\n",
        "    for y in list2:\n",
        "      if x != y:\n",
        "        mismatch_list.append(x)\n",
        "#  return list(set(mismatch_list))\n",
        "  return list(OrderedDict.fromkeys(mismatch_list))\n"
      ],
      "metadata": {
        "id": "uE7X5pjyBBvU"
      },
      "execution_count": 64,
      "outputs": []
    },
    {
      "cell_type": "code",
      "source": [
        "mismatch_string(long_list, similar_list)"
      ],
      "metadata": {
        "id": "tHxIHqE_DPmD",
        "outputId": "85acf877-d22f-4e54-8657-536ea53966d1",
        "colab": {
          "base_uri": "https://localhost:8080/"
        }
      },
      "execution_count": 65,
      "outputs": [
        {
          "output_type": "execute_result",
          "data": {
            "text/plain": [
              "['a', 'as', 'and', 'alpha', 'arpit', 'alaska', 'america', 'alphanumeric']"
            ]
          },
          "metadata": {},
          "execution_count": 65
        }
      ]
    },
    {
      "cell_type": "markdown",
      "source": [
        "Identify is two lists have any element in common.\n",
        "\n",
        "If they have even a single element in common- Return True\n",
        "\n",
        "Else Return False"
      ],
      "metadata": {
        "id": "gaxTDLXzGHoc"
      }
    },
    {
      "cell_type": "code",
      "source": [
        "def true_false(list1, list2):\n",
        "  result=False\n",
        "  for x in list1:\n",
        "    for y in list2:\n",
        "      if x==y:\n",
        "        result=True\n",
        "        break\n",
        "  return result "
      ],
      "metadata": {
        "id": "htoGht9ODWcS"
      },
      "execution_count": 73,
      "outputs": []
    },
    {
      "cell_type": "code",
      "source": [
        "true_false(long_list,similar_list)"
      ],
      "metadata": {
        "id": "GC0CbgJyFn-Y",
        "outputId": "0c445eea-1ee6-4109-b296-75ea31ad7a74",
        "colab": {
          "base_uri": "https://localhost:8080/"
        }
      },
      "execution_count": 74,
      "outputs": [
        {
          "output_type": "execute_result",
          "data": {
            "text/plain": [
              "True"
            ]
          },
          "metadata": {},
          "execution_count": 74
        }
      ]
    },
    {
      "cell_type": "code",
      "source": [
        "true_false(long_list,nowhere)"
      ],
      "metadata": {
        "id": "KcM7lGIVFxOP",
        "outputId": "4870a158-7556-4ed3-9bde-1c59e0701385",
        "colab": {
          "base_uri": "https://localhost:8080/"
        }
      },
      "execution_count": 75,
      "outputs": [
        {
          "output_type": "execute_result",
          "data": {
            "text/plain": [
              "False"
            ]
          },
          "metadata": {},
          "execution_count": 75
        }
      ]
    },
    {
      "cell_type": "markdown",
      "source": [
        "**Print a specified list after removing the 0th, 4th and 5th element.**"
      ],
      "metadata": {
        "id": "V3I3q2MzG-cK"
      }
    },
    {
      "cell_type": "code",
      "source": [
        "'''\n",
        "Below is just the use of Pop function.\n",
        "But the use of Pop() is NOT recommended for problems like these.\n",
        "The original list gets updated once you use the pop(). \n",
        "So the 4th and the 5th element will get updated everytime you pop().\n",
        "'''\n",
        "def pop_element_list(list1, n):\n",
        "  updated_list=list1.pop(n)\n",
        "  return list1"
      ],
      "metadata": {
        "id": "f_Lf0pgGF984"
      },
      "execution_count": 81,
      "outputs": []
    },
    {
      "cell_type": "code",
      "source": [
        "pop_element_list(long_list,0)"
      ],
      "metadata": {
        "id": "--tV-imAHzHf",
        "outputId": "2576a733-8122-4f84-ebdf-2ab4a04e5d1a",
        "colab": {
          "base_uri": "https://localhost:8080/"
        }
      },
      "execution_count": 82,
      "outputs": [
        {
          "output_type": "execute_result",
          "data": {
            "text/plain": [
              "['and', 'alpha', 'arpit', 'alaska', 'america', 'alphanumeric']"
            ]
          },
          "metadata": {},
          "execution_count": 82
        }
      ]
    },
    {
      "cell_type": "code",
      "source": [
        "print(long_list)"
      ],
      "metadata": {
        "id": "ZRU1HsTkH1pW",
        "outputId": "675a83fd-bc47-462c-8e04-dfaf7f349082",
        "colab": {
          "base_uri": "https://localhost:8080/"
        }
      },
      "execution_count": 83,
      "outputs": [
        {
          "output_type": "stream",
          "name": "stdout",
          "text": [
            "['and', 'alpha', 'arpit', 'alaska', 'america', 'alphanumeric']\n"
          ]
        }
      ]
    },
    {
      "cell_type": "code",
      "source": [
        "new_long_list=[x for (i,x) in enumerate(long_list) if i not in (0,4,5)]\n",
        "print(new_long_list)"
      ],
      "metadata": {
        "id": "LjR9cFiNIEte",
        "outputId": "0186163d-4431-4cd3-ad68-199de921a296",
        "colab": {
          "base_uri": "https://localhost:8080/"
        }
      },
      "execution_count": 84,
      "outputs": [
        {
          "output_type": "stream",
          "name": "stdout",
          "text": [
            "['alpha', 'arpit', 'alaska']\n"
          ]
        }
      ]
    },
    {
      "cell_type": "code",
      "source": [
        ""
      ],
      "metadata": {
        "id": "f9WdcdQbJ0Im"
      },
      "execution_count": null,
      "outputs": []
    }
  ]
}