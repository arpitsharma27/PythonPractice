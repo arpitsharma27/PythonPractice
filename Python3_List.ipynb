{
  "nbformat": 4,
  "nbformat_minor": 0,
  "metadata": {
    "colab": {
      "name": "Python3-List.ipynb",
      "provenance": [],
      "authorship_tag": "ABX9TyOPaFwf1cTGHORY0N8567ys",
      "include_colab_link": true
    },
    "kernelspec": {
      "name": "python3",
      "display_name": "Python 3"
    },
    "language_info": {
      "name": "python"
    }
  },
  "cells": [
    {
      "cell_type": "markdown",
      "metadata": {
        "id": "view-in-github",
        "colab_type": "text"
      },
      "source": [
        "<a href=\"https://colab.research.google.com/github/arpitsharma27/PythonPractice/blob/main/Python3_List.ipynb\" target=\"_parent\"><img src=\"https://colab.research.google.com/assets/colab-badge.svg\" alt=\"Open In Colab\"/></a>"
      ]
    },
    {
      "cell_type": "markdown",
      "source": [
        "#Here is a practice session for List, Tuples, Dictionaries in **Python3**\n",
        "\n",
        "##The **LIST** exercises have been obtained from [here](https://www.w3resource.com/python-exercises/list/)\n"
      ],
      "metadata": {
        "id": "YynUlhwe2fJN"
      }
    },
    {
      "cell_type": "markdown",
      "source": [
        "We will do a **sum** of elements of the List"
      ],
      "metadata": {
        "id": "VoEITgT4324M"
      }
    },
    {
      "cell_type": "code",
      "execution_count": 8,
      "metadata": {
        "colab": {
          "base_uri": "https://localhost:8080/"
        },
        "id": "FYKXiUqQyU2K",
        "outputId": "00b03955-1db7-4ce6-a4f9-d529fe305999"
      },
      "outputs": [
        {
          "output_type": "stream",
          "name": "stdout",
          "text": [
            "<class 'list'>\n"
          ]
        }
      ],
      "source": [
        "import random\n",
        "list1 = random.sample(range(-10, 10), 9)\n",
        "list2 = random.sample(range(-30, 30), 10)\n",
        "print(type(list1))"
      ]
    },
    {
      "cell_type": "code",
      "source": [
        "#The below function performs a sum of all the elements of List.\n",
        "#First we have to define a variable \"total\" and equal it to 0\n",
        "#Then we iterate the FOR loop for n times. \n",
        "#n being number of elements in the List.\n",
        "\n",
        "def sum(items):\n",
        "  print(\"The sum of List %s is: \" % (items) ) \n",
        "  total=0\n",
        "  for x in items:\n",
        "    total += x\n",
        "  return total\n",
        "  "
      ],
      "metadata": {
        "id": "Wk_wfCeez39G"
      },
      "execution_count": 9,
      "outputs": []
    },
    {
      "cell_type": "code",
      "source": [
        "sum(list1)"
      ],
      "metadata": {
        "colab": {
          "base_uri": "https://localhost:8080/"
        },
        "id": "fQp-UR5t0Kzt",
        "outputId": "c5e95459-9ca4-4da8-e8ea-9b6897c142f3"
      },
      "execution_count": 10,
      "outputs": [
        {
          "output_type": "stream",
          "name": "stdout",
          "text": [
            "The sum of List [-1, -2, 9, -5, -10, 1, -6, 3, 7] is: \n"
          ]
        },
        {
          "output_type": "execute_result",
          "data": {
            "text/plain": [
              "-4"
            ]
          },
          "metadata": {},
          "execution_count": 10
        }
      ]
    },
    {
      "cell_type": "code",
      "source": [
        "sum(list2)"
      ],
      "metadata": {
        "colab": {
          "base_uri": "https://localhost:8080/"
        },
        "id": "iku52Sz_0Mv0",
        "outputId": "7d0d5329-0c42-46dd-9661-624d9b6adc98"
      },
      "execution_count": 11,
      "outputs": [
        {
          "output_type": "stream",
          "name": "stdout",
          "text": [
            "The sum of List [-5, -9, 25, 10, -24, -21, -16, 2, 16, -25] is: \n"
          ]
        },
        {
          "output_type": "execute_result",
          "data": {
            "text/plain": [
              "-47"
            ]
          },
          "metadata": {},
          "execution_count": 11
        }
      ]
    },
    {
      "cell_type": "markdown",
      "source": [
        "Similar to above **sum** example we will now multiply the items in each list."
      ],
      "metadata": {
        "id": "uVNsW8x35YST"
      }
    },
    {
      "cell_type": "code",
      "source": [
        "def multiply(items):\n",
        "  print(\"The product of items in list %s is: \" %(items) )\n",
        "  product=1\n",
        "  for x in items:\n",
        "    product*=x\n",
        "  return product"
      ],
      "metadata": {
        "id": "CWsCp3zw5g5b"
      },
      "execution_count": 12,
      "outputs": []
    },
    {
      "cell_type": "code",
      "source": [
        "multiply(list1)"
      ],
      "metadata": {
        "colab": {
          "base_uri": "https://localhost:8080/"
        },
        "id": "voSDqGMB55sK",
        "outputId": "6797d500-d93f-4d4c-befd-21d0db5b3811"
      },
      "execution_count": 13,
      "outputs": [
        {
          "output_type": "stream",
          "name": "stdout",
          "text": [
            "The product of items in list [-1, -2, 9, -5, -10, 1, -6, 3, 7] is: \n"
          ]
        },
        {
          "output_type": "execute_result",
          "data": {
            "text/plain": [
              "-113400"
            ]
          },
          "metadata": {},
          "execution_count": 13
        }
      ]
    },
    {
      "cell_type": "code",
      "source": [
        "multiply(list2)"
      ],
      "metadata": {
        "colab": {
          "base_uri": "https://localhost:8080/"
        },
        "id": "zIXT-aUo57-J",
        "outputId": "c873cf84-ac98-4dd1-b200-2c923371e197"
      },
      "execution_count": 14,
      "outputs": [
        {
          "output_type": "stream",
          "name": "stdout",
          "text": [
            "The product of items in list [-5, -9, 25, 10, -24, -21, -16, 2, 16, -25] is: \n"
          ]
        },
        {
          "output_type": "execute_result",
          "data": {
            "text/plain": [
              "72576000000"
            ]
          },
          "metadata": {},
          "execution_count": 14
        }
      ]
    },
    {
      "cell_type": "code",
      "source": [
        ""
      ],
      "metadata": {
        "id": "nWfhg6rH6Dog"
      },
      "execution_count": null,
      "outputs": []
    }
  ]
}