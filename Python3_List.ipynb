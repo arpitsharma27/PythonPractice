{
  "nbformat": 4,
  "nbformat_minor": 0,
  "metadata": {
    "colab": {
      "name": "Python3-List.ipynb",
      "provenance": [],
      "authorship_tag": "ABX9TyNQRGCg0P5pO1Uj8aAUa5sF",
      "include_colab_link": true
    },
    "kernelspec": {
      "name": "python3",
      "display_name": "Python 3"
    },
    "language_info": {
      "name": "python"
    }
  },
  "cells": [
    {
      "cell_type": "markdown",
      "metadata": {
        "id": "view-in-github",
        "colab_type": "text"
      },
      "source": [
        "<a href=\"https://colab.research.google.com/github/arpitsharma27/PythonPractice/blob/main/Python3_List.ipynb\" target=\"_parent\"><img src=\"https://colab.research.google.com/assets/colab-badge.svg\" alt=\"Open In Colab\"/></a>"
      ]
    },
    {
      "cell_type": "markdown",
      "source": [
        "#Here is a practice session for List, Tuples, Dictionaries in **Python3**\n",
        "\n",
        "##The **LIST** exercises have been obtained from [here](https://www.w3resource.com/python-exercises/list/)\n"
      ],
      "metadata": {
        "id": "YynUlhwe2fJN"
      }
    },
    {
      "cell_type": "markdown",
      "source": [
        "We will do a **sum** of elements of the List"
      ],
      "metadata": {
        "id": "VoEITgT4324M"
      }
    },
    {
      "cell_type": "code",
      "execution_count": 53,
      "metadata": {
        "colab": {
          "base_uri": "https://localhost:8080/"
        },
        "id": "FYKXiUqQyU2K",
        "outputId": "deb9edd4-0ea4-459b-8e1e-77964bc25b0e"
      },
      "outputs": [
        {
          "output_type": "stream",
          "name": "stdout",
          "text": [
            "<class 'list'>\n"
          ]
        }
      ],
      "source": [
        "import random\n",
        "list1 = random.sample(range(-10, 10), 9)\n",
        "list2 = random.sample(range(-5, 5), 7)\n",
        "print(type(list1))"
      ]
    },
    {
      "cell_type": "code",
      "source": [
        "#The below function performs a sum of all the elements of List.\n",
        "#First we have to define a variable \"total\" and equal it to 0\n",
        "#Then we iterate the FOR loop for n times. \n",
        "#n being number of elements in the List.\n",
        "\n",
        "def sum(items):\n",
        "  total=0\n",
        "  for x in items:\n",
        "    total += x\n",
        "  print(\"The sum of List %s is: %s \" % (items, total) )\n",
        "  "
      ],
      "metadata": {
        "id": "Wk_wfCeez39G"
      },
      "execution_count": 54,
      "outputs": []
    },
    {
      "cell_type": "code",
      "source": [
        "sum(list1)"
      ],
      "metadata": {
        "colab": {
          "base_uri": "https://localhost:8080/"
        },
        "id": "fQp-UR5t0Kzt",
        "outputId": "d0d24bef-a745-42ab-a1c4-f7ee1cf865b2"
      },
      "execution_count": 55,
      "outputs": [
        {
          "output_type": "stream",
          "name": "stdout",
          "text": [
            "The sum of List [7, 3, 4, -8, -3, -10, -7, -5, -6] is: -25 \n"
          ]
        }
      ]
    },
    {
      "cell_type": "code",
      "source": [
        "sum(list2)"
      ],
      "metadata": {
        "colab": {
          "base_uri": "https://localhost:8080/"
        },
        "id": "iku52Sz_0Mv0",
        "outputId": "509fcd6f-434a-4fbf-8a4d-cbf263a30e23"
      },
      "execution_count": 56,
      "outputs": [
        {
          "output_type": "stream",
          "name": "stdout",
          "text": [
            "The sum of List [4, -1, -3, -5, 3, 1, -4] is: -5 \n"
          ]
        }
      ]
    },
    {
      "cell_type": "markdown",
      "source": [
        "Similar to above **sum** example we will now multiply the items in each list."
      ],
      "metadata": {
        "id": "uVNsW8x35YST"
      }
    },
    {
      "cell_type": "code",
      "source": [
        "#The below function performs a product of all the elements of List.\n",
        "#First we have to define a variable \"product\" and equal it to 1\n",
        "#Then we iterate the FOR loop for n times. \n",
        "#n being number of elements in the List.\n",
        "\n",
        "def product(items):\n",
        "  product=1\n",
        "  for x in items:\n",
        "    product*=x\n",
        "  print(\"The product of items in list %s is: %s \" %(items , product) )"
      ],
      "metadata": {
        "id": "CWsCp3zw5g5b"
      },
      "execution_count": 57,
      "outputs": []
    },
    {
      "cell_type": "code",
      "source": [
        "product(list1)"
      ],
      "metadata": {
        "colab": {
          "base_uri": "https://localhost:8080/"
        },
        "id": "voSDqGMB55sK",
        "outputId": "c103e443-c351-4693-b371-c15d65111e3e"
      },
      "execution_count": 58,
      "outputs": [
        {
          "output_type": "stream",
          "name": "stdout",
          "text": [
            "The product of items in list [7, 3, 4, -8, -3, -10, -7, -5, -6] is: 4233600 \n"
          ]
        }
      ]
    },
    {
      "cell_type": "code",
      "source": [
        "product(list2)"
      ],
      "metadata": {
        "colab": {
          "base_uri": "https://localhost:8080/"
        },
        "id": "zIXT-aUo57-J",
        "outputId": "294900d5-97fd-4a3e-c378-85c571b2f0c8"
      },
      "execution_count": 59,
      "outputs": [
        {
          "output_type": "stream",
          "name": "stdout",
          "text": [
            "The product of items in list [4, -1, -3, -5, 3, 1, -4] is: 720 \n"
          ]
        }
      ]
    },
    {
      "cell_type": "markdown",
      "source": [
        "Now we will select the **Largest** and **Smallest** number from the list.[link text](https://)"
      ],
      "metadata": {
        "id": "qYV1Fk2uo406"
      }
    },
    {
      "cell_type": "code",
      "source": [
        "'''\n",
        "The below function performs a sorting of all the elements of List.\n",
        "Once the sorting has been performed on the list we then select the \n",
        "last element of the list.\n",
        "'''\n",
        "\n",
        "def largest(items):\n",
        "  items.sort()\n",
        "  largest=items[-1]\n",
        "  smallest=items[0]\n",
        "  print(\"The largest element in the list %s is : %s\" %(items, largest) )\n",
        "  print(\"The smallest element in the list %s is : %s\" %(items, smallest) )"
      ],
      "metadata": {
        "id": "nWfhg6rH6Dog"
      },
      "execution_count": 93,
      "outputs": []
    },
    {
      "cell_type": "code",
      "source": [
        "largest(list1)\n",
        "largest(list2)"
      ],
      "metadata": {
        "colab": {
          "base_uri": "https://localhost:8080/"
        },
        "id": "ET5AGRArpPBH",
        "outputId": "e57fd55d-8a6c-410d-930b-47141b6e2249"
      },
      "execution_count": 100,
      "outputs": [
        {
          "output_type": "stream",
          "name": "stdout",
          "text": [
            "The largest element in the list [-10, -8, -7, -6, -5, -3, 3, 4, 7] is : 7\n",
            "The smallest element in the list [-10, -8, -7, -6, -5, -3, 3, 4, 7] is : -10\n",
            "The largest element in the list [-5, -4, -3, -1, 1, 3, 4] is : 4\n",
            "The smallest element in the list [-5, -4, -3, -1, 1, 3, 4] is : -5\n"
          ]
        }
      ]
    },
    {
      "cell_type": "code",
      "source": [
        "'''\n",
        "In the above example, we are sorting and then selecting the last element.\n",
        "More efficient approach could be the use of max()\n",
        "'''\n",
        "\n",
        "def largest_smallest(items):\n",
        "  largest=max(items)\n",
        "  smallest=min(items)\n",
        "  print(\"The largest element in the list %s is: %s\" %(items, largest) )\n",
        "  print(\"The smallest element in the list %s is: %s\" %(items,smallest))"
      ],
      "metadata": {
        "id": "vbptYvpxpRz4"
      },
      "execution_count": 112,
      "outputs": []
    },
    {
      "cell_type": "code",
      "source": [
        "largest_smallest(list1)\n",
        "largest_smallest(list2)"
      ],
      "metadata": {
        "colab": {
          "base_uri": "https://localhost:8080/"
        },
        "id": "kNfdUL79rRKl",
        "outputId": "bf837e57-8d51-4cd0-e799-dc2386c6ad9a"
      },
      "execution_count": 113,
      "outputs": [
        {
          "output_type": "stream",
          "name": "stdout",
          "text": [
            "The largest element in the list [-10, -8, -7, -6, -5, -3, 3, 4, 7] is: 7\n",
            "The smallest element in the list [-10, -8, -7, -6, -5, -3, 3, 4, 7] is: -10\n",
            "The largest element in the list [-5, -4, -3, -1, 1, 3, 4] is: 4\n",
            "The smallest element in the list [-5, -4, -3, -1, 1, 3, 4] is: -5\n"
          ]
        }
      ]
    },
    {
      "cell_type": "markdown",
      "source": [
        "Count the number of strings where the string length is 2 or more and the first and last character are same from a given list of strings"
      ],
      "metadata": {
        "id": "BTRDhS6EteZd"
      }
    },
    {
      "cell_type": "code",
      "source": [
        "ex5=['abc','xyz','aba','1221']"
      ],
      "metadata": {
        "id": "v7Shj3LbrVSV"
      },
      "execution_count": 115,
      "outputs": []
    },
    {
      "cell_type": "code",
      "source": [
        "def match_words(words):\n",
        "  ctr=0\n",
        "\n",
        "  for word in words:\n",
        "    if len(word)>1 and word[0] == word[-1]:\n",
        "      ctr+=1\n",
        "  return ctr    "
      ],
      "metadata": {
        "id": "DPVU_uIZt6oZ"
      },
      "execution_count": 116,
      "outputs": []
    },
    {
      "cell_type": "code",
      "source": [
        "print(match_words(ex5))"
      ],
      "metadata": {
        "colab": {
          "base_uri": "https://localhost:8080/"
        },
        "id": "iQqVYsihvBea",
        "outputId": "c2c0cee3-7984-4958-c1a0-7cc8de720a34"
      },
      "execution_count": 117,
      "outputs": [
        {
          "output_type": "stream",
          "name": "stdout",
          "text": [
            "2\n"
          ]
        }
      ]
    },
    {
      "cell_type": "markdown",
      "source": [
        "Removing **Duplicates** from the list"
      ],
      "metadata": {
        "id": "K_ofU-EzyMbc"
      }
    },
    {
      "cell_type": "code",
      "source": [
        "'''\n",
        "To remove the duplicates from the list using set() method is one of the efficient ways.\n",
        "Note: The ordering is lost using this method.\n",
        "'''\n",
        "\n",
        "def duplicates(items):\n",
        "  unique=list(set(items))\n",
        "  return unique"
      ],
      "metadata": {
        "id": "7GibNHQ6v-XS"
      },
      "execution_count": 133,
      "outputs": []
    },
    {
      "cell_type": "code",
      "source": [
        "#creating a list of random numbers.\n",
        "list_with_duplicates=random.sample(range(5,10),5)\n",
        "\n",
        "#just creating a list with duplicates.\n",
        "list_with_duplicates2=list_with_duplicates+list_with_duplicates\n",
        "print(list_with_duplicates2) #visualizing the duplicate list.\n",
        "\n",
        "#testing the function.\n",
        "duplicates(list_with_duplicates)"
      ],
      "metadata": {
        "colab": {
          "base_uri": "https://localhost:8080/"
        },
        "id": "-Z0o_r9ayhUB",
        "outputId": "61af290d-23d8-492d-e857-953998c8430f"
      },
      "execution_count": 135,
      "outputs": [
        {
          "output_type": "stream",
          "name": "stdout",
          "text": [
            "[9, 6, 8, 5, 7, 9, 6, 8, 5, 7]\n"
          ]
        },
        {
          "output_type": "execute_result",
          "data": {
            "text/plain": [
              "[5, 6, 7, 8, 9]"
            ]
          },
          "metadata": {},
          "execution_count": 135
        }
      ]
    },
    {
      "cell_type": "code",
      "source": [
        "'''\n",
        "Alternatively, we can use - collections.OrderedDict.fromkeys()\n",
        "-Fastest.\n",
        "-But returns a dictionary\n",
        "-Need to convert the dictionary into List\n",
        "'''\n",
        "from collections import OrderedDict\n",
        "unique_without_set = list(OrderedDict.fromkeys(list_with_duplicates2))\n",
        "\n",
        "print(unique_without_set)"
      ],
      "metadata": {
        "colab": {
          "base_uri": "https://localhost:8080/"
        },
        "id": "zmuUzzFlyjfh",
        "outputId": "e00eb426-4e73-4094-88c0-b890ee92b5b6"
      },
      "execution_count": 140,
      "outputs": [
        {
          "output_type": "stream",
          "name": "stdout",
          "text": [
            "[9, 6, 8, 5, 7]\n"
          ]
        }
      ]
    },
    {
      "cell_type": "markdown",
      "source": [
        "Identifying **Empty List**"
      ],
      "metadata": {
        "id": "2Cro3k-650IA"
      }
    },
    {
      "cell_type": "code",
      "source": [
        "empty_list=[]\n",
        "not_empty_list=[1,2]"
      ],
      "metadata": {
        "id": "neoonsZd0KxP"
      },
      "execution_count": 153,
      "outputs": []
    },
    {
      "cell_type": "code",
      "source": [
        "#Empty lists are considered False in Python. \n",
        "#Hence the bool() function would return False if the list was passed as an argument.\n",
        "def empty(items):\n",
        "  if not items:\n",
        "    print(\"List is Empty\")\n",
        "  else:\n",
        "    print(\"List is NOT Empty\")"
      ],
      "metadata": {
        "id": "6hEchGV95E9j"
      },
      "execution_count": 156,
      "outputs": []
    },
    {
      "cell_type": "code",
      "source": [
        "empty(empty_list)\n",
        "empty(not_empty_list)"
      ],
      "metadata": {
        "colab": {
          "base_uri": "https://localhost:8080/"
        },
        "id": "FEJZZGce5PMq",
        "outputId": "c30341cf-8d3a-4126-c7c5-720b736566c9"
      },
      "execution_count": 157,
      "outputs": [
        {
          "output_type": "stream",
          "name": "stdout",
          "text": [
            "List is Empty\n",
            "List is NOT Empty\n"
          ]
        }
      ]
    },
    {
      "cell_type": "markdown",
      "source": [
        "**Find words in a list that are longer than n**"
      ],
      "metadata": {
        "id": "iQPN-wyd7tm1"
      }
    },
    {
      "cell_type": "code",
      "source": [
        "long_list=['a','as','and','alpha','arpit','alaska','america','alphanumeric']"
      ],
      "metadata": {
        "id": "Jp4HORb16Qnj"
      },
      "execution_count": 158,
      "outputs": []
    },
    {
      "cell_type": "code",
      "source": [
        "def lenwords(items,n):\n",
        "  list_words=[]\n",
        "  for x in items:\n",
        "    if len(x)>n:\n",
        "      list_words.append(x)\n",
        "  return list_words\n"
      ],
      "metadata": {
        "id": "b3BZYoWj8HeH"
      },
      "execution_count": 162,
      "outputs": []
    },
    {
      "cell_type": "code",
      "source": [
        "lenwords(long_list,6)"
      ],
      "metadata": {
        "colab": {
          "base_uri": "https://localhost:8080/"
        },
        "id": "4JbnySqN8hmw",
        "outputId": "f9643a78-f3c1-4c5e-da6f-64806b5bf1a7"
      },
      "execution_count": 163,
      "outputs": [
        {
          "output_type": "execute_result",
          "data": {
            "text/plain": [
              "['america', 'alphanumeric']"
            ]
          },
          "metadata": {},
          "execution_count": 163
        }
      ]
    },
    {
      "cell_type": "markdown",
      "source": [
        "**Similarly we need to find list of words that are longer than n from a given list of words.**"
      ],
      "metadata": {
        "id": "YjaelgvI9Qy0"
      }
    },
    {
      "cell_type": "code",
      "source": [
        "long_string=\"Arpit is going to eat ice-cream and then he will eat his dinner kept on kitchen counter\""
      ],
      "metadata": {
        "id": "_u_L4ONb8kCZ"
      },
      "execution_count": 177,
      "outputs": []
    },
    {
      "cell_type": "code",
      "source": [
        "def long_words(items,n):\n",
        "  word_len=[]\n",
        "  txt=items.split(\" \")\n",
        "  for x in txt:\n",
        "    if len(x)>n:\n",
        "      word_len.append(x)\n",
        "  return word_len"
      ],
      "metadata": {
        "id": "eWZOrXh29r_u"
      },
      "execution_count": 178,
      "outputs": []
    },
    {
      "cell_type": "code",
      "source": [
        "long_words(long_string,6)"
      ],
      "metadata": {
        "colab": {
          "base_uri": "https://localhost:8080/"
        },
        "id": "C37cwRJg-DvA",
        "outputId": "18b12760-59c4-42f5-9972-5bcd9fcaeca0"
      },
      "execution_count": 179,
      "outputs": [
        {
          "output_type": "execute_result",
          "data": {
            "text/plain": [
              "['ice-cream', 'kitchen', 'counter']"
            ]
          },
          "metadata": {},
          "execution_count": 179
        }
      ]
    },
    {
      "cell_type": "code",
      "source": [
        "long_words(long_string,4)"
      ],
      "metadata": {
        "colab": {
          "base_uri": "https://localhost:8080/"
        },
        "id": "Sy-2iBDl-GxY",
        "outputId": "14f1ff82-692c-4371-c2a1-6b5d49504670"
      },
      "execution_count": 180,
      "outputs": [
        {
          "output_type": "execute_result",
          "data": {
            "text/plain": [
              "['Arpit', 'going', 'ice-cream', 'dinner', 'kitchen', 'counter']"
            ]
          },
          "metadata": {},
          "execution_count": 180
        }
      ]
    },
    {
      "cell_type": "markdown",
      "source": [
        "**Finding if any elements of the two lists are common.**"
      ],
      "metadata": {
        "id": "ntwV7ar__ZHi"
      }
    },
    {
      "cell_type": "code",
      "source": [
        "long_list=['a','as','and','alpha','arpit','alaska','america','alphanumeric']\n",
        "similar_list=['i','dont','like','alaska']\n",
        "nowhere=['never','ever']"
      ],
      "metadata": {
        "id": "wQkBOEX6-wof"
      },
      "execution_count": 188,
      "outputs": []
    },
    {
      "cell_type": "code",
      "source": [
        "def find_match(list1,list2):\n",
        "  result=False\n",
        "  for x in list1:\n",
        "    for y in list2:\n",
        "      if x==y:\n",
        "        print(\"%s \" %(x))\n",
        "        result=True\n",
        "        return result"
      ],
      "metadata": {
        "id": "L6evjLds_xCU"
      },
      "execution_count": 211,
      "outputs": []
    },
    {
      "cell_type": "code",
      "source": [
        "print(find_match(long_list,similar_list))"
      ],
      "metadata": {
        "colab": {
          "base_uri": "https://localhost:8080/"
        },
        "id": "nYkfwULtAjQV",
        "outputId": "b28aeae7-9115-459a-cae8-7febb5421868"
      },
      "execution_count": 220,
      "outputs": [
        {
          "output_type": "stream",
          "name": "stdout",
          "text": [
            "alaska \n",
            "True\n"
          ]
        }
      ]
    },
    {
      "cell_type": "code",
      "source": [
        "print(find_match(long_list, nowhere))"
      ],
      "metadata": {
        "colab": {
          "base_uri": "https://localhost:8080/"
        },
        "id": "LhPpU-wAAmE-",
        "outputId": "6991d90f-b719-4749-9c29-19940e4c0639"
      },
      "execution_count": 218,
      "outputs": [
        {
          "output_type": "stream",
          "name": "stdout",
          "text": [
            "None\n"
          ]
        }
      ]
    },
    {
      "cell_type": "code",
      "source": [
        "print(find_match(similar_list, nowhere))"
      ],
      "metadata": {
        "colab": {
          "base_uri": "https://localhost:8080/"
        },
        "id": "s9lFEd2CAxPm",
        "outputId": "4178b540-7859-4572-a93d-faccc8db2b71"
      },
      "execution_count": 219,
      "outputs": [
        {
          "output_type": "stream",
          "name": "stdout",
          "text": [
            "None\n"
          ]
        }
      ]
    },
    {
      "cell_type": "code",
      "source": [
        ""
      ],
      "metadata": {
        "id": "q7f6n6SYCqQF"
      },
      "execution_count": null,
      "outputs": []
    }
  ]
}