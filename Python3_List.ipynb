{
  "nbformat": 4,
  "nbformat_minor": 0,
  "metadata": {
    "colab": {
      "name": "Python3-List.ipynb",
      "provenance": [],
      "authorship_tag": "ABX9TyOXj7Zz30/5aiDA48WTwLfn",
      "include_colab_link": true
    },
    "kernelspec": {
      "name": "python3",
      "display_name": "Python 3"
    },
    "language_info": {
      "name": "python"
    }
  },
  "cells": [
    {
      "cell_type": "markdown",
      "metadata": {
        "id": "view-in-github",
        "colab_type": "text"
      },
      "source": [
        "<a href=\"https://colab.research.google.com/github/arpitsharma27/PythonPractice/blob/main/Python3_List.ipynb\" target=\"_parent\"><img src=\"https://colab.research.google.com/assets/colab-badge.svg\" alt=\"Open In Colab\"/></a>"
      ]
    },
    {
      "cell_type": "markdown",
      "source": [
        "#Here is a practice session for List, Tuples, Dictionaries in **Python3**\n",
        "\n",
        "##The **LIST** exercises have been obtained from [here](https://www.w3resource.com/python-exercises/list/python-data-type-list-exercise-1.php)\n"
      ],
      "metadata": {
        "id": "YynUlhwe2fJN"
      }
    },
    {
      "cell_type": "markdown",
      "source": [
        "We will do a **sum** of elements of the List"
      ],
      "metadata": {
        "id": "VoEITgT4324M"
      }
    },
    {
      "cell_type": "code",
      "execution_count": 31,
      "metadata": {
        "colab": {
          "base_uri": "https://localhost:8080/"
        },
        "id": "FYKXiUqQyU2K",
        "outputId": "2b2cc209-5219-487f-ac4c-f53e2cefbcc5"
      },
      "outputs": [
        {
          "output_type": "stream",
          "name": "stdout",
          "text": [
            "<class 'list'>\n"
          ]
        }
      ],
      "source": [
        "list1= [1,2,3,4]\n",
        "print(type(list1))"
      ]
    },
    {
      "cell_type": "code",
      "source": [
        "#The below function performs a sum of all the elements of List.\n",
        "#First we have to define a variable \"total\" and equal it to 0\n",
        "#Then we iterate the FOR loop for n times. \n",
        "#n being number of elements in the List.\n",
        "\n",
        "def sum(items):\n",
        "  print(\"The sum of List %s is: \" % (items) ) \n",
        "  total=0\n",
        "  for x in items:\n",
        "    total += x\n",
        "  return total\n",
        "  "
      ],
      "metadata": {
        "id": "Wk_wfCeez39G"
      },
      "execution_count": 35,
      "outputs": []
    },
    {
      "cell_type": "code",
      "source": [
        "sum(list1)"
      ],
      "metadata": {
        "colab": {
          "base_uri": "https://localhost:8080/"
        },
        "id": "fQp-UR5t0Kzt",
        "outputId": "72d853f7-444d-4bba-f510-ef92602c9cc0"
      },
      "execution_count": 36,
      "outputs": [
        {
          "output_type": "stream",
          "name": "stdout",
          "text": [
            "The sum of List [1, 2, 3, 4] is: \n"
          ]
        },
        {
          "output_type": "execute_result",
          "data": {
            "text/plain": [
              "10"
            ]
          },
          "metadata": {},
          "execution_count": 36
        }
      ]
    },
    {
      "cell_type": "code",
      "source": [
        "list2=[-3,8,24,-48,89,-63]\n",
        "sum(list2)"
      ],
      "metadata": {
        "colab": {
          "base_uri": "https://localhost:8080/"
        },
        "id": "iku52Sz_0Mv0",
        "outputId": "39dba945-72dd-49ec-aa17-9e8d585e20ba"
      },
      "execution_count": 37,
      "outputs": [
        {
          "output_type": "stream",
          "name": "stdout",
          "text": [
            "The sum of List [-3, 8, 24, -48, 89, -63] is: \n"
          ]
        },
        {
          "output_type": "execute_result",
          "data": {
            "text/plain": [
              "7"
            ]
          },
          "metadata": {},
          "execution_count": 37
        }
      ]
    },
    {
      "cell_type": "markdown",
      "source": [
        "Similar to above **sum** example we will now multiply the items in each list."
      ],
      "metadata": {
        "id": "uVNsW8x35YST"
      }
    },
    {
      "cell_type": "code",
      "source": [
        "def multiply(items):\n",
        "  print(\"The product of items in list %s is: \" %(items) )\n",
        "  product=1\n",
        "  for x in items:\n",
        "    product*=x\n",
        "  return product"
      ],
      "metadata": {
        "id": "CWsCp3zw5g5b"
      },
      "execution_count": 40,
      "outputs": []
    },
    {
      "cell_type": "code",
      "source": [
        "multiply(list1)"
      ],
      "metadata": {
        "colab": {
          "base_uri": "https://localhost:8080/"
        },
        "id": "voSDqGMB55sK",
        "outputId": "452b1e7c-3186-421c-8c50-0a1e29a07015"
      },
      "execution_count": 41,
      "outputs": [
        {
          "output_type": "stream",
          "name": "stdout",
          "text": [
            "The product of items in list [1, 2, 3, 4] is: \n"
          ]
        },
        {
          "output_type": "execute_result",
          "data": {
            "text/plain": [
              "24"
            ]
          },
          "metadata": {},
          "execution_count": 41
        }
      ]
    },
    {
      "cell_type": "code",
      "source": [
        "multiply(list2)"
      ],
      "metadata": {
        "colab": {
          "base_uri": "https://localhost:8080/"
        },
        "id": "zIXT-aUo57-J",
        "outputId": "b4b994ae-e3d1-4d2e-b59a-5ab3d197b966"
      },
      "execution_count": 42,
      "outputs": [
        {
          "output_type": "stream",
          "name": "stdout",
          "text": [
            "The product of items in list [-3, 8, 24, -48, 89, -63] is: \n"
          ]
        },
        {
          "output_type": "execute_result",
          "data": {
            "text/plain": [
              "-155022336"
            ]
          },
          "metadata": {},
          "execution_count": 42
        }
      ]
    },
    {
      "cell_type": "code",
      "source": [
        ""
      ],
      "metadata": {
        "id": "nWfhg6rH6Dog"
      },
      "execution_count": null,
      "outputs": []
    }
  ]
}