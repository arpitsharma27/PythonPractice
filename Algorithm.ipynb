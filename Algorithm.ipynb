{
  "nbformat": 4,
  "nbformat_minor": 0,
  "metadata": {
    "colab": {
      "name": "Algorithm.ipynb",
      "provenance": [],
      "authorship_tag": "ABX9TyOyhVmIQQkGFJiP00AzXYQf",
      "include_colab_link": true
    },
    "kernelspec": {
      "name": "python3",
      "display_name": "Python 3"
    },
    "language_info": {
      "name": "python"
    }
  },
  "cells": [
    {
      "cell_type": "markdown",
      "metadata": {
        "id": "view-in-github",
        "colab_type": "text"
      },
      "source": [
        "<a href=\"https://colab.research.google.com/github/arpitsharma27/PythonPractice/blob/main/Algorithm.ipynb\" target=\"_parent\"><img src=\"https://colab.research.google.com/assets/colab-badge.svg\" alt=\"Open In Colab\"/></a>"
      ]
    },
    {
      "cell_type": "markdown",
      "source": [
        "#Binary Search"
      ],
      "metadata": {
        "id": "G9nBy57Y0Le4"
      }
    },
    {
      "cell_type": "code",
      "execution_count": 1,
      "metadata": {
        "id": "hUcuXzU_mK4J"
      },
      "outputs": [],
      "source": [
        "nums = [-1,0,3,5,9,12]\n",
        "int=9"
      ]
    },
    {
      "cell_type": "markdown",
      "source": [
        "##Recursive Approach\n",
        "\n",
        "Recursive: Characterized by Recurrence or Repetition.\n",
        "\n",
        "Here, we update the originally passed function within the function."
      ],
      "metadata": {
        "id": "CpUMFpR31f6O"
      }
    },
    {
      "cell_type": "code",
      "source": [
        "def binary_search_recursive(nums, low, high, int):\n",
        "  if high >= low:\n",
        "    mid=(high+low)//2\n",
        "\n",
        "    if nums[mid]==int:\n",
        "      return mid\n",
        "    elif nums[mid]>int:\n",
        "      return binary_search_recursive(nums,low,mid-1,int)\n",
        "    elif nums[mid]<int:\n",
        "      return binary_search_recursive(nums,mid+1,high,int)\n",
        "    else:\n",
        "      return -1"
      ],
      "metadata": {
        "id": "zwhMv51MqHRS"
      },
      "execution_count": 2,
      "outputs": []
    },
    {
      "cell_type": "code",
      "source": [
        "binary_search_recursive(nums,0,len(nums),int)"
      ],
      "metadata": {
        "id": "rTO2oRRwqP85",
        "colab": {
          "base_uri": "https://localhost:8080/"
        },
        "outputId": "47b37b2c-5877-4682-80c0-500bd9355555"
      },
      "execution_count": 3,
      "outputs": [
        {
          "output_type": "execute_result",
          "data": {
            "text/plain": [
              "4"
            ]
          },
          "metadata": {},
          "execution_count": 3
        }
      ]
    },
    {
      "cell_type": "markdown",
      "source": [
        "##Iterative Approach"
      ],
      "metadata": {
        "id": "gsBianis44IJ"
      }
    },
    {
      "cell_type": "code",
      "source": [
        "def binary_search_iterative(nums, int):\n",
        "  low=0\n",
        "  high=len(nums)-1\n",
        "  mid=0\n",
        "  while low<=high:\n",
        "    mid=(high+low)//2\n",
        "    if nums[mid]<int:\n",
        "      low=mid+1\n",
        "    elif nums[mid]>int:\n",
        "      high=mid-1\n",
        "    else:\n",
        "      return mid\n",
        "  return -1"
      ],
      "metadata": {
        "id": "IFi4gXMM3JMG"
      },
      "execution_count": 4,
      "outputs": []
    },
    {
      "cell_type": "code",
      "source": [
        "binary_search_iterative(nums,int)"
      ],
      "metadata": {
        "colab": {
          "base_uri": "https://localhost:8080/"
        },
        "id": "-CGDRGR65jlm",
        "outputId": "dbc52850-ddfb-427f-ad4b-7adc4952b6e5"
      },
      "execution_count": 5,
      "outputs": [
        {
          "output_type": "execute_result",
          "data": {
            "text/plain": [
              "4"
            ]
          },
          "metadata": {},
          "execution_count": 5
        }
      ]
    },
    {
      "cell_type": "markdown",
      "source": [
        "#Two Sum\n",
        "\n",
        "Given an array of integers `nums` and an integer `target`, return indices of the two numbers such that they add up to `target`.\n",
        "\n",
        "You may assume that each input would have **exactly one solution**, and you may not use the same element twice."
      ],
      "metadata": {
        "id": "Ll7p9cl17vRn"
      }
    },
    {
      "cell_type": "code",
      "source": [
        " nums = [2,7,11,15]\n",
        " target = 22"
      ],
      "metadata": {
        "id": "FPz8vziK6IpG"
      },
      "execution_count": 6,
      "outputs": []
    },
    {
      "cell_type": "markdown",
      "source": [
        "##Method 1\n",
        "\n",
        "This approach uses **Less Memory** but also takes **More Time**\n",
        "\n",
        "The reason being, we iterate over each element in `nums`"
      ],
      "metadata": {
        "id": "CmYfz2LA9Ko5"
      }
    },
    {
      "cell_type": "code",
      "source": [
        "def TwoSum_method1(nums,target):\n",
        "  for x in range(len(nums)):\n",
        "    for y in range(x+1,len(nums)):\n",
        "      if nums[x]+nums[y]==target:\n",
        "        return [x,y]\n",
        "  return -1"
      ],
      "metadata": {
        "id": "xSKuEYMn8N32"
      },
      "execution_count": 18,
      "outputs": []
    },
    {
      "cell_type": "code",
      "source": [
        "TwoSum_method1(nums,target)"
      ],
      "metadata": {
        "colab": {
          "base_uri": "https://localhost:8080/"
        },
        "id": "eyh-ucPI8fSm",
        "outputId": "be5947d7-4c2f-4e0f-f4c9-20872128401e"
      },
      "execution_count": 19,
      "outputs": [
        {
          "output_type": "execute_result",
          "data": {
            "text/plain": [
              "[1, 3]"
            ]
          },
          "metadata": {},
          "execution_count": 19
        }
      ]
    },
    {
      "cell_type": "markdown",
      "source": [
        "##Method 2\n",
        "\n",
        "This approach uses **More Memory** but also takes **Less Time**\n",
        "\n",
        "The reason being, we keep a track of what elements we have already considered.\n",
        "\n",
        "The algorithm does not sum two values and check if it is equal to target.\n",
        "\n",
        "Instead it subtracts from target and checks if (Target - element) is\n",
        "present in array or not."
      ],
      "metadata": {
        "id": "D4nwvX5k3WpX"
      }
    },
    {
      "cell_type": "code",
      "source": [
        "def TwoSum_method2(nums, target):\n",
        "  rev_table = dict()\n",
        "  for i in range(len(nums)):\n",
        "    second_addend = target - nums[i]\n",
        "    if second_addend in rev_table:\n",
        "      return [rev_table[second_addend], i]\n",
        "    else:\n",
        "      rev_table[nums[i]] = i"
      ],
      "metadata": {
        "id": "TPVoYOpc8lEe"
      },
      "execution_count": 22,
      "outputs": []
    },
    {
      "cell_type": "code",
      "source": [
        "TwoSum_method2(nums,target)"
      ],
      "metadata": {
        "colab": {
          "base_uri": "https://localhost:8080/"
        },
        "id": "U3-iUxcBEdoQ",
        "outputId": "ecfc208c-37c9-4663-abc3-ff94640531a0"
      },
      "execution_count": 23,
      "outputs": [
        {
          "output_type": "execute_result",
          "data": {
            "text/plain": [
              "[1, 3]"
            ]
          },
          "metadata": {},
          "execution_count": 23
        }
      ]
    },
    {
      "cell_type": "code",
      "source": [
        ""
      ],
      "metadata": {
        "id": "8-WojRLsEiUy"
      },
      "execution_count": null,
      "outputs": []
    }
  ]
}