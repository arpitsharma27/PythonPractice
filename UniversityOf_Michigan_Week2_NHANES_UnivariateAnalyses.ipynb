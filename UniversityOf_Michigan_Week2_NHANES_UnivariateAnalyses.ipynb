{
  "nbformat": 4,
  "nbformat_minor": 0,
  "metadata": {
    "colab": {
      "name": "UniversityOf_Michigan_Week2_NHANES_UnivariateAnalyses.ipynb",
      "provenance": [],
      "authorship_tag": "ABX9TyPxlEgs+4uTxqzkF2PpGKMP",
      "include_colab_link": true
    },
    "kernelspec": {
      "name": "python3",
      "display_name": "Python 3"
    }
  },
  "cells": [
    {
      "cell_type": "markdown",
      "metadata": {
        "id": "view-in-github",
        "colab_type": "text"
      },
      "source": [
        "<a href=\"https://colab.research.google.com/github/arpitsharma27/PythonPractice/blob/main/UniversityOf_Michigan_Week2_NHANES_UnivariateAnalyses.ipynb\" target=\"_parent\"><img src=\"https://colab.research.google.com/assets/colab-badge.svg\" alt=\"Open In Colab\"/></a>"
      ]
    },
    {
      "cell_type": "code",
      "metadata": {
        "id": "aBJgPyGl4P3U"
      },
      "source": [
        "import matplotlib.pyplot as plt\n",
        "import seaborn as sns\n",
        "import numpy as np\n",
        "import pandas as pd"
      ],
      "execution_count": null,
      "outputs": []
    },
    {
      "cell_type": "code",
      "metadata": {
        "id": "e5qWXf6o4xmr"
      },
      "source": [
        "url=\"https://raw.githubusercontent.com/kshedden/statswpy/master/NHANES/merged/nhanes_2015_2016.csv\"\n",
        "df=pd.read_csv(url)"
      ],
      "execution_count": null,
      "outputs": []
    },
    {
      "cell_type": "code",
      "metadata": {
        "colab": {
          "base_uri": "https://localhost:8080/",
          "height": 215
        },
        "id": "oT9ZN3LQ42h7",
        "outputId": "7d75a536-9673-4c60-86dd-a12f5cd0417e"
      },
      "source": [
        "df.head()"
      ],
      "execution_count": null,
      "outputs": [
        {
          "output_type": "execute_result",
          "data": {
            "text/html": [
              "<div>\n",
              "<style scoped>\n",
              "    .dataframe tbody tr th:only-of-type {\n",
              "        vertical-align: middle;\n",
              "    }\n",
              "\n",
              "    .dataframe tbody tr th {\n",
              "        vertical-align: top;\n",
              "    }\n",
              "\n",
              "    .dataframe thead th {\n",
              "        text-align: right;\n",
              "    }\n",
              "</style>\n",
              "<table border=\"1\" class=\"dataframe\">\n",
              "  <thead>\n",
              "    <tr style=\"text-align: right;\">\n",
              "      <th></th>\n",
              "      <th>SEQN</th>\n",
              "      <th>ALQ101</th>\n",
              "      <th>ALQ110</th>\n",
              "      <th>ALQ130</th>\n",
              "      <th>SMQ020</th>\n",
              "      <th>RIAGENDR</th>\n",
              "      <th>RIDAGEYR</th>\n",
              "      <th>RIDRETH1</th>\n",
              "      <th>DMDCITZN</th>\n",
              "      <th>DMDEDUC2</th>\n",
              "      <th>DMDMARTL</th>\n",
              "      <th>DMDHHSIZ</th>\n",
              "      <th>WTINT2YR</th>\n",
              "      <th>SDMVPSU</th>\n",
              "      <th>SDMVSTRA</th>\n",
              "      <th>INDFMPIR</th>\n",
              "      <th>BPXSY1</th>\n",
              "      <th>BPXDI1</th>\n",
              "      <th>BPXSY2</th>\n",
              "      <th>BPXDI2</th>\n",
              "      <th>BMXWT</th>\n",
              "      <th>BMXHT</th>\n",
              "      <th>BMXBMI</th>\n",
              "      <th>BMXLEG</th>\n",
              "      <th>BMXARML</th>\n",
              "      <th>BMXARMC</th>\n",
              "      <th>BMXWAIST</th>\n",
              "      <th>HIQ210</th>\n",
              "    </tr>\n",
              "  </thead>\n",
              "  <tbody>\n",
              "    <tr>\n",
              "      <th>0</th>\n",
              "      <td>83732</td>\n",
              "      <td>1.0</td>\n",
              "      <td>NaN</td>\n",
              "      <td>1.0</td>\n",
              "      <td>1</td>\n",
              "      <td>1</td>\n",
              "      <td>62</td>\n",
              "      <td>3</td>\n",
              "      <td>1.0</td>\n",
              "      <td>5.0</td>\n",
              "      <td>1.0</td>\n",
              "      <td>2</td>\n",
              "      <td>134671.37</td>\n",
              "      <td>1</td>\n",
              "      <td>125</td>\n",
              "      <td>4.39</td>\n",
              "      <td>128.0</td>\n",
              "      <td>70.0</td>\n",
              "      <td>124.0</td>\n",
              "      <td>64.0</td>\n",
              "      <td>94.8</td>\n",
              "      <td>184.5</td>\n",
              "      <td>27.8</td>\n",
              "      <td>43.3</td>\n",
              "      <td>43.6</td>\n",
              "      <td>35.9</td>\n",
              "      <td>101.1</td>\n",
              "      <td>2.0</td>\n",
              "    </tr>\n",
              "    <tr>\n",
              "      <th>1</th>\n",
              "      <td>83733</td>\n",
              "      <td>1.0</td>\n",
              "      <td>NaN</td>\n",
              "      <td>6.0</td>\n",
              "      <td>1</td>\n",
              "      <td>1</td>\n",
              "      <td>53</td>\n",
              "      <td>3</td>\n",
              "      <td>2.0</td>\n",
              "      <td>3.0</td>\n",
              "      <td>3.0</td>\n",
              "      <td>1</td>\n",
              "      <td>24328.56</td>\n",
              "      <td>1</td>\n",
              "      <td>125</td>\n",
              "      <td>1.32</td>\n",
              "      <td>146.0</td>\n",
              "      <td>88.0</td>\n",
              "      <td>140.0</td>\n",
              "      <td>88.0</td>\n",
              "      <td>90.4</td>\n",
              "      <td>171.4</td>\n",
              "      <td>30.8</td>\n",
              "      <td>38.0</td>\n",
              "      <td>40.0</td>\n",
              "      <td>33.2</td>\n",
              "      <td>107.9</td>\n",
              "      <td>NaN</td>\n",
              "    </tr>\n",
              "    <tr>\n",
              "      <th>2</th>\n",
              "      <td>83734</td>\n",
              "      <td>1.0</td>\n",
              "      <td>NaN</td>\n",
              "      <td>NaN</td>\n",
              "      <td>1</td>\n",
              "      <td>1</td>\n",
              "      <td>78</td>\n",
              "      <td>3</td>\n",
              "      <td>1.0</td>\n",
              "      <td>3.0</td>\n",
              "      <td>1.0</td>\n",
              "      <td>2</td>\n",
              "      <td>12400.01</td>\n",
              "      <td>1</td>\n",
              "      <td>131</td>\n",
              "      <td>1.51</td>\n",
              "      <td>138.0</td>\n",
              "      <td>46.0</td>\n",
              "      <td>132.0</td>\n",
              "      <td>44.0</td>\n",
              "      <td>83.4</td>\n",
              "      <td>170.1</td>\n",
              "      <td>28.8</td>\n",
              "      <td>35.6</td>\n",
              "      <td>37.0</td>\n",
              "      <td>31.0</td>\n",
              "      <td>116.5</td>\n",
              "      <td>2.0</td>\n",
              "    </tr>\n",
              "    <tr>\n",
              "      <th>3</th>\n",
              "      <td>83735</td>\n",
              "      <td>2.0</td>\n",
              "      <td>1.0</td>\n",
              "      <td>1.0</td>\n",
              "      <td>2</td>\n",
              "      <td>2</td>\n",
              "      <td>56</td>\n",
              "      <td>3</td>\n",
              "      <td>1.0</td>\n",
              "      <td>5.0</td>\n",
              "      <td>6.0</td>\n",
              "      <td>1</td>\n",
              "      <td>102718.00</td>\n",
              "      <td>1</td>\n",
              "      <td>131</td>\n",
              "      <td>5.00</td>\n",
              "      <td>132.0</td>\n",
              "      <td>72.0</td>\n",
              "      <td>134.0</td>\n",
              "      <td>68.0</td>\n",
              "      <td>109.8</td>\n",
              "      <td>160.9</td>\n",
              "      <td>42.4</td>\n",
              "      <td>38.5</td>\n",
              "      <td>37.7</td>\n",
              "      <td>38.3</td>\n",
              "      <td>110.1</td>\n",
              "      <td>2.0</td>\n",
              "    </tr>\n",
              "    <tr>\n",
              "      <th>4</th>\n",
              "      <td>83736</td>\n",
              "      <td>2.0</td>\n",
              "      <td>1.0</td>\n",
              "      <td>1.0</td>\n",
              "      <td>2</td>\n",
              "      <td>2</td>\n",
              "      <td>42</td>\n",
              "      <td>4</td>\n",
              "      <td>1.0</td>\n",
              "      <td>4.0</td>\n",
              "      <td>3.0</td>\n",
              "      <td>5</td>\n",
              "      <td>17627.67</td>\n",
              "      <td>2</td>\n",
              "      <td>126</td>\n",
              "      <td>1.23</td>\n",
              "      <td>100.0</td>\n",
              "      <td>70.0</td>\n",
              "      <td>114.0</td>\n",
              "      <td>54.0</td>\n",
              "      <td>55.2</td>\n",
              "      <td>164.9</td>\n",
              "      <td>20.3</td>\n",
              "      <td>37.4</td>\n",
              "      <td>36.0</td>\n",
              "      <td>27.2</td>\n",
              "      <td>80.4</td>\n",
              "      <td>2.0</td>\n",
              "    </tr>\n",
              "  </tbody>\n",
              "</table>\n",
              "</div>"
            ],
            "text/plain": [
              "    SEQN  ALQ101  ALQ110  ALQ130  ...  BMXARML  BMXARMC  BMXWAIST  HIQ210\n",
              "0  83732     1.0     NaN     1.0  ...     43.6     35.9     101.1     2.0\n",
              "1  83733     1.0     NaN     6.0  ...     40.0     33.2     107.9     NaN\n",
              "2  83734     1.0     NaN     NaN  ...     37.0     31.0     116.5     2.0\n",
              "3  83735     2.0     1.0     1.0  ...     37.7     38.3     110.1     2.0\n",
              "4  83736     2.0     1.0     1.0  ...     36.0     27.2      80.4     2.0\n",
              "\n",
              "[5 rows x 28 columns]"
            ]
          },
          "metadata": {
            "tags": []
          },
          "execution_count": 40
        }
      ]
    },
    {
      "cell_type": "code",
      "metadata": {
        "colab": {
          "base_uri": "https://localhost:8080/",
          "height": 304
        },
        "id": "DHtqQiI45TsA",
        "outputId": "c342f3f4-6c51-4ba2-e959-3c81fc157634"
      },
      "source": [
        "df.describe()"
      ],
      "execution_count": null,
      "outputs": [
        {
          "output_type": "execute_result",
          "data": {
            "text/html": [
              "<div>\n",
              "<style scoped>\n",
              "    .dataframe tbody tr th:only-of-type {\n",
              "        vertical-align: middle;\n",
              "    }\n",
              "\n",
              "    .dataframe tbody tr th {\n",
              "        vertical-align: top;\n",
              "    }\n",
              "\n",
              "    .dataframe thead th {\n",
              "        text-align: right;\n",
              "    }\n",
              "</style>\n",
              "<table border=\"1\" class=\"dataframe\">\n",
              "  <thead>\n",
              "    <tr style=\"text-align: right;\">\n",
              "      <th></th>\n",
              "      <th>SEQN</th>\n",
              "      <th>ALQ101</th>\n",
              "      <th>ALQ110</th>\n",
              "      <th>ALQ130</th>\n",
              "      <th>SMQ020</th>\n",
              "      <th>RIAGENDR</th>\n",
              "      <th>RIDAGEYR</th>\n",
              "      <th>RIDRETH1</th>\n",
              "      <th>DMDCITZN</th>\n",
              "      <th>DMDEDUC2</th>\n",
              "      <th>DMDMARTL</th>\n",
              "      <th>DMDHHSIZ</th>\n",
              "      <th>WTINT2YR</th>\n",
              "      <th>SDMVPSU</th>\n",
              "      <th>SDMVSTRA</th>\n",
              "      <th>INDFMPIR</th>\n",
              "      <th>BPXSY1</th>\n",
              "      <th>BPXDI1</th>\n",
              "      <th>BPXSY2</th>\n",
              "      <th>BPXDI2</th>\n",
              "      <th>BMXWT</th>\n",
              "      <th>BMXHT</th>\n",
              "      <th>BMXBMI</th>\n",
              "      <th>BMXLEG</th>\n",
              "      <th>BMXARML</th>\n",
              "      <th>BMXARMC</th>\n",
              "      <th>BMXWAIST</th>\n",
              "      <th>HIQ210</th>\n",
              "    </tr>\n",
              "  </thead>\n",
              "  <tbody>\n",
              "    <tr>\n",
              "      <th>count</th>\n",
              "      <td>5735.000000</td>\n",
              "      <td>5208.000000</td>\n",
              "      <td>1731.000000</td>\n",
              "      <td>3379.000000</td>\n",
              "      <td>5735.000000</td>\n",
              "      <td>5735.000000</td>\n",
              "      <td>5735.000000</td>\n",
              "      <td>5735.000000</td>\n",
              "      <td>5734.000000</td>\n",
              "      <td>5474.000000</td>\n",
              "      <td>5474.000000</td>\n",
              "      <td>5735.000000</td>\n",
              "      <td>5735.000000</td>\n",
              "      <td>5735.000000</td>\n",
              "      <td>5735.000000</td>\n",
              "      <td>5134.000000</td>\n",
              "      <td>5401.000000</td>\n",
              "      <td>5401.000000</td>\n",
              "      <td>5535.000000</td>\n",
              "      <td>5535.000000</td>\n",
              "      <td>5666.000000</td>\n",
              "      <td>5673.000000</td>\n",
              "      <td>5662.000000</td>\n",
              "      <td>5345.000000</td>\n",
              "      <td>5427.000000</td>\n",
              "      <td>5427.000000</td>\n",
              "      <td>5368.000000</td>\n",
              "      <td>4732.000000</td>\n",
              "    </tr>\n",
              "    <tr>\n",
              "      <th>mean</th>\n",
              "      <td>88678.583435</td>\n",
              "      <td>1.336406</td>\n",
              "      <td>1.587522</td>\n",
              "      <td>3.911512</td>\n",
              "      <td>1.607149</td>\n",
              "      <td>1.518919</td>\n",
              "      <td>48.052310</td>\n",
              "      <td>3.042371</td>\n",
              "      <td>1.185385</td>\n",
              "      <td>3.441725</td>\n",
              "      <td>2.628608</td>\n",
              "      <td>3.323801</td>\n",
              "      <td>40312.412352</td>\n",
              "      <td>1.487881</td>\n",
              "      <td>126.236617</td>\n",
              "      <td>2.403204</td>\n",
              "      <td>125.084614</td>\n",
              "      <td>69.516386</td>\n",
              "      <td>124.783017</td>\n",
              "      <td>69.346703</td>\n",
              "      <td>81.342676</td>\n",
              "      <td>166.142834</td>\n",
              "      <td>29.382197</td>\n",
              "      <td>38.576782</td>\n",
              "      <td>37.146987</td>\n",
              "      <td>33.112235</td>\n",
              "      <td>99.567213</td>\n",
              "      <td>1.915469</td>\n",
              "    </tr>\n",
              "    <tr>\n",
              "      <th>std</th>\n",
              "      <td>2882.139237</td>\n",
              "      <td>0.505514</td>\n",
              "      <td>0.623940</td>\n",
              "      <td>34.341839</td>\n",
              "      <td>0.571975</td>\n",
              "      <td>0.499686</td>\n",
              "      <td>18.431011</td>\n",
              "      <td>1.296793</td>\n",
              "      <td>0.491678</td>\n",
              "      <td>1.309700</td>\n",
              "      <td>2.366786</td>\n",
              "      <td>1.724670</td>\n",
              "      <td>38768.921774</td>\n",
              "      <td>0.499897</td>\n",
              "      <td>4.244406</td>\n",
              "      <td>1.601995</td>\n",
              "      <td>18.480873</td>\n",
              "      <td>12.881575</td>\n",
              "      <td>18.527012</td>\n",
              "      <td>13.022829</td>\n",
              "      <td>21.764409</td>\n",
              "      <td>10.079264</td>\n",
              "      <td>7.095921</td>\n",
              "      <td>3.873018</td>\n",
              "      <td>2.800784</td>\n",
              "      <td>5.268027</td>\n",
              "      <td>16.844109</td>\n",
              "      <td>0.414845</td>\n",
              "    </tr>\n",
              "    <tr>\n",
              "      <th>min</th>\n",
              "      <td>83732.000000</td>\n",
              "      <td>1.000000</td>\n",
              "      <td>1.000000</td>\n",
              "      <td>1.000000</td>\n",
              "      <td>1.000000</td>\n",
              "      <td>1.000000</td>\n",
              "      <td>18.000000</td>\n",
              "      <td>1.000000</td>\n",
              "      <td>1.000000</td>\n",
              "      <td>1.000000</td>\n",
              "      <td>1.000000</td>\n",
              "      <td>1.000000</td>\n",
              "      <td>5330.960000</td>\n",
              "      <td>1.000000</td>\n",
              "      <td>119.000000</td>\n",
              "      <td>0.000000</td>\n",
              "      <td>82.000000</td>\n",
              "      <td>0.000000</td>\n",
              "      <td>84.000000</td>\n",
              "      <td>0.000000</td>\n",
              "      <td>32.400000</td>\n",
              "      <td>129.700000</td>\n",
              "      <td>14.500000</td>\n",
              "      <td>26.000000</td>\n",
              "      <td>28.200000</td>\n",
              "      <td>17.100000</td>\n",
              "      <td>58.700000</td>\n",
              "      <td>1.000000</td>\n",
              "    </tr>\n",
              "    <tr>\n",
              "      <th>25%</th>\n",
              "      <td>86164.000000</td>\n",
              "      <td>1.000000</td>\n",
              "      <td>1.000000</td>\n",
              "      <td>1.000000</td>\n",
              "      <td>1.000000</td>\n",
              "      <td>1.000000</td>\n",
              "      <td>32.000000</td>\n",
              "      <td>2.000000</td>\n",
              "      <td>1.000000</td>\n",
              "      <td>3.000000</td>\n",
              "      <td>1.000000</td>\n",
              "      <td>2.000000</td>\n",
              "      <td>17164.085000</td>\n",
              "      <td>1.000000</td>\n",
              "      <td>123.000000</td>\n",
              "      <td>1.060000</td>\n",
              "      <td>112.000000</td>\n",
              "      <td>62.000000</td>\n",
              "      <td>112.000000</td>\n",
              "      <td>62.000000</td>\n",
              "      <td>65.900000</td>\n",
              "      <td>158.700000</td>\n",
              "      <td>24.300000</td>\n",
              "      <td>36.000000</td>\n",
              "      <td>35.200000</td>\n",
              "      <td>29.500000</td>\n",
              "      <td>87.600000</td>\n",
              "      <td>2.000000</td>\n",
              "    </tr>\n",
              "    <tr>\n",
              "      <th>50%</th>\n",
              "      <td>88668.000000</td>\n",
              "      <td>1.000000</td>\n",
              "      <td>2.000000</td>\n",
              "      <td>2.000000</td>\n",
              "      <td>2.000000</td>\n",
              "      <td>2.000000</td>\n",
              "      <td>48.000000</td>\n",
              "      <td>3.000000</td>\n",
              "      <td>1.000000</td>\n",
              "      <td>4.000000</td>\n",
              "      <td>1.000000</td>\n",
              "      <td>3.000000</td>\n",
              "      <td>24654.860000</td>\n",
              "      <td>1.000000</td>\n",
              "      <td>126.000000</td>\n",
              "      <td>1.980000</td>\n",
              "      <td>122.000000</td>\n",
              "      <td>70.000000</td>\n",
              "      <td>122.000000</td>\n",
              "      <td>70.000000</td>\n",
              "      <td>78.200000</td>\n",
              "      <td>166.000000</td>\n",
              "      <td>28.300000</td>\n",
              "      <td>38.600000</td>\n",
              "      <td>37.100000</td>\n",
              "      <td>32.700000</td>\n",
              "      <td>98.300000</td>\n",
              "      <td>2.000000</td>\n",
              "    </tr>\n",
              "    <tr>\n",
              "      <th>75%</th>\n",
              "      <td>91178.500000</td>\n",
              "      <td>2.000000</td>\n",
              "      <td>2.000000</td>\n",
              "      <td>3.000000</td>\n",
              "      <td>2.000000</td>\n",
              "      <td>2.000000</td>\n",
              "      <td>63.000000</td>\n",
              "      <td>4.000000</td>\n",
              "      <td>1.000000</td>\n",
              "      <td>4.750000</td>\n",
              "      <td>5.000000</td>\n",
              "      <td>5.000000</td>\n",
              "      <td>42862.305000</td>\n",
              "      <td>2.000000</td>\n",
              "      <td>130.000000</td>\n",
              "      <td>3.740000</td>\n",
              "      <td>134.000000</td>\n",
              "      <td>78.000000</td>\n",
              "      <td>134.000000</td>\n",
              "      <td>78.000000</td>\n",
              "      <td>92.700000</td>\n",
              "      <td>173.500000</td>\n",
              "      <td>33.000000</td>\n",
              "      <td>41.200000</td>\n",
              "      <td>39.000000</td>\n",
              "      <td>36.200000</td>\n",
              "      <td>109.300000</td>\n",
              "      <td>2.000000</td>\n",
              "    </tr>\n",
              "    <tr>\n",
              "      <th>max</th>\n",
              "      <td>93702.000000</td>\n",
              "      <td>9.000000</td>\n",
              "      <td>9.000000</td>\n",
              "      <td>999.000000</td>\n",
              "      <td>9.000000</td>\n",
              "      <td>2.000000</td>\n",
              "      <td>80.000000</td>\n",
              "      <td>5.000000</td>\n",
              "      <td>9.000000</td>\n",
              "      <td>9.000000</td>\n",
              "      <td>77.000000</td>\n",
              "      <td>7.000000</td>\n",
              "      <td>233755.840000</td>\n",
              "      <td>2.000000</td>\n",
              "      <td>133.000000</td>\n",
              "      <td>5.000000</td>\n",
              "      <td>236.000000</td>\n",
              "      <td>120.000000</td>\n",
              "      <td>238.000000</td>\n",
              "      <td>144.000000</td>\n",
              "      <td>198.900000</td>\n",
              "      <td>202.700000</td>\n",
              "      <td>67.300000</td>\n",
              "      <td>51.500000</td>\n",
              "      <td>47.400000</td>\n",
              "      <td>58.400000</td>\n",
              "      <td>171.600000</td>\n",
              "      <td>9.000000</td>\n",
              "    </tr>\n",
              "  </tbody>\n",
              "</table>\n",
              "</div>"
            ],
            "text/plain": [
              "               SEQN       ALQ101  ...     BMXWAIST       HIQ210\n",
              "count   5735.000000  5208.000000  ...  5368.000000  4732.000000\n",
              "mean   88678.583435     1.336406  ...    99.567213     1.915469\n",
              "std     2882.139237     0.505514  ...    16.844109     0.414845\n",
              "min    83732.000000     1.000000  ...    58.700000     1.000000\n",
              "25%    86164.000000     1.000000  ...    87.600000     2.000000\n",
              "50%    88668.000000     1.000000  ...    98.300000     2.000000\n",
              "75%    91178.500000     2.000000  ...   109.300000     2.000000\n",
              "max    93702.000000     9.000000  ...   171.600000     9.000000\n",
              "\n",
              "[8 rows x 28 columns]"
            ]
          },
          "metadata": {
            "tags": []
          },
          "execution_count": 41
        }
      ]
    },
    {
      "cell_type": "code",
      "metadata": {
        "colab": {
          "base_uri": "https://localhost:8080/"
        },
        "id": "VMoszvi75cse",
        "outputId": "1a15063a-a11a-432b-983e-7c048393b8f5"
      },
      "source": [
        "print(sorted(df))\n",
        "print(list(df.columns))"
      ],
      "execution_count": null,
      "outputs": [
        {
          "output_type": "stream",
          "text": [
            "['ALQ101', 'ALQ110', 'ALQ130', 'BMXARMC', 'BMXARML', 'BMXBMI', 'BMXHT', 'BMXLEG', 'BMXWAIST', 'BMXWT', 'BPXDI1', 'BPXDI2', 'BPXSY1', 'BPXSY2', 'DMDCITZN', 'DMDEDUC2', 'DMDHHSIZ', 'DMDMARTL', 'HIQ210', 'INDFMPIR', 'RIAGENDR', 'RIDAGEYR', 'RIDRETH1', 'SDMVPSU', 'SDMVSTRA', 'SEQN', 'SMQ020', 'WTINT2YR']\n",
            "['SEQN', 'ALQ101', 'ALQ110', 'ALQ130', 'SMQ020', 'RIAGENDR', 'RIDAGEYR', 'RIDRETH1', 'DMDCITZN', 'DMDEDUC2', 'DMDMARTL', 'DMDHHSIZ', 'WTINT2YR', 'SDMVPSU', 'SDMVSTRA', 'INDFMPIR', 'BPXSY1', 'BPXDI1', 'BPXSY2', 'BPXDI2', 'BMXWT', 'BMXHT', 'BMXBMI', 'BMXLEG', 'BMXARML', 'BMXARMC', 'BMXWAIST', 'HIQ210']\n"
          ],
          "name": "stdout"
        }
      ]
    },
    {
      "cell_type": "markdown",
      "metadata": {
        "id": "KBE6dcS36irL"
      },
      "source": [
        "**Frequency Counts**"
      ]
    },
    {
      "cell_type": "code",
      "metadata": {
        "colab": {
          "base_uri": "https://localhost:8080/"
        },
        "id": "AwheP09M5u9n",
        "outputId": "74ffd66f-badf-44e9-8026-1372d6da7bc6"
      },
      "source": [
        "df.DMDEDUC2.value_counts()"
      ],
      "execution_count": null,
      "outputs": [
        {
          "output_type": "execute_result",
          "data": {
            "text/plain": [
              "4.0    1621\n",
              "5.0    1366\n",
              "3.0    1186\n",
              "1.0     655\n",
              "2.0     643\n",
              "9.0       3\n",
              "Name: DMDEDUC2, dtype: int64"
            ]
          },
          "metadata": {
            "tags": []
          },
          "execution_count": 43
        }
      ]
    },
    {
      "cell_type": "code",
      "metadata": {
        "colab": {
          "base_uri": "https://localhost:8080/",
          "height": 254
        },
        "id": "S-77rSYB6tDx",
        "outputId": "0294377f-6a90-4ed2-e3d3-c56de30e808e"
      },
      "source": [
        "##alternate methods for frequencies across multiple columns\n",
        "#1-\n",
        "#df[['DMDEDUC2','DMDMARTL','ALQ130']].value_counts(sort=False)\n",
        "#2-\n",
        "pd.crosstab(df.DMDEDUC2,df.DMDMARTL , normalize=True)"
      ],
      "execution_count": null,
      "outputs": [
        {
          "output_type": "execute_result",
          "data": {
            "text/html": [
              "<div>\n",
              "<style scoped>\n",
              "    .dataframe tbody tr th:only-of-type {\n",
              "        vertical-align: middle;\n",
              "    }\n",
              "\n",
              "    .dataframe tbody tr th {\n",
              "        vertical-align: top;\n",
              "    }\n",
              "\n",
              "    .dataframe thead th {\n",
              "        text-align: right;\n",
              "    }\n",
              "</style>\n",
              "<table border=\"1\" class=\"dataframe\">\n",
              "  <thead>\n",
              "    <tr style=\"text-align: right;\">\n",
              "      <th>DMDMARTL</th>\n",
              "      <th>1.0</th>\n",
              "      <th>2.0</th>\n",
              "      <th>3.0</th>\n",
              "      <th>4.0</th>\n",
              "      <th>5.0</th>\n",
              "      <th>6.0</th>\n",
              "      <th>77.0</th>\n",
              "    </tr>\n",
              "    <tr>\n",
              "      <th>DMDEDUC2</th>\n",
              "      <th></th>\n",
              "      <th></th>\n",
              "      <th></th>\n",
              "      <th></th>\n",
              "      <th></th>\n",
              "      <th></th>\n",
              "      <th></th>\n",
              "    </tr>\n",
              "  </thead>\n",
              "  <tbody>\n",
              "    <tr>\n",
              "      <th>1.0</th>\n",
              "      <td>0.062294</td>\n",
              "      <td>0.016076</td>\n",
              "      <td>0.009499</td>\n",
              "      <td>0.007855</td>\n",
              "      <td>0.011874</td>\n",
              "      <td>0.012057</td>\n",
              "      <td>0.000000</td>\n",
              "    </tr>\n",
              "    <tr>\n",
              "      <th>2.0</th>\n",
              "      <td>0.055718</td>\n",
              "      <td>0.007307</td>\n",
              "      <td>0.011326</td>\n",
              "      <td>0.007125</td>\n",
              "      <td>0.021374</td>\n",
              "      <td>0.014615</td>\n",
              "      <td>0.000000</td>\n",
              "    </tr>\n",
              "    <tr>\n",
              "      <th>3.0</th>\n",
              "      <td>0.100475</td>\n",
              "      <td>0.018085</td>\n",
              "      <td>0.023201</td>\n",
              "      <td>0.007307</td>\n",
              "      <td>0.043296</td>\n",
              "      <td>0.024297</td>\n",
              "      <td>0.000000</td>\n",
              "    </tr>\n",
              "    <tr>\n",
              "      <th>4.0</th>\n",
              "      <td>0.138290</td>\n",
              "      <td>0.019730</td>\n",
              "      <td>0.039642</td>\n",
              "      <td>0.007673</td>\n",
              "      <td>0.060650</td>\n",
              "      <td>0.029777</td>\n",
              "      <td>0.000365</td>\n",
              "    </tr>\n",
              "    <tr>\n",
              "      <th>5.0</th>\n",
              "      <td>0.151078</td>\n",
              "      <td>0.010778</td>\n",
              "      <td>0.021922</td>\n",
              "      <td>0.004019</td>\n",
              "      <td>0.046218</td>\n",
              "      <td>0.015528</td>\n",
              "      <td>0.000000</td>\n",
              "    </tr>\n",
              "    <tr>\n",
              "      <th>9.0</th>\n",
              "      <td>0.000000</td>\n",
              "      <td>0.000365</td>\n",
              "      <td>0.000183</td>\n",
              "      <td>0.000000</td>\n",
              "      <td>0.000000</td>\n",
              "      <td>0.000000</td>\n",
              "      <td>0.000000</td>\n",
              "    </tr>\n",
              "  </tbody>\n",
              "</table>\n",
              "</div>"
            ],
            "text/plain": [
              "DMDMARTL      1.0       2.0       3.0       4.0       5.0       6.0       77.0\n",
              "DMDEDUC2                                                                      \n",
              "1.0       0.062294  0.016076  0.009499  0.007855  0.011874  0.012057  0.000000\n",
              "2.0       0.055718  0.007307  0.011326  0.007125  0.021374  0.014615  0.000000\n",
              "3.0       0.100475  0.018085  0.023201  0.007307  0.043296  0.024297  0.000000\n",
              "4.0       0.138290  0.019730  0.039642  0.007673  0.060650  0.029777  0.000365\n",
              "5.0       0.151078  0.010778  0.021922  0.004019  0.046218  0.015528  0.000000\n",
              "9.0       0.000000  0.000365  0.000183  0.000000  0.000000  0.000000  0.000000"
            ]
          },
          "metadata": {
            "tags": []
          },
          "execution_count": 44
        }
      ]
    },
    {
      "cell_type": "code",
      "metadata": {
        "colab": {
          "base_uri": "https://localhost:8080/"
        },
        "id": "rIt072UB7IRC",
        "outputId": "208a12f4-523e-4265-f724-bcd5a83fad1f"
      },
      "source": [
        "df['DMDEDUC2'].value_counts()"
      ],
      "execution_count": null,
      "outputs": [
        {
          "output_type": "execute_result",
          "data": {
            "text/plain": [
              "4.0    1621\n",
              "5.0    1366\n",
              "3.0    1186\n",
              "1.0     655\n",
              "2.0     643\n",
              "9.0       3\n",
              "Name: DMDEDUC2, dtype: int64"
            ]
          },
          "metadata": {
            "tags": []
          },
          "execution_count": 45
        }
      ]
    },
    {
      "cell_type": "code",
      "metadata": {
        "colab": {
          "base_uri": "https://localhost:8080/"
        },
        "id": "LS6n46RCDK5e",
        "outputId": "9447c5fa-2cc8-4cef-9290-ab03964f889f"
      },
      "source": [
        "df['DMDEDUC2'].value_counts().sum()"
      ],
      "execution_count": null,
      "outputs": [
        {
          "output_type": "execute_result",
          "data": {
            "text/plain": [
              "5474"
            ]
          },
          "metadata": {
            "tags": []
          },
          "execution_count": 46
        }
      ]
    },
    {
      "cell_type": "code",
      "metadata": {
        "colab": {
          "base_uri": "https://localhost:8080/"
        },
        "id": "IB2r8xH6DQXg",
        "outputId": "c2c4cbb4-26a5-4ff5-d8f0-5fc5aad8324e"
      },
      "source": [
        "#To find total values that are missing:\n",
        "pd.isnull(df.DMDEDUC2).sum()"
      ],
      "execution_count": null,
      "outputs": [
        {
          "output_type": "execute_result",
          "data": {
            "text/plain": [
              "261"
            ]
          },
          "metadata": {
            "tags": []
          },
          "execution_count": 47
        }
      ]
    },
    {
      "cell_type": "code",
      "metadata": {
        "colab": {
          "base_uri": "https://localhost:8080/"
        },
        "id": "EZ23NtrLES04",
        "outputId": "41a59c8f-f4fe-4f72-9b64-b8f3a4374efd"
      },
      "source": [
        "#Create a new column with different values\n",
        "df['DMDEDUC2x']=df.DMDEDUC2.replace({1:\"<9\" ,2:\"9-11\" ,3:\"HS/GED\" ,4:\"Some College/AA\" ,5:\"College\" ,6:\"Refused\" ,7:\"Don't Know\"})\n",
        "df[['DMDEDUC2x']].value_counts()"
      ],
      "execution_count": null,
      "outputs": [
        {
          "output_type": "execute_result",
          "data": {
            "text/plain": [
              "DMDEDUC2x      \n",
              "Some College/AA    1621\n",
              "College            1366\n",
              "HS/GED             1186\n",
              "<9                  655\n",
              "9-11                643\n",
              "9.0                   3\n",
              "dtype: int64"
            ]
          },
          "metadata": {
            "tags": []
          },
          "execution_count": 48
        }
      ]
    },
    {
      "cell_type": "code",
      "metadata": {
        "colab": {
          "base_uri": "https://localhost:8080/"
        },
        "id": "zigJW-lhHkxI",
        "outputId": "44364688-1619-4186-eeb8-6a4c767c3d7e"
      },
      "source": [
        "x=df[['DMDEDUC2x']].value_counts()\n",
        "x/x.sum()"
      ],
      "execution_count": null,
      "outputs": [
        {
          "output_type": "execute_result",
          "data": {
            "text/plain": [
              "DMDEDUC2x      \n",
              "Some College/AA    0.296127\n",
              "College            0.249543\n",
              "HS/GED             0.216661\n",
              "<9                 0.119657\n",
              "9-11               0.117464\n",
              "9.0                0.000548\n",
              "dtype: float64"
            ]
          },
          "metadata": {
            "tags": []
          },
          "execution_count": 49
        }
      ]
    },
    {
      "cell_type": "code",
      "metadata": {
        "colab": {
          "base_uri": "https://localhost:8080/"
        },
        "id": "BY_3m7RfInOE",
        "outputId": "4b8d4ee8-39bd-4a74-e86b-fb062b14c41d"
      },
      "source": [
        "df['RIAGENDRx']=df.RIAGENDR.replace({1:'Male' ,2:'Female'})\n",
        "df['RIAGENDRx'].value_counts()"
      ],
      "execution_count": null,
      "outputs": [
        {
          "output_type": "execute_result",
          "data": {
            "text/plain": [
              "Female    2976\n",
              "Male      2759\n",
              "Name: RIAGENDRx, dtype: int64"
            ]
          },
          "metadata": {
            "tags": []
          },
          "execution_count": 50
        }
      ]
    },
    {
      "cell_type": "code",
      "metadata": {
        "colab": {
          "base_uri": "https://localhost:8080/"
        },
        "id": "cMy_qTFaKUQX",
        "outputId": "e86b5845-4f99-42a8-ecc6-601465ce0aeb"
      },
      "source": [
        "y=df['RIAGENDRx'].value_counts()\n",
        "y/y.sum()"
      ],
      "execution_count": null,
      "outputs": [
        {
          "output_type": "execute_result",
          "data": {
            "text/plain": [
              "Female    0.518919\n",
              "Male      0.481081\n",
              "Name: RIAGENDRx, dtype: float64"
            ]
          },
          "metadata": {
            "tags": []
          },
          "execution_count": 51
        }
      ]
    },
    {
      "cell_type": "markdown",
      "metadata": {
        "id": "SObAsCZULKEV"
      },
      "source": [
        "**Numerical Summaries**\n",
        "\n",
        "A quick way to get a set of numerical summaries for a quantitative variable is with the describe data frame method. Below we demonstrate how to dp this using the body weight variable-BMXWT. As with many surveys some data values are missing, so we explicitly drop the missing cases using the **dropna** method before generating the summaries. "
      ]
    },
    {
      "cell_type": "code",
      "metadata": {
        "colab": {
          "base_uri": "https://localhost:8080/"
        },
        "id": "YH-z_-zTJnbv",
        "outputId": "070a6de0-14da-4d38-f397-878031e38581"
      },
      "source": [
        "df['BMXWT'].value_counts(bins=5)"
      ],
      "execution_count": null,
      "outputs": [
        {
          "output_type": "execute_result",
          "data": {
            "text/plain": [
              "(65.7, 99.0]                  3249\n",
              "(32.233000000000004, 65.7]    1391\n",
              "(99.0, 132.3]                  861\n",
              "(132.3, 165.6]                 146\n",
              "(165.6, 198.9]                  19\n",
              "Name: BMXWT, dtype: int64"
            ]
          },
          "metadata": {
            "tags": []
          },
          "execution_count": 52
        }
      ]
    },
    {
      "cell_type": "code",
      "metadata": {
        "colab": {
          "base_uri": "https://localhost:8080/"
        },
        "id": "Fe9HxA0aKN53",
        "outputId": "0052634d-0865-43c7-b413-2ed19cf686b5"
      },
      "source": [
        "df.BMXWT.isnull().sum()"
      ],
      "execution_count": null,
      "outputs": [
        {
          "output_type": "execute_result",
          "data": {
            "text/plain": [
              "69"
            ]
          },
          "metadata": {
            "tags": []
          },
          "execution_count": 53
        }
      ]
    },
    {
      "cell_type": "code",
      "metadata": {
        "colab": {
          "base_uri": "https://localhost:8080/"
        },
        "id": "CeALfsNaY1xI",
        "outputId": "0fe18006-1d05-4ce6-fe2d-384fd13e8c38"
      },
      "source": [
        "df.BMXWT.dropna().describe()"
      ],
      "execution_count": null,
      "outputs": [
        {
          "output_type": "execute_result",
          "data": {
            "text/plain": [
              "count    5666.000000\n",
              "mean       81.342676\n",
              "std        21.764409\n",
              "min        32.400000\n",
              "25%        65.900000\n",
              "50%        78.200000\n",
              "75%        92.700000\n",
              "max       198.900000\n",
              "Name: BMXWT, dtype: float64"
            ]
          },
          "metadata": {
            "tags": []
          },
          "execution_count": 54
        }
      ]
    },
    {
      "cell_type": "code",
      "metadata": {
        "colab": {
          "base_uri": "https://localhost:8080/"
        },
        "id": "8R5Yfu9nZBTl",
        "outputId": "b74157f6-2ad9-491d-e667-dedbc845950f"
      },
      "source": [
        "df.BMXWT.describe()"
      ],
      "execution_count": null,
      "outputs": [
        {
          "output_type": "execute_result",
          "data": {
            "text/plain": [
              "count    5666.000000\n",
              "mean       81.342676\n",
              "std        21.764409\n",
              "min        32.400000\n",
              "25%        65.900000\n",
              "50%        78.200000\n",
              "75%        92.700000\n",
              "max       198.900000\n",
              "Name: BMXWT, dtype: float64"
            ]
          },
          "metadata": {
            "tags": []
          },
          "execution_count": 55
        }
      ]
    },
    {
      "cell_type": "code",
      "metadata": {
        "id": "P_sYBmx2ZGER"
      },
      "source": [
        "x=df.BMXWT.dropna()"
      ],
      "execution_count": null,
      "outputs": []
    },
    {
      "cell_type": "code",
      "metadata": {
        "colab": {
          "base_uri": "https://localhost:8080/"
        },
        "id": "U30diH6_aPl3",
        "outputId": "ae41c255-8299-4840-c766-ef2c9d74c057"
      },
      "source": [
        "print(x.mean()) ##Pandas Method\n",
        "print(np.mean(x)) ##Numpy Method"
      ],
      "execution_count": null,
      "outputs": [
        {
          "output_type": "stream",
          "text": [
            "81.34267560889509\n",
            "81.34267560889509\n"
          ],
          "name": "stdout"
        }
      ]
    },
    {
      "cell_type": "code",
      "metadata": {
        "colab": {
          "base_uri": "https://localhost:8080/"
        },
        "id": "sWkHCgEtaSBY",
        "outputId": "bd17b92a-c5c2-41a0-c089-61552df3fecc"
      },
      "source": [
        "print(x.median())\n",
        "print(np.median(x))"
      ],
      "execution_count": null,
      "outputs": [
        {
          "output_type": "stream",
          "text": [
            "78.2\n",
            "78.2\n"
          ],
          "name": "stdout"
        }
      ]
    },
    {
      "cell_type": "code",
      "metadata": {
        "id": "yRpEURaTa4Os",
        "colab": {
          "base_uri": "https://localhost:8080/"
        },
        "outputId": "ffb9c03c-3cfb-41d4-8245-07fde4979ec2"
      },
      "source": [
        "print(x.quantile(0.5))\n",
        "print(np.percentile(x,50))"
      ],
      "execution_count": null,
      "outputs": [
        {
          "output_type": "stream",
          "text": [
            "78.2\n",
            "78.2\n"
          ],
          "name": "stdout"
        }
      ]
    },
    {
      "cell_type": "code",
      "metadata": {
        "colab": {
          "base_uri": "https://localhost:8080/"
        },
        "id": "MrgGml3Mg09l",
        "outputId": "8f5f32da-2b35-4041-e244-3897aad5529f"
      },
      "source": [
        "print(x.quantile(0.82))\n",
        "print(np.percentile(x,82))\n",
        "\n",
        "print(x.quantile(0.99))\n",
        "print(np.percentile(x,99))"
      ],
      "execution_count": null,
      "outputs": [
        {
          "output_type": "stream",
          "text": [
            "99.1\n",
            "99.1\n",
            "147.67000000000007\n",
            "147.67000000000007\n"
          ],
          "name": "stdout"
        }
      ]
    },
    {
      "cell_type": "code",
      "metadata": {
        "colab": {
          "base_uri": "https://localhost:8080/"
        },
        "id": "qcHeKqw6hFh5",
        "outputId": "ff359279-56d4-4421-bd02-3d105fcce99c"
      },
      "source": [
        "#Find alternative way to do this using pandas\n",
        "np.mean((df.BPXSY1>=120)&(df.BPXSY2<=139))"
      ],
      "execution_count": null,
      "outputs": [
        {
          "output_type": "execute_result",
          "data": {
            "text/plain": [
              "0.3741935483870968"
            ]
          },
          "metadata": {
            "tags": []
          },
          "execution_count": 61
        }
      ]
    },
    {
      "cell_type": "code",
      "metadata": {
        "colab": {
          "base_uri": "https://localhost:8080/"
        },
        "id": "t8jIB3U6hzb_",
        "outputId": "a9583005-4ca7-4862-bc0b-a2bdc9d3969e"
      },
      "source": [
        "np.sum((df.BPXSY1>=120)&(df.BPXSY1<=139))"
      ],
      "execution_count": null,
      "outputs": [
        {
          "output_type": "execute_result",
          "data": {
            "text/plain": [
              "2104"
            ]
          },
          "metadata": {
            "tags": []
          },
          "execution_count": 62
        }
      ]
    },
    {
      "cell_type": "code",
      "metadata": {
        "colab": {
          "base_uri": "https://localhost:8080/"
        },
        "id": "rp77ncrch2iK",
        "outputId": "4b7c8472-4b6f-485e-894c-e30ec3f5261c"
      },
      "source": [
        "#Proportion of NHANES subjects who are pre-hypertensive based on diastolic blood pressure.\n",
        "np.mean((df.BPXDI1 >= 80 ) & (df.BPXDI2 <= 89))"
      ],
      "execution_count": null,
      "outputs": [
        {
          "output_type": "execute_result",
          "data": {
            "text/plain": [
              "0.14803836094158676"
            ]
          },
          "metadata": {
            "tags": []
          },
          "execution_count": 64
        }
      ]
    },
    {
      "cell_type": "markdown",
      "metadata": {
        "id": "-DfBGf6PlGZa"
      },
      "source": [
        "Now we calculate proportion of NHANES subjects who are pre-hypertensive based on either systolic or diastolic blood pressure. Since some people are pre-hypertensive under both criteria, the proportion below is less than the sume of the two proportions calculated above.\n",
        "\n",
        "Since the combined systolic and diastolic condition for pre-hypertension is somewhat complex, below we construct temporary variables 'a' and 'b' that hold the systolic and diastolic pre-hypertensive status separately, then combine tehm with a \"logical or\" to obtain the final status for each subject."
      ]
    },
    {
      "cell_type": "code",
      "metadata": {
        "id": "iVZaXhwYiIaT",
        "colab": {
          "base_uri": "https://localhost:8080/"
        },
        "outputId": "24f0aab5-e46e-4bac-fccb-651a07531818"
      },
      "source": [
        "a=(df.BPXSY1 >= 120) & (df.BPXSY2 <=139)\n",
        "print(a.value_counts())\n",
        "b=(df.BPXDI1 >= 80) & (df.BPXDI2 <= 89)\n",
        "print(b.value_counts())\n",
        "\n",
        "print(np.mean(a|b))"
      ],
      "execution_count": null,
      "outputs": [
        {
          "output_type": "stream",
          "text": [
            "False    3589\n",
            "True     2146\n",
            "dtype: int64\n",
            "False    4886\n",
            "True      849\n",
            "dtype: int64\n",
            "0.43975588491717527\n"
          ],
          "name": "stdout"
        }
      ]
    },
    {
      "cell_type": "code",
      "metadata": {
        "colab": {
          "base_uri": "https://localhost:8080/"
        },
        "id": "A-V9zb0Zl_Xi",
        "outputId": "ef530bd1-f092-4339-8ebe-cc5113bb39bc"
      },
      "source": [
        "print(np.mean(df.BPXSY1 -  df.BPXSY2))\n",
        "print(np.mean(df.BPXDI1 - df.BPXDI2))"
      ],
      "execution_count": null,
      "outputs": [
        {
          "output_type": "stream",
          "text": [
            "0.6749860309182343\n",
            "0.3490407897187558\n"
          ],
          "name": "stdout"
        }
      ]
    },
    {
      "cell_type": "code",
      "metadata": {
        "colab": {
          "base_uri": "https://localhost:8080/",
          "height": 333
        },
        "id": "LCmB6b1jn1KP",
        "outputId": "17fcec6c-d4f9-4e59-a9a2-fcc502526737"
      },
      "source": [
        "sns.distplot(df.BMXWT.dropna())\n",
        "plt.show()"
      ],
      "execution_count": null,
      "outputs": [
        {
          "output_type": "stream",
          "text": [
            "/usr/local/lib/python3.7/dist-packages/seaborn/distributions.py:2557: FutureWarning: `distplot` is a deprecated function and will be removed in a future version. Please adapt your code to use either `displot` (a figure-level function with similar flexibility) or `histplot` (an axes-level function for histograms).\n",
            "  warnings.warn(msg, FutureWarning)\n"
          ],
          "name": "stderr"
        },
        {
          "output_type": "display_data",
          "data": {
            "image/png": "[encoded data removed]",
            "text/plain": [
              "<Figure size 432x288 with 1 Axes>"
            ]
          },
          "metadata": {
            "tags": [],
            "needs_background": "light"
          }
        }
      ]
    },
    {
      "cell_type": "code",
      "metadata": {
        "colab": {
          "base_uri": "https://localhost:8080/",
          "height": 279
        },
        "id": "TuSm-_dYoIca",
        "outputId": "a8634164-cb26-4af5-cccb-5436f37f03c1"
      },
      "source": [
        "#Next we look at the histogram of systolic blood pressue measurements. You can see that there is a tendency for the measurements to be rounded to the nearest 5 to 10 units.\n",
        "sns.histplot(df.BPXSY1.dropna())\n",
        "plt.show()"
      ],
      "execution_count": null,
      "outputs": [
        {
          "output_type": "display_data",
          "data": {
            "image/png": "[encoded data removed]",
            "text/plain": [
              "<Figure size 432x288 with 1 Axes>"
            ]
          },
          "metadata": {
            "tags": [],
            "needs_background": "light"
          }
        }
      ]
    },
    {
      "cell_type": "code",
      "metadata": {
        "colab": {
          "base_uri": "https://localhost:8080/",
          "height": 333
        },
        "id": "K-MdihvZoWgd",
        "outputId": "a1f45e0a-b81f-4e95-bc16-96765ed3e567"
      },
      "source": [
        "sns.distplot(df.BPXSY1.dropna())\n",
        "plt.show()"
      ],
      "execution_count": null,
      "outputs": [
        {
          "output_type": "stream",
          "text": [
            "/usr/local/lib/python3.7/dist-packages/seaborn/distributions.py:2557: FutureWarning: `distplot` is a deprecated function and will be removed in a future version. Please adapt your code to use either `displot` (a figure-level function with similar flexibility) or `histplot` (an axes-level function for histograms).\n",
            "  warnings.warn(msg, FutureWarning)\n"
          ],
          "name": "stderr"
        },
        {
          "output_type": "display_data",
          "data": {
            "image/png": "[encoded data removed]",
            "text/plain": [
              "<Figure size 432x288 with 1 Axes>"
            ]
          },
          "metadata": {
            "tags": [],
            "needs_background": "light"
          }
        }
      ]
    },
    {
      "cell_type": "code",
      "metadata": {
        "colab": {
          "base_uri": "https://localhost:8080/",
          "height": 265
        },
        "id": "cZ4CC62bqJOz",
        "outputId": "901b71c6-e3fa-436b-a77a-4159dcd66eaf"
      },
      "source": [
        "bp=sns.boxplot(data=df.loc[:,[\"BPXSY1\",\"BPXSY2\",\"BPXDI1\", \"BPXDI2\"]])\n",
        "_ = bp.set_ylabel(\"Blood pressure in mm/Hg\")"
      ],
      "execution_count": null,
      "outputs": [
        {
          "output_type": "display_data",
          "data": {
            "image/png": "[encoded data removed]",
            "text/plain": [
              "<Figure size 432x288 with 1 Axes>"
            ]
          },
          "metadata": {
            "tags": [],
            "needs_background": "light"
          }
        }
      ]
    },
    {
      "cell_type": "markdown",
      "metadata": {
        "id": "fUqy-ZHdrKW6"
      },
      "source": [
        "**Stratification**\n",
        "\n",
        "One of the most effective ways to get more information out of a dataset is to divide it into smaller, more uniform subsets, and analyze each of these \"strata\" on its own. We can then formally or informally compare the findings in the different strata. \n",
        "\n",
        "When working with human subjects, it is very common to stratify on demographic factors such as age, sex and race. "
      ]
    },
    {
      "cell_type": "code",
      "metadata": {
        "colab": {
          "base_uri": "https://localhost:8080/",
          "height": 351
        },
        "id": "nwRvWkNMq4xQ",
        "outputId": "6ede56ed-064a-4eb9-8e59-7e4bd38ce4bd"
      },
      "source": [
        "df[\"agegrp\"]=pd.cut(df.RIDAGEYR, [18, 30, 40, 50, 60, 70,80])\n",
        "plt.figure(figsize=(12, 5))\n",
        "sns.boxplot(x='agegrp' , y='BPXSY1', data=df)"
      ],
      "execution_count": null,
      "outputs": [
        {
          "output_type": "execute_result",
          "data": {
            "text/plain": [
              "<matplotlib.axes._subplots.AxesSubplot at 0x7f56e16ac650>"
            ]
          },
          "metadata": {
            "tags": []
          },
          "execution_count": 92
        },
        {
          "output_type": "display_data",
          "data": {
            "image/png": "[encoded data removed]",
            "text/plain": [
              "<Figure size 864x360 with 1 Axes>"
            ]
          },
          "metadata": {
            "tags": [],
            "needs_background": "light"
          }
        }
      ]
    },
    {
      "cell_type": "code",
      "metadata": {
        "colab": {
          "base_uri": "https://localhost:8080/",
          "height": 351
        },
        "id": "nFygpWRMr0wK",
        "outputId": "a2981ddb-c390-44d8-c5f3-e3104736c136"
      },
      "source": [
        "df[\"agegrp\"]=pd.cut(df.RIDAGEYR, [18, 30, 40, 50, 60, 70,80])\n",
        "plt.figure(figsize=(12, 5))\n",
        "sns.boxplot(x='agegrp' , y='BPXSY1',hue='RIAGENDRx', data=df)"
      ],
      "execution_count": null,
      "outputs": [
        {
          "output_type": "execute_result",
          "data": {
            "text/plain": [
              "<matplotlib.axes._subplots.AxesSubplot at 0x7f56e1740a90>"
            ]
          },
          "metadata": {
            "tags": []
          },
          "execution_count": 94
        },
        {
          "output_type": "display_data",
          "data": {
            "image/png": "[encoded data removed]",
            "text/plain": [
              "<Figure size 864x360 with 1 Axes>"
            ]
          },
          "metadata": {
            "tags": [],
            "needs_background": "light"
          }
        }
      ]
    },
    {
      "cell_type": "code",
      "metadata": {
        "colab": {
          "base_uri": "https://localhost:8080/",
          "height": 351
        },
        "id": "ddNGhhf0r3ce",
        "outputId": "0b6f6529-922d-4b87-e002-89fc465c1324"
      },
      "source": [
        "df[\"agegrp\"]=pd.cut(df.RIDAGEYR, [18, 30, 40, 50, 60, 70,80])\n",
        "plt.figure(figsize=(12, 5))\n",
        "sns.boxplot(x='RIAGENDRx' , y='BPXSY1',hue='agegrp', data=df)"
      ],
      "execution_count": null,
      "outputs": [
        {
          "output_type": "execute_result",
          "data": {
            "text/plain": [
              "<matplotlib.axes._subplots.AxesSubplot at 0x7f56e17f4d50>"
            ]
          },
          "metadata": {
            "tags": []
          },
          "execution_count": 95
        },
        {
          "output_type": "display_data",
          "data": {
            "image/png": "[encoded data removed]",
            "text/plain": [
              "<Figure size 864x360 with 1 Axes>"
            ]
          },
          "metadata": {
            "tags": [],
            "needs_background": "light"
          }
        }
      ]
    },
    {
      "cell_type": "markdown",
      "metadata": {
        "id": "Oh1MMgOzwtPN"
      },
      "source": [
        "**Note on Causality and Confounding:**\n",
        "\n",
        "An important role of statistics is to aid researchers in identifying causes underlying observed differences. Here we have seen differences in both blood pressure and educational attainment based on age. It is plausible that agin directly causes blood pressure to increase. But in the case of educational attainment, this is actually a \"birth cohort effect\"."
      ]
    },
    {
      "cell_type": "code",
      "metadata": {
        "colab": {
          "base_uri": "https://localhost:8080/"
        },
        "id": "2MY_LyoLvosF",
        "outputId": "74b47732-4291-4791-8e18-36aa50935c4c"
      },
      "source": [
        "df.groupby(\"agegrp\")[\"DMDEDUC2x\"].value_counts()"
      ],
      "execution_count": null,
      "outputs": [
        {
          "output_type": "execute_result",
          "data": {
            "text/plain": [
              "agegrp    DMDEDUC2x      \n",
              "(18, 30]  Some College/AA    364\n",
              "          College            278\n",
              "          HS/GED             237\n",
              "          9-11                99\n",
              "          <9                  47\n",
              "(30, 40]  Some College/AA    282\n",
              "          College            264\n",
              "          HS/GED             182\n",
              "          9-11               111\n",
              "          <9                  93\n",
              "(40, 50]  Some College/AA    262\n",
              "          College            260\n",
              "          HS/GED             171\n",
              "          9-11               112\n",
              "          <9                  98\n",
              "(50, 60]  Some College/AA    258\n",
              "          College            220\n",
              "          HS/GED             220\n",
              "          9-11               122\n",
              "          <9                 104\n",
              "(60, 70]  Some College/AA    238\n",
              "          HS/GED             192\n",
              "          College            188\n",
              "          <9                 149\n",
              "          9-11               111\n",
              "(70, 80]  Some College/AA    217\n",
              "          HS/GED             184\n",
              "          <9                 164\n",
              "          College            156\n",
              "          9-11                88\n",
              "          9.0                  3\n",
              "Name: DMDEDUC2x, dtype: int64"
            ]
          },
          "metadata": {
            "tags": []
          },
          "execution_count": 96
        }
      ]
    },
    {
      "cell_type": "code",
      "metadata": {
        "colab": {
          "base_uri": "https://localhost:8080/"
        },
        "id": "XLcwb27Pxd99",
        "outputId": "f4aac6b5-dacc-4002-cc93-9958577f61e1"
      },
      "source": [
        "dx=df.loc[~df.DMDEDUC2x.isin([\"Don't Know\", \"Missing\"]),:] #Eliminate Rare Missing Values\n",
        "dx=dx.groupby([\"agegrp\",\"RIAGENDRx\"])[\"DMDEDUC2x\"]\n",
        "dx=dx.value_counts()\n",
        "print()\n",
        "print(dx)\n",
        "dx=dx.unstack()\n",
        "print()\n",
        "print(dx)\n",
        "print()\n",
        "dx=dx.apply(lambda x: x/x.sum(),axis=1)#Normalize within each stratum to get proportions\n",
        "print(dx.to_string(float_format=\"%.3f\"))#Limit display to 3 decimal places"
      ],
      "execution_count": null,
      "outputs": [
        {
          "output_type": "stream",
          "text": [
            "\n",
            "agegrp    RIAGENDRx  DMDEDUC2x      \n",
            "(18, 30]  Female     Some College/AA    207\n",
            "                     College            156\n",
            "                     HS/GED             119\n",
            "                     9-11                44\n",
            "                     <9                  27\n",
            "                                       ... \n",
            "(70, 80]  Male       College             95\n",
            "                     HS/GED              86\n",
            "                     <9                  72\n",
            "                     9-11                45\n",
            "                     9.0                  2\n",
            "Name: DMDEDUC2x, Length: 62, dtype: int64\n",
            "\n",
            "DMDEDUC2x           9.0  9-11    <9  College  HS/GED  Some College/AA\n",
            "agegrp   RIAGENDRx                                                   \n",
            "(18, 30] Female     NaN  44.0  27.0    156.0   119.0            207.0\n",
            "         Male       NaN  55.0  20.0    122.0   118.0            157.0\n",
            "(30, 40] Female     NaN  42.0  46.0    149.0    78.0            159.0\n",
            "         Male       NaN  69.0  47.0    115.0   104.0            123.0\n",
            "(40, 50] Female     NaN  55.0  53.0    150.0    87.0            157.0\n",
            "         Male       NaN  57.0  45.0    110.0    84.0            105.0\n",
            "(50, 60] Female     NaN  55.0  48.0    115.0   110.0            142.0\n",
            "         Male       NaN  67.0  56.0    105.0   110.0            116.0\n",
            "(60, 70] Female     NaN  52.0  83.0     86.0    91.0            129.0\n",
            "         Male       NaN  59.0  66.0    102.0   101.0            109.0\n",
            "(70, 80] Female     1.0  43.0  92.0     61.0    98.0            115.0\n",
            "         Male       2.0  45.0  72.0     95.0    86.0            102.0\n",
            "\n",
            "DMDEDUC2x            9.0  9-11    <9  College  HS/GED  Some College/AA\n",
            "agegrp   RIAGENDRx                                                    \n",
            "(18, 30] Female      NaN 0.080 0.049    0.282   0.215            0.374\n",
            "         Male        NaN 0.117 0.042    0.258   0.250            0.333\n",
            "(30, 40] Female      NaN 0.089 0.097    0.314   0.165            0.335\n",
            "         Male        NaN 0.151 0.103    0.251   0.227            0.269\n",
            "(40, 50] Female      NaN 0.110 0.106    0.299   0.173            0.313\n",
            "         Male        NaN 0.142 0.112    0.274   0.209            0.262\n",
            "(50, 60] Female      NaN 0.117 0.102    0.245   0.234            0.302\n",
            "         Male        NaN 0.148 0.123    0.231   0.242            0.256\n",
            "(60, 70] Female      NaN 0.118 0.188    0.195   0.206            0.293\n",
            "         Male        NaN 0.135 0.151    0.233   0.231            0.249\n",
            "(70, 80] Female    0.002 0.105 0.224    0.149   0.239            0.280\n",
            "         Male      0.005 0.112 0.179    0.236   0.214            0.254\n"
          ],
          "name": "stdout"
        }
      ]
    },
    {
      "cell_type": "code",
      "metadata": {
        "colab": {
          "base_uri": "https://localhost:8080/"
        },
        "id": "3NXolvy4x1Qh",
        "outputId": "046e0cdd-09bd-439d-94b2-c37952df0ee3"
      },
      "source": [
        "print(df.BPXSY2.median())"
      ],
      "execution_count": null,
      "outputs": [
        {
          "output_type": "stream",
          "text": [
            "122.0\n"
          ],
          "name": "stdout"
        }
      ]
    },
    {
      "cell_type": "code",
      "metadata": {
        "colab": {
          "base_uri": "https://localhost:8080/"
        },
        "id": "uooVTrxOzV1q",
        "outputId": "6b930275-9e17-43ec-84cc-4436d11eecd1"
      },
      "source": [
        "print(df.BPXSY2.mean())"
      ],
      "execution_count": null,
      "outputs": [
        {
          "output_type": "stream",
          "text": [
            "124.78301716350497\n"
          ],
          "name": "stdout"
        }
      ]
    },
    {
      "cell_type": "code",
      "metadata": {
        "colab": {
          "base_uri": "https://localhost:8080/"
        },
        "id": "1AKVEySbztiO",
        "outputId": "5d129992-705a-4a1c-d6a3-0bceed847c90"
      },
      "source": [
        "print(df.BPXSY2.std())"
      ],
      "execution_count": null,
      "outputs": [
        {
          "output_type": "stream",
          "text": [
            "18.527011720295047\n"
          ],
          "name": "stdout"
        }
      ]
    },
    {
      "cell_type": "code",
      "metadata": {
        "colab": {
          "base_uri": "https://localhost:8080/"
        },
        "id": "jdNAhZjlz1OK",
        "outputId": "dd270166-d06c-4668-b217-7604f8631fc8"
      },
      "source": [
        "print(df.BPXSY2.max())"
      ],
      "execution_count": null,
      "outputs": [
        {
          "output_type": "stream",
          "text": [
            "238.0\n"
          ],
          "name": "stdout"
        }
      ]
    },
    {
      "cell_type": "code",
      "metadata": {
        "colab": {
          "base_uri": "https://localhost:8080/"
        },
        "id": "IVG2fszsz62G",
        "outputId": "a3febbee-01dd-4bbc-c868-8b33e14c0dd2"
      },
      "source": [
        "print(df.BPXSY2.quantile(0.25))\n",
        "print(df.BPXSY2.quantile(0.75))\n",
        "\n",
        "print(df.BPXSY2.quantile(0.75) -df.BPXSY2.quantile(0.25))"
      ],
      "execution_count": null,
      "outputs": [
        {
          "output_type": "stream",
          "text": [
            "112.0\n",
            "134.0\n",
            "22.0\n"
          ],
          "name": "stdout"
        }
      ]
    },
    {
      "cell_type": "code",
      "metadata": {
        "colab": {
          "base_uri": "https://localhost:8080/"
        },
        "id": "sQlskU-I0bhy",
        "outputId": "522d626c-5f4a-4992-99c1-cdb77327c8ee"
      },
      "source": [
        "df.BPXSY2.describe()"
      ],
      "execution_count": null,
      "outputs": [
        {
          "output_type": "execute_result",
          "data": {
            "text/plain": [
              "count    5535.000000\n",
              "mean      124.783017\n",
              "std        18.527012\n",
              "min        84.000000\n",
              "25%       112.000000\n",
              "50%       122.000000\n",
              "75%       134.000000\n",
              "max       238.000000\n",
              "Name: BPXSY2, dtype: float64"
            ]
          },
          "metadata": {
            "tags": []
          },
          "execution_count": 112
        }
      ]
    },
    {
      "cell_type": "code",
      "metadata": {
        "colab": {
          "base_uri": "https://localhost:8080/",
          "height": 350
        },
        "id": "zNOr7ZPi0wft",
        "outputId": "c6107f17-487d-4d73-b25e-90b04c165f9c"
      },
      "source": [
        "sns.distplot(df.BPXSY2)"
      ],
      "execution_count": null,
      "outputs": [
        {
          "output_type": "stream",
          "text": [
            "/usr/local/lib/python3.7/dist-packages/seaborn/distributions.py:2557: FutureWarning: `distplot` is a deprecated function and will be removed in a future version. Please adapt your code to use either `displot` (a figure-level function with similar flexibility) or `histplot` (an axes-level function for histograms).\n",
            "  warnings.warn(msg, FutureWarning)\n"
          ],
          "name": "stderr"
        },
        {
          "output_type": "execute_result",
          "data": {
            "text/plain": [
              "<matplotlib.axes._subplots.AxesSubplot at 0x7f56e6fd7590>"
            ]
          },
          "metadata": {
            "tags": []
          },
          "execution_count": 114
        },
        {
          "output_type": "display_data",
          "data": {
            "image/png": "[encoded data removed]",
            "text/plain": [
              "<Figure size 432x288 with 1 Axes>"
            ]
          },
          "metadata": {
            "tags": [],
            "needs_background": "light"
          }
        }
      ]
    },
    {
      "cell_type": "code",
      "metadata": {
        "colab": {
          "base_uri": "https://localhost:8080/",
          "height": 296
        },
        "id": "Eopv9E_51MQy",
        "outputId": "ac06e266-3161-4b51-c1b8-baccfd084449"
      },
      "source": [
        "sns.histplot(df.BPXSY2)"
      ],
      "execution_count": null,
      "outputs": [
        {
          "output_type": "execute_result",
          "data": {
            "text/plain": [
              "<matplotlib.axes._subplots.AxesSubplot at 0x7f56e171e090>"
            ]
          },
          "metadata": {
            "tags": []
          },
          "execution_count": 117
        },
        {
          "output_type": "display_data",
          "data": {
            "image/png": "[encoded data removed]",
            "text/plain": [
              "<Figure size 432x288 with 1 Axes>"
            ]
          },
          "metadata": {
            "tags": [],
            "needs_background": "light"
          }
        }
      ]
    },
    {
      "cell_type": "code",
      "metadata": {
        "colab": {
          "base_uri": "https://localhost:8080/",
          "height": 160
        },
        "id": "sZNgg11b1aKE",
        "outputId": "d69cd7a3-3575-43f9-d301-49cc8649e9d6"
      },
      "source": [
        "df.head(2)"
      ],
      "execution_count": null,
      "outputs": [
        {
          "output_type": "execute_result",
          "data": {
            "text/html": [
              "<div>\n",
              "<style scoped>\n",
              "    .dataframe tbody tr th:only-of-type {\n",
              "        vertical-align: middle;\n",
              "    }\n",
              "\n",
              "    .dataframe tbody tr th {\n",
              "        vertical-align: top;\n",
              "    }\n",
              "\n",
              "    .dataframe thead th {\n",
              "        text-align: right;\n",
              "    }\n",
              "</style>\n",
              "<table border=\"1\" class=\"dataframe\">\n",
              "  <thead>\n",
              "    <tr style=\"text-align: right;\">\n",
              "      <th></th>\n",
              "      <th>SEQN</th>\n",
              "      <th>ALQ101</th>\n",
              "      <th>ALQ110</th>\n",
              "      <th>ALQ130</th>\n",
              "      <th>SMQ020</th>\n",
              "      <th>RIAGENDR</th>\n",
              "      <th>RIDAGEYR</th>\n",
              "      <th>RIDRETH1</th>\n",
              "      <th>DMDCITZN</th>\n",
              "      <th>DMDEDUC2</th>\n",
              "      <th>DMDMARTL</th>\n",
              "      <th>DMDHHSIZ</th>\n",
              "      <th>WTINT2YR</th>\n",
              "      <th>SDMVPSU</th>\n",
              "      <th>SDMVSTRA</th>\n",
              "      <th>INDFMPIR</th>\n",
              "      <th>BPXSY1</th>\n",
              "      <th>BPXDI1</th>\n",
              "      <th>BPXSY2</th>\n",
              "      <th>BPXDI2</th>\n",
              "      <th>BMXWT</th>\n",
              "      <th>BMXHT</th>\n",
              "      <th>BMXBMI</th>\n",
              "      <th>BMXLEG</th>\n",
              "      <th>BMXARML</th>\n",
              "      <th>BMXARMC</th>\n",
              "      <th>BMXWAIST</th>\n",
              "      <th>HIQ210</th>\n",
              "      <th>DMDEDUC2x</th>\n",
              "      <th>RIAGENDRx</th>\n",
              "      <th>agegrp</th>\n",
              "    </tr>\n",
              "  </thead>\n",
              "  <tbody>\n",
              "    <tr>\n",
              "      <th>0</th>\n",
              "      <td>83732</td>\n",
              "      <td>1.0</td>\n",
              "      <td>NaN</td>\n",
              "      <td>1.0</td>\n",
              "      <td>1</td>\n",
              "      <td>1</td>\n",
              "      <td>62</td>\n",
              "      <td>3</td>\n",
              "      <td>1.0</td>\n",
              "      <td>5.0</td>\n",
              "      <td>1.0</td>\n",
              "      <td>2</td>\n",
              "      <td>134671.37</td>\n",
              "      <td>1</td>\n",
              "      <td>125</td>\n",
              "      <td>4.39</td>\n",
              "      <td>128.0</td>\n",
              "      <td>70.0</td>\n",
              "      <td>124.0</td>\n",
              "      <td>64.0</td>\n",
              "      <td>94.8</td>\n",
              "      <td>184.5</td>\n",
              "      <td>27.8</td>\n",
              "      <td>43.3</td>\n",
              "      <td>43.6</td>\n",
              "      <td>35.9</td>\n",
              "      <td>101.1</td>\n",
              "      <td>2.0</td>\n",
              "      <td>College</td>\n",
              "      <td>Male</td>\n",
              "      <td>(60, 70]</td>\n",
              "    </tr>\n",
              "    <tr>\n",
              "      <th>1</th>\n",
              "      <td>83733</td>\n",
              "      <td>1.0</td>\n",
              "      <td>NaN</td>\n",
              "      <td>6.0</td>\n",
              "      <td>1</td>\n",
              "      <td>1</td>\n",
              "      <td>53</td>\n",
              "      <td>3</td>\n",
              "      <td>2.0</td>\n",
              "      <td>3.0</td>\n",
              "      <td>3.0</td>\n",
              "      <td>1</td>\n",
              "      <td>24328.56</td>\n",
              "      <td>1</td>\n",
              "      <td>125</td>\n",
              "      <td>1.32</td>\n",
              "      <td>146.0</td>\n",
              "      <td>88.0</td>\n",
              "      <td>140.0</td>\n",
              "      <td>88.0</td>\n",
              "      <td>90.4</td>\n",
              "      <td>171.4</td>\n",
              "      <td>30.8</td>\n",
              "      <td>38.0</td>\n",
              "      <td>40.0</td>\n",
              "      <td>33.2</td>\n",
              "      <td>107.9</td>\n",
              "      <td>NaN</td>\n",
              "      <td>HS/GED</td>\n",
              "      <td>Male</td>\n",
              "      <td>(50, 60]</td>\n",
              "    </tr>\n",
              "  </tbody>\n",
              "</table>\n",
              "</div>"
            ],
            "text/plain": [
              "    SEQN  ALQ101  ALQ110  ALQ130  ...  HIQ210  DMDEDUC2x  RIAGENDRx    agegrp\n",
              "0  83732     1.0     NaN     1.0  ...     2.0    College       Male  (60, 70]\n",
              "1  83733     1.0     NaN     6.0  ...     NaN     HS/GED       Male  (50, 60]\n",
              "\n",
              "[2 rows x 31 columns]"
            ]
          },
          "metadata": {
            "tags": []
          },
          "execution_count": 119
        }
      ]
    },
    {
      "cell_type": "code",
      "metadata": {
        "id": "QJrvUMAT11lK"
      },
      "source": [
        ""
      ],
      "execution_count": null,
      "outputs": []
    }
  ]
}