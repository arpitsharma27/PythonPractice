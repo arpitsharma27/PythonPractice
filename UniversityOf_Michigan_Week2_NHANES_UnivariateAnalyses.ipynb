{
  "nbformat": 4,
  "nbformat_minor": 0,
  "metadata": {
    "colab": {
      "name": "UniversityOf_Michigan_Week2_NHANES_UnivariateAnalyses.ipynb",
      "provenance": [],
      "authorship_tag": "ABX9TyMGrvGMcfLekEjrjW9sFC7T",
      "include_colab_link": true
    },
    "kernelspec": {
      "name": "python3",
      "display_name": "Python 3"
    }
  },
  "cells": [
    {
      "cell_type": "markdown",
      "metadata": {
        "id": "view-in-github",
        "colab_type": "text"
      },
      "source": [
        "<a href=\"https://colab.research.google.com/github/arpitsharma27/PythonPractice/blob/main/UniversityOf_Michigan_Week2_NHANES_UnivariateAnalyses.ipynb\" target=\"_parent\"><img src=\"https://colab.research.google.com/assets/colab-badge.svg\" alt=\"Open In Colab\"/></a>"
      ]
    },
    {
      "cell_type": "code",
      "metadata": {
        "id": "aBJgPyGl4P3U"
      },
      "source": [
        "import matplotlib.pyplot as plt\n",
        "import seaborn as sns\n",
        "import numpy as np\n",
        "import pandas as pd"
      ],
      "execution_count": null,
      "outputs": []
    },
    {
      "cell_type": "code",
      "metadata": {
        "id": "e5qWXf6o4xmr"
      },
      "source": [
        "url=\"https://raw.githubusercontent.com/kshedden/statswpy/master/NHANES/merged/nhanes_2015_2016.csv\"\n",
        "df=pd.read_csv(url)"
      ],
      "execution_count": null,
      "outputs": []
    },
    {
      "cell_type": "code",
      "metadata": {
        "colab": {
          "base_uri": "https://localhost:8080/",
          "height": 215
        },
        "id": "oT9ZN3LQ42h7",
        "outputId": "5b02d73e-55de-42aa-c5c9-acb446135654"
      },
      "source": [
        "df.head()"
      ],
      "execution_count": null,
      "outputs": [
        {
          "output_type": "execute_result",
          "data": {
            "text/html": [
              "<div>\n",
              "<style scoped>\n",
              "    .dataframe tbody tr th:only-of-type {\n",
              "        vertical-align: middle;\n",
              "    }\n",
              "\n",
              "    .dataframe tbody tr th {\n",
              "        vertical-align: top;\n",
              "    }\n",
              "\n",
              "    .dataframe thead th {\n",
              "        text-align: right;\n",
              "    }\n",
              "</style>\n",
              "<table border=\"1\" class=\"dataframe\">\n",
              "  <thead>\n",
              "    <tr style=\"text-align: right;\">\n",
              "      <th></th>\n",
              "      <th>SEQN</th>\n",
              "      <th>ALQ101</th>\n",
              "      <th>ALQ110</th>\n",
              "      <th>ALQ130</th>\n",
              "      <th>SMQ020</th>\n",
              "      <th>RIAGENDR</th>\n",
              "      <th>RIDAGEYR</th>\n",
              "      <th>RIDRETH1</th>\n",
              "      <th>DMDCITZN</th>\n",
              "      <th>DMDEDUC2</th>\n",
              "      <th>DMDMARTL</th>\n",
              "      <th>DMDHHSIZ</th>\n",
              "      <th>WTINT2YR</th>\n",
              "      <th>SDMVPSU</th>\n",
              "      <th>SDMVSTRA</th>\n",
              "      <th>INDFMPIR</th>\n",
              "      <th>BPXSY1</th>\n",
              "      <th>BPXDI1</th>\n",
              "      <th>BPXSY2</th>\n",
              "      <th>BPXDI2</th>\n",
              "      <th>BMXWT</th>\n",
              "      <th>BMXHT</th>\n",
              "      <th>BMXBMI</th>\n",
              "      <th>BMXLEG</th>\n",
              "      <th>BMXARML</th>\n",
              "      <th>BMXARMC</th>\n",
              "      <th>BMXWAIST</th>\n",
              "      <th>HIQ210</th>\n",
              "    </tr>\n",
              "  </thead>\n",
              "  <tbody>\n",
              "    <tr>\n",
              "      <th>0</th>\n",
              "      <td>83732</td>\n",
              "      <td>1.0</td>\n",
              "      <td>NaN</td>\n",
              "      <td>1.0</td>\n",
              "      <td>1</td>\n",
              "      <td>1</td>\n",
              "      <td>62</td>\n",
              "      <td>3</td>\n",
              "      <td>1.0</td>\n",
              "      <td>5.0</td>\n",
              "      <td>1.0</td>\n",
              "      <td>2</td>\n",
              "      <td>134671.37</td>\n",
              "      <td>1</td>\n",
              "      <td>125</td>\n",
              "      <td>4.39</td>\n",
              "      <td>128.0</td>\n",
              "      <td>70.0</td>\n",
              "      <td>124.0</td>\n",
              "      <td>64.0</td>\n",
              "      <td>94.8</td>\n",
              "      <td>184.5</td>\n",
              "      <td>27.8</td>\n",
              "      <td>43.3</td>\n",
              "      <td>43.6</td>\n",
              "      <td>35.9</td>\n",
              "      <td>101.1</td>\n",
              "      <td>2.0</td>\n",
              "    </tr>\n",
              "    <tr>\n",
              "      <th>1</th>\n",
              "      <td>83733</td>\n",
              "      <td>1.0</td>\n",
              "      <td>NaN</td>\n",
              "      <td>6.0</td>\n",
              "      <td>1</td>\n",
              "      <td>1</td>\n",
              "      <td>53</td>\n",
              "      <td>3</td>\n",
              "      <td>2.0</td>\n",
              "      <td>3.0</td>\n",
              "      <td>3.0</td>\n",
              "      <td>1</td>\n",
              "      <td>24328.56</td>\n",
              "      <td>1</td>\n",
              "      <td>125</td>\n",
              "      <td>1.32</td>\n",
              "      <td>146.0</td>\n",
              "      <td>88.0</td>\n",
              "      <td>140.0</td>\n",
              "      <td>88.0</td>\n",
              "      <td>90.4</td>\n",
              "      <td>171.4</td>\n",
              "      <td>30.8</td>\n",
              "      <td>38.0</td>\n",
              "      <td>40.0</td>\n",
              "      <td>33.2</td>\n",
              "      <td>107.9</td>\n",
              "      <td>NaN</td>\n",
              "    </tr>\n",
              "    <tr>\n",
              "      <th>2</th>\n",
              "      <td>83734</td>\n",
              "      <td>1.0</td>\n",
              "      <td>NaN</td>\n",
              "      <td>NaN</td>\n",
              "      <td>1</td>\n",
              "      <td>1</td>\n",
              "      <td>78</td>\n",
              "      <td>3</td>\n",
              "      <td>1.0</td>\n",
              "      <td>3.0</td>\n",
              "      <td>1.0</td>\n",
              "      <td>2</td>\n",
              "      <td>12400.01</td>\n",
              "      <td>1</td>\n",
              "      <td>131</td>\n",
              "      <td>1.51</td>\n",
              "      <td>138.0</td>\n",
              "      <td>46.0</td>\n",
              "      <td>132.0</td>\n",
              "      <td>44.0</td>\n",
              "      <td>83.4</td>\n",
              "      <td>170.1</td>\n",
              "      <td>28.8</td>\n",
              "      <td>35.6</td>\n",
              "      <td>37.0</td>\n",
              "      <td>31.0</td>\n",
              "      <td>116.5</td>\n",
              "      <td>2.0</td>\n",
              "    </tr>\n",
              "    <tr>\n",
              "      <th>3</th>\n",
              "      <td>83735</td>\n",
              "      <td>2.0</td>\n",
              "      <td>1.0</td>\n",
              "      <td>1.0</td>\n",
              "      <td>2</td>\n",
              "      <td>2</td>\n",
              "      <td>56</td>\n",
              "      <td>3</td>\n",
              "      <td>1.0</td>\n",
              "      <td>5.0</td>\n",
              "      <td>6.0</td>\n",
              "      <td>1</td>\n",
              "      <td>102718.00</td>\n",
              "      <td>1</td>\n",
              "      <td>131</td>\n",
              "      <td>5.00</td>\n",
              "      <td>132.0</td>\n",
              "      <td>72.0</td>\n",
              "      <td>134.0</td>\n",
              "      <td>68.0</td>\n",
              "      <td>109.8</td>\n",
              "      <td>160.9</td>\n",
              "      <td>42.4</td>\n",
              "      <td>38.5</td>\n",
              "      <td>37.7</td>\n",
              "      <td>38.3</td>\n",
              "      <td>110.1</td>\n",
              "      <td>2.0</td>\n",
              "    </tr>\n",
              "    <tr>\n",
              "      <th>4</th>\n",
              "      <td>83736</td>\n",
              "      <td>2.0</td>\n",
              "      <td>1.0</td>\n",
              "      <td>1.0</td>\n",
              "      <td>2</td>\n",
              "      <td>2</td>\n",
              "      <td>42</td>\n",
              "      <td>4</td>\n",
              "      <td>1.0</td>\n",
              "      <td>4.0</td>\n",
              "      <td>3.0</td>\n",
              "      <td>5</td>\n",
              "      <td>17627.67</td>\n",
              "      <td>2</td>\n",
              "      <td>126</td>\n",
              "      <td>1.23</td>\n",
              "      <td>100.0</td>\n",
              "      <td>70.0</td>\n",
              "      <td>114.0</td>\n",
              "      <td>54.0</td>\n",
              "      <td>55.2</td>\n",
              "      <td>164.9</td>\n",
              "      <td>20.3</td>\n",
              "      <td>37.4</td>\n",
              "      <td>36.0</td>\n",
              "      <td>27.2</td>\n",
              "      <td>80.4</td>\n",
              "      <td>2.0</td>\n",
              "    </tr>\n",
              "  </tbody>\n",
              "</table>\n",
              "</div>"
            ],
            "text/plain": [
              "    SEQN  ALQ101  ALQ110  ALQ130  ...  BMXARML  BMXARMC  BMXWAIST  HIQ210\n",
              "0  83732     1.0     NaN     1.0  ...     43.6     35.9     101.1     2.0\n",
              "1  83733     1.0     NaN     6.0  ...     40.0     33.2     107.9     NaN\n",
              "2  83734     1.0     NaN     NaN  ...     37.0     31.0     116.5     2.0\n",
              "3  83735     2.0     1.0     1.0  ...     37.7     38.3     110.1     2.0\n",
              "4  83736     2.0     1.0     1.0  ...     36.0     27.2      80.4     2.0\n",
              "\n",
              "[5 rows x 28 columns]"
            ]
          },
          "metadata": {
            "tags": []
          },
          "execution_count": 3
        }
      ]
    },
    {
      "cell_type": "code",
      "metadata": {
        "colab": {
          "base_uri": "https://localhost:8080/",
          "height": 304
        },
        "id": "DHtqQiI45TsA",
        "outputId": "b873ebfb-021d-483e-dc2c-047c803b3885"
      },
      "source": [
        "df.describe()"
      ],
      "execution_count": null,
      "outputs": [
        {
          "output_type": "execute_result",
          "data": {
            "text/html": [
              "<div>\n",
              "<style scoped>\n",
              "    .dataframe tbody tr th:only-of-type {\n",
              "        vertical-align: middle;\n",
              "    }\n",
              "\n",
              "    .dataframe tbody tr th {\n",
              "        vertical-align: top;\n",
              "    }\n",
              "\n",
              "    .dataframe thead th {\n",
              "        text-align: right;\n",
              "    }\n",
              "</style>\n",
              "<table border=\"1\" class=\"dataframe\">\n",
              "  <thead>\n",
              "    <tr style=\"text-align: right;\">\n",
              "      <th></th>\n",
              "      <th>SEQN</th>\n",
              "      <th>ALQ101</th>\n",
              "      <th>ALQ110</th>\n",
              "      <th>ALQ130</th>\n",
              "      <th>SMQ020</th>\n",
              "      <th>RIAGENDR</th>\n",
              "      <th>RIDAGEYR</th>\n",
              "      <th>RIDRETH1</th>\n",
              "      <th>DMDCITZN</th>\n",
              "      <th>DMDEDUC2</th>\n",
              "      <th>DMDMARTL</th>\n",
              "      <th>DMDHHSIZ</th>\n",
              "      <th>WTINT2YR</th>\n",
              "      <th>SDMVPSU</th>\n",
              "      <th>SDMVSTRA</th>\n",
              "      <th>INDFMPIR</th>\n",
              "      <th>BPXSY1</th>\n",
              "      <th>BPXDI1</th>\n",
              "      <th>BPXSY2</th>\n",
              "      <th>BPXDI2</th>\n",
              "      <th>BMXWT</th>\n",
              "      <th>BMXHT</th>\n",
              "      <th>BMXBMI</th>\n",
              "      <th>BMXLEG</th>\n",
              "      <th>BMXARML</th>\n",
              "      <th>BMXARMC</th>\n",
              "      <th>BMXWAIST</th>\n",
              "      <th>HIQ210</th>\n",
              "    </tr>\n",
              "  </thead>\n",
              "  <tbody>\n",
              "    <tr>\n",
              "      <th>count</th>\n",
              "      <td>5735.000000</td>\n",
              "      <td>5208.000000</td>\n",
              "      <td>1731.000000</td>\n",
              "      <td>3379.000000</td>\n",
              "      <td>5735.000000</td>\n",
              "      <td>5735.000000</td>\n",
              "      <td>5735.000000</td>\n",
              "      <td>5735.000000</td>\n",
              "      <td>5734.000000</td>\n",
              "      <td>5474.000000</td>\n",
              "      <td>5474.000000</td>\n",
              "      <td>5735.000000</td>\n",
              "      <td>5735.000000</td>\n",
              "      <td>5735.000000</td>\n",
              "      <td>5735.000000</td>\n",
              "      <td>5134.000000</td>\n",
              "      <td>5401.000000</td>\n",
              "      <td>5401.000000</td>\n",
              "      <td>5535.000000</td>\n",
              "      <td>5535.000000</td>\n",
              "      <td>5666.000000</td>\n",
              "      <td>5673.000000</td>\n",
              "      <td>5662.000000</td>\n",
              "      <td>5345.000000</td>\n",
              "      <td>5427.000000</td>\n",
              "      <td>5427.000000</td>\n",
              "      <td>5368.000000</td>\n",
              "      <td>4732.000000</td>\n",
              "    </tr>\n",
              "    <tr>\n",
              "      <th>mean</th>\n",
              "      <td>88678.583435</td>\n",
              "      <td>1.336406</td>\n",
              "      <td>1.587522</td>\n",
              "      <td>3.911512</td>\n",
              "      <td>1.607149</td>\n",
              "      <td>1.518919</td>\n",
              "      <td>48.052310</td>\n",
              "      <td>3.042371</td>\n",
              "      <td>1.185385</td>\n",
              "      <td>3.441725</td>\n",
              "      <td>2.628608</td>\n",
              "      <td>3.323801</td>\n",
              "      <td>40312.412352</td>\n",
              "      <td>1.487881</td>\n",
              "      <td>126.236617</td>\n",
              "      <td>2.403204</td>\n",
              "      <td>125.084614</td>\n",
              "      <td>69.516386</td>\n",
              "      <td>124.783017</td>\n",
              "      <td>69.346703</td>\n",
              "      <td>81.342676</td>\n",
              "      <td>166.142834</td>\n",
              "      <td>29.382197</td>\n",
              "      <td>38.576782</td>\n",
              "      <td>37.146987</td>\n",
              "      <td>33.112235</td>\n",
              "      <td>99.567213</td>\n",
              "      <td>1.915469</td>\n",
              "    </tr>\n",
              "    <tr>\n",
              "      <th>std</th>\n",
              "      <td>2882.139237</td>\n",
              "      <td>0.505514</td>\n",
              "      <td>0.623940</td>\n",
              "      <td>34.341839</td>\n",
              "      <td>0.571975</td>\n",
              "      <td>0.499686</td>\n",
              "      <td>18.431011</td>\n",
              "      <td>1.296793</td>\n",
              "      <td>0.491678</td>\n",
              "      <td>1.309700</td>\n",
              "      <td>2.366786</td>\n",
              "      <td>1.724670</td>\n",
              "      <td>38768.921774</td>\n",
              "      <td>0.499897</td>\n",
              "      <td>4.244406</td>\n",
              "      <td>1.601995</td>\n",
              "      <td>18.480873</td>\n",
              "      <td>12.881575</td>\n",
              "      <td>18.527012</td>\n",
              "      <td>13.022829</td>\n",
              "      <td>21.764409</td>\n",
              "      <td>10.079264</td>\n",
              "      <td>7.095921</td>\n",
              "      <td>3.873018</td>\n",
              "      <td>2.800784</td>\n",
              "      <td>5.268027</td>\n",
              "      <td>16.844109</td>\n",
              "      <td>0.414845</td>\n",
              "    </tr>\n",
              "    <tr>\n",
              "      <th>min</th>\n",
              "      <td>83732.000000</td>\n",
              "      <td>1.000000</td>\n",
              "      <td>1.000000</td>\n",
              "      <td>1.000000</td>\n",
              "      <td>1.000000</td>\n",
              "      <td>1.000000</td>\n",
              "      <td>18.000000</td>\n",
              "      <td>1.000000</td>\n",
              "      <td>1.000000</td>\n",
              "      <td>1.000000</td>\n",
              "      <td>1.000000</td>\n",
              "      <td>1.000000</td>\n",
              "      <td>5330.960000</td>\n",
              "      <td>1.000000</td>\n",
              "      <td>119.000000</td>\n",
              "      <td>0.000000</td>\n",
              "      <td>82.000000</td>\n",
              "      <td>0.000000</td>\n",
              "      <td>84.000000</td>\n",
              "      <td>0.000000</td>\n",
              "      <td>32.400000</td>\n",
              "      <td>129.700000</td>\n",
              "      <td>14.500000</td>\n",
              "      <td>26.000000</td>\n",
              "      <td>28.200000</td>\n",
              "      <td>17.100000</td>\n",
              "      <td>58.700000</td>\n",
              "      <td>1.000000</td>\n",
              "    </tr>\n",
              "    <tr>\n",
              "      <th>25%</th>\n",
              "      <td>86164.000000</td>\n",
              "      <td>1.000000</td>\n",
              "      <td>1.000000</td>\n",
              "      <td>1.000000</td>\n",
              "      <td>1.000000</td>\n",
              "      <td>1.000000</td>\n",
              "      <td>32.000000</td>\n",
              "      <td>2.000000</td>\n",
              "      <td>1.000000</td>\n",
              "      <td>3.000000</td>\n",
              "      <td>1.000000</td>\n",
              "      <td>2.000000</td>\n",
              "      <td>17164.085000</td>\n",
              "      <td>1.000000</td>\n",
              "      <td>123.000000</td>\n",
              "      <td>1.060000</td>\n",
              "      <td>112.000000</td>\n",
              "      <td>62.000000</td>\n",
              "      <td>112.000000</td>\n",
              "      <td>62.000000</td>\n",
              "      <td>65.900000</td>\n",
              "      <td>158.700000</td>\n",
              "      <td>24.300000</td>\n",
              "      <td>36.000000</td>\n",
              "      <td>35.200000</td>\n",
              "      <td>29.500000</td>\n",
              "      <td>87.600000</td>\n",
              "      <td>2.000000</td>\n",
              "    </tr>\n",
              "    <tr>\n",
              "      <th>50%</th>\n",
              "      <td>88668.000000</td>\n",
              "      <td>1.000000</td>\n",
              "      <td>2.000000</td>\n",
              "      <td>2.000000</td>\n",
              "      <td>2.000000</td>\n",
              "      <td>2.000000</td>\n",
              "      <td>48.000000</td>\n",
              "      <td>3.000000</td>\n",
              "      <td>1.000000</td>\n",
              "      <td>4.000000</td>\n",
              "      <td>1.000000</td>\n",
              "      <td>3.000000</td>\n",
              "      <td>24654.860000</td>\n",
              "      <td>1.000000</td>\n",
              "      <td>126.000000</td>\n",
              "      <td>1.980000</td>\n",
              "      <td>122.000000</td>\n",
              "      <td>70.000000</td>\n",
              "      <td>122.000000</td>\n",
              "      <td>70.000000</td>\n",
              "      <td>78.200000</td>\n",
              "      <td>166.000000</td>\n",
              "      <td>28.300000</td>\n",
              "      <td>38.600000</td>\n",
              "      <td>37.100000</td>\n",
              "      <td>32.700000</td>\n",
              "      <td>98.300000</td>\n",
              "      <td>2.000000</td>\n",
              "    </tr>\n",
              "    <tr>\n",
              "      <th>75%</th>\n",
              "      <td>91178.500000</td>\n",
              "      <td>2.000000</td>\n",
              "      <td>2.000000</td>\n",
              "      <td>3.000000</td>\n",
              "      <td>2.000000</td>\n",
              "      <td>2.000000</td>\n",
              "      <td>63.000000</td>\n",
              "      <td>4.000000</td>\n",
              "      <td>1.000000</td>\n",
              "      <td>4.750000</td>\n",
              "      <td>5.000000</td>\n",
              "      <td>5.000000</td>\n",
              "      <td>42862.305000</td>\n",
              "      <td>2.000000</td>\n",
              "      <td>130.000000</td>\n",
              "      <td>3.740000</td>\n",
              "      <td>134.000000</td>\n",
              "      <td>78.000000</td>\n",
              "      <td>134.000000</td>\n",
              "      <td>78.000000</td>\n",
              "      <td>92.700000</td>\n",
              "      <td>173.500000</td>\n",
              "      <td>33.000000</td>\n",
              "      <td>41.200000</td>\n",
              "      <td>39.000000</td>\n",
              "      <td>36.200000</td>\n",
              "      <td>109.300000</td>\n",
              "      <td>2.000000</td>\n",
              "    </tr>\n",
              "    <tr>\n",
              "      <th>max</th>\n",
              "      <td>93702.000000</td>\n",
              "      <td>9.000000</td>\n",
              "      <td>9.000000</td>\n",
              "      <td>999.000000</td>\n",
              "      <td>9.000000</td>\n",
              "      <td>2.000000</td>\n",
              "      <td>80.000000</td>\n",
              "      <td>5.000000</td>\n",
              "      <td>9.000000</td>\n",
              "      <td>9.000000</td>\n",
              "      <td>77.000000</td>\n",
              "      <td>7.000000</td>\n",
              "      <td>233755.840000</td>\n",
              "      <td>2.000000</td>\n",
              "      <td>133.000000</td>\n",
              "      <td>5.000000</td>\n",
              "      <td>236.000000</td>\n",
              "      <td>120.000000</td>\n",
              "      <td>238.000000</td>\n",
              "      <td>144.000000</td>\n",
              "      <td>198.900000</td>\n",
              "      <td>202.700000</td>\n",
              "      <td>67.300000</td>\n",
              "      <td>51.500000</td>\n",
              "      <td>47.400000</td>\n",
              "      <td>58.400000</td>\n",
              "      <td>171.600000</td>\n",
              "      <td>9.000000</td>\n",
              "    </tr>\n",
              "  </tbody>\n",
              "</table>\n",
              "</div>"
            ],
            "text/plain": [
              "               SEQN       ALQ101  ...     BMXWAIST       HIQ210\n",
              "count   5735.000000  5208.000000  ...  5368.000000  4732.000000\n",
              "mean   88678.583435     1.336406  ...    99.567213     1.915469\n",
              "std     2882.139237     0.505514  ...    16.844109     0.414845\n",
              "min    83732.000000     1.000000  ...    58.700000     1.000000\n",
              "25%    86164.000000     1.000000  ...    87.600000     2.000000\n",
              "50%    88668.000000     1.000000  ...    98.300000     2.000000\n",
              "75%    91178.500000     2.000000  ...   109.300000     2.000000\n",
              "max    93702.000000     9.000000  ...   171.600000     9.000000\n",
              "\n",
              "[8 rows x 28 columns]"
            ]
          },
          "metadata": {
            "tags": []
          },
          "execution_count": 4
        }
      ]
    },
    {
      "cell_type": "code",
      "metadata": {
        "colab": {
          "base_uri": "https://localhost:8080/"
        },
        "id": "VMoszvi75cse",
        "outputId": "caa0c1cb-9169-4cbe-96b1-1215acf199e7"
      },
      "source": [
        "print(sorted(df))\n",
        "print(list(df.columns))"
      ],
      "execution_count": null,
      "outputs": [
        {
          "output_type": "stream",
          "text": [
            "['ALQ101', 'ALQ110', 'ALQ130', 'BMXARMC', 'BMXARML', 'BMXBMI', 'BMXHT', 'BMXLEG', 'BMXWAIST', 'BMXWT', 'BPXDI1', 'BPXDI2', 'BPXSY1', 'BPXSY2', 'DMDCITZN', 'DMDEDUC2', 'DMDHHSIZ', 'DMDMARTL', 'HIQ210', 'INDFMPIR', 'RIAGENDR', 'RIDAGEYR', 'RIDRETH1', 'SDMVPSU', 'SDMVSTRA', 'SEQN', 'SMQ020', 'WTINT2YR']\n",
            "['SEQN', 'ALQ101', 'ALQ110', 'ALQ130', 'SMQ020', 'RIAGENDR', 'RIDAGEYR', 'RIDRETH1', 'DMDCITZN', 'DMDEDUC2', 'DMDMARTL', 'DMDHHSIZ', 'WTINT2YR', 'SDMVPSU', 'SDMVSTRA', 'INDFMPIR', 'BPXSY1', 'BPXDI1', 'BPXSY2', 'BPXDI2', 'BMXWT', 'BMXHT', 'BMXBMI', 'BMXLEG', 'BMXARML', 'BMXARMC', 'BMXWAIST', 'HIQ210']\n"
          ],
          "name": "stdout"
        }
      ]
    },
    {
      "cell_type": "markdown",
      "metadata": {
        "id": "KBE6dcS36irL"
      },
      "source": [
        "**Frequency Counts**"
      ]
    },
    {
      "cell_type": "code",
      "metadata": {
        "colab": {
          "base_uri": "https://localhost:8080/"
        },
        "id": "AwheP09M5u9n",
        "outputId": "9dbb2d35-56e4-495e-ad11-0056666f9bbc"
      },
      "source": [
        "df.DMDEDUC2.value_counts()"
      ],
      "execution_count": null,
      "outputs": [
        {
          "output_type": "execute_result",
          "data": {
            "text/plain": [
              "4.0    1621\n",
              "5.0    1366\n",
              "3.0    1186\n",
              "1.0     655\n",
              "2.0     643\n",
              "9.0       3\n",
              "Name: DMDEDUC2, dtype: int64"
            ]
          },
          "metadata": {
            "tags": []
          },
          "execution_count": 6
        }
      ]
    },
    {
      "cell_type": "code",
      "metadata": {
        "colab": {
          "base_uri": "https://localhost:8080/",
          "height": 254
        },
        "id": "S-77rSYB6tDx",
        "outputId": "e71d1872-02f3-446b-e3ca-a0559a982766"
      },
      "source": [
        "##alternate methods for frequencies across multiple columns\n",
        "#1-\n",
        "#df[['DMDEDUC2','DMDMARTL','ALQ130']].value_counts(sort=False)\n",
        "#2-\n",
        "pd.crosstab(df.DMDEDUC2,df.DMDMARTL , normalize=True)"
      ],
      "execution_count": null,
      "outputs": [
        {
          "output_type": "execute_result",
          "data": {
            "text/html": [
              "<div>\n",
              "<style scoped>\n",
              "    .dataframe tbody tr th:only-of-type {\n",
              "        vertical-align: middle;\n",
              "    }\n",
              "\n",
              "    .dataframe tbody tr th {\n",
              "        vertical-align: top;\n",
              "    }\n",
              "\n",
              "    .dataframe thead th {\n",
              "        text-align: right;\n",
              "    }\n",
              "</style>\n",
              "<table border=\"1\" class=\"dataframe\">\n",
              "  <thead>\n",
              "    <tr style=\"text-align: right;\">\n",
              "      <th>DMDMARTL</th>\n",
              "      <th>1.0</th>\n",
              "      <th>2.0</th>\n",
              "      <th>3.0</th>\n",
              "      <th>4.0</th>\n",
              "      <th>5.0</th>\n",
              "      <th>6.0</th>\n",
              "      <th>77.0</th>\n",
              "    </tr>\n",
              "    <tr>\n",
              "      <th>DMDEDUC2</th>\n",
              "      <th></th>\n",
              "      <th></th>\n",
              "      <th></th>\n",
              "      <th></th>\n",
              "      <th></th>\n",
              "      <th></th>\n",
              "      <th></th>\n",
              "    </tr>\n",
              "  </thead>\n",
              "  <tbody>\n",
              "    <tr>\n",
              "      <th>1.0</th>\n",
              "      <td>0.062294</td>\n",
              "      <td>0.016076</td>\n",
              "      <td>0.009499</td>\n",
              "      <td>0.007855</td>\n",
              "      <td>0.011874</td>\n",
              "      <td>0.012057</td>\n",
              "      <td>0.000000</td>\n",
              "    </tr>\n",
              "    <tr>\n",
              "      <th>2.0</th>\n",
              "      <td>0.055718</td>\n",
              "      <td>0.007307</td>\n",
              "      <td>0.011326</td>\n",
              "      <td>0.007125</td>\n",
              "      <td>0.021374</td>\n",
              "      <td>0.014615</td>\n",
              "      <td>0.000000</td>\n",
              "    </tr>\n",
              "    <tr>\n",
              "      <th>3.0</th>\n",
              "      <td>0.100475</td>\n",
              "      <td>0.018085</td>\n",
              "      <td>0.023201</td>\n",
              "      <td>0.007307</td>\n",
              "      <td>0.043296</td>\n",
              "      <td>0.024297</td>\n",
              "      <td>0.000000</td>\n",
              "    </tr>\n",
              "    <tr>\n",
              "      <th>4.0</th>\n",
              "      <td>0.138290</td>\n",
              "      <td>0.019730</td>\n",
              "      <td>0.039642</td>\n",
              "      <td>0.007673</td>\n",
              "      <td>0.060650</td>\n",
              "      <td>0.029777</td>\n",
              "      <td>0.000365</td>\n",
              "    </tr>\n",
              "    <tr>\n",
              "      <th>5.0</th>\n",
              "      <td>0.151078</td>\n",
              "      <td>0.010778</td>\n",
              "      <td>0.021922</td>\n",
              "      <td>0.004019</td>\n",
              "      <td>0.046218</td>\n",
              "      <td>0.015528</td>\n",
              "      <td>0.000000</td>\n",
              "    </tr>\n",
              "    <tr>\n",
              "      <th>9.0</th>\n",
              "      <td>0.000000</td>\n",
              "      <td>0.000365</td>\n",
              "      <td>0.000183</td>\n",
              "      <td>0.000000</td>\n",
              "      <td>0.000000</td>\n",
              "      <td>0.000000</td>\n",
              "      <td>0.000000</td>\n",
              "    </tr>\n",
              "  </tbody>\n",
              "</table>\n",
              "</div>"
            ],
            "text/plain": [
              "DMDMARTL      1.0       2.0       3.0       4.0       5.0       6.0       77.0\n",
              "DMDEDUC2                                                                      \n",
              "1.0       0.062294  0.016076  0.009499  0.007855  0.011874  0.012057  0.000000\n",
              "2.0       0.055718  0.007307  0.011326  0.007125  0.021374  0.014615  0.000000\n",
              "3.0       0.100475  0.018085  0.023201  0.007307  0.043296  0.024297  0.000000\n",
              "4.0       0.138290  0.019730  0.039642  0.007673  0.060650  0.029777  0.000365\n",
              "5.0       0.151078  0.010778  0.021922  0.004019  0.046218  0.015528  0.000000\n",
              "9.0       0.000000  0.000365  0.000183  0.000000  0.000000  0.000000  0.000000"
            ]
          },
          "metadata": {
            "tags": []
          },
          "execution_count": 7
        }
      ]
    },
    {
      "cell_type": "code",
      "metadata": {
        "colab": {
          "base_uri": "https://localhost:8080/"
        },
        "id": "rIt072UB7IRC",
        "outputId": "6dbcdf2e-d940-40af-fd51-963e6813f97a"
      },
      "source": [
        "df['DMDEDUC2'].value_counts()"
      ],
      "execution_count": null,
      "outputs": [
        {
          "output_type": "execute_result",
          "data": {
            "text/plain": [
              "4.0    1621\n",
              "5.0    1366\n",
              "3.0    1186\n",
              "1.0     655\n",
              "2.0     643\n",
              "9.0       3\n",
              "Name: DMDEDUC2, dtype: int64"
            ]
          },
          "metadata": {
            "tags": []
          },
          "execution_count": 8
        }
      ]
    },
    {
      "cell_type": "code",
      "metadata": {
        "colab": {
          "base_uri": "https://localhost:8080/"
        },
        "id": "LS6n46RCDK5e",
        "outputId": "7f7b1108-0fdd-4833-f5c3-7211de79031a"
      },
      "source": [
        "df['DMDEDUC2'].value_counts().sum()"
      ],
      "execution_count": null,
      "outputs": [
        {
          "output_type": "execute_result",
          "data": {
            "text/plain": [
              "5474"
            ]
          },
          "metadata": {
            "tags": []
          },
          "execution_count": 9
        }
      ]
    },
    {
      "cell_type": "code",
      "metadata": {
        "colab": {
          "base_uri": "https://localhost:8080/"
        },
        "id": "IB2r8xH6DQXg",
        "outputId": "caeb3121-2ce2-4dd3-fa20-bb1a8f5b0659"
      },
      "source": [
        "#To find total values that are missing:\n",
        "pd.isnull(df.DMDEDUC2).sum()"
      ],
      "execution_count": null,
      "outputs": [
        {
          "output_type": "execute_result",
          "data": {
            "text/plain": [
              "261"
            ]
          },
          "metadata": {
            "tags": []
          },
          "execution_count": 10
        }
      ]
    },
    {
      "cell_type": "code",
      "metadata": {
        "colab": {
          "base_uri": "https://localhost:8080/"
        },
        "id": "EZ23NtrLES04",
        "outputId": "899da12a-7a30-4680-e5ba-3323313a61e2"
      },
      "source": [
        "#Create a new column with different values\n",
        "df['DMDEDUC2x']=df.DMDEDUC2.replace({1:\"<9\" ,2:\"9-11\" ,3:\"HS/GED\" ,4:\"Some College/AA\" ,5:\"College\" ,6:\"Refused\" ,7:\"Don't Know\"})\n",
        "df[['DMDEDUC2x']].value_counts()"
      ],
      "execution_count": null,
      "outputs": [
        {
          "output_type": "execute_result",
          "data": {
            "text/plain": [
              "DMDEDUC2x      \n",
              "Some College/AA    1621\n",
              "College            1366\n",
              "HS/GED             1186\n",
              "<9                  655\n",
              "9-11                643\n",
              "9.0                   3\n",
              "dtype: int64"
            ]
          },
          "metadata": {
            "tags": []
          },
          "execution_count": 11
        }
      ]
    },
    {
      "cell_type": "code",
      "metadata": {
        "colab": {
          "base_uri": "https://localhost:8080/"
        },
        "id": "zigJW-lhHkxI",
        "outputId": "201652b1-e3d9-49b8-e1ec-47ffa4662164"
      },
      "source": [
        "x=df[['DMDEDUC2x']].value_counts()\n",
        "x/x.sum()"
      ],
      "execution_count": null,
      "outputs": [
        {
          "output_type": "execute_result",
          "data": {
            "text/plain": [
              "DMDEDUC2x      \n",
              "Some College/AA    0.296127\n",
              "College            0.249543\n",
              "HS/GED             0.216661\n",
              "<9                 0.119657\n",
              "9-11               0.117464\n",
              "9.0                0.000548\n",
              "dtype: float64"
            ]
          },
          "metadata": {
            "tags": []
          },
          "execution_count": 12
        }
      ]
    },
    {
      "cell_type": "code",
      "metadata": {
        "colab": {
          "base_uri": "https://localhost:8080/"
        },
        "id": "BY_3m7RfInOE",
        "outputId": "f5731a42-5458-4128-ba79-51abe17f195a"
      },
      "source": [
        "df['RIAGENDRx']=df.RIAGENDR.replace({1:'Male' ,2:'Female'})\n",
        "df['RIAGENDRx'].value_counts()"
      ],
      "execution_count": null,
      "outputs": [
        {
          "output_type": "execute_result",
          "data": {
            "text/plain": [
              "Female    2976\n",
              "Male      2759\n",
              "Name: RIAGENDRx, dtype: int64"
            ]
          },
          "metadata": {
            "tags": []
          },
          "execution_count": 13
        }
      ]
    },
    {
      "cell_type": "code",
      "metadata": {
        "colab": {
          "base_uri": "https://localhost:8080/"
        },
        "id": "cMy_qTFaKUQX",
        "outputId": "5d75f863-5a43-4e3c-8be5-05bc5a7f7915"
      },
      "source": [
        "y=df['RIAGENDRx'].value_counts()\n",
        "y/y.sum()"
      ],
      "execution_count": null,
      "outputs": [
        {
          "output_type": "execute_result",
          "data": {
            "text/plain": [
              "Female    0.518919\n",
              "Male      0.481081\n",
              "Name: RIAGENDRx, dtype: float64"
            ]
          },
          "metadata": {
            "tags": []
          },
          "execution_count": 14
        }
      ]
    },
    {
      "cell_type": "markdown",
      "metadata": {
        "id": "SObAsCZULKEV"
      },
      "source": [
        "**Numerical Summaries**\n",
        "\n",
        "A quick way to get a set of numerical summaries for a quantitative variable is with the describe data frame method. Below we demonstrate how to dp this using the body weight variable-BMXWT. As with many surveys some data values are missing, so we explicitly drop the missing cases using the **dropna** method before generating the summaries. "
      ]
    },
    {
      "cell_type": "code",
      "metadata": {
        "colab": {
          "base_uri": "https://localhost:8080/"
        },
        "id": "YH-z_-zTJnbv",
        "outputId": "8fe596f0-9397-4f29-da17-4df12bb779fe"
      },
      "source": [
        "df['BMXWT'].value_counts(bins=5)"
      ],
      "execution_count": null,
      "outputs": [
        {
          "output_type": "execute_result",
          "data": {
            "text/plain": [
              "(65.7, 99.0]                  3249\n",
              "(32.233000000000004, 65.7]    1391\n",
              "(99.0, 132.3]                  861\n",
              "(132.3, 165.6]                 146\n",
              "(165.6, 198.9]                  19\n",
              "Name: BMXWT, dtype: int64"
            ]
          },
          "metadata": {
            "tags": []
          },
          "execution_count": 15
        }
      ]
    },
    {
      "cell_type": "code",
      "metadata": {
        "colab": {
          "base_uri": "https://localhost:8080/"
        },
        "id": "Fe9HxA0aKN53",
        "outputId": "0910db5e-1f49-403d-8834-34c4a893f3dc"
      },
      "source": [
        "df.BMXWT.isnull().sum()"
      ],
      "execution_count": null,
      "outputs": [
        {
          "output_type": "execute_result",
          "data": {
            "text/plain": [
              "69"
            ]
          },
          "metadata": {
            "tags": []
          },
          "execution_count": 16
        }
      ]
    },
    {
      "cell_type": "code",
      "metadata": {
        "colab": {
          "base_uri": "https://localhost:8080/"
        },
        "id": "CeALfsNaY1xI",
        "outputId": "2be1a6be-bd2a-4b05-c806-b4dca9a20a9c"
      },
      "source": [
        "df.BMXWT.dropna().describe()"
      ],
      "execution_count": null,
      "outputs": [
        {
          "output_type": "execute_result",
          "data": {
            "text/plain": [
              "count    5666.000000\n",
              "mean       81.342676\n",
              "std        21.764409\n",
              "min        32.400000\n",
              "25%        65.900000\n",
              "50%        78.200000\n",
              "75%        92.700000\n",
              "max       198.900000\n",
              "Name: BMXWT, dtype: float64"
            ]
          },
          "metadata": {
            "tags": []
          },
          "execution_count": 17
        }
      ]
    },
    {
      "cell_type": "code",
      "metadata": {
        "colab": {
          "base_uri": "https://localhost:8080/"
        },
        "id": "8R5Yfu9nZBTl",
        "outputId": "e618a0a5-e8ca-4447-e650-39df58db1905"
      },
      "source": [
        "df.BMXWT.describe()"
      ],
      "execution_count": null,
      "outputs": [
        {
          "output_type": "execute_result",
          "data": {
            "text/plain": [
              "count    5666.000000\n",
              "mean       81.342676\n",
              "std        21.764409\n",
              "min        32.400000\n",
              "25%        65.900000\n",
              "50%        78.200000\n",
              "75%        92.700000\n",
              "max       198.900000\n",
              "Name: BMXWT, dtype: float64"
            ]
          },
          "metadata": {
            "tags": []
          },
          "execution_count": 18
        }
      ]
    },
    {
      "cell_type": "code",
      "metadata": {
        "id": "P_sYBmx2ZGER"
      },
      "source": [
        "x=df.BMXWT.dropna()"
      ],
      "execution_count": null,
      "outputs": []
    },
    {
      "cell_type": "code",
      "metadata": {
        "colab": {
          "base_uri": "https://localhost:8080/"
        },
        "id": "U30diH6_aPl3",
        "outputId": "7562b442-553b-4609-dea5-5f6938ae9def"
      },
      "source": [
        "print(x.mean()) ##Pandas Method\n",
        "print(np.mean(x)) ##Numpy Method"
      ],
      "execution_count": null,
      "outputs": [
        {
          "output_type": "stream",
          "text": [
            "81.34267560889509\n",
            "81.34267560889509\n"
          ],
          "name": "stdout"
        }
      ]
    },
    {
      "cell_type": "code",
      "metadata": {
        "colab": {
          "base_uri": "https://localhost:8080/"
        },
        "id": "sWkHCgEtaSBY",
        "outputId": "2b7f4b4d-0554-404b-c02c-17040b6e7806"
      },
      "source": [
        "print(x.median())\n",
        "print(np.median(x))"
      ],
      "execution_count": null,
      "outputs": [
        {
          "output_type": "stream",
          "text": [
            "78.2\n",
            "78.2\n"
          ],
          "name": "stdout"
        }
      ]
    },
    {
      "cell_type": "code",
      "metadata": {
        "id": "yRpEURaTa4Os",
        "colab": {
          "base_uri": "https://localhost:8080/"
        },
        "outputId": "1de262da-4199-4458-b1c3-5ea82d227253"
      },
      "source": [
        "print(x.quantile(0.5))\n",
        "print(np.percentile(x,50))"
      ],
      "execution_count": null,
      "outputs": [
        {
          "output_type": "stream",
          "text": [
            "78.2\n",
            "78.2\n"
          ],
          "name": "stdout"
        }
      ]
    },
    {
      "cell_type": "code",
      "metadata": {
        "colab": {
          "base_uri": "https://localhost:8080/"
        },
        "id": "MrgGml3Mg09l",
        "outputId": "c338bc8c-01d8-413d-9e9a-6d416660f218"
      },
      "source": [
        "print(x.quantile(0.82))\n",
        "print(np.percentile(x,82))\n",
        "\n",
        "print(x.quantile(0.99))\n",
        "print(np.percentile(x,99))"
      ],
      "execution_count": null,
      "outputs": [
        {
          "output_type": "stream",
          "text": [
            "99.1\n",
            "99.1\n",
            "147.67000000000007\n",
            "147.67000000000007\n"
          ],
          "name": "stdout"
        }
      ]
    },
    {
      "cell_type": "code",
      "metadata": {
        "colab": {
          "base_uri": "https://localhost:8080/"
        },
        "id": "qcHeKqw6hFh5",
        "outputId": "f7d6abc6-c119-49a5-c4fa-fda656e5e1c7"
      },
      "source": [
        "#\n",
        "np.mean((df.BPXSY1>=120)&(df.BPXSY2<=139))"
      ],
      "execution_count": null,
      "outputs": [
        {
          "output_type": "execute_result",
          "data": {
            "text/plain": [
              "0.3741935483870968"
            ]
          },
          "metadata": {
            "tags": []
          },
          "execution_count": 36
        }
      ]
    },
    {
      "cell_type": "code",
      "metadata": {
        "colab": {
          "base_uri": "https://localhost:8080/"
        },
        "id": "t8jIB3U6hzb_",
        "outputId": "8abd7817-7720-4dee-a420-2b875399a558"
      },
      "source": [
        "np.sum((df.BPXSY1>=120)&(df.BPXSY1<=139))"
      ],
      "execution_count": null,
      "outputs": [
        {
          "output_type": "execute_result",
          "data": {
            "text/plain": [
              "2104"
            ]
          },
          "metadata": {
            "tags": []
          },
          "execution_count": 30
        }
      ]
    },
    {
      "cell_type": "code",
      "metadata": {
        "colab": {
          "base_uri": "https://localhost:8080/",
          "height": 279
        },
        "id": "rp77ncrch2iK",
        "outputId": "c4318a62-3dce-4cdc-dba1-0c14863d8c9c"
      },
      "source": [
        "df.query((df.BPXSY1>=120)&(df.BPXSY1<=139))..mean()"
      ],
      "execution_count": null,
      "outputs": [
        {
          "output_type": "error",
          "ename": "ValueError",
          "evalue": "ignored",
          "traceback": [
            "\u001b[0;31m---------------------------------------------------------------------------\u001b[0m",
            "\u001b[0;31mValueError\u001b[0m                                Traceback (most recent call last)",
            "\u001b[0;32m<ipython-input-35-e3ea79eaeb6e>\u001b[0m in \u001b[0;36m<module>\u001b[0;34m()\u001b[0m\n\u001b[0;32m----> 1\u001b[0;31m \u001b[0mdf\u001b[0m\u001b[0;34m.\u001b[0m\u001b[0mquery\u001b[0m\u001b[0;34m(\u001b[0m\u001b[0;34m(\u001b[0m\u001b[0mdf\u001b[0m\u001b[0;34m.\u001b[0m\u001b[0mBPXSY1\u001b[0m\u001b[0;34m>=\u001b[0m\u001b[0;36m120\u001b[0m\u001b[0;34m)\u001b[0m\u001b[0;34m&\u001b[0m\u001b[0;34m(\u001b[0m\u001b[0mdf\u001b[0m\u001b[0;34m.\u001b[0m\u001b[0mBPXSY1\u001b[0m\u001b[0;34m<=\u001b[0m\u001b[0;36m139\u001b[0m\u001b[0;34m)\u001b[0m\u001b[0;34m)\u001b[0m\u001b[0;34m.\u001b[0m\u001b[0mvalue_counts\u001b[0m\u001b[0;34m(\u001b[0m\u001b[0;34m)\u001b[0m\u001b[0;34m.\u001b[0m\u001b[0msum\u001b[0m\u001b[0;34m(\u001b[0m\u001b[0;34m)\u001b[0m\u001b[0;34m\u001b[0m\u001b[0;34m\u001b[0m\u001b[0m\n\u001b[0m",
            "\u001b[0;32m/usr/local/lib/python3.7/dist-packages/pandas/core/frame.py\u001b[0m in \u001b[0;36mquery\u001b[0;34m(self, expr, inplace, **kwargs)\u001b[0m\n\u001b[1;32m   3340\u001b[0m         \u001b[0;32mif\u001b[0m \u001b[0;32mnot\u001b[0m \u001b[0misinstance\u001b[0m\u001b[0;34m(\u001b[0m\u001b[0mexpr\u001b[0m\u001b[0;34m,\u001b[0m \u001b[0mstr\u001b[0m\u001b[0;34m)\u001b[0m\u001b[0;34m:\u001b[0m\u001b[0;34m\u001b[0m\u001b[0;34m\u001b[0m\u001b[0m\n\u001b[1;32m   3341\u001b[0m             \u001b[0mmsg\u001b[0m \u001b[0;34m=\u001b[0m \u001b[0;34mf\"expr must be a string to be evaluated, {type(expr)} given\"\u001b[0m\u001b[0;34m\u001b[0m\u001b[0;34m\u001b[0m\u001b[0m\n\u001b[0;32m-> 3342\u001b[0;31m             \u001b[0;32mraise\u001b[0m \u001b[0mValueError\u001b[0m\u001b[0;34m(\u001b[0m\u001b[0mmsg\u001b[0m\u001b[0;34m)\u001b[0m\u001b[0;34m\u001b[0m\u001b[0;34m\u001b[0m\u001b[0m\n\u001b[0m\u001b[1;32m   3343\u001b[0m         \u001b[0mkwargs\u001b[0m\u001b[0;34m[\u001b[0m\u001b[0;34m\"level\"\u001b[0m\u001b[0;34m]\u001b[0m \u001b[0;34m=\u001b[0m \u001b[0mkwargs\u001b[0m\u001b[0;34m.\u001b[0m\u001b[0mpop\u001b[0m\u001b[0;34m(\u001b[0m\u001b[0;34m\"level\"\u001b[0m\u001b[0;34m,\u001b[0m \u001b[0;36m0\u001b[0m\u001b[0;34m)\u001b[0m \u001b[0;34m+\u001b[0m \u001b[0;36m1\u001b[0m\u001b[0;34m\u001b[0m\u001b[0;34m\u001b[0m\u001b[0m\n\u001b[1;32m   3344\u001b[0m         \u001b[0mkwargs\u001b[0m\u001b[0;34m[\u001b[0m\u001b[0;34m\"target\"\u001b[0m\u001b[0;34m]\u001b[0m \u001b[0;34m=\u001b[0m \u001b[0;32mNone\u001b[0m\u001b[0;34m\u001b[0m\u001b[0;34m\u001b[0m\u001b[0m\n",
            "\u001b[0;31mValueError\u001b[0m: expr must be a string to be evaluated, <class 'pandas.core.series.Series'> given"
          ]
        }
      ]
    },
    {
      "cell_type": "code",
      "metadata": {
        "id": "iVZaXhwYiIaT"
      },
      "source": [
        ""
      ],
      "execution_count": null,
      "outputs": []
    }
  ]
}