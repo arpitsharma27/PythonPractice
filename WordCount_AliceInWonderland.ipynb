{
  "nbformat": 4,
  "nbformat_minor": 0,
  "metadata": {
    "colab": {
      "name": "WordCount_AliceInWonderland.ipynb",
      "provenance": [],
      "authorship_tag": "ABX9TyMLuAwb6vQwNdPgiWwraVPY",
      "include_colab_link": true
    },
    "kernelspec": {
      "name": "python3",
      "display_name": "Python 3"
    },
    "language_info": {
      "name": "python"
    }
  },
  "cells": [
    {
      "cell_type": "markdown",
      "metadata": {
        "id": "view-in-github",
        "colab_type": "text"
      },
      "source": [
        "<a href=\"https://colab.research.google.com/github/arpitsharma27/PythonPractice/blob/main/WordCount_AliceInWonderland.ipynb\" target=\"_parent\"><img src=\"https://colab.research.google.com/assets/colab-badge.svg\" alt=\"Open In Colab\"/></a>"
      ]
    },
    {
      "cell_type": "code",
      "metadata": {
        "id": "zsdamuom89pY"
      },
      "source": [
        "import pandas as pd\n",
        "import numpy as np\n",
        "import matplotlib.pyplot as plt\n",
        "import string\n",
        "from urllib import request"
      ],
      "execution_count": 1,
      "outputs": []
    },
    {
      "cell_type": "code",
      "metadata": {
        "id": "SpTqx4Vp4332"
      },
      "source": [
        "url=\"https://raw.githubusercontent.com/arpitsharma27/PythonPractice/main/alice_in_wonderland.txt\""
      ],
      "execution_count": 2,
      "outputs": []
    },
    {
      "cell_type": "code",
      "metadata": {
        "id": "YX4G-aYacpzj"
      },
      "source": [
        "txt_file=request.urlopen(url)\n",
        "lines=[]\n",
        "for line in txt_file:\n",
        "  line=line.decode('utf-8').lower()\n",
        "  line=line.replace(\"'s\",\"\")\n",
        "  line=line.translate(str.maketrans('', '', string.punctuation))\n",
        "  line=line.translate(str.maketrans('', '', '\\n'))\n",
        "  if line is not '\\n' and line is not '':\n",
        "    lines.append(line.strip())\n"
      ],
      "execution_count": 5,
      "outputs": []
    },
    {
      "cell_type": "code",
      "metadata": {
        "id": "Ak3l8ac2jDg2",
        "colab": {
          "base_uri": "https://localhost:8080/"
        },
        "outputId": "15e4f4f5-dd34-4be9-ae12-d345af2038fd"
      },
      "source": [
        "lines[0:20]"
      ],
      "execution_count": 6,
      "outputs": [
        {
          "output_type": "execute_result",
          "data": {
            "text/plain": [
              "['alice adventures in wonderland',\n",
              " 'alice adventures in wonderland',\n",
              " 'lewis carroll',\n",
              " 'the millennium fulcrum edition 30',\n",
              " 'chapter i',\n",
              " 'down the rabbithole',\n",
              " 'alice was beginning to get very tired of sitting by her sister',\n",
              " 'on the bank and of having nothing to do  once or twice she had',\n",
              " 'peeped into the book her sister was reading but it had no',\n",
              " 'pictures or conversations in it and what is the use of a book',\n",
              " 'thought alice without pictures or conversation',\n",
              " 'so she was considering in her own mind as well as she could',\n",
              " 'for the hot day made her feel very sleepy and stupid whether',\n",
              " 'the pleasure of making a daisychain would be worth the trouble',\n",
              " 'of getting up and picking the daisies when suddenly a white',\n",
              " 'rabbit with pink eyes ran close by her',\n",
              " 'there was nothing so very remarkable in that nor did alice',\n",
              " 'think it so very much out of the way to hear the rabbit say to',\n",
              " 'itself oh dear  oh dear  i shall be late  when she thought',\n",
              " 'it over afterwards it occurred to her that she ought to have']"
            ]
          },
          "metadata": {
            "tags": []
          },
          "execution_count": 6
        }
      ]
    },
    {
      "cell_type": "code",
      "metadata": {
        "id": "2tAIUOgQq-p8"
      },
      "source": [
        ""
      ],
      "execution_count": null,
      "outputs": []
    }
  ]
}