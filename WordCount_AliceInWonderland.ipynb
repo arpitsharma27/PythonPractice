{
  "nbformat": 4,
  "nbformat_minor": 0,
  "metadata": {
    "colab": {
      "name": "WordCount_AliceInWonderland.ipynb",
      "provenance": [],
      "authorship_tag": "ABX9TyOb8jDB+TEEj5QiBzCGgNa0",
      "include_colab_link": true
    },
    "kernelspec": {
      "name": "python3",
      "display_name": "Python 3"
    },
    "language_info": {
      "name": "python"
    }
  },
  "cells": [
    {
      "cell_type": "markdown",
      "metadata": {
        "id": "view-in-github",
        "colab_type": "text"
      },
      "source": [
        "<a href=\"https://colab.research.google.com/github/arpitsharma27/PythonPractice/blob/main/WordCount_AliceInWonderland.ipynb\" target=\"_parent\"><img src=\"https://colab.research.google.com/assets/colab-badge.svg\" alt=\"Open In Colab\"/></a>"
      ]
    },
    {
      "cell_type": "code",
      "metadata": {
        "id": "zsdamuom89pY"
      },
      "source": [
        "import pandas as pd\n",
        "import numpy as np\n",
        "import matplotlib.pyplot as plt\n",
        "import string as str"
      ],
      "execution_count": null,
      "outputs": []
    },
    {
      "cell_type": "code",
      "metadata": {
        "id": "SpTqx4Vp4332"
      },
      "source": [
        "url=\"https://raw.githubusercontent.com/arpitsharma27/PythonPractice/main/alice_in_wonderland.txt\""
      ],
      "execution_count": null,
      "outputs": []
    }
  ]
}