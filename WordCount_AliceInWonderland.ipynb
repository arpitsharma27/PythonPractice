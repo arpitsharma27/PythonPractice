{
  "nbformat": 4,
  "nbformat_minor": 0,
  "metadata": {
    "colab": {
      "name": "WordCount_AliceInWonderland.ipynb",
      "provenance": [],
      "authorship_tag": "ABX9TyMkZcMUkojP+YI6U7upFMw1",
      "include_colab_link": true
    },
    "kernelspec": {
      "name": "python3",
      "display_name": "Python 3"
    },
    "language_info": {
      "name": "python"
    }
  },
  "cells": [
    {
      "cell_type": "markdown",
      "metadata": {
        "id": "view-in-github",
        "colab_type": "text"
      },
      "source": [
        "<a href=\"https://colab.research.google.com/github/arpitsharma27/PythonPractice/blob/main/WordCount_AliceInWonderland.ipynb\" target=\"_parent\"><img src=\"https://colab.research.google.com/assets/colab-badge.svg\" alt=\"Open In Colab\"/></a>"
      ]
    },
    {
      "cell_type": "code",
      "metadata": {
        "id": "zsdamuom89pY"
      },
      "source": [
        "import pandas as pd\n",
        "import numpy as np\n",
        "import matplotlib.pyplot as plt\n",
        "import string as str\n",
        "from urllib import request"
      ],
      "execution_count": 4,
      "outputs": []
    },
    {
      "cell_type": "code",
      "metadata": {
        "id": "SpTqx4Vp4332"
      },
      "source": [
        "url=\"https://raw.githubusercontent.com/arpitsharma27/PythonPractice/main/alice_in_wonderland.txt\""
      ],
      "execution_count": 5,
      "outputs": []
    },
    {
      "cell_type": "code",
      "metadata": {
        "id": "YX4G-aYacpzj",
        "outputId": "1fddde97-3011-4511-b3b1-497771dcf27c",
        "colab": {
          "base_uri": "https://localhost:8080/"
        }
      },
      "source": [
        "txt_file=request.urlopen(url)\n",
        "i=0\n",
        "for line in txt_file:\n",
        "  i=i+1\n",
        "  print(line.decode('utf-8'))\n",
        "  if i>50:\n",
        "    break"
      ],
      "execution_count": 9,
      "outputs": [
        {
          "output_type": "stream",
          "text": [
            "Alice's Adventures in Wonderland\n",
            "\n",
            "\n",
            "\n",
            "                ALICE'S ADVENTURES IN WONDERLAND\n",
            "\n",
            "\n",
            "\n",
            "                          Lewis Carroll\n",
            "\n",
            "\n",
            "\n",
            "               THE MILLENNIUM FULCRUM EDITION 3.0\n",
            "\n",
            "\n",
            "\n",
            "\n",
            "\n",
            "\n",
            "\n",
            "\n",
            "\n",
            "                            CHAPTER I\n",
            "\n",
            "\n",
            "\n",
            "                      Down the Rabbit-Hole\n",
            "\n",
            "\n",
            "\n",
            "\n",
            "\n",
            "  Alice was beginning to get very tired of sitting by her sister\n",
            "\n",
            "on the bank, and of having nothing to do:  once or twice she had\n",
            "\n",
            "peeped into the book her sister was reading, but it had no\n",
            "\n",
            "pictures or conversations in it, `and what is the use of a book,'\n",
            "\n",
            "thought Alice `without pictures or conversation?'\n",
            "\n",
            "\n",
            "\n",
            "  So she was considering in her own mind (as well as she could,\n",
            "\n",
            "for the hot day made her feel very sleepy and stupid), whether\n",
            "\n",
            "the pleasure of making a daisy-chain would be worth the trouble\n",
            "\n",
            "of getting up and picking the daisies, when suddenly a White\n",
            "\n",
            "Rabbit with pink eyes ran close by her.\n",
            "\n",
            "\n",
            "\n",
            "  There was nothing so VERY remarkable in that; nor did Alice\n",
            "\n",
            "think it so VERY much out of the way to hear the Rabbit say to\n",
            "\n",
            "itself, `Oh dear!  Oh dear!  I shall be late!'  (when she thought\n",
            "\n",
            "it over afterwards, it occurred to her that she ought to have\n",
            "\n",
            "wondered at this, but at the time it all seemed quite natural);\n",
            "\n",
            "but when the Rabbit actually TOOK A WATCH OUT OF ITS WAISTCOAT-\n",
            "\n",
            "POCKET, and looked at it, and then hurried on, Alice started to\n",
            "\n",
            "her feet, for it flashed across her mind that she had never\n",
            "\n",
            "before seen a rabbit with either a waistcoat-pocket, or a watch to\n",
            "\n",
            "take out of it, and burning with curiosity, she ran across the\n",
            "\n",
            "field after it, and fortunately was just in time to see it pop\n",
            "\n",
            "down a large rabbit-hole under the hedge.\n",
            "\n",
            "\n",
            "\n",
            "  In another moment down went Alice after it, never once\n",
            "\n",
            "considering how in the world she was to get out again.\n",
            "\n",
            "\n",
            "\n",
            "  The rabbit-hole went straight on like a tunnel for some way,\n",
            "\n",
            "and then dipped suddenly down, so suddenly that Alice had not a\n",
            "\n",
            "moment to think about stopping herself before she found herself\n",
            "\n",
            "falling down a very deep well.\n",
            "\n",
            "\n",
            "\n",
            "  Either the well was very deep, or she fell very slowly, for she\n",
            "\n",
            "had plenty of time as she went down to look about her and to\n",
            "\n"
          ],
          "name": "stdout"
        }
      ]
    },
    {
      "cell_type": "code",
      "metadata": {
        "id": "hNEakIscc73n"
      },
      "source": [
        ""
      ],
      "execution_count": null,
      "outputs": []
    }
  ]
}