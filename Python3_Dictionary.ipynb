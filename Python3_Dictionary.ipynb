{
  "nbformat": 4,
  "nbformat_minor": 0,
  "metadata": {
    "colab": {
      "name": "Python3-Dictionary.ipynb",
      "provenance": [],
      "authorship_tag": "ABX9TyO8NnOhmSsXhMldOYDiHIjb",
      "include_colab_link": true
    },
    "kernelspec": {
      "name": "python3",
      "display_name": "Python 3"
    },
    "language_info": {
      "name": "python"
    }
  },
  "cells": [
    {
      "cell_type": "markdown",
      "metadata": {
        "id": "view-in-github",
        "colab_type": "text"
      },
      "source": [
        "<a href=\"https://colab.research.google.com/github/arpitsharma27/PythonPractice/blob/main/Python3_Dictionary.ipynb\" target=\"_parent\"><img src=\"https://colab.research.google.com/assets/colab-badge.svg\" alt=\"Open In Colab\"/></a>"
      ]
    },
    {
      "cell_type": "code",
      "execution_count": null,
      "metadata": {
        "id": "24w434grZfdC"
      },
      "outputs": [],
      "source": [
        ""
      ]
    },
    {
      "cell_type": "markdown",
      "source": [
        "#Here is a practice session for **Dictionary** in Python3\n",
        "\n",
        "####Dictionary are used to store data values in key: value pairs.\n",
        "\n",
        "####A dictionary is a collection which is ordered*, changeable and do not allow duplicates.\n",
        "\n",
        "####Dictionaries are written with curly brackets and have keys and values.\n",
        "\n",
        "\n",
        "####Below some of the **Dictionary** exercises have been obtained from [here](https://www.w3resource.com/python-exercises/dictionary/)\n",
        "\n",
        "####And some are just random google search.\n",
        "\n",
        "#### This can serve you and me for quick reference.\n",
        "\n",
        "####Remember \n",
        "\n",
        "\n",
        "1.   Practice\n",
        "2.   Revisit after 3 days.\n",
        "3. Revisit after a week.\n",
        " \n",
        "#####And I am nailed in your brain.\n",
        "\n",
        "\n"
      ],
      "metadata": {
        "id": "vHEwCisrZspF"
      }
    },
    {
      "cell_type": "code",
      "source": [
        "dicts = {}\n",
        "keys = range(4)\n",
        "values = [\"Hi\", \"I\", \"am\", \"John\"]\n",
        "for i in keys:\n",
        "  dicts[i] = values[i]  \n",
        "print(dicts)"
      ],
      "metadata": {
        "colab": {
          "base_uri": "https://localhost:8080/"
        },
        "id": "MXdFtPPAal64",
        "outputId": "d874963a-8b65-4a32-a2c9-ba8e446f19d2"
      },
      "execution_count": null,
      "outputs": [
        {
          "output_type": "stream",
          "name": "stdout",
          "text": [
            "{0: 'Hi', 1: 'I', 2: 'am', 3: 'John'}\n"
          ]
        }
      ]
    },
    {
      "cell_type": "code",
      "source": [
        "str='i am back'"
      ],
      "metadata": {
        "id": "xZ1ho6Enb3p0"
      },
      "execution_count": null,
      "outputs": []
    },
    {
      "cell_type": "code",
      "source": [
        "str_list=list(str.split(\" \"))"
      ],
      "metadata": {
        "id": "uOGhCTjy5qva"
      },
      "execution_count": null,
      "outputs": []
    },
    {
      "cell_type": "code",
      "source": [
        "str_list"
      ],
      "metadata": {
        "colab": {
          "base_uri": "https://localhost:8080/"
        },
        "id": "2eIC3OVj51uY",
        "outputId": "e1565422-e49c-4462-aeed-73c9d334327c"
      },
      "execution_count": null,
      "outputs": [
        {
          "output_type": "execute_result",
          "data": {
            "text/plain": [
              "['i', 'am', 'back']"
            ]
          },
          "metadata": {},
          "execution_count": 4
        }
      ]
    },
    {
      "cell_type": "code",
      "source": [
        "str_list=list(str)"
      ],
      "metadata": {
        "id": "yXjA7-9K52iJ"
      },
      "execution_count": null,
      "outputs": []
    },
    {
      "cell_type": "code",
      "source": [
        "str_list"
      ],
      "metadata": {
        "id": "Mf8RyHOkCUvC",
        "outputId": "0ae43211-7f21-4f8e-ff95-a5869f823c25",
        "colab": {
          "base_uri": "https://localhost:8080/"
        }
      },
      "execution_count": null,
      "outputs": [
        {
          "output_type": "execute_result",
          "data": {
            "text/plain": [
              "['i', ' ', 'a', 'm', ' ', 'b', 'a', 'c', 'k']"
            ]
          },
          "metadata": {},
          "execution_count": 6
        }
      ]
    },
    {
      "cell_type": "code",
      "source": [
        "dict={}\n",
        "keys=range(5)\n",
        "intro=[\"Hi\",\"I\",\"am\",\"Arpit\",\"Sharma\"]\n",
        "for x in keys:\n",
        "  dict[x]=intro[x]\n",
        "print(dict)"
      ],
      "metadata": {
        "id": "8ZQr2P1QCVhM",
        "outputId": "ab103d86-19b3-4efc-e01a-c619618d43c8",
        "colab": {
          "base_uri": "https://localhost:8080/"
        }
      },
      "execution_count": null,
      "outputs": [
        {
          "output_type": "stream",
          "name": "stdout",
          "text": [
            "{0: 'Hi', 1: 'I', 2: 'am', 3: 'Arpit', 4: 'Sharma'}\n"
          ]
        }
      ]
    },
    {
      "cell_type": "code",
      "source": [
        "dicts={}\n",
        "str=['a','b','c','d','e']\n",
        "for x in range(5):\n",
        "  dicts[x]=str[x]\n",
        "print(dicts)"
      ],
      "metadata": {
        "id": "MNDz2D1q0uls",
        "outputId": "7926bf00-7f8d-41db-cff5-58f9b0616476",
        "colab": {
          "base_uri": "https://localhost:8080/"
        }
      },
      "execution_count": null,
      "outputs": [
        {
          "output_type": "stream",
          "name": "stdout",
          "text": [
            "{0: 'a', 1: 'b', 2: 'c', 3: 'd', 4: 'e'}\n"
          ]
        }
      ]
    },
    {
      "cell_type": "code",
      "source": [
        "str=[1,2,[3,4. ,[5],[6,7,[8,[9]]]]]"
      ],
      "metadata": {
        "id": "wusNyDSB1XPd"
      },
      "execution_count": null,
      "outputs": []
    },
    {
      "cell_type": "code",
      "source": [
        "new_str=[i for i in str]"
      ],
      "metadata": {
        "id": "TJUdvJuZ1zON"
      },
      "execution_count": null,
      "outputs": []
    },
    {
      "cell_type": "code",
      "source": [
        "print(new_str)"
      ],
      "metadata": {
        "id": "1la2uJeh2FmM",
        "outputId": "5ef66e06-52cd-45c5-f8ba-b5d6587ab247",
        "colab": {
          "base_uri": "https://localhost:8080/"
        }
      },
      "execution_count": null,
      "outputs": [
        {
          "output_type": "stream",
          "name": "stdout",
          "text": [
            "[1, 2, [3, 4.0, [5], [6, 7, [8, [9]]]]]\n"
          ]
        }
      ]
    },
    {
      "cell_type": "code",
      "source": [
        "def flatlist(item):\n",
        "  flat=[]\n",
        "  for element in item:\n",
        "    if type(element) is list:\n",
        "      for item in element:\n",
        "        flat.append(item)\n",
        "    else:\n",
        "        flat.append(element)\n",
        "  return flat"
      ],
      "metadata": {
        "id": "lZtlWH9x2eY2"
      },
      "execution_count": null,
      "outputs": []
    },
    {
      "cell_type": "code",
      "source": [
        "flatlist(new_str)"
      ],
      "metadata": {
        "id": "FyLKhY5k3xyU",
        "outputId": "aaeeee32-f593-487f-a2cf-e76b7779dfba",
        "colab": {
          "base_uri": "https://localhost:8080/"
        }
      },
      "execution_count": null,
      "outputs": [
        {
          "output_type": "execute_result",
          "data": {
            "text/plain": [
              "[1, 2, 3, 4.0, [5], [6, 7, [8, [9]]]]"
            ]
          },
          "metadata": {},
          "execution_count": 18
        }
      ]
    },
    {
      "cell_type": "code",
      "source": [
        "# regular_list = [[1, 2, 3, 4], [5, 6, 7], [8, 9]]\n",
        "a = [1,2,[3,4,[5],[6,7,[8,[9]]]]]\n",
        "sum(a, [])"
      ],
      "metadata": {
        "id": "9AUNGazH3zr0",
        "outputId": "bee211fe-69d0-4798-9a1c-70be24559d3d",
        "colab": {
          "base_uri": "https://localhost:8080/",
          "height": 200
        }
      },
      "execution_count": null,
      "outputs": [
        {
          "output_type": "error",
          "ename": "TypeError",
          "evalue": "ignored",
          "traceback": [
            "\u001b[0;31m---------------------------------------------------------------------------\u001b[0m",
            "\u001b[0;31mTypeError\u001b[0m                                 Traceback (most recent call last)",
            "\u001b[0;32m<ipython-input-29-78588e158d54>\u001b[0m in \u001b[0;36m<module>\u001b[0;34m()\u001b[0m\n\u001b[1;32m      1\u001b[0m \u001b[0;31m# regular_list = [[1, 2, 3, 4], [5, 6, 7], [8, 9]]\u001b[0m\u001b[0;34m\u001b[0m\u001b[0;34m\u001b[0m\u001b[0;34m\u001b[0m\u001b[0m\n\u001b[1;32m      2\u001b[0m \u001b[0ma\u001b[0m \u001b[0;34m=\u001b[0m \u001b[0;34m[\u001b[0m\u001b[0;36m1\u001b[0m\u001b[0;34m,\u001b[0m\u001b[0;36m2\u001b[0m\u001b[0;34m,\u001b[0m\u001b[0;34m[\u001b[0m\u001b[0;36m3\u001b[0m\u001b[0;34m,\u001b[0m\u001b[0;36m4\u001b[0m\u001b[0;34m,\u001b[0m\u001b[0;34m[\u001b[0m\u001b[0;36m5\u001b[0m\u001b[0;34m]\u001b[0m\u001b[0;34m,\u001b[0m\u001b[0;34m[\u001b[0m\u001b[0;36m6\u001b[0m\u001b[0;34m,\u001b[0m\u001b[0;36m7\u001b[0m\u001b[0;34m,\u001b[0m\u001b[0;34m[\u001b[0m\u001b[0;36m8\u001b[0m\u001b[0;34m,\u001b[0m\u001b[0;34m[\u001b[0m\u001b[0;36m9\u001b[0m\u001b[0;34m]\u001b[0m\u001b[0;34m]\u001b[0m\u001b[0;34m]\u001b[0m\u001b[0;34m]\u001b[0m\u001b[0;34m]\u001b[0m\u001b[0;34m\u001b[0m\u001b[0;34m\u001b[0m\u001b[0m\n\u001b[0;32m----> 3\u001b[0;31m \u001b[0msum\u001b[0m\u001b[0;34m(\u001b[0m\u001b[0ma\u001b[0m\u001b[0;34m,\u001b[0m \u001b[0;34m[\u001b[0m\u001b[0;34m]\u001b[0m\u001b[0;34m)\u001b[0m\u001b[0;34m\u001b[0m\u001b[0;34m\u001b[0m\u001b[0m\n\u001b[0m",
            "\u001b[0;31mTypeError\u001b[0m: can only concatenate list (not \"int\") to list"
          ]
        }
      ]
    },
    {
      "cell_type": "code",
      "source": [
        "flat_list"
      ],
      "metadata": {
        "id": "zDJYg3Nq4fMM",
        "outputId": "c40776c6-bfc5-4ae2-8b38-d3dbbcccf51f",
        "colab": {
          "base_uri": "https://localhost:8080/"
        }
      },
      "execution_count": null,
      "outputs": [
        {
          "output_type": "execute_result",
          "data": {
            "text/plain": [
              "[1, 2, 3, 4, 5, 6, 7, 8, 9]"
            ]
          },
          "metadata": {},
          "execution_count": 20
        }
      ]
    },
    {
      "cell_type": "code",
      "source": [
        "t = [1,2,[3,4,[5],[6,7,[8,[9]]]]]\n"
      ],
      "metadata": {
        "id": "DZKjkVyN4gAs"
      },
      "execution_count": null,
      "outputs": []
    },
    {
      "cell_type": "code",
      "source": [
        "from iteration_utilities import deepflatten"
      ],
      "metadata": {
        "id": "dWKE9e7K6H2d",
        "outputId": "0451b0ad-50cb-45c1-f092-b7c9e341f13c",
        "colab": {
          "base_uri": "https://localhost:8080/",
          "height": 304
        }
      },
      "execution_count": null,
      "outputs": [
        {
          "output_type": "error",
          "ename": "ModuleNotFoundError",
          "evalue": "ignored",
          "traceback": [
            "\u001b[0;31m---------------------------------------------------------------------------\u001b[0m",
            "\u001b[0;31mModuleNotFoundError\u001b[0m                       Traceback (most recent call last)",
            "\u001b[0;32m<ipython-input-44-bd12aa818935>\u001b[0m in \u001b[0;36m<module>\u001b[0;34m()\u001b[0m\n\u001b[0;32m----> 1\u001b[0;31m \u001b[0;32mfrom\u001b[0m \u001b[0miteration_utilities\u001b[0m \u001b[0;32mimport\u001b[0m \u001b[0mdeepflatten\u001b[0m\u001b[0;34m\u001b[0m\u001b[0;34m\u001b[0m\u001b[0m\n\u001b[0m",
            "\u001b[0;31mModuleNotFoundError\u001b[0m: No module named 'iteration_utilities'",
            "",
            "\u001b[0;31m---------------------------------------------------------------------------\u001b[0;32m\nNOTE: If your import is failing due to a missing package, you can\nmanually install dependencies using either !pip or !apt.\n\nTo view examples of installing some common dependencies, click the\n\"Open Examples\" button below.\n\u001b[0;31m---------------------------------------------------------------------------\u001b[0m\n"
          ],
          "errorDetails": {
            "actions": [
              {
                "action": "open_url",
                "actionText": "Open Examples",
                "url": "/notebooks/snippets/importing_libraries.ipynb"
              }
            ]
          }
        }
      ]
    },
    {
      "cell_type": "code",
      "source": [
        "print(sum(t))"
      ],
      "metadata": {
        "id": "EJ8ac0Mt7sFL",
        "outputId": "567d7fdf-567c-4eba-d341-2622c5fbe60c",
        "colab": {
          "base_uri": "https://localhost:8080/",
          "height": 165
        }
      },
      "execution_count": null,
      "outputs": [
        {
          "output_type": "error",
          "ename": "TypeError",
          "evalue": "ignored",
          "traceback": [
            "\u001b[0;31m---------------------------------------------------------------------------\u001b[0m",
            "\u001b[0;31mTypeError\u001b[0m                                 Traceback (most recent call last)",
            "\u001b[0;32m<ipython-input-48-a6f10b44423c>\u001b[0m in \u001b[0;36m<module>\u001b[0;34m()\u001b[0m\n\u001b[0;32m----> 1\u001b[0;31m \u001b[0mprint\u001b[0m\u001b[0;34m(\u001b[0m\u001b[0msum\u001b[0m\u001b[0;34m(\u001b[0m\u001b[0mt\u001b[0m\u001b[0;34m)\u001b[0m\u001b[0;34m)\u001b[0m\u001b[0;34m\u001b[0m\u001b[0;34m\u001b[0m\u001b[0m\n\u001b[0m",
            "\u001b[0;31mTypeError\u001b[0m: unsupported operand type(s) for +: 'int' and 'list'"
          ]
        }
      ]
    },
    {
      "cell_type": "code",
      "source": [
        "duplicates=['a','b','c','d','e','f','g','h','i','j','b','d','e','g']"
      ],
      "metadata": {
        "id": "MPas9ZqD8LhL"
      },
      "execution_count": null,
      "outputs": []
    },
    {
      "cell_type": "code",
      "source": [
        "def removeDup(items):\n",
        "  orig=[]\n",
        "  orig=set(items)\n",
        "  return orig"
      ],
      "metadata": {
        "id": "keTrk5eB9UtP"
      },
      "execution_count": null,
      "outputs": []
    },
    {
      "cell_type": "code",
      "source": [
        "removeDup(duplicates)"
      ],
      "metadata": {
        "id": "Nar4Qtpp9rg2",
        "outputId": "84e75e57-6db3-409c-a6bc-5f69220e3a39",
        "colab": {
          "base_uri": "https://localhost:8080/"
        }
      },
      "execution_count": null,
      "outputs": [
        {
          "output_type": "execute_result",
          "data": {
            "text/plain": [
              "{'a', 'b', 'c', 'd', 'e', 'f', 'g', 'h', 'i', 'j'}"
            ]
          },
          "metadata": {},
          "execution_count": 54
        }
      ]
    },
    {
      "cell_type": "code",
      "source": [
        "str=\"17 people found this interview helpful\""
      ],
      "metadata": {
        "id": "bdGIslpv9tZW"
      },
      "execution_count": null,
      "outputs": []
    },
    {
      "cell_type": "code",
      "source": [
        "x=str.split(\" \")"
      ],
      "metadata": {
        "id": "b8ez7Hhm98L_"
      },
      "execution_count": null,
      "outputs": []
    },
    {
      "cell_type": "code",
      "source": [
        "print(x)"
      ],
      "metadata": {
        "id": "pz86YUdE-CdW",
        "outputId": "7cb1c0d2-348d-4f3a-dd4e-b7d751e728d5",
        "colab": {
          "base_uri": "https://localhost:8080/"
        }
      },
      "execution_count": null,
      "outputs": [
        {
          "output_type": "stream",
          "name": "stdout",
          "text": [
            "['17', 'people', 'found', 'this', 'interview', 'helpful']\n"
          ]
        }
      ]
    },
    {
      "cell_type": "code",
      "source": [
        "print(len(x))"
      ],
      "metadata": {
        "id": "7pCbn3e0-Dd1",
        "outputId": "1ebca0af-0d8b-451c-f858-0c8ff5d462b6",
        "colab": {
          "base_uri": "https://localhost:8080/"
        }
      },
      "execution_count": null,
      "outputs": [
        {
          "output_type": "stream",
          "name": "stdout",
          "text": [
            "6\n"
          ]
        }
      ]
    },
    {
      "cell_type": "code",
      "source": [
        "import random\n",
        "x=random.sample(range(1,10),5)"
      ],
      "metadata": {
        "id": "duDwhrID-Hen"
      },
      "execution_count": null,
      "outputs": []
    },
    {
      "cell_type": "code",
      "source": [
        "x"
      ],
      "metadata": {
        "id": "5A0kuvXP-W-e",
        "outputId": "6ba74fc4-9c7c-4bb2-a3a3-50fbff3064c8",
        "colab": {
          "base_uri": "https://localhost:8080/"
        }
      },
      "execution_count": null,
      "outputs": [
        {
          "output_type": "execute_result",
          "data": {
            "text/plain": [
              "[2, 9, 5, 4, 6]"
            ]
          },
          "metadata": {},
          "execution_count": 66
        }
      ]
    },
    {
      "cell_type": "code",
      "source": [
        "a_list = [1, 2, 2, 3, 3, 3, 4, 4, 5]"
      ],
      "metadata": {
        "id": "D12rjbRK-8rp"
      },
      "execution_count": null,
      "outputs": []
    },
    {
      "cell_type": "code",
      "source": [
        "import matplotlib.pyplot as plt\n",
        "plt.hist(a_list,5)"
      ],
      "metadata": {
        "id": "ihraTV2--iRm",
        "outputId": "89cf7334-4f9b-470e-b196-4d0fa4d60085",
        "colab": {
          "base_uri": "https://localhost:8080/",
          "height": 317
        }
      },
      "execution_count": null,
      "outputs": [
        {
          "output_type": "execute_result",
          "data": {
            "text/plain": [
              "(array([1., 2., 3., 2., 1.]),\n",
              " array([1. , 1.8, 2.6, 3.4, 4.2, 5. ]),\n",
              " <a list of 5 Patch objects>)"
            ]
          },
          "metadata": {},
          "execution_count": 69
        },
        {
          "output_type": "display_data",
          "data": {
            "image/png": "[encoded data removed]",
            "text/plain": [
              "<Figure size 432x288 with 1 Axes>"
            ]
          },
          "metadata": {
            "needs_background": "light"
          }
        }
      ]
    },
    {
      "cell_type": "code",
      "source": [
        "x=random.sample(range(1,10),8)"
      ],
      "metadata": {
        "id": "hqmMp6qG-snG"
      },
      "execution_count": null,
      "outputs": []
    },
    {
      "cell_type": "code",
      "source": [
        "plt.hist(x,5)"
      ],
      "metadata": {
        "id": "ugIGhnjV_TZi",
        "outputId": "6091b48d-5bfc-4892-8ce2-776449f6d663",
        "colab": {
          "base_uri": "https://localhost:8080/",
          "height": 317
        }
      },
      "execution_count": null,
      "outputs": [
        {
          "output_type": "execute_result",
          "data": {
            "text/plain": [
              "(array([1., 2., 1., 2., 2.]),\n",
              " array([1. , 2.6, 4.2, 5.8, 7.4, 9. ]),\n",
              " <a list of 5 Patch objects>)"
            ]
          },
          "metadata": {},
          "execution_count": 74
        },
        {
          "output_type": "display_data",
          "data": {
            "image/png": "[encoded data removed]",
            "text/plain": [
              "<Figure size 432x288 with 1 Axes>"
            ]
          },
          "metadata": {
            "needs_background": "light"
          }
        }
      ]
    },
    {
      "cell_type": "code",
      "source": [
        "#ELements on Odd Positions\n",
        "x=['a','b','c','d','e','f','g','h']\n",
        "x=[0,1,2,3,4,5]\n",
        "#x=[1,-1,2,-2]\n",
        "x=[1,1,1]\n",
        "x=[1,-1,3]"
      ],
      "metadata": {
        "id": "1cxnoT8__X8-"
      },
      "execution_count": null,
      "outputs": []
    },
    {
      "cell_type": "code",
      "source": [
        "def oddlist(items):\n",
        "  odd=[]\n",
        "  for x in range(len(items)):\n",
        "    if x%2!=0:\n",
        "      odd.append(items[x])\n",
        "  return odd\n"
      ],
      "metadata": {
        "id": "-DNPAMA-F3S2"
      },
      "execution_count": null,
      "outputs": []
    },
    {
      "cell_type": "code",
      "source": [
        "oddlist(x)"
      ],
      "metadata": {
        "id": "yvN5uKROGbDv",
        "outputId": "0f4ed12c-3695-4f17-ff3a-5744bef7ad87",
        "colab": {
          "base_uri": "https://localhost:8080/"
        }
      },
      "execution_count": null,
      "outputs": [
        {
          "output_type": "execute_result",
          "data": {
            "text/plain": [
              "[-1, -2]"
            ]
          },
          "metadata": {},
          "execution_count": 83
        }
      ]
    },
    {
      "cell_type": "code",
      "source": [
        "#Cumulative Sum of List:\n",
        "def cumulativeSum(items):\n",
        "  sumlist=[]\n",
        "  sum=0\n",
        "  for x in items:\n",
        "    sum+=x\n",
        "    sumlist.append(sum)\n",
        "  return sumlist\n"
      ],
      "metadata": {
        "id": "rSPCzL-8Gcif"
      },
      "execution_count": null,
      "outputs": []
    },
    {
      "cell_type": "code",
      "source": [
        "cumulativeSum(x)"
      ],
      "metadata": {
        "id": "Upq0XDA9HUgA",
        "outputId": "7857b06e-d244-4bdf-e883-dee650b50037",
        "colab": {
          "base_uri": "https://localhost:8080/"
        }
      },
      "execution_count": null,
      "outputs": [
        {
          "output_type": "execute_result",
          "data": {
            "text/plain": [
              "[1, 0, 3]"
            ]
          },
          "metadata": {},
          "execution_count": 92
        }
      ]
    },
    {
      "cell_type": "code",
      "source": [
        "nos1=123"
      ],
      "metadata": {
        "id": "lGv5FMKiHW2w"
      },
      "execution_count": 1,
      "outputs": []
    },
    {
      "cell_type": "code",
      "source": [
        "def list(items):\n",
        "  listing=[]\n",
        "  for x in range(len(nos1)-1): \n",
        "    listing.append(int(items[x:x+1]))\n",
        "  return listing"
      ],
      "metadata": {
        "id": "JWq_0rNOHyam"
      },
      "execution_count": 2,
      "outputs": []
    },
    {
      "cell_type": "code",
      "source": [
        "list(nos1)"
      ],
      "metadata": {
        "id": "aOtHbmg4H3cQ",
        "outputId": "d948c2d8-a1bc-41ff-ecae-65053f562b91",
        "colab": {
          "base_uri": "https://localhost:8080/",
          "height": 287
        }
      },
      "execution_count": 3,
      "outputs": [
        {
          "output_type": "error",
          "ename": "TypeError",
          "evalue": "ignored",
          "traceback": [
            "\u001b[0;31m---------------------------------------------------------------------------\u001b[0m",
            "\u001b[0;31mTypeError\u001b[0m                                 Traceback (most recent call last)",
            "\u001b[0;32m<ipython-input-3-8380606fe3fe>\u001b[0m in \u001b[0;36m<module>\u001b[0;34m()\u001b[0m\n\u001b[0;32m----> 1\u001b[0;31m \u001b[0mlist\u001b[0m\u001b[0;34m(\u001b[0m\u001b[0mnos1\u001b[0m\u001b[0;34m)\u001b[0m\u001b[0;34m\u001b[0m\u001b[0;34m\u001b[0m\u001b[0m\n\u001b[0m",
            "\u001b[0;32m<ipython-input-2-0a6a27a5c623>\u001b[0m in \u001b[0;36mlist\u001b[0;34m(items)\u001b[0m\n\u001b[1;32m      1\u001b[0m \u001b[0;32mdef\u001b[0m \u001b[0mlist\u001b[0m\u001b[0;34m(\u001b[0m\u001b[0mitems\u001b[0m\u001b[0;34m)\u001b[0m\u001b[0;34m:\u001b[0m\u001b[0;34m\u001b[0m\u001b[0;34m\u001b[0m\u001b[0m\n\u001b[1;32m      2\u001b[0m   \u001b[0mlisting\u001b[0m\u001b[0;34m=\u001b[0m\u001b[0;34m[\u001b[0m\u001b[0;34m]\u001b[0m\u001b[0;34m\u001b[0m\u001b[0;34m\u001b[0m\u001b[0m\n\u001b[0;32m----> 3\u001b[0;31m   \u001b[0;32mfor\u001b[0m \u001b[0mx\u001b[0m \u001b[0;32min\u001b[0m \u001b[0mrange\u001b[0m\u001b[0;34m(\u001b[0m\u001b[0mlen\u001b[0m\u001b[0;34m(\u001b[0m\u001b[0mnos1\u001b[0m\u001b[0;34m)\u001b[0m\u001b[0;34m-\u001b[0m\u001b[0;36m1\u001b[0m\u001b[0;34m)\u001b[0m\u001b[0;34m:\u001b[0m\u001b[0;34m\u001b[0m\u001b[0;34m\u001b[0m\u001b[0m\n\u001b[0m\u001b[1;32m      4\u001b[0m     \u001b[0mlisting\u001b[0m\u001b[0;34m.\u001b[0m\u001b[0mappend\u001b[0m\u001b[0;34m(\u001b[0m\u001b[0mint\u001b[0m\u001b[0;34m(\u001b[0m\u001b[0mitems\u001b[0m\u001b[0;34m[\u001b[0m\u001b[0mx\u001b[0m\u001b[0;34m:\u001b[0m\u001b[0mx\u001b[0m\u001b[0;34m+\u001b[0m\u001b[0;36m1\u001b[0m\u001b[0;34m]\u001b[0m\u001b[0;34m)\u001b[0m\u001b[0;34m)\u001b[0m\u001b[0;34m\u001b[0m\u001b[0;34m\u001b[0m\u001b[0m\n\u001b[1;32m      5\u001b[0m   \u001b[0;32mreturn\u001b[0m \u001b[0mlisting\u001b[0m\u001b[0;34m\u001b[0m\u001b[0;34m\u001b[0m\u001b[0m\n",
            "\u001b[0;31mTypeError\u001b[0m: object of type 'int' has no len()"
          ]
        }
      ]
    },
    {
      "cell_type": "code",
      "source": [
        "listing=[int(x) for x in str(nos1)]"
      ],
      "metadata": {
        "id": "6I1P9uc1IWZv"
      },
      "execution_count": 4,
      "outputs": []
    },
    {
      "cell_type": "code",
      "source": [
        "num = 13579\n",
        "x = [a for a in num]\n",
        "print(x)"
      ],
      "metadata": {
        "id": "sMaICpzuLrfA",
        "outputId": "0fd7e61c-afad-46b1-9238-615eb1267356",
        "colab": {
          "base_uri": "https://localhost:8080/",
          "height": 200
        }
      },
      "execution_count": 5,
      "outputs": [
        {
          "output_type": "error",
          "ename": "TypeError",
          "evalue": "ignored",
          "traceback": [
            "\u001b[0;31m---------------------------------------------------------------------------\u001b[0m",
            "\u001b[0;31mTypeError\u001b[0m                                 Traceback (most recent call last)",
            "\u001b[0;32m<ipython-input-5-e35cc6724466>\u001b[0m in \u001b[0;36m<module>\u001b[0;34m()\u001b[0m\n\u001b[1;32m      1\u001b[0m \u001b[0mnum\u001b[0m \u001b[0;34m=\u001b[0m \u001b[0;36m13579\u001b[0m\u001b[0;34m\u001b[0m\u001b[0;34m\u001b[0m\u001b[0m\n\u001b[0;32m----> 2\u001b[0;31m \u001b[0mx\u001b[0m \u001b[0;34m=\u001b[0m \u001b[0;34m[\u001b[0m\u001b[0ma\u001b[0m \u001b[0;32mfor\u001b[0m \u001b[0ma\u001b[0m \u001b[0;32min\u001b[0m \u001b[0mnum\u001b[0m\u001b[0;34m]\u001b[0m\u001b[0;34m\u001b[0m\u001b[0;34m\u001b[0m\u001b[0m\n\u001b[0m\u001b[1;32m      3\u001b[0m \u001b[0mprint\u001b[0m\u001b[0;34m(\u001b[0m\u001b[0mx\u001b[0m\u001b[0;34m)\u001b[0m\u001b[0;34m\u001b[0m\u001b[0;34m\u001b[0m\u001b[0m\n",
            "\u001b[0;31mTypeError\u001b[0m: 'int' object is not iterable"
          ]
        }
      ]
    },
    {
      "cell_type": "markdown",
      "source": [
        ""
      ],
      "metadata": {
        "id": "a7Jp0IANF4Hz"
      }
    },
    {
      "cell_type": "markdown",
      "source": [
        "Flatten A List\n",
        "\n",
        "Number to List\n",
        "\n",
        "Middle Number of List"
      ],
      "metadata": {
        "id": "wt7X1fwJNmvM"
      }
    },
    {
      "cell_type": "code",
      "source": [
        ""
      ],
      "metadata": {
        "id": "TeRZSetYL9cJ"
      },
      "execution_count": null,
      "outputs": []
    },
    {
      "cell_type": "markdown",
      "source": [
        "W3 Resource Exercise:"
      ],
      "metadata": {
        "id": "pSsQdhmcF5cE"
      }
    },
    {
      "cell_type": "code",
      "source": [
        "d = {1: 10, 2: 20, 3: 30, 4: 40, 5: 50, 6: 60}"
      ],
      "metadata": {
        "id": "B0jmxI4kF7sy"
      },
      "execution_count": null,
      "outputs": []
    },
    {
      "cell_type": "code",
      "source": [
        "#check whether a given key already exists in a dictionary.\n",
        "\n",
        "def does_key_exist(key):\n",
        "  if key in d:\n",
        "    print(\"Yes\")\n",
        "  else:\n",
        "    print(\"No\")\n"
      ],
      "metadata": {
        "id": "TvH95YhEF8Si"
      },
      "execution_count": null,
      "outputs": []
    },
    {
      "cell_type": "code",
      "source": [
        "does_key_exist(7)"
      ],
      "metadata": {
        "id": "RofcGq6TGMHK",
        "outputId": "55899d7e-7b3f-4619-92af-16bdac4d2088",
        "colab": {
          "base_uri": "https://localhost:8080/"
        }
      },
      "execution_count": null,
      "outputs": [
        {
          "output_type": "stream",
          "name": "stdout",
          "text": [
            "No\n"
          ]
        }
      ]
    },
    {
      "cell_type": "code",
      "source": [
        "does_key_exist(5)"
      ],
      "metadata": {
        "id": "GFxhZovXGOna",
        "outputId": "719c6c83-b7c8-48d1-d5e3-b06988e457ce",
        "colab": {
          "base_uri": "https://localhost:8080/"
        }
      },
      "execution_count": null,
      "outputs": [
        {
          "output_type": "stream",
          "name": "stdout",
          "text": [
            "Yes\n"
          ]
        }
      ]
    },
    {
      "cell_type": "code",
      "source": [
        "#iterate over dictionaries using for loops.\n",
        "\n",
        "d = {'x': 10, 'y': 20, 'z': 30} "
      ],
      "metadata": {
        "id": "RKt9vgzhGQjy"
      },
      "execution_count": 15,
      "outputs": []
    },
    {
      "cell_type": "code",
      "source": [
        "for d_key, d_value in d.items():\n",
        "  print(d_key,'->',d_value)"
      ],
      "metadata": {
        "id": "hSqffJNnGejp",
        "outputId": "441186d7-26d0-4cd3-b46c-ea0ca57bc3fd",
        "colab": {
          "base_uri": "https://localhost:8080/"
        }
      },
      "execution_count": 16,
      "outputs": [
        {
          "output_type": "stream",
          "name": "stdout",
          "text": [
            "x -> 10\n",
            "y -> 20\n",
            "z -> 30\n"
          ]
        }
      ]
    },
    {
      "cell_type": "code",
      "source": [
        "def max_min(d):\n",
        "  max_v= max(d, key= d.get)\n",
        "  min_v= min(d, key=d.get)\n",
        "  return max_v , min_v"
      ],
      "metadata": {
        "id": "qM6XTpmfGylr"
      },
      "execution_count": 17,
      "outputs": []
    },
    {
      "cell_type": "code",
      "source": [
        "max_min(d)"
      ],
      "metadata": {
        "id": "9vNqq-OuIVYS",
        "outputId": "98b242e5-7fda-412e-9bff-727126a9c5a0",
        "colab": {
          "base_uri": "https://localhost:8080/"
        }
      },
      "execution_count": 18,
      "outputs": [
        {
          "output_type": "execute_result",
          "data": {
            "text/plain": [
              "('z', 'x')"
            ]
          },
          "metadata": {},
          "execution_count": 18
        }
      ]
    },
    {
      "cell_type": "code",
      "source": [
        "#return only values of dict\n",
        "d = {'x': 10, 'y': 20, 'z': 30} "
      ],
      "metadata": {
        "id": "8gPRWD5gIX06"
      },
      "execution_count": 19,
      "outputs": []
    },
    {
      "cell_type": "code",
      "source": [
        "values_d=d.values()"
      ],
      "metadata": {
        "id": "XeJbCJGaJWEb"
      },
      "execution_count": 21,
      "outputs": []
    },
    {
      "cell_type": "code",
      "source": [
        "values_d"
      ],
      "metadata": {
        "id": "JIA7U1DZJgXT",
        "outputId": "6ac6854f-2658-4819-b50e-b0d5b11d9abe",
        "colab": {
          "base_uri": "https://localhost:8080/"
        }
      },
      "execution_count": 24,
      "outputs": [
        {
          "output_type": "execute_result",
          "data": {
            "text/plain": [
              "dict_values([10, 20, 30])"
            ]
          },
          "metadata": {},
          "execution_count": 24
        }
      ]
    },
    {
      "cell_type": "code",
      "source": [
        "key_d=d.keys()"
      ],
      "metadata": {
        "id": "s-g74mSJJh5r"
      },
      "execution_count": 26,
      "outputs": []
    },
    {
      "cell_type": "code",
      "source": [
        "key_d"
      ],
      "metadata": {
        "id": "47glSZSdJqh5",
        "outputId": "935c2667-6a29-4714-85b1-61124509646f",
        "colab": {
          "base_uri": "https://localhost:8080/"
        }
      },
      "execution_count": 27,
      "outputs": [
        {
          "output_type": "execute_result",
          "data": {
            "text/plain": [
              "dict_keys(['x', 'y', 'z'])"
            ]
          },
          "metadata": {},
          "execution_count": 27
        }
      ]
    },
    {
      "cell_type": "code",
      "source": [
        "len(d)"
      ],
      "metadata": {
        "id": "IvVWGDOzJrIy",
        "outputId": "3f4836b4-f914-4a88-904e-0aeeba3e4ed9",
        "colab": {
          "base_uri": "https://localhost:8080/"
        }
      },
      "execution_count": 28,
      "outputs": [
        {
          "output_type": "execute_result",
          "data": {
            "text/plain": [
              "3"
            ]
          },
          "metadata": {},
          "execution_count": 28
        }
      ]
    },
    {
      "cell_type": "code",
      "source": [
        "elements=[\"a\", \"b\", \"abc\", \"c\", \"a\"]"
      ],
      "metadata": {
        "id": "LUZ9pj9qKnjL"
      },
      "execution_count": 29,
      "outputs": []
    },
    {
      "cell_type": "code",
      "source": [
        "def balance(items):\n",
        "  for x in items:\n",
        "    return x"
      ],
      "metadata": {
        "id": "KnZzKcE6MN07"
      },
      "execution_count": 32,
      "outputs": []
    },
    {
      "cell_type": "code",
      "source": [
        "balance(elements)"
      ],
      "metadata": {
        "id": "eTW3euPwMdTT",
        "outputId": "03bff9a8-be01-4d17-ab56-f6615aef4512",
        "colab": {
          "base_uri": "https://localhost:8080/",
          "height": 35
        }
      },
      "execution_count": 33,
      "outputs": [
        {
          "output_type": "execute_result",
          "data": {
            "application/vnd.google.colaboratory.intrinsic+json": {
              "type": "string"
            },
            "text/plain": [
              "'a'"
            ]
          },
          "metadata": {},
          "execution_count": 33
        }
      ]
    },
    {
      "cell_type": "code",
      "source": [
        "#Convert Dict to List:\n",
        "d = {'Red': 1, 'Green': 3, 'White': 5, 'Black': 2, 'Pink': 4}\n",
        "# l=list(d.items())"
      ],
      "metadata": {
        "id": "oxIRHuM6Met7"
      },
      "execution_count": 35,
      "outputs": []
    },
    {
      "cell_type": "code",
      "source": [
        "print(l)"
      ],
      "metadata": {
        "id": "mobyZJVSW5Md",
        "outputId": "ef7f2f3c-f736-41b5-99b6-59e67bd93293",
        "colab": {
          "base_uri": "https://localhost:8080/"
        }
      },
      "execution_count": null,
      "outputs": [
        {
          "output_type": "stream",
          "name": "stdout",
          "text": [
            "[('Red', 1), ('Green', 3), ('White', 5), ('Black', 2), ('Pink', 4)]\n"
          ]
        }
      ]
    },
    {
      "cell_type": "code",
      "source": [
        "#Convert 2 lists in dictionary:\n",
        "l1 = ['a', 'b', 'c', 'd', 'e', 'f']\n",
        "l2 = [1, 2, 3, 4, 5] \n",
        "\n",
        "l=dict(zip(l1,l2))"
      ],
      "metadata": {
        "id": "XgUy_btPW5-t"
      },
      "execution_count": null,
      "outputs": []
    },
    {
      "cell_type": "code",
      "source": [
        "l"
      ],
      "metadata": {
        "id": "PYfdffUmXVSU",
        "outputId": "3613dd44-015e-4647-da96-98579737117f",
        "colab": {
          "base_uri": "https://localhost:8080/"
        }
      },
      "execution_count": null,
      "outputs": [
        {
          "output_type": "execute_result",
          "data": {
            "text/plain": [
              "{'a': 1, 'b': 2, 'c': 3, 'd': 4, 'e': 5}"
            ]
          },
          "metadata": {},
          "execution_count": 40
        }
      ]
    },
    {
      "cell_type": "code",
      "source": [
        "def test_val(dict, val):\n",
        "  return list(key for key, value in dict.items() if value == val)"
      ],
      "metadata": {
        "id": "61C8h8unXd28"
      },
      "execution_count": null,
      "outputs": []
    },
    {
      "cell_type": "code",
      "source": [
        "students = {\n",
        "  'Theodore': 19,\n",
        "  'Roxanne': 20,\n",
        "  'Mathew': 21,\n",
        "  'Betty': 20\n",
        "}"
      ],
      "metadata": {
        "id": "y9q8qztWZJjG"
      },
      "execution_count": null,
      "outputs": []
    },
    {
      "cell_type": "code",
      "source": [
        "test_val(students,20)"
      ],
      "metadata": {
        "id": "k1TByyh3ZtjW",
        "outputId": "6c7bdd12-14e3-40e0-fef0-c01fed6e4d5f",
        "colab": {
          "base_uri": "https://localhost:8080/"
        }
      },
      "execution_count": null,
      "outputs": [
        {
          "output_type": "execute_result",
          "data": {
            "text/plain": [
              "['Roxanne', 'Betty']"
            ]
          },
          "metadata": {},
          "execution_count": 65
        }
      ]
    },
    {
      "cell_type": "code",
      "source": [
        "def test_key(dict,val):\n",
        "  return list((key,value) for (key,value), value in dict.items() if key==val )"
      ],
      "metadata": {
        "id": "AVZpCcmYaSdL"
      },
      "execution_count": null,
      "outputs": []
    },
    {
      "cell_type": "code",
      "source": [
        "test_key(students,'Theodore')"
      ],
      "metadata": {
        "id": "FiUM82P-cBdN",
        "outputId": "82fffb29-1025-4169-ce5a-54b2a7f8e315",
        "colab": {
          "base_uri": "https://localhost:8080/",
          "height": 259
        }
      },
      "execution_count": null,
      "outputs": [
        {
          "output_type": "error",
          "ename": "ValueError",
          "evalue": "ignored",
          "traceback": [
            "\u001b[0;31m---------------------------------------------------------------------------\u001b[0m",
            "\u001b[0;31mValueError\u001b[0m                                Traceback (most recent call last)",
            "\u001b[0;32m<ipython-input-75-2444bfaf0a28>\u001b[0m in \u001b[0;36m<module>\u001b[0;34m()\u001b[0m\n\u001b[0;32m----> 1\u001b[0;31m \u001b[0mtest_key\u001b[0m\u001b[0;34m(\u001b[0m\u001b[0mstudents\u001b[0m\u001b[0;34m,\u001b[0m\u001b[0;34m'Theodore'\u001b[0m\u001b[0;34m)\u001b[0m\u001b[0;34m\u001b[0m\u001b[0;34m\u001b[0m\u001b[0m\n\u001b[0m",
            "\u001b[0;32m<ipython-input-74-aedbc957b4a2>\u001b[0m in \u001b[0;36mtest_key\u001b[0;34m(dict, val)\u001b[0m\n\u001b[1;32m      1\u001b[0m \u001b[0;32mdef\u001b[0m \u001b[0mtest_key\u001b[0m\u001b[0;34m(\u001b[0m\u001b[0mdict\u001b[0m\u001b[0;34m,\u001b[0m\u001b[0mval\u001b[0m\u001b[0;34m)\u001b[0m\u001b[0;34m:\u001b[0m\u001b[0;34m\u001b[0m\u001b[0;34m\u001b[0m\u001b[0m\n\u001b[0;32m----> 2\u001b[0;31m   \u001b[0;32mreturn\u001b[0m \u001b[0mlist\u001b[0m\u001b[0;34m(\u001b[0m\u001b[0;34m(\u001b[0m\u001b[0mkey\u001b[0m\u001b[0;34m,\u001b[0m\u001b[0mvalue\u001b[0m\u001b[0;34m)\u001b[0m \u001b[0;32mfor\u001b[0m \u001b[0;34m(\u001b[0m\u001b[0mkey\u001b[0m\u001b[0;34m,\u001b[0m\u001b[0mvalue\u001b[0m\u001b[0;34m)\u001b[0m\u001b[0;34m,\u001b[0m \u001b[0mvalue\u001b[0m \u001b[0;32min\u001b[0m \u001b[0mdict\u001b[0m\u001b[0;34m.\u001b[0m\u001b[0mitems\u001b[0m\u001b[0;34m(\u001b[0m\u001b[0;34m)\u001b[0m \u001b[0;32mif\u001b[0m \u001b[0mkey\u001b[0m\u001b[0;34m==\u001b[0m\u001b[0mval\u001b[0m \u001b[0;34m)\u001b[0m\u001b[0;34m\u001b[0m\u001b[0;34m\u001b[0m\u001b[0m\n\u001b[0m",
            "\u001b[0;32m<ipython-input-74-aedbc957b4a2>\u001b[0m in \u001b[0;36m<genexpr>\u001b[0;34m(.0)\u001b[0m\n\u001b[1;32m      1\u001b[0m \u001b[0;32mdef\u001b[0m \u001b[0mtest_key\u001b[0m\u001b[0;34m(\u001b[0m\u001b[0mdict\u001b[0m\u001b[0;34m,\u001b[0m\u001b[0mval\u001b[0m\u001b[0;34m)\u001b[0m\u001b[0;34m:\u001b[0m\u001b[0;34m\u001b[0m\u001b[0;34m\u001b[0m\u001b[0m\n\u001b[0;32m----> 2\u001b[0;31m   \u001b[0;32mreturn\u001b[0m \u001b[0mlist\u001b[0m\u001b[0;34m(\u001b[0m\u001b[0;34m(\u001b[0m\u001b[0mkey\u001b[0m\u001b[0;34m,\u001b[0m\u001b[0mvalue\u001b[0m\u001b[0;34m)\u001b[0m \u001b[0;32mfor\u001b[0m \u001b[0;34m(\u001b[0m\u001b[0mkey\u001b[0m\u001b[0;34m,\u001b[0m\u001b[0mvalue\u001b[0m\u001b[0;34m)\u001b[0m\u001b[0;34m,\u001b[0m \u001b[0mvalue\u001b[0m \u001b[0;32min\u001b[0m \u001b[0mdict\u001b[0m\u001b[0;34m.\u001b[0m\u001b[0mitems\u001b[0m\u001b[0;34m(\u001b[0m\u001b[0;34m)\u001b[0m \u001b[0;32mif\u001b[0m \u001b[0mkey\u001b[0m\u001b[0;34m==\u001b[0m\u001b[0mval\u001b[0m \u001b[0;34m)\u001b[0m\u001b[0;34m\u001b[0m\u001b[0;34m\u001b[0m\u001b[0m\n\u001b[0m",
            "\u001b[0;31mValueError\u001b[0m: too many values to unpack (expected 2)"
          ]
        }
      ]
    },
    {
      "cell_type": "code",
      "source": [
        "def nth_highest(inp,n):\n",
        "  b=list(sorted(set(inp.values()), reverse=True))\n",
        "  o={k for k,v in inp.items() if v==b[n-1]}\n",
        "  return min(o)"
      ],
      "metadata": {
        "id": "vbdkCVFbcQR-"
      },
      "execution_count": null,
      "outputs": []
    },
    {
      "cell_type": "code",
      "source": [
        "names = {'peter': 40,'mike': 90, 'sam': 60,'wohn': 90, 'jimmy1': 32, 'jimmy2': 42, 'jimmy3': 52, 'jimmy4': 62, 'jimmy5': 72, 'jimmy6': 82, 'jimmy7': 92, }"
      ],
      "metadata": {
        "id": "ULVQA1aw6gaW"
      },
      "execution_count": null,
      "outputs": []
    },
    {
      "cell_type": "code",
      "source": [
        "nth_highest(names, 3)"
      ],
      "metadata": {
        "id": "yGaaosFw6lKA",
        "outputId": "5bbb9798-43db-4737-e154-c72091d7ff0e",
        "colab": {
          "base_uri": "https://localhost:8080/",
          "height": 269
        }
      },
      "execution_count": null,
      "outputs": [
        {
          "output_type": "error",
          "ename": "TypeError",
          "evalue": "ignored",
          "traceback": [
            "\u001b[0;31m---------------------------------------------------------------------------\u001b[0m",
            "\u001b[0;31mTypeError\u001b[0m                                 Traceback (most recent call last)",
            "\u001b[0;32m<ipython-input-96-6d65cd7b7063>\u001b[0m in \u001b[0;36m<module>\u001b[0;34m()\u001b[0m\n\u001b[0;32m----> 1\u001b[0;31m \u001b[0mnth_highest\u001b[0m\u001b[0;34m(\u001b[0m\u001b[0mnames\u001b[0m\u001b[0;34m,\u001b[0m \u001b[0;36m3\u001b[0m\u001b[0;34m)\u001b[0m\u001b[0;34m\u001b[0m\u001b[0;34m\u001b[0m\u001b[0m\n\u001b[0m",
            "\u001b[0;32m<ipython-input-94-38fc86ab426b>\u001b[0m in \u001b[0;36mnth_highest\u001b[0;34m(inp, n)\u001b[0m\n\u001b[1;32m      1\u001b[0m \u001b[0;32mdef\u001b[0m \u001b[0mnth_highest\u001b[0m\u001b[0;34m(\u001b[0m\u001b[0minp\u001b[0m\u001b[0;34m,\u001b[0m\u001b[0mn\u001b[0m\u001b[0;34m)\u001b[0m\u001b[0;34m:\u001b[0m\u001b[0;34m\u001b[0m\u001b[0;34m\u001b[0m\u001b[0m\n\u001b[0;32m----> 2\u001b[0;31m   \u001b[0mb\u001b[0m\u001b[0;34m=\u001b[0m\u001b[0mlist\u001b[0m\u001b[0;34m(\u001b[0m\u001b[0msorted\u001b[0m\u001b[0;34m(\u001b[0m\u001b[0mset\u001b[0m\u001b[0;34m(\u001b[0m\u001b[0minp\u001b[0m\u001b[0;34m.\u001b[0m\u001b[0mvalues\u001b[0m\u001b[0;34m(\u001b[0m\u001b[0;34m)\u001b[0m\u001b[0;34m)\u001b[0m\u001b[0;34m,\u001b[0m \u001b[0mreverse\u001b[0m\u001b[0;34m=\u001b[0m\u001b[0;32mTrue\u001b[0m\u001b[0;34m)\u001b[0m\u001b[0;34m)\u001b[0m\u001b[0;34m\u001b[0m\u001b[0;34m\u001b[0m\u001b[0m\n\u001b[0m\u001b[1;32m      3\u001b[0m   \u001b[0mo\u001b[0m\u001b[0;34m=\u001b[0m\u001b[0;34m{\u001b[0m\u001b[0mk\u001b[0m \u001b[0;32mfor\u001b[0m \u001b[0mk\u001b[0m\u001b[0;34m,\u001b[0m\u001b[0mv\u001b[0m \u001b[0;32min\u001b[0m \u001b[0minp\u001b[0m\u001b[0;34m.\u001b[0m\u001b[0mitems\u001b[0m\u001b[0;34m(\u001b[0m\u001b[0;34m)\u001b[0m \u001b[0;32mif\u001b[0m \u001b[0mv\u001b[0m\u001b[0;34m==\u001b[0m\u001b[0mb\u001b[0m\u001b[0;34m[\u001b[0m\u001b[0mn\u001b[0m\u001b[0;34m-\u001b[0m\u001b[0;36m1\u001b[0m\u001b[0;34m]\u001b[0m\u001b[0;34m}\u001b[0m\u001b[0;34m\u001b[0m\u001b[0;34m\u001b[0m\u001b[0m\n\u001b[1;32m      4\u001b[0m   \u001b[0;32mreturn\u001b[0m \u001b[0mmin\u001b[0m\u001b[0;34m(\u001b[0m\u001b[0mo\u001b[0m\u001b[0;34m)\u001b[0m\u001b[0;34m\u001b[0m\u001b[0;34m\u001b[0m\u001b[0m\n",
            "\u001b[0;31mTypeError\u001b[0m: 'NoneType' object is not callable"
          ]
        }
      ]
    },
    {
      "cell_type": "code",
      "source": [
        "k=names.values()"
      ],
      "metadata": {
        "id": "dKaH8SJh6omn"
      },
      "execution_count": null,
      "outputs": []
    },
    {
      "cell_type": "code",
      "source": [
        "print(k)\n",
        "print(set(k))\n",
        "print(sorted(set(k), reverse=True))"
      ],
      "metadata": {
        "id": "jycjcW8U6rTn",
        "outputId": "46d54099-ec03-450f-ddf8-e61955d87a20",
        "colab": {
          "base_uri": "https://localhost:8080/"
        }
      },
      "execution_count": null,
      "outputs": [
        {
          "output_type": "stream",
          "name": "stdout",
          "text": [
            "dict_values([40, 90, 60, 90, 32, 42, 52, 62, 72, 82, 92])\n",
            "{32, 40, 72, 42, 92, 82, 52, 90, 60, 62}\n",
            "[92, 90, 82, 72, 62, 60, 52, 42, 40, 32]\n"
          ]
        }
      ]
    },
    {
      "cell_type": "code",
      "source": [
        "def nth_highest(dict,nth):\n",
        "  val=dict.values()\n",
        "  unq=set(val)\n",
        "  b=list(sorted(unq,reverse=True))\n",
        "  o={k for k, v in dict.items() if v==b[nth-1]}\n",
        "  return max(o)"
      ],
      "metadata": {
        "id": "6f_oGb9l60ba"
      },
      "execution_count": null,
      "outputs": []
    },
    {
      "cell_type": "code",
      "source": [
        "nth_highest(names,1)"
      ],
      "metadata": {
        "id": "m80tfGhl61y_",
        "outputId": "abd80fe5-770a-49e0-d60f-90daacf0de90",
        "colab": {
          "base_uri": "https://localhost:8080/",
          "height": 287
        }
      },
      "execution_count": null,
      "outputs": [
        {
          "output_type": "error",
          "ename": "TypeError",
          "evalue": "ignored",
          "traceback": [
            "\u001b[0;31m---------------------------------------------------------------------------\u001b[0m",
            "\u001b[0;31mTypeError\u001b[0m                                 Traceback (most recent call last)",
            "\u001b[0;32m<ipython-input-100-e7d885945196>\u001b[0m in \u001b[0;36m<module>\u001b[0;34m()\u001b[0m\n\u001b[0;32m----> 1\u001b[0;31m \u001b[0mnth_highest\u001b[0m\u001b[0;34m(\u001b[0m\u001b[0mnames\u001b[0m\u001b[0;34m,\u001b[0m\u001b[0;36m1\u001b[0m\u001b[0;34m)\u001b[0m\u001b[0;34m\u001b[0m\u001b[0;34m\u001b[0m\u001b[0m\n\u001b[0m",
            "\u001b[0;32m<ipython-input-99-759613f5c1c6>\u001b[0m in \u001b[0;36mnth_highest\u001b[0;34m(dict, nth)\u001b[0m\n\u001b[1;32m      2\u001b[0m   \u001b[0mval\u001b[0m\u001b[0;34m=\u001b[0m\u001b[0mdict\u001b[0m\u001b[0;34m.\u001b[0m\u001b[0mvalues\u001b[0m\u001b[0;34m(\u001b[0m\u001b[0;34m)\u001b[0m\u001b[0;34m\u001b[0m\u001b[0;34m\u001b[0m\u001b[0m\n\u001b[1;32m      3\u001b[0m   \u001b[0munq\u001b[0m\u001b[0;34m=\u001b[0m\u001b[0mset\u001b[0m\u001b[0;34m(\u001b[0m\u001b[0mval\u001b[0m\u001b[0;34m)\u001b[0m\u001b[0;34m\u001b[0m\u001b[0;34m\u001b[0m\u001b[0m\n\u001b[0;32m----> 4\u001b[0;31m   \u001b[0mb\u001b[0m\u001b[0;34m=\u001b[0m\u001b[0mlist\u001b[0m\u001b[0;34m(\u001b[0m\u001b[0msorted\u001b[0m\u001b[0;34m(\u001b[0m\u001b[0munq\u001b[0m\u001b[0;34m,\u001b[0m\u001b[0mreverse\u001b[0m\u001b[0;34m=\u001b[0m\u001b[0;32mTrue\u001b[0m\u001b[0;34m)\u001b[0m\u001b[0;34m)\u001b[0m\u001b[0;34m\u001b[0m\u001b[0;34m\u001b[0m\u001b[0m\n\u001b[0m\u001b[1;32m      5\u001b[0m   \u001b[0mo\u001b[0m\u001b[0;34m=\u001b[0m\u001b[0;34m{\u001b[0m\u001b[0mk\u001b[0m \u001b[0;32mfor\u001b[0m \u001b[0mk\u001b[0m\u001b[0;34m,\u001b[0m \u001b[0mv\u001b[0m \u001b[0;32min\u001b[0m \u001b[0mdict\u001b[0m\u001b[0;34m.\u001b[0m\u001b[0mitems\u001b[0m\u001b[0;34m(\u001b[0m\u001b[0;34m)\u001b[0m \u001b[0;32mif\u001b[0m \u001b[0mv\u001b[0m\u001b[0;34m==\u001b[0m\u001b[0mb\u001b[0m\u001b[0;34m[\u001b[0m\u001b[0mnth\u001b[0m\u001b[0;34m-\u001b[0m\u001b[0;36m1\u001b[0m\u001b[0;34m]\u001b[0m\u001b[0;34m}\u001b[0m\u001b[0;34m\u001b[0m\u001b[0;34m\u001b[0m\u001b[0m\n\u001b[1;32m      6\u001b[0m   \u001b[0;32mreturn\u001b[0m \u001b[0mmax\u001b[0m\u001b[0;34m(\u001b[0m\u001b[0mo\u001b[0m\u001b[0;34m)\u001b[0m\u001b[0;34m\u001b[0m\u001b[0;34m\u001b[0m\u001b[0m\n",
            "\u001b[0;31mTypeError\u001b[0m: 'NoneType' object is not callable"
          ]
        }
      ]
    },
    {
      "cell_type": "code",
      "source": [
        "values=names.values()\n",
        "values"
      ],
      "metadata": {
        "id": "WTUeSdlZT2Qj",
        "outputId": "0415b2ce-04af-4eb0-a536-1ea7ab18843e",
        "colab": {
          "base_uri": "https://localhost:8080/"
        }
      },
      "execution_count": null,
      "outputs": [
        {
          "output_type": "execute_result",
          "data": {
            "text/plain": [
              "dict_values([40, 90, 60, 90, 32, 42, 52, 62, 72, 82, 92])"
            ]
          },
          "metadata": {},
          "execution_count": 101
        }
      ]
    },
    {
      "cell_type": "code",
      "source": [
        "k=list(names.keys())\n",
        "k"
      ],
      "metadata": {
        "id": "IZV5jdCZ9CTg",
        "outputId": "e0d44d2b-7da1-4bbf-9f8c-49a9c7d6f207",
        "colab": {
          "base_uri": "https://localhost:8080/",
          "height": 183
        }
      },
      "execution_count": null,
      "outputs": [
        {
          "output_type": "error",
          "ename": "TypeError",
          "evalue": "ignored",
          "traceback": [
            "\u001b[0;31m---------------------------------------------------------------------------\u001b[0m",
            "\u001b[0;31mTypeError\u001b[0m                                 Traceback (most recent call last)",
            "\u001b[0;32m<ipython-input-102-fd8784d66e6b>\u001b[0m in \u001b[0;36m<module>\u001b[0;34m()\u001b[0m\n\u001b[0;32m----> 1\u001b[0;31m \u001b[0mk\u001b[0m\u001b[0;34m=\u001b[0m\u001b[0mlist\u001b[0m\u001b[0;34m(\u001b[0m\u001b[0mnames\u001b[0m\u001b[0;34m.\u001b[0m\u001b[0mkeys\u001b[0m\u001b[0;34m(\u001b[0m\u001b[0;34m)\u001b[0m\u001b[0;34m)\u001b[0m\u001b[0;34m\u001b[0m\u001b[0;34m\u001b[0m\u001b[0m\n\u001b[0m\u001b[1;32m      2\u001b[0m \u001b[0mk\u001b[0m\u001b[0;34m\u001b[0m\u001b[0;34m\u001b[0m\u001b[0m\n",
            "\u001b[0;31mTypeError\u001b[0m: 'NoneType' object is not callable"
          ]
        }
      ]
    },
    {
      "cell_type": "code",
      "source": [
        "print(names['mike'])"
      ],
      "metadata": {
        "id": "zLJWAff4T_IC",
        "outputId": "a23d5e00-0cf8-4fb8-ac68-1d95b4dcb417",
        "colab": {
          "base_uri": "https://localhost:8080/"
        }
      },
      "execution_count": null,
      "outputs": [
        {
          "output_type": "stream",
          "name": "stdout",
          "text": [
            "90\n"
          ]
        }
      ]
    },
    {
      "cell_type": "code",
      "source": [
        "print(names['mike'])"
      ],
      "metadata": {
        "id": "Yv1SSZhjU8wj",
        "outputId": "8dbe918f-ae38-4ffb-bd3d-ed15615f5fe4",
        "colab": {
          "base_uri": "https://localhost:8080/"
        }
      },
      "execution_count": null,
      "outputs": [
        {
          "output_type": "stream",
          "name": "stdout",
          "text": [
            "90\n"
          ]
        }
      ]
    },
    {
      "cell_type": "code",
      "source": [
        "new={key for key, value in names.items() if value==60}"
      ],
      "metadata": {
        "id": "2llZFX1hVD6y"
      },
      "execution_count": null,
      "outputs": []
    },
    {
      "cell_type": "code",
      "source": [
        "print(new)"
      ],
      "metadata": {
        "id": "4fnE063eYlYr",
        "outputId": "0fb4b0c5-8f25-4010-deb9-d0c18229dd3b",
        "colab": {
          "base_uri": "https://localhost:8080/"
        }
      },
      "execution_count": null,
      "outputs": [
        {
          "output_type": "stream",
          "name": "stdout",
          "text": [
            "{'sam'}\n"
          ]
        }
      ]
    },
    {
      "cell_type": "code",
      "source": [
        "new={key for key, value in names.items() if value==90}"
      ],
      "metadata": {
        "id": "KTvrbxoSYrkj"
      },
      "execution_count": null,
      "outputs": []
    },
    {
      "cell_type": "code",
      "source": [
        "print(new)"
      ],
      "metadata": {
        "id": "Ph4HrlstZLq8",
        "outputId": "fb0a8c49-3547-449f-ba74-5c6e1afa4d0e",
        "colab": {
          "base_uri": "https://localhost:8080/"
        }
      },
      "execution_count": null,
      "outputs": [
        {
          "output_type": "stream",
          "name": "stdout",
          "text": [
            "{'mike', 'wohn'}\n"
          ]
        }
      ]
    },
    {
      "cell_type": "code",
      "source": [
        "def dict_1(items,val1, val2):\n",
        "  n={key: value for(key,value)  in items.items() if value>=val1 and value<=val2}\n",
        "#  = {key: value for(key, value) in dictOfNames.items() if len(value) == 6 }\n",
        "  return n"
      ],
      "metadata": {
        "id": "oxYPidxFZN4z"
      },
      "execution_count": null,
      "outputs": []
    },
    {
      "cell_type": "code",
      "source": [
        "dict_1(names, 30,70)"
      ],
      "metadata": {
        "id": "JRSrWgHtaB7L",
        "outputId": "a40f3ea3-960e-42bf-a136-cd4d10722a32",
        "colab": {
          "base_uri": "https://localhost:8080/"
        }
      },
      "execution_count": null,
      "outputs": [
        {
          "output_type": "execute_result",
          "data": {
            "text/plain": [
              "{'jimmy1': 32,\n",
              " 'jimmy2': 42,\n",
              " 'jimmy3': 52,\n",
              " 'jimmy4': 62,\n",
              " 'peter': 40,\n",
              " 'sam': 60}"
            ]
          },
          "metadata": {},
          "execution_count": 110
        }
      ]
    },
    {
      "cell_type": "code",
      "source": [
        "def filter_dict(_d,val1, val2):\n",
        "  x={key: value for (key,value) in _d.items() if value>=val1 and value<=val2}\n",
        "  return x"
      ],
      "metadata": {
        "id": "Ywlja402aHqw"
      },
      "execution_count": null,
      "outputs": []
    },
    {
      "cell_type": "code",
      "source": [
        "filter_dict(names, 30,70)"
      ],
      "metadata": {
        "colab": {
          "base_uri": "https://localhost:8080/"
        },
        "id": "JA8kAs3Rq0_2",
        "outputId": "00cfed26-6d38-4092-ff50-d8eaf8a043aa"
      },
      "execution_count": null,
      "outputs": [
        {
          "output_type": "execute_result",
          "data": {
            "text/plain": [
              "{'jimmy1': 32,\n",
              " 'jimmy2': 42,\n",
              " 'jimmy3': 52,\n",
              " 'jimmy4': 62,\n",
              " 'peter': 40,\n",
              " 'sam': 60}"
            ]
          },
          "metadata": {},
          "execution_count": 112
        }
      ]
    },
    {
      "cell_type": "code",
      "source": [
        "x={key for key, value in names.items() if value>50}\n",
        "print(x)"
      ],
      "metadata": {
        "colab": {
          "base_uri": "https://localhost:8080/"
        },
        "id": "enRbWXweq3m7",
        "outputId": "b18e3670-2087-4b08-8f2f-5929f286e36e"
      },
      "execution_count": null,
      "outputs": [
        {
          "output_type": "stream",
          "name": "stdout",
          "text": [
            "{'jimmy4', 'jimmy3', 'jimmy7', 'jimmy6', 'sam', 'wohn', 'mike', 'jimmy5'}\n"
          ]
        }
      ]
    },
    {
      "cell_type": "code",
      "source": [
        "car = {\n",
        "\"brand\": \"Ford\",\n",
        "\"model\": \"Mustang\",\n",
        "\"year\": 1964\n",
        "}\n",
        "\n",
        "x = car.values()\n",
        "\n",
        "print(x) #before the change\n",
        "\n",
        "car[\"year\"] = 2020\n",
        "\n",
        "print(x) #after the change"
      ],
      "metadata": {
        "colab": {
          "base_uri": "https://localhost:8080/"
        },
        "id": "r-6yknSXrHXj",
        "outputId": "fdf99639-79d1-4bc2-9d1c-8ddc4179213a"
      },
      "execution_count": null,
      "outputs": [
        {
          "output_type": "stream",
          "name": "stdout",
          "text": [
            "dict_values(['Ford', 'Mustang', 1964])\n",
            "dict_values(['Ford', 'Mustang', 2020])\n"
          ]
        }
      ]
    },
    {
      "cell_type": "code",
      "source": [
        "x=names.items()\n",
        "print(x)"
      ],
      "metadata": {
        "colab": {
          "base_uri": "https://localhost:8080/"
        },
        "id": "jVLFUrVYsgtF",
        "outputId": "49984fec-40dc-468d-deae-2f92daf85a9a"
      },
      "execution_count": null,
      "outputs": [
        {
          "output_type": "stream",
          "name": "stdout",
          "text": [
            "dict_items([('peter', 40), ('mike', 90), ('sam', 60), ('wohn', 90), ('jimmy1', 32), ('jimmy2', 42), ('jimmy3', 52), ('jimmy4', 62), ('jimmy5', 72), ('jimmy6', 82), ('jimmy7', 92)])\n"
          ]
        }
      ]
    },
    {
      "cell_type": "code",
      "source": [
        "car = {\n",
        "\"brand\": \"Ford\",\n",
        "\"model\": \"Mustang\",\n",
        "\"year\": 1964\n",
        "}"
      ],
      "metadata": {
        "id": "A97agRxCttIF"
      },
      "execution_count": null,
      "outputs": []
    },
    {
      "cell_type": "code",
      "source": [
        "car.update({})"
      ],
      "metadata": {
        "id": "zx60Z7UyymDu"
      },
      "execution_count": null,
      "outputs": []
    },
    {
      "cell_type": "code",
      "source": [
        "car['brand']='Honda'"
      ],
      "metadata": {
        "id": "5DtA5Y2qyp2E"
      },
      "execution_count": null,
      "outputs": []
    },
    {
      "cell_type": "code",
      "source": [
        "rainbow1 = {'red': 1}"
      ],
      "metadata": {
        "id": "sq3uiCl-yrhl"
      },
      "execution_count": null,
      "outputs": []
    },
    {
      "cell_type": "code",
      "source": [
        "rainbow2={'orange':2, 'green':3}"
      ],
      "metadata": {
        "id": "EJ8vOxnJ1kIF"
      },
      "execution_count": null,
      "outputs": []
    },
    {
      "cell_type": "code",
      "source": [
        "rainbow1.update(rainbow2)"
      ],
      "metadata": {
        "id": "Pmz_fDKI2L07"
      },
      "execution_count": null,
      "outputs": []
    },
    {
      "cell_type": "code",
      "source": [
        "rainbow1"
      ],
      "metadata": {
        "colab": {
          "base_uri": "https://localhost:8080/"
        },
        "id": "u74XM1OZ2N30",
        "outputId": "163960c2-dfe0-4668-d946-25348c4af677"
      },
      "execution_count": null,
      "outputs": [
        {
          "output_type": "execute_result",
          "data": {
            "text/plain": [
              "{'green': 3, 'orange': 2, 'red': 1}"
            ]
          },
          "metadata": {},
          "execution_count": 122
        }
      ]
    },
    {
      "cell_type": "code",
      "source": [
        "rainbow1.items()"
      ],
      "metadata": {
        "colab": {
          "base_uri": "https://localhost:8080/"
        },
        "id": "6e4olxCr2Oxc",
        "outputId": "5bcb370c-4424-4056-a44a-18d01739cc9a"
      },
      "execution_count": null,
      "outputs": [
        {
          "output_type": "execute_result",
          "data": {
            "text/plain": [
              "dict_items([('red', 1), ('orange', 2), ('green', 3)])"
            ]
          },
          "metadata": {},
          "execution_count": 123
        }
      ]
    },
    {
      "cell_type": "code",
      "source": [
        "print(rainbow1.values())"
      ],
      "metadata": {
        "colab": {
          "base_uri": "https://localhost:8080/"
        },
        "id": "ki66OkRy2XqE",
        "outputId": "2ba9f47c-2847-4144-9919-cdc50b58d197"
      },
      "execution_count": null,
      "outputs": [
        {
          "output_type": "stream",
          "name": "stdout",
          "text": [
            "dict_values([1, 2, 3])\n"
          ]
        }
      ]
    },
    {
      "cell_type": "code",
      "source": [
        "print({key for key, value in rainbow1.items() if value==2})"
      ],
      "metadata": {
        "colab": {
          "base_uri": "https://localhost:8080/"
        },
        "id": "2E5rwzX-2hZd",
        "outputId": "0a7daa22-649e-45a5-e56d-83cb68320e38"
      },
      "execution_count": null,
      "outputs": [
        {
          "output_type": "stream",
          "name": "stdout",
          "text": [
            "{'orange'}\n"
          ]
        }
      ]
    },
    {
      "cell_type": "code",
      "source": [
        "print(rainbow1['orange'])"
      ],
      "metadata": {
        "colab": {
          "base_uri": "https://localhost:8080/"
        },
        "id": "zPATbqqN2vOm",
        "outputId": "bd82b8af-c5cb-4b2f-9752-ba246536e646"
      },
      "execution_count": null,
      "outputs": [
        {
          "output_type": "stream",
          "name": "stdout",
          "text": [
            "2\n"
          ]
        }
      ]
    },
    {
      "cell_type": "code",
      "source": [
        "print(names['jimmy1'])"
      ],
      "metadata": {
        "colab": {
          "base_uri": "https://localhost:8080/"
        },
        "id": "zRV2Rkbl22Pt",
        "outputId": "e7312553-81a8-46bb-c5eb-cc16ac3cfc4c"
      },
      "execution_count": null,
      "outputs": [
        {
          "output_type": "stream",
          "name": "stdout",
          "text": [
            "32\n"
          ]
        }
      ]
    },
    {
      "cell_type": "code",
      "source": [
        "print({key: value for (key, value) in names.items() if value>50})"
      ],
      "metadata": {
        "colab": {
          "base_uri": "https://localhost:8080/"
        },
        "id": "W-y7xFWI3PIk",
        "outputId": "48164b10-8f44-4903-9534-4af2d7e34241"
      },
      "execution_count": null,
      "outputs": [
        {
          "output_type": "stream",
          "name": "stdout",
          "text": [
            "{'mike': 90, 'sam': 60, 'wohn': 90, 'jimmy3': 52, 'jimmy4': 62, 'jimmy5': 72, 'jimmy6': 82, 'jimmy7': 92}\n"
          ]
        }
      ]
    },
    {
      "cell_type": "code",
      "source": [
        "for x in names:\n",
        "  print(x)"
      ],
      "metadata": {
        "colab": {
          "base_uri": "https://localhost:8080/"
        },
        "id": "7dHwZVCO3b7B",
        "outputId": "1a4b42a4-d9f5-4025-f8c0-01c439bf7f78"
      },
      "execution_count": null,
      "outputs": [
        {
          "output_type": "stream",
          "name": "stdout",
          "text": [
            "peter\n",
            "mike\n",
            "sam\n",
            "wohn\n",
            "jimmy1\n",
            "jimmy2\n",
            "jimmy3\n",
            "jimmy4\n",
            "jimmy5\n",
            "jimmy6\n",
            "jimmy7\n"
          ]
        }
      ]
    },
    {
      "cell_type": "code",
      "source": [
        "for x in names:\n",
        "  print(names[x])"
      ],
      "metadata": {
        "colab": {
          "base_uri": "https://localhost:8080/"
        },
        "id": "Fflo2Uvm_82A",
        "outputId": "46912c59-9743-457d-802d-f85c1f70b9e5"
      },
      "execution_count": null,
      "outputs": [
        {
          "output_type": "stream",
          "name": "stdout",
          "text": [
            "40\n",
            "90\n",
            "60\n",
            "90\n",
            "32\n",
            "42\n",
            "52\n",
            "62\n",
            "72\n",
            "82\n",
            "92\n"
          ]
        }
      ]
    },
    {
      "cell_type": "code",
      "source": [
        "x=names.values()\n",
        "print(list(x))"
      ],
      "metadata": {
        "colab": {
          "base_uri": "https://localhost:8080/",
          "height": 183
        },
        "id": "MvaZmsp5__w3",
        "outputId": "f6f17ea3-f23b-4b87-c632-63d855757664"
      },
      "execution_count": null,
      "outputs": [
        {
          "output_type": "error",
          "ename": "TypeError",
          "evalue": "ignored",
          "traceback": [
            "\u001b[0;31m---------------------------------------------------------------------------\u001b[0m",
            "\u001b[0;31mTypeError\u001b[0m                                 Traceback (most recent call last)",
            "\u001b[0;32m<ipython-input-131-433ffc539c96>\u001b[0m in \u001b[0;36m<module>\u001b[0;34m()\u001b[0m\n\u001b[1;32m      1\u001b[0m \u001b[0mx\u001b[0m\u001b[0;34m=\u001b[0m\u001b[0mnames\u001b[0m\u001b[0;34m.\u001b[0m\u001b[0mvalues\u001b[0m\u001b[0;34m(\u001b[0m\u001b[0;34m)\u001b[0m\u001b[0;34m\u001b[0m\u001b[0;34m\u001b[0m\u001b[0m\n\u001b[0;32m----> 2\u001b[0;31m \u001b[0mprint\u001b[0m\u001b[0;34m(\u001b[0m\u001b[0mlist\u001b[0m\u001b[0;34m(\u001b[0m\u001b[0mx\u001b[0m\u001b[0;34m)\u001b[0m\u001b[0;34m)\u001b[0m\u001b[0;34m\u001b[0m\u001b[0;34m\u001b[0m\u001b[0m\n\u001b[0m",
            "\u001b[0;31mTypeError\u001b[0m: 'NoneType' object is not callable"
          ]
        }
      ]
    },
    {
      "cell_type": "code",
      "source": [
        "for x in names.keys():\n",
        "  print(x)"
      ],
      "metadata": {
        "colab": {
          "base_uri": "https://localhost:8080/"
        },
        "id": "TS0TMBOWAQvI",
        "outputId": "21fcd1c8-fdba-49ef-cb61-daf52ba6e4d9"
      },
      "execution_count": null,
      "outputs": [
        {
          "output_type": "stream",
          "name": "stdout",
          "text": [
            "peter\n",
            "mike\n",
            "sam\n",
            "wohn\n",
            "jimmy1\n",
            "jimmy2\n",
            "jimmy3\n",
            "jimmy4\n",
            "jimmy5\n",
            "jimmy6\n",
            "jimmy7\n"
          ]
        }
      ]
    },
    {
      "cell_type": "code",
      "source": [
        "for x in names.values():\n",
        "  print(x)"
      ],
      "metadata": {
        "colab": {
          "base_uri": "https://localhost:8080/"
        },
        "id": "Ha78BXI_BEHh",
        "outputId": "2161ffa5-8ab3-4074-afd8-c8acebbb7635"
      },
      "execution_count": null,
      "outputs": [
        {
          "output_type": "stream",
          "name": "stdout",
          "text": [
            "40\n",
            "90\n",
            "60\n",
            "90\n",
            "32\n",
            "42\n",
            "52\n",
            "62\n",
            "72\n",
            "82\n",
            "92\n"
          ]
        }
      ]
    },
    {
      "cell_type": "code",
      "source": [
        "child1 = {\n",
        "  \"name\" : \"Emil\",\n",
        "  \"year\" : 2004\n",
        "}\n",
        "child2 = {\n",
        "  \"name\" : \"Tobias\",\n",
        "  \"year\" : 2007\n",
        "}\n",
        "child3 = {\n",
        "  \"name\" : \"Linus\",\n",
        "  \"year\" : 2011\n",
        "}\n",
        "\n",
        "myfamily = {\n",
        "  \"child1\" : child1,\n",
        "  \"child2\" : child2,\n",
        "  \"child3\" : child3\n",
        "}"
      ],
      "metadata": {
        "id": "3xrccYJ9BGpz"
      },
      "execution_count": null,
      "outputs": []
    },
    {
      "cell_type": "code",
      "source": [
        "print(len(child1))\n"
      ],
      "metadata": {
        "colab": {
          "base_uri": "https://localhost:8080/"
        },
        "id": "wgsqeS3VBpP5",
        "outputId": "33275d21-128b-42c6-f273-57582ce18355"
      },
      "execution_count": null,
      "outputs": [
        {
          "output_type": "stream",
          "name": "stdout",
          "text": [
            "2\n"
          ]
        }
      ]
    },
    {
      "cell_type": "code",
      "source": [
        "print(len(myfamily))"
      ],
      "metadata": {
        "colab": {
          "base_uri": "https://localhost:8080/"
        },
        "id": "iuj5rzFrJMsw",
        "outputId": "f2f79084-bb8d-46cb-fa1c-c0e032216d09"
      },
      "execution_count": null,
      "outputs": [
        {
          "output_type": "stream",
          "name": "stdout",
          "text": [
            "3\n"
          ]
        }
      ]
    },
    {
      "cell_type": "code",
      "source": [
        "myfamily = {\n",
        "  \"child1\" : {\n",
        "    \"name\" : \"Emil\",\n",
        "    \"year\" : 2004\n",
        "  },\n",
        "  \"child2\" : {\n",
        "    \"name\" : \"Tobias\",\n",
        "    \"year\" : 2007\n",
        "  },\n",
        "  \"child3\" : {\n",
        "    \"name\" : \"Linus\",\n",
        "    \"year\" : 2011\n",
        "  }\n",
        "}"
      ],
      "metadata": {
        "id": "UdbH_H4vJOgo"
      },
      "execution_count": null,
      "outputs": []
    },
    {
      "cell_type": "code",
      "source": [
        "print(len(myfamily))"
      ],
      "metadata": {
        "colab": {
          "base_uri": "https://localhost:8080/"
        },
        "id": "Sg6HUct0JS25",
        "outputId": "f5617d64-2a89-41db-9b16-df52da02b86f"
      },
      "execution_count": null,
      "outputs": [
        {
          "output_type": "stream",
          "name": "stdout",
          "text": [
            "3\n"
          ]
        }
      ]
    },
    {
      "cell_type": "code",
      "source": [
        "names = {'peter': 40,'mike': 90, 'sam': 60,'wohn': 90, 'jimmy1': 32, 'jimmy2': 42, 'jimmy3': 52, 'jimmy4': 62, 'jimmy5': 72, 'jimmy6': 82, 'jimmy7': 92, }"
      ],
      "metadata": {
        "id": "N04mlklNJVxY"
      },
      "execution_count": null,
      "outputs": []
    },
    {
      "cell_type": "code",
      "source": [
        "def n_highest(item, n):\n",
        "  a=item.values()\n",
        "  b=set(a)\n",
        "  c=sorted(b,reverse=True)\n",
        "  o={k for k , v in item.items() if v==c[n-1]}\n",
        "  return min(o),max(o)\n"
      ],
      "metadata": {
        "id": "Xapftwh-MAHi"
      },
      "execution_count": null,
      "outputs": []
    },
    {
      "cell_type": "code",
      "source": [
        "n_highest(names,5)"
      ],
      "metadata": {
        "colab": {
          "base_uri": "https://localhost:8080/"
        },
        "id": "t5CmYmkmMWuS",
        "outputId": "3425869d-fa4e-4483-8a4f-af56840f8226"
      },
      "execution_count": null,
      "outputs": [
        {
          "output_type": "execute_result",
          "data": {
            "text/plain": [
              "('jimmy4', 'jimmy4')"
            ]
          },
          "metadata": {},
          "execution_count": 164
        }
      ]
    },
    {
      "cell_type": "code",
      "source": [
        "def nth_highest(dict,nth):\n",
        "  val=dict.values()\n",
        "  unq=set(val)\n",
        "  b=list(sorted(unq,reverse=True))\n",
        "  o={k for k, v in dict.items() if v==b[nth-1]}\n",
        "  return max(o)"
      ],
      "metadata": {
        "id": "MmA4-jc9MZER"
      },
      "execution_count": null,
      "outputs": []
    },
    {
      "cell_type": "code",
      "source": [
        "def nth_highest(inp,n):\n",
        "  b=list(sorted(set(inp.values()), reverse=True))\n",
        "  o={k for k,v in inp.items() if v==b[n-1]}\n",
        "  return min(o)"
      ],
      "metadata": {
        "id": "Rmbv95H8OhDi"
      },
      "execution_count": null,
      "outputs": []
    }
  ]
}