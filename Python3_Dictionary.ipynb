{
  "nbformat": 4,
  "nbformat_minor": 0,
  "metadata": {
    "colab": {
      "name": "Python3-Dictionary.ipynb",
      "provenance": [],
      "authorship_tag": "ABX9TyNCpatrE1Mh9wZb8gGE8oHR",
      "include_colab_link": true
    },
    "kernelspec": {
      "name": "python3",
      "display_name": "Python 3"
    },
    "language_info": {
      "name": "python"
    }
  },
  "cells": [
    {
      "cell_type": "markdown",
      "metadata": {
        "id": "view-in-github",
        "colab_type": "text"
      },
      "source": [
        "<a href=\"https://colab.research.google.com/github/arpitsharma27/PythonPractice/blob/main/Python3_Dictionary.ipynb\" target=\"_parent\"><img src=\"https://colab.research.google.com/assets/colab-badge.svg\" alt=\"Open In Colab\"/></a>"
      ]
    },
    {
      "cell_type": "code",
      "execution_count": null,
      "metadata": {
        "id": "24w434grZfdC"
      },
      "outputs": [],
      "source": [
        ""
      ]
    },
    {
      "cell_type": "markdown",
      "source": [
        "#Here is a practice session for **Dictionary** in Python3\n",
        "\n",
        "####Dictionary are used to store data values in key: value pairs.\n",
        "\n",
        "####A dictionary is a collection which is ordered*, changeable and do not allow duplicates.\n",
        "\n",
        "####Dictionaries are written with curly brackets and have keys and values.\n",
        "\n",
        "\n",
        "####Below some of the **Dictionary** exercises have been obtained from [here](https://www.w3resource.com/python-exercises/dictionary/)\n",
        "\n",
        "####And some are just random google search.\n",
        "\n",
        "#### This can serve you and me for quick reference.\n",
        "\n",
        "####Remember \n",
        "\n",
        "\n",
        "1.   Practice\n",
        "2.   Revisit after 3 days.\n",
        "3. Revisit after a week.\n",
        " \n",
        "#####And I am nailed in your brain.\n",
        "\n",
        "\n"
      ],
      "metadata": {
        "id": "vHEwCisrZspF"
      }
    },
    {
      "cell_type": "code",
      "source": [
        "dicts = {}\n",
        "keys = range(4)\n",
        "values = [\"Hi\", \"I\", \"am\", \"John\"]\n",
        "for i in keys:\n",
        "  dicts[i] = values[i]  \n",
        "print(dicts)"
      ],
      "metadata": {
        "colab": {
          "base_uri": "https://localhost:8080/"
        },
        "id": "MXdFtPPAal64",
        "outputId": "d874963a-8b65-4a32-a2c9-ba8e446f19d2"
      },
      "execution_count": 5,
      "outputs": [
        {
          "output_type": "stream",
          "name": "stdout",
          "text": [
            "{0: 'Hi', 1: 'I', 2: 'am', 3: 'John'}\n"
          ]
        }
      ]
    },
    {
      "cell_type": "code",
      "source": [
        "str='i am back'"
      ],
      "metadata": {
        "id": "xZ1ho6Enb3p0"
      },
      "execution_count": 2,
      "outputs": []
    },
    {
      "cell_type": "code",
      "source": [
        "str_list=list(str.split(\" \"))"
      ],
      "metadata": {
        "id": "uOGhCTjy5qva"
      },
      "execution_count": 3,
      "outputs": []
    },
    {
      "cell_type": "code",
      "source": [
        "str_list"
      ],
      "metadata": {
        "colab": {
          "base_uri": "https://localhost:8080/"
        },
        "id": "2eIC3OVj51uY",
        "outputId": "e1565422-e49c-4462-aeed-73c9d334327c"
      },
      "execution_count": 4,
      "outputs": [
        {
          "output_type": "execute_result",
          "data": {
            "text/plain": [
              "['i', 'am', 'back']"
            ]
          },
          "metadata": {},
          "execution_count": 4
        }
      ]
    },
    {
      "cell_type": "code",
      "source": [
        "str_list=list(str)"
      ],
      "metadata": {
        "id": "yXjA7-9K52iJ"
      },
      "execution_count": 5,
      "outputs": []
    },
    {
      "cell_type": "code",
      "source": [
        "str_list"
      ],
      "metadata": {
        "id": "Mf8RyHOkCUvC",
        "outputId": "0ae43211-7f21-4f8e-ff95-a5869f823c25",
        "colab": {
          "base_uri": "https://localhost:8080/"
        }
      },
      "execution_count": 6,
      "outputs": [
        {
          "output_type": "execute_result",
          "data": {
            "text/plain": [
              "['i', ' ', 'a', 'm', ' ', 'b', 'a', 'c', 'k']"
            ]
          },
          "metadata": {},
          "execution_count": 6
        }
      ]
    },
    {
      "cell_type": "code",
      "source": [
        ""
      ],
      "metadata": {
        "id": "8ZQr2P1QCVhM"
      },
      "execution_count": null,
      "outputs": []
    }
  ]
}