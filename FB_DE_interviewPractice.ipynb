{
  "nbformat": 4,
  "nbformat_minor": 0,
  "metadata": {
    "colab": {
      "name": "FB_DE_interviewPractice.ipynb",
      "provenance": [],
      "authorship_tag": "ABX9TyNMzkWqRYTjKztY2+u2eFpX",
      "include_colab_link": true
    },
    "kernelspec": {
      "name": "python3",
      "display_name": "Python 3"
    },
    "language_info": {
      "name": "python"
    }
  },
  "cells": [
    {
      "cell_type": "markdown",
      "metadata": {
        "id": "view-in-github",
        "colab_type": "text"
      },
      "source": [
        "<a href=\"https://colab.research.google.com/github/arpitsharma27/PythonPractice/blob/main/FB_DE_interviewPractice.ipynb\" target=\"_parent\"><img src=\"https://colab.research.google.com/assets/colab-badge.svg\" alt=\"Open In Colab\"/></a>"
      ]
    },
    {
      "cell_type": "code",
      "execution_count": null,
      "metadata": {
        "id": "vEWaGHTqCfx8"
      },
      "outputs": [],
      "source": [
        ""
      ]
    },
    {
      "cell_type": "markdown",
      "source": [
        "#**Python: Easy (tags: list, string, hashtable)**\n",
        "\n",
        "\n",
        "1. Complete a function that returns the number of times a given character occurs in the given string\n",
        "\n",
        "    For example:\n",
        "     - input string = \"mississippi\"\n",
        "     - char = \"s\"\n",
        "     - output : 4\n",
        "  \n",
        "2. Fill in the blanks: Given an array containing None values fill in the None values with most recent non None value in the array\n",
        "    \n",
        "    For example:\n",
        "    - input array: [1,None,2,3,None,None,5,None]\n",
        "    - output array: [1,1,2,3,3,3,5,5]\n",
        "    \n",
        "    Ensure you take care of case input[None] which means None object.\n",
        "\n",
        "3. Complete a function that returns a list containing all the mismatched words (case sensitive) between two given input strings\n",
        "\n",
        "    For example:\n",
        "    - string 1 : \"Firstly this is the first string\"\n",
        "    - string 2 : \"Next is the second string\"\n",
        "    - output : ['Firstly', 'this', 'first', 'Next', 'second']\n",
        "\n",
        "4. Find common words in 2 sentences\n",
        "\n",
        "5. Given two sentences, construct an array that has the words that appear in one sentence and not the other.\n",
        "\n",
        "6. Given an array of integers, we would like to determine whether the array is monotonic (non-decreasing/non-increasing) or not.\n",
        "    \n",
        "    Examples:\n",
        "    - 1 2 5 5 8 --> true\n",
        "    - 9 4 4 2 2 --> true\n",
        "    - 1 4 6 3 --> false\n",
        "    - 1 1 1 1 1 1 --> true   \n",
        "\n",
        "7. Valid ip address, edge case to remember is if there are alphanumeric characters.\n",
        "\n",
        "8. Count distinct words in a sentence\n",
        "\n",
        "9. Count the number of times a word appear in a sentence using a Hash Map\n",
        "\n",
        "10. Return tuples of a list, matching each item to another item\n",
        "\n",
        "11. Count the number of times a substring appear in a string\n",
        "\n",
        "12. Calculate the average word length.\n",
        "    For the given set of words return the average word length.\n",
        "\n",
        "13. want you to write me a simple spell checking engine.\n",
        "\n",
        "\n",
        "##StackOverFlow\n",
        "\n",
        "\n",
        "##YouTube\n",
        "1.   Write a Python Program to print the Prime Numbers between 2 numbers.\n",
        "2.   Write a sort function to sort the elements in a list.\n",
        "3.   Write a Sorting function withOUT using the list.sort function\n",
        "4.   Write a Python program to print Fibonacci Series\n",
        "5.   Write a Python program to print a list in reverse.\n",
        "6.   Write a Python program to check whether a string is a Palindrome or not.\n",
        "7.   Write a Python program to print set of duplicates in a list.\n",
        "8.   Write a Python program to print number of words in a given sentence.\n",
        "9.   Given an array arr[] of n elements, write a Python function to search a given element x in arr[]\n",
        "10.  Write a Python program to implement a Binary Search.\n",
        "11.  Using Python plot simple Bar Chart.\n",
        "12.  Using Python join 2 strings.(Hint: join())\n",
        "13.  Extract digits from given string.\n",
        "14.  Using Python split strings using newline delimiter.\n",
        "15.  Given a string as your input, delete any recurring character, and return the new string.\n",
        "\n",
        "\n",
        "##Twitter\n",
        "\n",
        "\n",
        "1.   How would you find the minimum absolute difference between a set of elements of an array?\n",
        "2.   I'm going to provide you with a string. How would you calculate the number of unique words present in it?\n",
        "3.   How would you calculate unique logins by a user on http://Facebook.com\n",
        "4.   How would you calculate the average length of words in a sentence?\n",
        "5.   How would you validate an IP Address?\n",
        "6.   Find smallest absolute difference between two numbers in a list\n",
        "7.   find the median in an array\n",
        "\n",
        "\n",
        "\n",
        "\n",
        "\n"
      ],
      "metadata": {
        "id": "8LoxutEiCr-F"
      }
    },
    {
      "cell_type": "code",
      "source": [
        "state='new jersey'"
      ],
      "metadata": {
        "id": "yoPXtSnZEtyM"
      },
      "execution_count": null,
      "outputs": []
    },
    {
      "cell_type": "code",
      "source": [
        "def cnt(items):\n",
        "  for x in set(items):\n",
        "    c=items.count(x)\n",
        "    print(\"The number of times %s appears in %s is %s\" %(x, items ,c))"
      ],
      "metadata": {
        "id": "7-BEi_G2FOkK"
      },
      "execution_count": null,
      "outputs": []
    },
    {
      "cell_type": "code",
      "source": [
        "cnt(state)"
      ],
      "metadata": {
        "colab": {
          "base_uri": "https://localhost:8080/"
        },
        "id": "8s1tTDBxFgLs",
        "outputId": "d73cfda1-c912-4cc9-ecbc-a148c1666743"
      },
      "execution_count": null,
      "outputs": [
        {
          "output_type": "stream",
          "name": "stdout",
          "text": [
            "The number of times s appears in new jersey is 1\n",
            "The number of times y appears in new jersey is 1\n",
            "The number of times   appears in new jersey is 1\n",
            "The number of times e appears in new jersey is 3\n",
            "The number of times r appears in new jersey is 1\n",
            "The number of times j appears in new jersey is 1\n",
            "The number of times w appears in new jersey is 1\n",
            "The number of times n appears in new jersey is 1\n"
          ]
        }
      ]
    },
    {
      "cell_type": "code",
      "source": [
        "cnt(\"missisipi\")\n",
        "print(\"xxxxxxxx\")\n",
        "cnt('new york')\n",
        "print(\"xxxxxxxx\")\n",
        "cnt('New Hampshire')"
      ],
      "metadata": {
        "colab": {
          "base_uri": "https://localhost:8080/"
        },
        "id": "TkfC7f6FFhcL",
        "outputId": "976b4da5-e598-45d7-e0d0-0326f8eb9890"
      },
      "execution_count": null,
      "outputs": [
        {
          "output_type": "stream",
          "name": "stdout",
          "text": [
            "The number of times p appears in missisipi is 1\n",
            "The number of times s appears in missisipi is 3\n",
            "The number of times i appears in missisipi is 4\n",
            "The number of times m appears in missisipi is 1\n",
            "xxxxxxxx\n",
            "The number of times y appears in new york is 1\n",
            "The number of times o appears in new york is 1\n",
            "The number of times   appears in new york is 1\n",
            "The number of times e appears in new york is 1\n",
            "The number of times r appears in new york is 1\n",
            "The number of times w appears in new york is 1\n",
            "The number of times k appears in new york is 1\n",
            "The number of times n appears in new york is 1\n",
            "xxxxxxxx\n",
            "The number of times s appears in New Hampshire is 1\n",
            "The number of times H appears in New Hampshire is 1\n",
            "The number of times h appears in New Hampshire is 1\n",
            "The number of times p appears in New Hampshire is 1\n",
            "The number of times   appears in New Hampshire is 1\n",
            "The number of times e appears in New Hampshire is 2\n",
            "The number of times N appears in New Hampshire is 1\n",
            "The number of times i appears in New Hampshire is 1\n",
            "The number of times a appears in New Hampshire is 1\n",
            "The number of times r appears in New Hampshire is 1\n",
            "The number of times w appears in New Hampshire is 1\n",
            "The number of times m appears in New Hampshire is 1\n"
          ]
        }
      ]
    },
    {
      "cell_type": "code",
      "source": [
        "x=[1,None,2,3,None,None,5,None]\n",
        "x=[None]"
      ],
      "metadata": {
        "id": "9q4FRej8HuZ8"
      },
      "execution_count": null,
      "outputs": []
    },
    {
      "cell_type": "code",
      "source": [
        "for i,e in enumerate(x[:-1],1):\n",
        "  if x[i]==None:\n",
        "    x[i]=x[i-1]\n",
        "print(x)"
      ],
      "metadata": {
        "colab": {
          "base_uri": "https://localhost:8080/"
        },
        "id": "tBxv9w0OIJe3",
        "outputId": "aded70b7-356d-4396-ca67-2430ccc71bb8"
      },
      "execution_count": null,
      "outputs": [
        {
          "output_type": "stream",
          "name": "stdout",
          "text": [
            "[None]\n"
          ]
        }
      ]
    },
    {
      "cell_type": "code",
      "source": [
        "for i,e in enumerate(x[:-1],1):\n",
        "  if x[i]==None:\n",
        "    x[i]=x[i-1]\n",
        "print(x)\n"
      ],
      "metadata": {
        "colab": {
          "base_uri": "https://localhost:8080/"
        },
        "id": "yeuuAiutJ3W-",
        "outputId": "a59a4342-5115-4f29-e3c5-8494bd8427bb"
      },
      "execution_count": null,
      "outputs": [
        {
          "output_type": "stream",
          "name": "stdout",
          "text": [
            "[None]\n"
          ]
        }
      ]
    },
    {
      "cell_type": "code",
      "source": [
        "string_1=\"Firstly this is the first string\"\n",
        "string_2=\"Next is the second string\""
      ],
      "metadata": {
        "id": "TyE0p3OIK36s"
      },
      "execution_count": null,
      "outputs": []
    },
    {
      "cell_type": "code",
      "source": [
        "l1=[x.lower() for x in string_1.split(\" \") if x not in [x.lower() for x in string_2.split(\" \")]]\n",
        "l2=[x.lower() for x in string_2.split(\" \") if x not in [x.lower() for x in string_1.split(\" \")]]\n",
        "l3=l1+l2"
      ],
      "metadata": {
        "id": "aZiplkwpSV_W"
      },
      "execution_count": null,
      "outputs": []
    },
    {
      "cell_type": "code",
      "source": [
        "print(l3)"
      ],
      "metadata": {
        "colab": {
          "base_uri": "https://localhost:8080/"
        },
        "id": "UzeRNiV1T8k3",
        "outputId": "c2a02f1a-1e8e-4278-b9b8-fa4def6178f1"
      },
      "execution_count": null,
      "outputs": [
        {
          "output_type": "stream",
          "name": "stdout",
          "text": [
            "['firstly', 'this', 'first', 'next', 'second']\n"
          ]
        }
      ]
    },
    {
      "cell_type": "code",
      "source": [
        "l4=[x for x in string_1.split(\" \") if x in [x for x in string_2.split(\" \")]]\n",
        "print(l4)"
      ],
      "metadata": {
        "colab": {
          "base_uri": "https://localhost:8080/"
        },
        "id": "KpzVQASIUATG",
        "outputId": "65d4cbc9-dd30-4b62-f8a7-f1fc1d4e9cbb"
      },
      "execution_count": null,
      "outputs": [
        {
          "output_type": "stream",
          "name": "stdout",
          "text": [
            "['is', 'the', 'string']\n"
          ]
        }
      ]
    },
    {
      "cell_type": "markdown",
      "source": [
        "Given two sentences, construct an array that has the words that appear in one sentence and not the other"
      ],
      "metadata": {
        "id": "RY1rby_vU4zz"
      }
    },
    {
      "cell_type": "code",
      "source": [
        "s1 = \"this apple is sweet\"\n",
        "s2 = \"this apple is sour\""
      ],
      "metadata": {
        "id": "m8V49j_dUpSP"
      },
      "execution_count": null,
      "outputs": []
    },
    {
      "cell_type": "code",
      "source": [
        "l1=[x for x in s1.split(\" \") if x not in [x for x in s2.split(\" \")]]\n",
        "l2=[x for x in s2.split(\" \") if x not in [x for x in s1.split(\" \")]]\n",
        "l3=l1+l2\n",
        "print(l3)"
      ],
      "metadata": {
        "colab": {
          "base_uri": "https://localhost:8080/"
        },
        "id": "6UZC7wmVVOMf",
        "outputId": "b7528f06-dd69-45a8-e498-b315f0277a4e"
      },
      "execution_count": null,
      "outputs": [
        {
          "output_type": "stream",
          "name": "stdout",
          "text": [
            "['sweet', 'sour']\n"
          ]
        }
      ]
    },
    {
      "cell_type": "markdown",
      "source": [
        "**Given an array of integers, we would like to determine whether the array is monotonic (non-decreasing/non-increasing) or not.**\n",
        "    \n",
        "    Examples:\n",
        "    - 1 2 5 5 8 --> true\n",
        "    - 9 4 4 2 2 --> true\n",
        "    - 1 4 6 3 --> false\n",
        "    - 1 1 1 1 1 1 --> true   \n",
        "\n"
      ],
      "metadata": {
        "id": "qnjZAW65e4Y0"
      }
    },
    {
      "cell_type": "code",
      "source": [
        ""
      ],
      "metadata": {
        "id": "GTm4p6xpfD7t"
      },
      "execution_count": null,
      "outputs": []
    },
    {
      "cell_type": "markdown",
      "source": [
        "**Valid ip address, edge case to remember is if there are alphanumeric characters.**"
      ],
      "metadata": {
        "id": "u2MFAHkSfAEW"
      }
    },
    {
      "cell_type": "code",
      "source": [
        ""
      ],
      "metadata": {
        "id": "N48xjAtxfE-W"
      },
      "execution_count": null,
      "outputs": []
    },
    {
      "cell_type": "markdown",
      "source": [
        "**Count Distinct Words in a Sentence**"
      ],
      "metadata": {
        "id": "y9D5A7zdYHhb"
      }
    },
    {
      "cell_type": "code",
      "source": [
        "string_1=\"Firstly this is the first string. Next is the second string.\""
      ],
      "metadata": {
        "id": "H8CP5BUcVsZH"
      },
      "execution_count": null,
      "outputs": []
    },
    {
      "cell_type": "code",
      "source": [
        "def distinct_words(items):\n",
        "  c=0\n",
        "  for x in items.split(\" \"):\n",
        "    if items.count(x)==1:\n",
        "      c+=1\n",
        "  return c"
      ],
      "metadata": {
        "id": "NO3zI6bgYkR9"
      },
      "execution_count": null,
      "outputs": []
    },
    {
      "cell_type": "code",
      "source": [
        "distinct_words(string_1)"
      ],
      "metadata": {
        "colab": {
          "base_uri": "https://localhost:8080/"
        },
        "id": "vMIVVqSSb7lB",
        "outputId": "3e23bced-2095-446a-c062-8a36617d9d6e"
      },
      "execution_count": null,
      "outputs": [
        {
          "output_type": "execute_result",
          "data": {
            "text/plain": [
              "5"
            ]
          },
          "metadata": {},
          "execution_count": 16
        }
      ]
    },
    {
      "cell_type": "markdown",
      "source": [
        "**Count the number of times a word appears in a sentence using HashMap**"
      ],
      "metadata": {
        "id": "a-MGkNJKdHqj"
      }
    },
    {
      "cell_type": "code",
      "source": [
        "string_1=\"Firstly this is the first string. Next is the second string.\""
      ],
      "metadata": {
        "id": "aTZrBvDYb_Lp"
      },
      "execution_count": null,
      "outputs": []
    },
    {
      "cell_type": "code",
      "source": [
        "def count_each_word(items):\n",
        "  for x in items.split(\" \"):\n",
        "    c=items.count(x)\n",
        "    print(\"The word-- %s --appears %s time(s) in the sentence %s\" %(x, c, items) )"
      ],
      "metadata": {
        "id": "2R6__RdsdYv4"
      },
      "execution_count": null,
      "outputs": []
    },
    {
      "cell_type": "code",
      "source": [
        "count_each_word(string_1)"
      ],
      "metadata": {
        "colab": {
          "base_uri": "https://localhost:8080/"
        },
        "id": "7eW0yTw9d6P5",
        "outputId": "209aae65-9cba-40df-b679-856ace8bfd08"
      },
      "execution_count": null,
      "outputs": [
        {
          "output_type": "stream",
          "name": "stdout",
          "text": [
            "The word-- Firstly --appears 1 time(s) in the sentence Firstly this is the first string. Next is the second string.\n",
            "The word-- this --appears 1 time(s) in the sentence Firstly this is the first string. Next is the second string.\n",
            "The word-- is --appears 3 time(s) in the sentence Firstly this is the first string. Next is the second string.\n",
            "The word-- the --appears 2 time(s) in the sentence Firstly this is the first string. Next is the second string.\n",
            "The word-- first --appears 1 time(s) in the sentence Firstly this is the first string. Next is the second string.\n",
            "The word-- string. --appears 2 time(s) in the sentence Firstly this is the first string. Next is the second string.\n",
            "The word-- Next --appears 1 time(s) in the sentence Firstly this is the first string. Next is the second string.\n",
            "The word-- is --appears 3 time(s) in the sentence Firstly this is the first string. Next is the second string.\n",
            "The word-- the --appears 2 time(s) in the sentence Firstly this is the first string. Next is the second string.\n",
            "The word-- second --appears 1 time(s) in the sentence Firstly this is the first string. Next is the second string.\n",
            "The word-- string. --appears 2 time(s) in the sentence Firstly this is the first string. Next is the second string.\n"
          ]
        }
      ]
    },
    {
      "cell_type": "markdown",
      "source": [
        "**Return tuples of a list, matching each item to another item**"
      ],
      "metadata": {
        "id": "lHc7cYNNeTGU"
      }
    },
    {
      "cell_type": "code",
      "source": [
        ""
      ],
      "metadata": {
        "id": "kQ-bFDZ9d8Kh"
      },
      "execution_count": null,
      "outputs": []
    },
    {
      "cell_type": "markdown",
      "source": [
        "**Count the number of times a substring appear in a string**"
      ],
      "metadata": {
        "id": "V5aZhz9CfMAn"
      }
    },
    {
      "cell_type": "code",
      "source": [
        "string_1=\"Firstly this is the first string. Next is the second string.\""
      ],
      "metadata": {
        "id": "YePZKwGFg7vO"
      },
      "execution_count": null,
      "outputs": []
    },
    {
      "cell_type": "code",
      "source": [
        "def cnt_string(parent,str):\n",
        "  cnt=parent.lower().count(str.lower())\n",
        "  return cnt"
      ],
      "metadata": {
        "id": "EhNHEiKxfNf1"
      },
      "execution_count": null,
      "outputs": []
    },
    {
      "cell_type": "code",
      "source": [
        "cnt_string(string_1, 'the')\n"
      ],
      "metadata": {
        "colab": {
          "base_uri": "https://localhost:8080/"
        },
        "id": "pN1yVfmag6Op",
        "outputId": "c5b33065-c67f-4a4a-97bd-bf0b26d1008b"
      },
      "execution_count": null,
      "outputs": [
        {
          "output_type": "execute_result",
          "data": {
            "text/plain": [
              "2"
            ]
          },
          "metadata": {},
          "execution_count": 22
        }
      ]
    },
    {
      "cell_type": "code",
      "source": [
        "cnt_string(string_1, 'string')"
      ],
      "metadata": {
        "colab": {
          "base_uri": "https://localhost:8080/"
        },
        "id": "4j86rYcChC4Q",
        "outputId": "78b8483b-e630-472b-a7ed-7e89753bf2c1"
      },
      "execution_count": null,
      "outputs": [
        {
          "output_type": "execute_result",
          "data": {
            "text/plain": [
              "2"
            ]
          },
          "metadata": {},
          "execution_count": 23
        }
      ]
    },
    {
      "cell_type": "code",
      "source": [
        "cnt_string(string_1, 'Firstly')"
      ],
      "metadata": {
        "colab": {
          "base_uri": "https://localhost:8080/"
        },
        "id": "o87lU5vRhI25",
        "outputId": "e10b40d9-2cf3-4849-b262-67b9eb3a07fc"
      },
      "execution_count": null,
      "outputs": [
        {
          "output_type": "execute_result",
          "data": {
            "text/plain": [
              "1"
            ]
          },
          "metadata": {},
          "execution_count": 24
        }
      ]
    },
    {
      "cell_type": "code",
      "source": [
        "cnt_string(string_1, 'firstly')"
      ],
      "metadata": {
        "colab": {
          "base_uri": "https://localhost:8080/"
        },
        "id": "zEgpdfu5hLoQ",
        "outputId": "6f7a21e9-6daa-467e-f30e-0b6f323fd611"
      },
      "execution_count": null,
      "outputs": [
        {
          "output_type": "execute_result",
          "data": {
            "text/plain": [
              "1"
            ]
          },
          "metadata": {},
          "execution_count": 25
        }
      ]
    },
    {
      "cell_type": "markdown",
      "source": [
        "**Calculate the average word length. For the given set of words return the average word length.**"
      ],
      "metadata": {
        "id": "qsNm-So0jAHH"
      }
    },
    {
      "cell_type": "code",
      "source": [
        ""
      ],
      "metadata": {
        "id": "FIfSUMkwhNWp"
      },
      "execution_count": null,
      "outputs": []
    },
    {
      "cell_type": "markdown",
      "source": [
        "#**Below are Obtained from StackOverFlow**"
      ],
      "metadata": {
        "id": "VDuynsKok6xe"
      }
    },
    {
      "cell_type": "markdown",
      "source": [
        "**How to make a flat list out of a list of lists?**"
      ],
      "metadata": {
        "id": "kMVYVceqloWl"
      }
    },
    {
      "cell_type": "code",
      "source": [
        "l = [[1, 2, 3], [4, 5, 6], [7], [8, 9]]"
      ],
      "metadata": {
        "id": "grEzng6XlEJS"
      },
      "execution_count": null,
      "outputs": []
    },
    {
      "cell_type": "code",
      "source": [
        "flat_list = [item for sublist in l for item in sublist]"
      ],
      "metadata": {
        "id": "gIRFp2bOlFMK"
      },
      "execution_count": null,
      "outputs": []
    },
    {
      "cell_type": "code",
      "source": [
        "flat_list"
      ],
      "metadata": {
        "id": "Cqlg8sHQlX79",
        "outputId": "3c51314a-7ce6-41b6-d6b3-5829f346ecb3",
        "colab": {
          "base_uri": "https://localhost:8080/"
        }
      },
      "execution_count": null,
      "outputs": [
        {
          "output_type": "execute_result",
          "data": {
            "text/plain": [
              "[1, 2, 3, 4, 5, 6, 7, 8, 9]"
            ]
          },
          "metadata": {},
          "execution_count": 35
        }
      ]
    },
    {
      "cell_type": "code",
      "source": [
        "flat_list = []\n",
        "for sublist in l:\n",
        "    for item in sublist:\n",
        "        flat_list.append(item)"
      ],
      "metadata": {
        "id": "ipTPgsHWlY7s"
      },
      "execution_count": null,
      "outputs": []
    },
    {
      "cell_type": "code",
      "source": [
        "flat_list"
      ],
      "metadata": {
        "id": "_uJPSYvlleZV",
        "outputId": "578614be-f967-4925-9a74-283e508023c8",
        "colab": {
          "base_uri": "https://localhost:8080/"
        }
      },
      "execution_count": null,
      "outputs": [
        {
          "output_type": "execute_result",
          "data": {
            "text/plain": [
              "[1, 2, 3, 4, 5, 6, 7, 8, 9]"
            ]
          },
          "metadata": {},
          "execution_count": 37
        }
      ]
    },
    {
      "cell_type": "markdown",
      "source": [
        "Index of an element in List"
      ],
      "metadata": {
        "id": "gpgmzspqmiG-"
      }
    },
    {
      "cell_type": "code",
      "source": [
        "c=flat_list.index(1)\n",
        "print(c)"
      ],
      "metadata": {
        "id": "3Egw6CM7lj7l",
        "outputId": "58835a9d-4a43-46c9-d58c-2dcb73f5b539",
        "colab": {
          "base_uri": "https://localhost:8080/"
        }
      },
      "execution_count": null,
      "outputs": [
        {
          "output_type": "stream",
          "name": "stdout",
          "text": [
            "0\n"
          ]
        }
      ]
    },
    {
      "cell_type": "markdown",
      "source": [
        "Get a Substring of a String\n",
        "\n",
        "Substr *usually* works like this - Substr(s, beginning, LENGTH)\n",
        "\n",
        "But, in Python it works like this - s[ beginning : beginning + LENGTH]"
      ],
      "metadata": {
        "id": "62Mp7Hy_oQ1W"
      }
    },
    {
      "cell_type": "code",
      "source": [
        "string_1=\"Firstly this is the first string. Next is the second string.\""
      ],
      "metadata": {
        "id": "QIpL09JcmqSq"
      },
      "execution_count": null,
      "outputs": []
    },
    {
      "cell_type": "code",
      "source": [
        "c=string_1[3:10]\n",
        "print(c)"
      ],
      "metadata": {
        "id": "rZ1aViW2oUJz",
        "outputId": "325c518e-0825-40ca-9929-6d62bb08f483",
        "colab": {
          "base_uri": "https://localhost:8080/"
        }
      },
      "execution_count": null,
      "outputs": [
        {
          "output_type": "stream",
          "name": "stdout",
          "text": [
            "stly th\n"
          ]
        }
      ]
    },
    {
      "cell_type": "code",
      "source": [
        "def odd_string(items):\n",
        "  for x in items.split(\" \"):\n",
        "    if items.split(\" \").index(x)%2!=0:\n",
        "      print(x)"
      ],
      "metadata": {
        "id": "R3uhdDuUoiTa"
      },
      "execution_count": null,
      "outputs": []
    },
    {
      "cell_type": "code",
      "source": [
        "odd_string(string_1)"
      ],
      "metadata": {
        "id": "Hcf5BrfBqKRD",
        "outputId": "9662d0d0-f56d-4888-999a-564511b9a60c",
        "colab": {
          "base_uri": "https://localhost:8080/"
        }
      },
      "execution_count": null,
      "outputs": [
        {
          "output_type": "stream",
          "name": "stdout",
          "text": [
            "this\n",
            "the\n",
            "string.\n",
            "the\n",
            "second\n",
            "string.\n"
          ]
        }
      ]
    },
    {
      "cell_type": "markdown",
      "source": [
        "#YouTube Questions"
      ],
      "metadata": {
        "id": "xh8HEF1WDIci"
      }
    },
    {
      "cell_type": "markdown",
      "source": [
        "Write a Python Program to print the Prime Numbers between 2 numbers"
      ],
      "metadata": {
        "id": "gRLNxTonHk-a"
      }
    },
    {
      "cell_type": "code",
      "source": [
        "def primenos(x, y):\n",
        "    prime_list = []\n",
        "    for i in range(x, y):\n",
        "        if i == 0 or i == 1:\n",
        "            continue\n",
        "        else:\n",
        "            for j in range(2, int(i/2)+1):\n",
        "                if i % j == 0:\n",
        "                    break\n",
        "            else:\n",
        "                prime_list.append(i)\n",
        "    print(\"The prime numbers between %s and %s are: %s\" %(x, y, prime_list))\n",
        "#    return prime_list"
      ],
      "metadata": {
        "id": "30c0TSspqMVK"
      },
      "execution_count": null,
      "outputs": []
    },
    {
      "cell_type": "code",
      "source": [
        "primenos(0,10)"
      ],
      "metadata": {
        "id": "k4ZP0j9LJT6A",
        "outputId": "da626230-9868-444b-e649-62e78b5ac955",
        "colab": {
          "base_uri": "https://localhost:8080/"
        }
      },
      "execution_count": null,
      "outputs": [
        {
          "output_type": "stream",
          "name": "stdout",
          "text": [
            "The prime numbers between 0 and 10 are: [2, 3, 5, 7]\n"
          ]
        }
      ]
    },
    {
      "cell_type": "code",
      "source": [
        "def prime(x,y):\n",
        "  prime_list=[]\n",
        "  for i in range(x, y):\n",
        "    if i == 0 or i == 1:\n",
        "      continue\n",
        "    else:\n",
        "      for j in range(2,int(i/2)+1):\n",
        "        if i%j==0:\n",
        "          break\n",
        "      else:\n",
        "          prime_list.append(i)\n",
        "  return prime_list"
      ],
      "metadata": {
        "id": "GBj43V0EJYw_"
      },
      "execution_count": null,
      "outputs": []
    },
    {
      "cell_type": "code",
      "source": [
        "prime(0,10)"
      ],
      "metadata": {
        "id": "tDQcJlmcQsuJ",
        "outputId": "9e759dd7-d178-46ef-a78a-7a833a1cd7c3",
        "colab": {
          "base_uri": "https://localhost:8080/"
        }
      },
      "execution_count": null,
      "outputs": [
        {
          "output_type": "execute_result",
          "data": {
            "text/plain": [
              "[2, 3, 5, 7]"
            ]
          },
          "metadata": {},
          "execution_count": 58
        }
      ]
    },
    {
      "cell_type": "markdown",
      "source": [
        "Write a sort function to sort the elements in a list."
      ],
      "metadata": {
        "id": "BSjqzQq-SYTM"
      }
    },
    {
      "cell_type": "code",
      "source": [
        "prime_numbers = [11, 3, 7, 5, 2]"
      ],
      "metadata": {
        "id": "x0mr8T-9QutB"
      },
      "execution_count": null,
      "outputs": []
    },
    {
      "cell_type": "code",
      "source": [
        "#prime_numbers.sort()\n",
        "prime_numbers.sort(reverse=True)"
      ],
      "metadata": {
        "id": "k4u12U-4UgnQ"
      },
      "execution_count": null,
      "outputs": []
    },
    {
      "cell_type": "code",
      "source": [
        "print(prime_numbers)"
      ],
      "metadata": {
        "id": "T3foQT92UiDy",
        "outputId": "7ec2e14a-a49e-4454-b6e8-5ff1fa116d44",
        "colab": {
          "base_uri": "https://localhost:8080/"
        }
      },
      "execution_count": null,
      "outputs": [
        {
          "output_type": "stream",
          "name": "stdout",
          "text": [
            "[11, 7, 5, 3, 2]\n"
          ]
        }
      ]
    },
    {
      "cell_type": "code",
      "source": [
        "vowels = ['ea', 'abf', 'ucgh', 'odijk', 'ielmn']"
      ],
      "metadata": {
        "id": "y50Xpc5hUjmh"
      },
      "execution_count": null,
      "outputs": []
    },
    {
      "cell_type": "code",
      "source": [
        "vowels.sort()\n",
        "print(vowels)"
      ],
      "metadata": {
        "id": "SaSDHq2AUxHx",
        "outputId": "85c8fdee-63ec-45ad-bec9-26816e74bd42",
        "colab": {
          "base_uri": "https://localhost:8080/"
        }
      },
      "execution_count": null,
      "outputs": [
        {
          "output_type": "stream",
          "name": "stdout",
          "text": [
            "['abf', 'ea', 'ielmn', 'odijk', 'ucgh']\n"
          ]
        }
      ]
    },
    {
      "cell_type": "code",
      "source": [
        "vowels.sort(reverse=True)\n",
        "print(vowels)"
      ],
      "metadata": {
        "id": "vf7jU0QaUz35",
        "outputId": "a6b592e7-13d7-4f0a-a8ec-c9461e0547d8",
        "colab": {
          "base_uri": "https://localhost:8080/"
        }
      },
      "execution_count": null,
      "outputs": [
        {
          "output_type": "stream",
          "name": "stdout",
          "text": [
            "['ucgh', 'odijk', 'ielmn', 'ea', 'abf']\n"
          ]
        }
      ]
    },
    {
      "cell_type": "code",
      "source": [
        "vowels.sort(key=len)\n",
        "print(vowels)"
      ],
      "metadata": {
        "id": "j8_sR_8aU3EB",
        "outputId": "b6884bb0-6602-4594-e99a-92a0bd7eba51",
        "colab": {
          "base_uri": "https://localhost:8080/"
        }
      },
      "execution_count": null,
      "outputs": [
        {
          "output_type": "stream",
          "name": "stdout",
          "text": [
            "['ea', 'abf', 'ucgh', 'odijk', 'ielmn']\n"
          ]
        }
      ]
    },
    {
      "cell_type": "code",
      "source": [
        "random = [(2, 2), (3, 4), (4, 1), (1, 3)]"
      ],
      "metadata": {
        "id": "-8d5XTmfVJcy"
      },
      "execution_count": null,
      "outputs": []
    },
    {
      "cell_type": "code",
      "source": [
        "def sortSecondElement(elem):\n",
        "  return elem[1]"
      ],
      "metadata": {
        "id": "hZmzoscjVeei"
      },
      "execution_count": null,
      "outputs": []
    },
    {
      "cell_type": "code",
      "source": [
        "random.sort( key=sortSecondElement )"
      ],
      "metadata": {
        "id": "L_uIggKZWPQy"
      },
      "execution_count": null,
      "outputs": []
    },
    {
      "cell_type": "code",
      "source": [
        "print(random)"
      ],
      "metadata": {
        "id": "DQ1ltUtMWW0q",
        "outputId": "d0ca08ae-2e91-4303-b2fa-b7eee46719b2",
        "colab": {
          "base_uri": "https://localhost:8080/"
        }
      },
      "execution_count": null,
      "outputs": [
        {
          "output_type": "stream",
          "name": "stdout",
          "text": [
            "[(4, 1), (2, 2), (1, 3), (3, 4)]\n"
          ]
        }
      ]
    },
    {
      "cell_type": "code",
      "source": [
        "employees = [\n",
        "    {'Name': 'Alan Turing', 'age': 25, 'salary': 10000},\n",
        "    {'Name': 'Sharon Lin', 'age': 30, 'salary': 8000},\n",
        "    {'Name': 'John Hopkins', 'age': 18, 'salary': 1000},\n",
        "    {'Name': 'Mikhail Tal', 'age': 40, 'salary': 15000},\n",
        "]"
      ],
      "metadata": {
        "id": "TIb33CaqYTZK"
      },
      "execution_count": null,
      "outputs": []
    },
    {
      "cell_type": "code",
      "source": [
        "def get_name(employee):\n",
        "    return employee.get('Name')\n",
        "\n",
        "def get_age(employee):\n",
        "    return employee.get('age')\n",
        "\n",
        "def get_salary(employee):\n",
        "    return employee.get('salary')"
      ],
      "metadata": {
        "id": "qEGGl5VtY08a"
      },
      "execution_count": null,
      "outputs": []
    },
    {
      "cell_type": "code",
      "source": [
        "employees.sort(key=get_name)\n",
        "print(employees, end='\\n\\n')"
      ],
      "metadata": {
        "id": "PnBqcOCNZb2S",
        "outputId": "afb56947-e006-43b8-a547-83920b149c9d",
        "colab": {
          "base_uri": "https://localhost:8080/"
        }
      },
      "execution_count": null,
      "outputs": [
        {
          "output_type": "stream",
          "name": "stdout",
          "text": [
            "[{'Name': 'Alan Turing', 'age': 25, 'salary': 10000}, {'Name': 'John Hopkins', 'age': 18, 'salary': 1000}, {'Name': 'Mikhail Tal', 'age': 40, 'salary': 15000}, {'Name': 'Sharon Lin', 'age': 30, 'salary': 8000}]\n",
            "\n"
          ]
        }
      ]
    },
    {
      "cell_type": "code",
      "source": [
        "employees.sort(key=get_salary,reverse=True)\n",
        "print(employees, end='\\n\\n')"
      ],
      "metadata": {
        "id": "87Ri9vivZdfb",
        "outputId": "c50c13fe-c0aa-486c-df59-893b22cd4ef5",
        "colab": {
          "base_uri": "https://localhost:8080/"
        }
      },
      "execution_count": null,
      "outputs": [
        {
          "output_type": "stream",
          "name": "stdout",
          "text": [
            "[{'Name': 'Mikhail Tal', 'age': 40, 'salary': 15000}, {'Name': 'Alan Turing', 'age': 25, 'salary': 10000}, {'Name': 'Sharon Lin', 'age': 30, 'salary': 8000}, {'Name': 'John Hopkins', 'age': 18, 'salary': 1000}]\n",
            "\n"
          ]
        }
      ]
    },
    {
      "cell_type": "code",
      "source": [
        "employees.sort(key=get_age,reverse=True)\n",
        "print(employees, end='\\n\\n')"
      ],
      "metadata": {
        "id": "kCmrtyJkZmmT",
        "outputId": "be63d899-6902-43d4-e406-c923d7d10043",
        "colab": {
          "base_uri": "https://localhost:8080/"
        }
      },
      "execution_count": null,
      "outputs": [
        {
          "output_type": "stream",
          "name": "stdout",
          "text": [
            "[{'Name': 'Mikhail Tal', 'age': 40, 'salary': 15000}, {'Name': 'Sharon Lin', 'age': 30, 'salary': 8000}, {'Name': 'Alan Turing', 'age': 25, 'salary': 10000}, {'Name': 'John Hopkins', 'age': 18, 'salary': 1000}]\n",
            "\n"
          ]
        }
      ]
    },
    {
      "cell_type": "markdown",
      "source": [
        "Write a Sorting function withOUT using the list.sort function"
      ],
      "metadata": {
        "id": "M2gfop-NZ1fX"
      }
    },
    {
      "cell_type": "code",
      "source": [
        "data_list = [-5, -23, 5, 0, 23, -6, 23, 67]"
      ],
      "metadata": {
        "id": "MTwqnxXPZroa"
      },
      "execution_count": null,
      "outputs": []
    },
    {
      "cell_type": "code",
      "source": [
        "def sort(item):\n",
        "  s=[]\n",
        "  for x in range(1,len(item)):\n",
        "    if item[0]<"
      ],
      "metadata": {
        "id": "dHIsM8fwbK4k",
        "outputId": "99370db3-7ecd-442d-ba08-6c0ca613b35e",
        "colab": {
          "base_uri": "https://localhost:8080/",
          "height": 130
        }
      },
      "execution_count": 1,
      "outputs": [
        {
          "output_type": "error",
          "ename": "SyntaxError",
          "evalue": "ignored",
          "traceback": [
            "\u001b[0;36m  File \u001b[0;32m\"<ipython-input-1-938d24cbe0a7>\"\u001b[0;36m, line \u001b[0;32m4\u001b[0m\n\u001b[0;31m    if item[0]<\u001b[0m\n\u001b[0m               ^\u001b[0m\n\u001b[0;31mSyntaxError\u001b[0m\u001b[0;31m:\u001b[0m invalid syntax\n"
          ]
        }
      ]
    },
    {
      "cell_type": "code",
      "source": [
        "data_list = [-5, -23, 5, 0, 23, -6, 23, 67]"
      ],
      "metadata": {
        "id": "F7jNJJ7HnbHJ"
      },
      "execution_count": 6,
      "outputs": []
    },
    {
      "cell_type": "code",
      "source": [
        "data_list=['1','2','3','4']\n"
      ],
      "metadata": {
        "id": "DuGiu5W6nfvI"
      },
      "execution_count": 31,
      "outputs": []
    },
    {
      "cell_type": "code",
      "source": [
        "%timeit x=data_list[::-1]\n",
        "print(x)"
      ],
      "metadata": {
        "id": "vEoPSFIInjgP",
        "outputId": "807ff01c-45c2-412b-e238-6f21d7eb6290",
        "colab": {
          "base_uri": "https://localhost:8080/"
        }
      },
      "execution_count": 32,
      "outputs": [
        {
          "output_type": "stream",
          "name": "stdout",
          "text": [
            "The slowest run took 12.54 times longer than the fastest. This could mean that an intermediate result is being cached.\n",
            "10000000 loops, best of 5: 125 ns per loop\n",
            "['4', '3', '2', '1']\n"
          ]
        }
      ]
    },
    {
      "cell_type": "code",
      "source": [
        "print(data_list.reverse())"
      ],
      "metadata": {
        "id": "GMhPw4nRoXaw",
        "outputId": "b109441b-f41a-4a1f-c6a7-59163c6616a8",
        "colab": {
          "base_uri": "https://localhost:8080/"
        }
      },
      "execution_count": 34,
      "outputs": [
        {
          "output_type": "stream",
          "name": "stdout",
          "text": [
            "None\n"
          ]
        }
      ]
    },
    {
      "cell_type": "code",
      "source": [
        ""
      ],
      "metadata": {
        "id": "vut3vIZMrCJg"
      },
      "execution_count": null,
      "outputs": []
    }
  ]
}