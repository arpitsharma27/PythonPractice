{
  "nbformat": 4,
  "nbformat_minor": 0,
  "metadata": {
    "colab": {
      "name": "FB_DE_interviewPractice.ipynb",
      "provenance": [],
      "authorship_tag": "ABX9TyO9vu2MnaxzaWwVQsg7tMca",
      "include_colab_link": true
    },
    "kernelspec": {
      "name": "python3",
      "display_name": "Python 3"
    },
    "language_info": {
      "name": "python"
    }
  },
  "cells": [
    {
      "cell_type": "markdown",
      "metadata": {
        "id": "view-in-github",
        "colab_type": "text"
      },
      "source": [
        "<a href=\"https://colab.research.google.com/github/arpitsharma27/PythonPractice/blob/main/FB_DE_interviewPractice.ipynb\" target=\"_parent\"><img src=\"https://colab.research.google.com/assets/colab-badge.svg\" alt=\"Open In Colab\"/></a>"
      ]
    },
    {
      "cell_type": "code",
      "execution_count": null,
      "metadata": {
        "id": "vEWaGHTqCfx8"
      },
      "outputs": [],
      "source": [
        ""
      ]
    },
    {
      "cell_type": "markdown",
      "source": [
        "#Python: Easy (tags: list, string, hashtable)\n",
        "\n",
        "\n",
        "1. Complete a function that returns the number of times a given character occurs in the given string\n",
        "\n",
        "    For example:\n",
        "     - input string = \"mississippi\"\n",
        "     - char = \"s\"\n",
        "     - output : 4\n",
        "  \n",
        "2. Fill in the blanks: Given an array containing None values fill in the None values with most recent non None value in the array\n",
        "    \n",
        "    For example:\n",
        "    - input array: [1,None,2,3,None,None,5,None]\n",
        "    - output array: [1,1,2,3,3,3,5,5]\n",
        "    \n",
        "    Ensure you take care of case input[None] which means None object.\n",
        "\n",
        "3. Complete a function that returns a list containing all the mismatched words (case sensitive) between two given input strings\n",
        "\n",
        "    For example:\n",
        "    - string 1 : \"Firstly this is the first string\"\n",
        "    - string 2 : \"Next is the second string\"\n",
        "    - output : ['Firstly', 'this', 'first', 'Next', 'second']\n",
        "\n",
        "4. Find common words in 2 sentences\n",
        "\n",
        "5. Given two sentences, construct an array that has the words that appear in one sentence and not the other.\n",
        "\n",
        "6. Given an array of integers, we would like to determine whether the array is monotonic (non-decreasing/non-increasing) or not.\n",
        "    \n",
        "    Examples:\n",
        "    - 1 2 5 5 8 --> true\n",
        "    - 9 4 4 2 2 --> true\n",
        "    - 1 4 6 3 --> false\n",
        "    - 1 1 1 1 1 1 --> true   \n",
        "\n",
        "7. Valid ip address, edge case to remember is if there are alphanumeric characters.\n",
        "\n",
        "8. Count distinct words in a sentence\n",
        "\n",
        "9. Count the number of times a word appear in a sentence using a Hash Map\n",
        "\n",
        "10. Return tuples of a list, matching each item to another item\n",
        "\n",
        "11. Count the number of times a substring appear in a string\n",
        "\n",
        "12. Calculate the average word length.\n",
        "    For the given set of words return the average word length.\n",
        "\n",
        "13. want you to write me a simple spell checking engine."
      ],
      "metadata": {
        "id": "8LoxutEiCr-F"
      }
    },
    {
      "cell_type": "code",
      "source": [
        "state='new jersey'"
      ],
      "metadata": {
        "id": "yoPXtSnZEtyM"
      },
      "execution_count": 75,
      "outputs": []
    },
    {
      "cell_type": "code",
      "source": [
        "def cnt(items):\n",
        "  for x in set(items):\n",
        "    c=items.count(x)\n",
        "    print(\"The number of times %s appears in %s is %s\" %(x, items ,c))"
      ],
      "metadata": {
        "id": "7-BEi_G2FOkK"
      },
      "execution_count": 99,
      "outputs": []
    },
    {
      "cell_type": "code",
      "source": [
        "cnt(state)"
      ],
      "metadata": {
        "colab": {
          "base_uri": "https://localhost:8080/"
        },
        "id": "8s1tTDBxFgLs",
        "outputId": "9c34ca97-69a6-4e06-abbf-ef1ba43400d0"
      },
      "execution_count": 100,
      "outputs": [
        {
          "output_type": "stream",
          "name": "stdout",
          "text": [
            "The number of times   appears in new jersey is 1\n",
            "The number of times j appears in new jersey is 1\n",
            "The number of times n appears in new jersey is 1\n",
            "The number of times r appears in new jersey is 1\n",
            "The number of times y appears in new jersey is 1\n",
            "The number of times s appears in new jersey is 1\n",
            "The number of times w appears in new jersey is 1\n",
            "The number of times e appears in new jersey is 3\n"
          ]
        }
      ]
    },
    {
      "cell_type": "code",
      "source": [
        "cnt(\"missisipi\")\n",
        "print(\"xxxxxxxx\")\n",
        "cnt('new york')\n",
        "print(\"xxxxxxxx\")\n",
        "cnt('New Hampshire')"
      ],
      "metadata": {
        "colab": {
          "base_uri": "https://localhost:8080/"
        },
        "id": "TkfC7f6FFhcL",
        "outputId": "e1a97cba-56ff-430a-d42f-ef702f622d9a"
      },
      "execution_count": 101,
      "outputs": [
        {
          "output_type": "stream",
          "name": "stdout",
          "text": [
            "The number of times m appears in missisipi is 1\n",
            "The number of times s appears in missisipi is 3\n",
            "The number of times i appears in missisipi is 4\n",
            "The number of times p appears in missisipi is 1\n",
            "xxxxxxxx\n",
            "The number of times   appears in new york is 1\n",
            "The number of times n appears in new york is 1\n",
            "The number of times k appears in new york is 1\n",
            "The number of times r appears in new york is 1\n",
            "The number of times y appears in new york is 1\n",
            "The number of times w appears in new york is 1\n",
            "The number of times o appears in new york is 1\n",
            "The number of times e appears in new york is 1\n",
            "xxxxxxxx\n",
            "The number of times   appears in New Hampshire is 1\n",
            "The number of times p appears in New Hampshire is 1\n",
            "The number of times a appears in New Hampshire is 1\n",
            "The number of times N appears in New Hampshire is 1\n",
            "The number of times h appears in New Hampshire is 1\n",
            "The number of times r appears in New Hampshire is 1\n",
            "The number of times s appears in New Hampshire is 1\n",
            "The number of times w appears in New Hampshire is 1\n",
            "The number of times H appears in New Hampshire is 1\n",
            "The number of times m appears in New Hampshire is 1\n",
            "The number of times e appears in New Hampshire is 2\n",
            "The number of times i appears in New Hampshire is 1\n"
          ]
        }
      ]
    },
    {
      "cell_type": "code",
      "source": [
        "x=[1,None,2,3,None,None,5,None]\n",
        "x=[None]"
      ],
      "metadata": {
        "id": "9q4FRej8HuZ8"
      },
      "execution_count": 102,
      "outputs": []
    },
    {
      "cell_type": "code",
      "source": [
        "for i,e in enumerate(x[:-1],1):\n",
        "  if x[i]==None:\n",
        "    x[i]=x[i-1]\n",
        "print(x)"
      ],
      "metadata": {
        "colab": {
          "base_uri": "https://localhost:8080/"
        },
        "id": "tBxv9w0OIJe3",
        "outputId": "da1d1971-2537-4eb5-dcf3-cf6c6ab7d25d"
      },
      "execution_count": 103,
      "outputs": [
        {
          "output_type": "stream",
          "name": "stdout",
          "text": [
            "[None]\n"
          ]
        }
      ]
    },
    {
      "cell_type": "code",
      "source": [
        "for i,e in enumerate(x[:-1],1):\n",
        "  if x[i]==None:\n",
        "    x[i]=x[i-1]\n",
        "print(x)\n"
      ],
      "metadata": {
        "colab": {
          "base_uri": "https://localhost:8080/"
        },
        "id": "yeuuAiutJ3W-",
        "outputId": "6b97851e-6ef7-454b-bc4e-48380f361412"
      },
      "execution_count": 104,
      "outputs": [
        {
          "output_type": "stream",
          "name": "stdout",
          "text": [
            "[None]\n"
          ]
        }
      ]
    },
    {
      "cell_type": "code",
      "source": [
        "string_1=\"Firstly this is the first string\"\n",
        "string_2=\"Next is the second string\""
      ],
      "metadata": {
        "id": "TyE0p3OIK36s"
      },
      "execution_count": 106,
      "outputs": []
    },
    {
      "cell_type": "code",
      "source": [
        "l1=[x.lower() for x in string_1.split(\" \") if x not in [x.lower() for x in string_2.split(\" \")]]\n",
        "l2=[x.lower() for x in string_2.split(\" \") if x not in [x.lower() for x in string_1.split(\" \")]]\n",
        "l3=l1+l2"
      ],
      "metadata": {
        "id": "aZiplkwpSV_W"
      },
      "execution_count": 108,
      "outputs": []
    },
    {
      "cell_type": "code",
      "source": [
        "print(l3)"
      ],
      "metadata": {
        "colab": {
          "base_uri": "https://localhost:8080/"
        },
        "id": "UzeRNiV1T8k3",
        "outputId": "1e965d53-4889-413a-ec29-ff3da18d898b"
      },
      "execution_count": 109,
      "outputs": [
        {
          "output_type": "stream",
          "name": "stdout",
          "text": [
            "['firstly', 'this', 'first', 'next', 'second']\n"
          ]
        }
      ]
    },
    {
      "cell_type": "code",
      "source": [
        "l4=[x for x in string_1.split(\" \") if x in [x for x in string_2.split(\" \")]]\n",
        "print(l4)"
      ],
      "metadata": {
        "colab": {
          "base_uri": "https://localhost:8080/"
        },
        "id": "KpzVQASIUATG",
        "outputId": "5304f565-12df-4497-bea1-489ff60de86c"
      },
      "execution_count": 111,
      "outputs": [
        {
          "output_type": "stream",
          "name": "stdout",
          "text": [
            "['is', 'the', 'string']\n"
          ]
        }
      ]
    },
    {
      "cell_type": "markdown",
      "source": [
        "Given two sentences, construct an array that has the words that appear in one sentence and not the other"
      ],
      "metadata": {
        "id": "RY1rby_vU4zz"
      }
    },
    {
      "cell_type": "code",
      "source": [
        "s1 = \"this apple is sweet\"\n",
        "s2 = \"this apple is sour\""
      ],
      "metadata": {
        "id": "m8V49j_dUpSP"
      },
      "execution_count": 112,
      "outputs": []
    },
    {
      "cell_type": "code",
      "source": [
        "l1=[x for x in s1.split(\" \") if x not in [x for x in s2.split(\" \")]]\n",
        "l2=[x for x in s2.split(\" \") if x not in [x for x in s1.split(\" \")]]\n",
        "l3=l1+l2\n",
        "print(l3)"
      ],
      "metadata": {
        "colab": {
          "base_uri": "https://localhost:8080/"
        },
        "id": "6UZC7wmVVOMf",
        "outputId": "51ea1850-2db7-44cd-aeac-1f4fa712c239"
      },
      "execution_count": 113,
      "outputs": [
        {
          "output_type": "stream",
          "name": "stdout",
          "text": [
            "['sweet', 'sour']\n"
          ]
        }
      ]
    },
    {
      "cell_type": "markdown",
      "source": [
        "**Given an array of integers, we would like to determine whether the array is monotonic (non-decreasing/non-increasing) or not.**\n",
        "    \n",
        "    Examples:\n",
        "    - 1 2 5 5 8 --> true\n",
        "    - 9 4 4 2 2 --> true\n",
        "    - 1 4 6 3 --> false\n",
        "    - 1 1 1 1 1 1 --> true   \n",
        "\n"
      ],
      "metadata": {
        "id": "qnjZAW65e4Y0"
      }
    },
    {
      "cell_type": "code",
      "source": [
        ""
      ],
      "metadata": {
        "id": "GTm4p6xpfD7t"
      },
      "execution_count": null,
      "outputs": []
    },
    {
      "cell_type": "markdown",
      "source": [
        "**Valid ip address, edge case to remember is if there are alphanumeric characters.**"
      ],
      "metadata": {
        "id": "u2MFAHkSfAEW"
      }
    },
    {
      "cell_type": "code",
      "source": [
        ""
      ],
      "metadata": {
        "id": "N48xjAtxfE-W"
      },
      "execution_count": null,
      "outputs": []
    },
    {
      "cell_type": "markdown",
      "source": [
        "**Count Distinct Words in a Sentence**"
      ],
      "metadata": {
        "id": "y9D5A7zdYHhb"
      }
    },
    {
      "cell_type": "code",
      "source": [
        "string_1=\"Firstly this is the first string. Next is the second string.\""
      ],
      "metadata": {
        "id": "H8CP5BUcVsZH"
      },
      "execution_count": 121,
      "outputs": []
    },
    {
      "cell_type": "code",
      "source": [
        "def distinct_words(items):\n",
        "  c=0\n",
        "  for x in items.split(\" \"):\n",
        "    if items.count(x)==1:\n",
        "      c+=1\n",
        "  return c"
      ],
      "metadata": {
        "id": "NO3zI6bgYkR9"
      },
      "execution_count": 128,
      "outputs": []
    },
    {
      "cell_type": "code",
      "source": [
        "distinct_words(string_1)"
      ],
      "metadata": {
        "colab": {
          "base_uri": "https://localhost:8080/"
        },
        "id": "vMIVVqSSb7lB",
        "outputId": "6f78fca5-5d28-48af-b242-f89754c25862"
      },
      "execution_count": 129,
      "outputs": [
        {
          "output_type": "execute_result",
          "data": {
            "text/plain": [
              "5"
            ]
          },
          "metadata": {},
          "execution_count": 129
        }
      ]
    },
    {
      "cell_type": "markdown",
      "source": [
        "**Count the number of times a word appears in a sentence using HashMap**"
      ],
      "metadata": {
        "id": "a-MGkNJKdHqj"
      }
    },
    {
      "cell_type": "code",
      "source": [
        "string_1=\"Firstly this is the first string. Next is the second string.\""
      ],
      "metadata": {
        "id": "aTZrBvDYb_Lp"
      },
      "execution_count": 130,
      "outputs": []
    },
    {
      "cell_type": "code",
      "source": [
        "def count_each_word(items):\n",
        "  for x in items.split(\" \"):\n",
        "    c=items.count(x)\n",
        "    print(\"The word-- %s --appears %s time(s) in the sentence %s\" %(x, c, items) )"
      ],
      "metadata": {
        "id": "2R6__RdsdYv4"
      },
      "execution_count": 133,
      "outputs": []
    },
    {
      "cell_type": "code",
      "source": [
        "count_each_word(string_1)"
      ],
      "metadata": {
        "colab": {
          "base_uri": "https://localhost:8080/"
        },
        "id": "7eW0yTw9d6P5",
        "outputId": "d613198c-d6bd-4eb4-f69c-3f480fe4706d"
      },
      "execution_count": 134,
      "outputs": [
        {
          "output_type": "stream",
          "name": "stdout",
          "text": [
            "The word-- Firstly --appears 1 time(s) in the sentence Firstly this is the first string. Next is the second string.\n",
            "The word-- this --appears 1 time(s) in the sentence Firstly this is the first string. Next is the second string.\n",
            "The word-- is --appears 3 time(s) in the sentence Firstly this is the first string. Next is the second string.\n",
            "The word-- the --appears 2 time(s) in the sentence Firstly this is the first string. Next is the second string.\n",
            "The word-- first --appears 1 time(s) in the sentence Firstly this is the first string. Next is the second string.\n",
            "The word-- string. --appears 2 time(s) in the sentence Firstly this is the first string. Next is the second string.\n",
            "The word-- Next --appears 1 time(s) in the sentence Firstly this is the first string. Next is the second string.\n",
            "The word-- is --appears 3 time(s) in the sentence Firstly this is the first string. Next is the second string.\n",
            "The word-- the --appears 2 time(s) in the sentence Firstly this is the first string. Next is the second string.\n",
            "The word-- second --appears 1 time(s) in the sentence Firstly this is the first string. Next is the second string.\n",
            "The word-- string. --appears 2 time(s) in the sentence Firstly this is the first string. Next is the second string.\n"
          ]
        }
      ]
    },
    {
      "cell_type": "markdown",
      "source": [
        "**Return tuples of a list, matching each item to another item**"
      ],
      "metadata": {
        "id": "lHc7cYNNeTGU"
      }
    },
    {
      "cell_type": "code",
      "source": [
        ""
      ],
      "metadata": {
        "id": "kQ-bFDZ9d8Kh"
      },
      "execution_count": null,
      "outputs": []
    },
    {
      "cell_type": "markdown",
      "source": [
        "**Count the number of times a substring appear in a string**"
      ],
      "metadata": {
        "id": "V5aZhz9CfMAn"
      }
    },
    {
      "cell_type": "code",
      "source": [
        "string_1=\"Firstly this is the first string. Next is the second string.\""
      ],
      "metadata": {
        "id": "YePZKwGFg7vO"
      },
      "execution_count": 136,
      "outputs": []
    },
    {
      "cell_type": "code",
      "source": [
        "def cnt_string(parent,str):\n",
        "  cnt=parent.lower().count(str.lower())\n",
        "  return cnt"
      ],
      "metadata": {
        "id": "EhNHEiKxfNf1"
      },
      "execution_count": 155,
      "outputs": []
    },
    {
      "cell_type": "code",
      "source": [
        "cnt_string(string_1, 'the')\n"
      ],
      "metadata": {
        "colab": {
          "base_uri": "https://localhost:8080/"
        },
        "id": "pN1yVfmag6Op",
        "outputId": "b7353a45-ba70-4c9e-b8b9-2cbc1d732b92"
      },
      "execution_count": 156,
      "outputs": [
        {
          "output_type": "execute_result",
          "data": {
            "text/plain": [
              "2"
            ]
          },
          "metadata": {},
          "execution_count": 156
        }
      ]
    },
    {
      "cell_type": "code",
      "source": [
        "cnt_string(string_1, 'string')"
      ],
      "metadata": {
        "colab": {
          "base_uri": "https://localhost:8080/"
        },
        "id": "4j86rYcChC4Q",
        "outputId": "1111cfd9-5fb7-48ee-a3d7-ff5a48977397"
      },
      "execution_count": 157,
      "outputs": [
        {
          "output_type": "execute_result",
          "data": {
            "text/plain": [
              "2"
            ]
          },
          "metadata": {},
          "execution_count": 157
        }
      ]
    },
    {
      "cell_type": "code",
      "source": [
        "cnt_string(string_1, 'Firstly')"
      ],
      "metadata": {
        "colab": {
          "base_uri": "https://localhost:8080/"
        },
        "id": "o87lU5vRhI25",
        "outputId": "5f1d2707-bbce-44df-bf61-1008310b46e8"
      },
      "execution_count": 158,
      "outputs": [
        {
          "output_type": "execute_result",
          "data": {
            "text/plain": [
              "1"
            ]
          },
          "metadata": {},
          "execution_count": 158
        }
      ]
    },
    {
      "cell_type": "code",
      "source": [
        "cnt_string(string_1, 'firstly')"
      ],
      "metadata": {
        "colab": {
          "base_uri": "https://localhost:8080/"
        },
        "id": "zEgpdfu5hLoQ",
        "outputId": "97bcf00f-4a47-4512-9511-182427b3e584"
      },
      "execution_count": 159,
      "outputs": [
        {
          "output_type": "execute_result",
          "data": {
            "text/plain": [
              "1"
            ]
          },
          "metadata": {},
          "execution_count": 159
        }
      ]
    },
    {
      "cell_type": "code",
      "source": [
        ""
      ],
      "metadata": {
        "id": "FIfSUMkwhNWp"
      },
      "execution_count": null,
      "outputs": []
    }
  ]
}