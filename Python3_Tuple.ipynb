{
  "nbformat": 4,
  "nbformat_minor": 0,
  "metadata": {
    "colab": {
      "name": "Python3-Tuple.ipynb",
      "provenance": [],
      "authorship_tag": "ABX9TyM/ILzEpZQ7cH6eVKlIdxVt",
      "include_colab_link": true
    },
    "kernelspec": {
      "name": "python3",
      "display_name": "Python 3"
    },
    "language_info": {
      "name": "python"
    }
  },
  "cells": [
    {
      "cell_type": "markdown",
      "metadata": {
        "id": "view-in-github",
        "colab_type": "text"
      },
      "source": [
        "<a href=\"https://colab.research.google.com/github/arpitsharma27/PythonPractice/blob/main/Python3_Tuple.ipynb\" target=\"_parent\"><img src=\"https://colab.research.google.com/assets/colab-badge.svg\" alt=\"Open In Colab\"/></a>"
      ]
    },
    {
      "cell_type": "markdown",
      "source": [
        "#Here is a practice session for **Tuple** in Python3\n",
        "\n",
        "####Tuples are used to store multiple items in a single variable.\n",
        "\n",
        "####Tuple is one of 4 built-in data types in Python used to store collections of data, the other 3 are List, Set, and Dictionary, all with different qualities and usage.\n",
        "\n",
        "####A tuple is a collection which is ordered and **unchangeable**.\n",
        "\n",
        "####Tuples are written with round brackets.\n",
        "\n",
        "####Below some of the **Tuple** exercises have been obtained from [here](https://www.w3resource.com/python-exercises/tuple/)\n",
        "\n",
        "####And some are just random google search.\n",
        "\n",
        "#### This can serve you and me for quick reference.\n",
        "\n",
        "####Remember \n",
        "\n",
        "\n",
        "1.   Practice\n",
        "2.   Revisit after 3 days.\n",
        "3. Revisit after a week.\n",
        " \n",
        "#####And I am nailed in your brain.\n",
        "\n",
        "\n"
      ],
      "metadata": {
        "id": "UDHG88-Mq9IZ"
      }
    },
    {
      "cell_type": "code",
      "source": [
        ""
      ],
      "metadata": {
        "id": "YvHs27gtuKJR"
      },
      "execution_count": null,
      "outputs": []
    },
    {
      "cell_type": "markdown",
      "source": [
        "**Create a Tuple with numbers and display a member**"
      ],
      "metadata": {
        "id": "MxfYs96quLWv"
      }
    },
    {
      "cell_type": "code",
      "source": [
        "tuplex= 5,10, 15,20,25"
      ],
      "metadata": {
        "id": "ucfMazccuRSN"
      },
      "execution_count": 1,
      "outputs": []
    },
    {
      "cell_type": "code",
      "source": [
        "print(tuplex)"
      ],
      "metadata": {
        "colab": {
          "base_uri": "https://localhost:8080/"
        },
        "id": "0VoRR2LSuWrf",
        "outputId": "4ded69a5-b020-43ac-cce9-16a35e0e58d0"
      },
      "execution_count": 2,
      "outputs": [
        {
          "output_type": "stream",
          "name": "stdout",
          "text": [
            "(5, 10, 15, 20, 25)\n"
          ]
        }
      ]
    },
    {
      "cell_type": "code",
      "source": [
        "print(type(tuplex))"
      ],
      "metadata": {
        "colab": {
          "base_uri": "https://localhost:8080/"
        },
        "id": "v3KO17VwuZ6O",
        "outputId": "2e3b24f8-dec6-43ae-a1cc-916161204a58"
      },
      "execution_count": 3,
      "outputs": [
        {
          "output_type": "stream",
          "name": "stdout",
          "text": [
            "<class 'tuple'>\n"
          ]
        }
      ]
    },
    {
      "cell_type": "markdown",
      "source": [
        "**Unpack a Tuple**\n",
        "\n",
        "The number of variables must be equal to the number of items of the Tuple"
      ],
      "metadata": {
        "id": "E5PfdQSL21p0"
      }
    },
    {
      "cell_type": "code",
      "source": [
        "n1, n2, n3 ,n4 ,n5= tuplex"
      ],
      "metadata": {
        "id": "ZF3afJ6lubi-"
      },
      "execution_count": 4,
      "outputs": []
    },
    {
      "cell_type": "code",
      "source": [
        "print(n1+n2+n3+n4+n5)"
      ],
      "metadata": {
        "colab": {
          "base_uri": "https://localhost:8080/"
        },
        "id": "2bXCko9T2J0R",
        "outputId": "7ee3b58d-786d-43c3-8ce3-da0348dae2e9"
      },
      "execution_count": 5,
      "outputs": [
        {
          "output_type": "stream",
          "name": "stdout",
          "text": [
            "75\n"
          ]
        }
      ]
    },
    {
      "cell_type": "code",
      "source": [
        "tuplex"
      ],
      "metadata": {
        "colab": {
          "base_uri": "https://localhost:8080/"
        },
        "id": "S24EnTrI2PfY",
        "outputId": "e7da02c0-bdbc-461f-c911-c4be618d6d60"
      },
      "execution_count": 6,
      "outputs": [
        {
          "output_type": "execute_result",
          "data": {
            "text/plain": [
              "(5, 10, 15, 20, 25)"
            ]
          },
          "metadata": {},
          "execution_count": 6
        }
      ]
    },
    {
      "cell_type": "markdown",
      "source": [
        "Convert a Tuple to a List"
      ],
      "metadata": {
        "id": "9VMKstvi3BcJ"
      }
    },
    {
      "cell_type": "code",
      "source": [
        "my_list_tuple=list(tuplex)\n",
        "  "
      ],
      "metadata": {
        "id": "JAbCbuel2SXo"
      },
      "execution_count": 7,
      "outputs": []
    },
    {
      "cell_type": "code",
      "source": [
        "print(my_list_tuple)"
      ],
      "metadata": {
        "colab": {
          "base_uri": "https://localhost:8080/"
        },
        "id": "Mrn_H38_2uNy",
        "outputId": "8828132d-94bd-4224-a9cc-2333796475c5"
      },
      "execution_count": 8,
      "outputs": [
        {
          "output_type": "stream",
          "name": "stdout",
          "text": [
            "[5, 10, 15, 20, 25]\n"
          ]
        }
      ]
    },
    {
      "cell_type": "markdown",
      "source": [
        "**Convert a Tuple to a String**"
      ],
      "metadata": {
        "id": "9bwQoXMQ3IXa"
      }
    },
    {
      "cell_type": "code",
      "source": [
        "tup_to_string=[str(x) for x in tuplex]"
      ],
      "metadata": {
        "id": "M3HTeiPX2vnn"
      },
      "execution_count": 9,
      "outputs": []
    },
    {
      "cell_type": "code",
      "source": [
        "tup_to_string"
      ],
      "metadata": {
        "colab": {
          "base_uri": "https://localhost:8080/"
        },
        "id": "O9EJ7c3-3RYZ",
        "outputId": "88243b0e-a0d4-48f3-a277-03a21d8b10aa"
      },
      "execution_count": 10,
      "outputs": [
        {
          "output_type": "execute_result",
          "data": {
            "text/plain": [
              "['5', '10', '15', '20', '25']"
            ]
          },
          "metadata": {},
          "execution_count": 10
        }
      ]
    },
    {
      "cell_type": "code",
      "source": [
        "str=''.join(tup_to_string)"
      ],
      "metadata": {
        "id": "d-3vf0Nj48UJ"
      },
      "execution_count": 11,
      "outputs": []
    },
    {
      "cell_type": "code",
      "source": [
        "str"
      ],
      "metadata": {
        "colab": {
          "base_uri": "https://localhost:8080/",
          "height": 35
        },
        "id": "105yUgtM6osv",
        "outputId": "b1893159-2e4c-453c-bf81-bfd6d368d104"
      },
      "execution_count": 12,
      "outputs": [
        {
          "output_type": "execute_result",
          "data": {
            "application/vnd.google.colaboratory.intrinsic+json": {
              "type": "string"
            },
            "text/plain": [
              "'510152025'"
            ]
          },
          "metadata": {},
          "execution_count": 12
        }
      ]
    },
    {
      "cell_type": "code",
      "source": [
        "print(tuplex)"
      ],
      "metadata": {
        "colab": {
          "base_uri": "https://localhost:8080/"
        },
        "id": "IuBBWfQM6pGg",
        "outputId": "961a931c-090a-41e7-f745-b9db0b550748"
      },
      "execution_count": 13,
      "outputs": [
        {
          "output_type": "stream",
          "name": "stdout",
          "text": [
            "(5, 10, 15, 20, 25)\n"
          ]
        }
      ]
    },
    {
      "cell_type": "code",
      "source": [
        "h='hello'"
      ],
      "metadata": {
        "id": "5DhTvFwt6y2w"
      },
      "execution_count": 14,
      "outputs": []
    },
    {
      "cell_type": "code",
      "source": [
        "r=h[::-1]"
      ],
      "metadata": {
        "id": "g8MrHRdB7PaR"
      },
      "execution_count": 15,
      "outputs": []
    },
    {
      "cell_type": "code",
      "source": [
        "r"
      ],
      "metadata": {
        "colab": {
          "base_uri": "https://localhost:8080/",
          "height": 35
        },
        "id": "9HBb3zSC7QVJ",
        "outputId": "eba1a39c-fabd-4f3e-c90b-73cc254f7b9d"
      },
      "execution_count": 16,
      "outputs": [
        {
          "output_type": "execute_result",
          "data": {
            "application/vnd.google.colaboratory.intrinsic+json": {
              "type": "string"
            },
            "text/plain": [
              "'olleh'"
            ]
          },
          "metadata": {},
          "execution_count": 16
        }
      ]
    },
    {
      "cell_type": "code",
      "source": [
        "tuplex"
      ],
      "metadata": {
        "colab": {
          "base_uri": "https://localhost:8080/"
        },
        "id": "NRtwfvi28BdI",
        "outputId": "585720ad-0ff4-47cb-ced6-e52d0b947e2f"
      },
      "execution_count": 17,
      "outputs": [
        {
          "output_type": "execute_result",
          "data": {
            "text/plain": [
              "(5, 10, 15, 20, 25)"
            ]
          },
          "metadata": {},
          "execution_count": 17
        }
      ]
    },
    {
      "cell_type": "code",
      "source": [
        "tuplex[3]"
      ],
      "metadata": {
        "colab": {
          "base_uri": "https://localhost:8080/"
        },
        "id": "iBeRKcub8-1B",
        "outputId": "80a9aaa9-729f-4fa9-cc72-ba5ca08e5d69"
      },
      "execution_count": 18,
      "outputs": [
        {
          "output_type": "execute_result",
          "data": {
            "text/plain": [
              "20"
            ]
          },
          "metadata": {},
          "execution_count": 18
        }
      ]
    },
    {
      "cell_type": "code",
      "source": [
        "tuplex[-4]"
      ],
      "metadata": {
        "colab": {
          "base_uri": "https://localhost:8080/"
        },
        "id": "Ki3hQTRE9Cvh",
        "outputId": "68afc63b-8a28-4863-a726-1931d5eff294"
      },
      "execution_count": 19,
      "outputs": [
        {
          "output_type": "execute_result",
          "data": {
            "text/plain": [
              "10"
            ]
          },
          "metadata": {},
          "execution_count": 19
        }
      ]
    },
    {
      "cell_type": "markdown",
      "source": [
        "**Find Repeated items of a tuple**"
      ],
      "metadata": {
        "id": "CLYN3IaKAvQV"
      }
    },
    {
      "cell_type": "code",
      "source": [
        "tuplex = 2, 4, 5, 6, 2, 3, 4, 4, 7"
      ],
      "metadata": {
        "id": "4BxzVzHv9SUS"
      },
      "execution_count": 20,
      "outputs": []
    },
    {
      "cell_type": "code",
      "source": [
        "cnt=tuplex.count(2)\n",
        "print(cnt)"
      ],
      "metadata": {
        "colab": {
          "base_uri": "https://localhost:8080/"
        },
        "id": "CMf4qY3gA1Ua",
        "outputId": "e73a0e84-f9a4-40d5-a16e-b74e11c6fb91"
      },
      "execution_count": 21,
      "outputs": [
        {
          "output_type": "stream",
          "name": "stdout",
          "text": [
            "2\n"
          ]
        }
      ]
    },
    {
      "cell_type": "markdown",
      "source": [
        "**Check if an Element exists in Tuple**"
      ],
      "metadata": {
        "id": "4S-7hR5qCPYW"
      }
    },
    {
      "cell_type": "code",
      "source": [
        "tuplex = (\"w\", 3, \"r\", \"e\", \"s\", \"o\", \"u\", \"r\", \"c\", \"e\")"
      ],
      "metadata": {
        "id": "QVzSsqh4BA2q"
      },
      "execution_count": 22,
      "outputs": []
    },
    {
      "cell_type": "code",
      "source": [
        "print('a' in tuplex)"
      ],
      "metadata": {
        "colab": {
          "base_uri": "https://localhost:8080/"
        },
        "id": "OeACSSR9CZzY",
        "outputId": "0555962f-0ba2-4083-9b9b-3d5cbb41050e"
      },
      "execution_count": 23,
      "outputs": [
        {
          "output_type": "stream",
          "name": "stdout",
          "text": [
            "False\n"
          ]
        }
      ]
    },
    {
      "cell_type": "code",
      "source": [
        "print('e' in tuplex)"
      ],
      "metadata": {
        "colab": {
          "base_uri": "https://localhost:8080/"
        },
        "id": "WoZ-WYQdCcaC",
        "outputId": "6acaf074-7c14-454c-f3f0-73f776bea61c"
      },
      "execution_count": 24,
      "outputs": [
        {
          "output_type": "stream",
          "name": "stdout",
          "text": [
            "True\n"
          ]
        }
      ]
    },
    {
      "cell_type": "code",
      "source": [
        "tuple_to_list=list(tuplex)"
      ],
      "metadata": {
        "id": "HVgYa34uCe3C"
      },
      "execution_count": 25,
      "outputs": []
    },
    {
      "cell_type": "code",
      "source": [
        "tuple_to_list"
      ],
      "metadata": {
        "colab": {
          "base_uri": "https://localhost:8080/"
        },
        "id": "jgJNBr6R6Lre",
        "outputId": "ec1f0db1-0680-4803-fd08-83508d4c661b"
      },
      "execution_count": 26,
      "outputs": [
        {
          "output_type": "execute_result",
          "data": {
            "text/plain": [
              "['w', 3, 'r', 'e', 's', 'o', 'u', 'r', 'c', 'e']"
            ]
          },
          "metadata": {},
          "execution_count": 26
        }
      ]
    },
    {
      "cell_type": "code",
      "source": [
        "list_to_tuple=tuple(tuple_to_list)"
      ],
      "metadata": {
        "id": "5p2nxK_q6OdO"
      },
      "execution_count": 27,
      "outputs": []
    },
    {
      "cell_type": "code",
      "source": [
        "list_to_tuple"
      ],
      "metadata": {
        "colab": {
          "base_uri": "https://localhost:8080/"
        },
        "id": "CIIskZFz6SSm",
        "outputId": "0b1ac571-57a0-46c7-8ffe-2e722ba6306d"
      },
      "execution_count": 28,
      "outputs": [
        {
          "output_type": "execute_result",
          "data": {
            "text/plain": [
              "('w', 3, 'r', 'e', 's', 'o', 'u', 'r', 'c', 'e')"
            ]
          },
          "metadata": {},
          "execution_count": 28
        }
      ]
    },
    {
      "cell_type": "code",
      "source": [
        "remove_3=list_to_tuple[:1]+list_to_tuple[2:]"
      ],
      "metadata": {
        "id": "4rhsXN406TKu"
      },
      "execution_count": 29,
      "outputs": []
    },
    {
      "cell_type": "code",
      "source": [
        "remove_3"
      ],
      "metadata": {
        "colab": {
          "base_uri": "https://localhost:8080/"
        },
        "id": "czeIhesF7dZs",
        "outputId": "6e266192-df70-4e86-c5c6-fcced629cdb5"
      },
      "execution_count": 30,
      "outputs": [
        {
          "output_type": "execute_result",
          "data": {
            "text/plain": [
              "('w', 'r', 'e', 's', 'o', 'u', 'r', 'c', 'e')"
            ]
          },
          "metadata": {},
          "execution_count": 30
        }
      ]
    },
    {
      "cell_type": "markdown",
      "source": [
        "**Slice a Tuple**"
      ],
      "metadata": {
        "id": "txuAqysE7vEK"
      }
    },
    {
      "cell_type": "code",
      "source": [
        "print(len(list_to_tuple))"
      ],
      "metadata": {
        "colab": {
          "base_uri": "https://localhost:8080/"
        },
        "id": "YHokeKPt7eHV",
        "outputId": "5e98374a-2a2c-4c64-d986-d9016e75980b"
      },
      "execution_count": 31,
      "outputs": [
        {
          "output_type": "stream",
          "name": "stdout",
          "text": [
            "10\n"
          ]
        }
      ]
    },
    {
      "cell_type": "code",
      "source": [
        "print(list_to_tuple[:5])"
      ],
      "metadata": {
        "colab": {
          "base_uri": "https://localhost:8080/"
        },
        "id": "V4Llbgwy799m",
        "outputId": "b7dbea59-f87b-4446-ffa1-5c82df8e0398"
      },
      "execution_count": 32,
      "outputs": [
        {
          "output_type": "stream",
          "name": "stdout",
          "text": [
            "('w', 3, 'r', 'e', 's')\n"
          ]
        }
      ]
    },
    {
      "cell_type": "code",
      "source": [
        "print(list_to_tuple[-5:])"
      ],
      "metadata": {
        "colab": {
          "base_uri": "https://localhost:8080/"
        },
        "id": "ry_OH5XP8HV2",
        "outputId": "684cc0c0-f437-4164-8a0e-bec69b27ce30"
      },
      "execution_count": 33,
      "outputs": [
        {
          "output_type": "stream",
          "name": "stdout",
          "text": [
            "('o', 'u', 'r', 'c', 'e')\n"
          ]
        }
      ]
    },
    {
      "cell_type": "code",
      "source": [
        "print(list_to_tuple[:-5])"
      ],
      "metadata": {
        "colab": {
          "base_uri": "https://localhost:8080/"
        },
        "id": "NQgHzAoV8PD2",
        "outputId": "326daea5-a6fe-463f-9637-902444ec0fdb"
      },
      "execution_count": 34,
      "outputs": [
        {
          "output_type": "stream",
          "name": "stdout",
          "text": [
            "('w', 3, 'r', 'e', 's')\n"
          ]
        }
      ]
    },
    {
      "cell_type": "markdown",
      "source": [
        "**Find the Index of the Item**"
      ],
      "metadata": {
        "id": "unWCIUVn9XR7"
      }
    },
    {
      "cell_type": "code",
      "source": [
        "print(list_to_tuple)"
      ],
      "metadata": {
        "colab": {
          "base_uri": "https://localhost:8080/"
        },
        "id": "XPb3lmXp8Yzm",
        "outputId": "591935b9-7f2e-4929-c748-3d560ac33390"
      },
      "execution_count": 35,
      "outputs": [
        {
          "output_type": "stream",
          "name": "stdout",
          "text": [
            "('w', 3, 'r', 'e', 's', 'o', 'u', 'r', 'c', 'e')\n"
          ]
        }
      ]
    },
    {
      "cell_type": "code",
      "source": [
        "i=list_to_tuple.index('r')\n",
        "print(i)"
      ],
      "metadata": {
        "colab": {
          "base_uri": "https://localhost:8080/"
        },
        "id": "dAGcq8h99l8t",
        "outputId": "c3781838-fa81-417b-feaa-d3d8fd4408d0"
      },
      "execution_count": 36,
      "outputs": [
        {
          "output_type": "stream",
          "name": "stdout",
          "text": [
            "2\n"
          ]
        }
      ]
    },
    {
      "cell_type": "code",
      "source": [
        "i=list_to_tuple.index(3)\n",
        "print(i)"
      ],
      "metadata": {
        "colab": {
          "base_uri": "https://localhost:8080/"
        },
        "id": "lxq_8ylL980f",
        "outputId": "3decf1cf-aa80-489e-b83b-d77a782bc5d3"
      },
      "execution_count": 37,
      "outputs": [
        {
          "output_type": "stream",
          "name": "stdout",
          "text": [
            "1\n"
          ]
        }
      ]
    },
    {
      "cell_type": "code",
      "source": [
        "name=('arpit', 'meera', 'mehr', 'mahya', 'sharma')"
      ],
      "metadata": {
        "id": "DckX5UKT-J2_"
      },
      "execution_count": 38,
      "outputs": []
    },
    {
      "cell_type": "code",
      "source": [
        "name_list=list(name)\n",
        "print(name_list)"
      ],
      "metadata": {
        "colab": {
          "base_uri": "https://localhost:8080/"
        },
        "id": "BoxwIfHo-xA-",
        "outputId": "1521330e-9f73-4d31-cf07-00469eadfea6"
      },
      "execution_count": 39,
      "outputs": [
        {
          "output_type": "stream",
          "name": "stdout",
          "text": [
            "['arpit', 'meera', 'mehr', 'mahya', 'sharma']\n"
          ]
        }
      ]
    },
    {
      "cell_type": "code",
      "source": [
        "min_name_len=min([len(x) for x in name_list])"
      ],
      "metadata": {
        "id": "hSodWhJd_E6_"
      },
      "execution_count": 40,
      "outputs": []
    },
    {
      "cell_type": "code",
      "source": [
        "print(min_name_len)"
      ],
      "metadata": {
        "colab": {
          "base_uri": "https://localhost:8080/"
        },
        "id": "P1kawabh_WlA",
        "outputId": "79530116-c972-4dad-f212-42f963e16e80"
      },
      "execution_count": 41,
      "outputs": [
        {
          "output_type": "stream",
          "name": "stdout",
          "text": [
            "4\n"
          ]
        }
      ]
    },
    {
      "cell_type": "code",
      "source": [
        "print(max([len(x) for x in name_list]))"
      ],
      "metadata": {
        "colab": {
          "base_uri": "https://localhost:8080/"
        },
        "id": "v_9Jtwec_1Nn",
        "outputId": "76d1b509-cdc8-4622-ff02-eee8c2845e32"
      },
      "execution_count": 42,
      "outputs": [
        {
          "output_type": "stream",
          "name": "stdout",
          "text": [
            "6\n"
          ]
        }
      ]
    },
    {
      "cell_type": "code",
      "source": [
        ""
      ],
      "metadata": {
        "id": "JXs33UnS_-Qp"
      },
      "execution_count": 42,
      "outputs": []
    },
    {
      "cell_type": "markdown",
      "source": [
        "**Convert a Tuple to Dictionary**"
      ],
      "metadata": {
        "id": "c_DVsuvdEYrU"
      }
    },
    {
      "cell_type": "code",
      "source": [
        "binary_tuple=((\"arpit\",37),(\"meera\",36),(\"mehr\",6) ,(\"mahya\",3))"
      ],
      "metadata": {
        "id": "H6ShvGsCAD3p"
      },
      "execution_count": 43,
      "outputs": []
    },
    {
      "cell_type": "code",
      "source": [
        "bi_dic=dict(binary_tuple)"
      ],
      "metadata": {
        "id": "gPlMva1XCgK-"
      },
      "execution_count": 44,
      "outputs": []
    },
    {
      "cell_type": "code",
      "source": [
        "bi_dic"
      ],
      "metadata": {
        "colab": {
          "base_uri": "https://localhost:8080/"
        },
        "id": "FnBX8YXACyFn",
        "outputId": "d4049c77-6738-4f39-9507-cdd81858d358"
      },
      "execution_count": 45,
      "outputs": [
        {
          "output_type": "execute_result",
          "data": {
            "text/plain": [
              "{'arpit': 37, 'mahya': 3, 'meera': 36, 'mehr': 6}"
            ]
          },
          "metadata": {},
          "execution_count": 45
        }
      ]
    },
    {
      "cell_type": "markdown",
      "source": [
        "**Unizip a List of Tuples into Individual Lists**"
      ],
      "metadata": {
        "id": "SLsUpi1gFYa1"
      }
    },
    {
      "cell_type": "code",
      "source": [
        "print(list(zip(*binary_tuple)))"
      ],
      "metadata": {
        "colab": {
          "base_uri": "https://localhost:8080/"
        },
        "id": "OKx_OZKACzOv",
        "outputId": "1d8444ca-d22a-46b8-9edf-cc23c22d80f5"
      },
      "execution_count": 46,
      "outputs": [
        {
          "output_type": "stream",
          "name": "stdout",
          "text": [
            "[('arpit', 'meera', 'mehr', 'mahya'), (37, 36, 6, 3)]\n"
          ]
        }
      ]
    },
    {
      "cell_type": "markdown",
      "source": [
        "**Reverse a Tuple**"
      ],
      "metadata": {
        "id": "Y5_awU62GV5m"
      }
    },
    {
      "cell_type": "code",
      "source": [
        "print(list_to_tuple)"
      ],
      "metadata": {
        "colab": {
          "base_uri": "https://localhost:8080/"
        },
        "id": "SLQXilqVFQaQ",
        "outputId": "d069de77-bc4a-4f23-ea2b-e9ece3955744"
      },
      "execution_count": 47,
      "outputs": [
        {
          "output_type": "stream",
          "name": "stdout",
          "text": [
            "('w', 3, 'r', 'e', 's', 'o', 'u', 'r', 'c', 'e')\n"
          ]
        }
      ]
    },
    {
      "cell_type": "code",
      "source": [
        "r=tuple(reversed(list_to_tuple))"
      ],
      "metadata": {
        "id": "FcaTqJE6GaDI"
      },
      "execution_count": 48,
      "outputs": []
    },
    {
      "cell_type": "code",
      "source": [
        "print(r)"
      ],
      "metadata": {
        "colab": {
          "base_uri": "https://localhost:8080/"
        },
        "id": "CjIwAcI8GeSx",
        "outputId": "1786f8f4-c58b-4cc2-bc5c-dbd0d5abd71b"
      },
      "execution_count": 49,
      "outputs": [
        {
          "output_type": "stream",
          "name": "stdout",
          "text": [
            "('e', 'c', 'r', 'u', 'o', 's', 'e', 'r', 3, 'w')\n"
          ]
        }
      ]
    },
    {
      "cell_type": "markdown",
      "source": [
        "Convert a List of tuples into Dictionary"
      ],
      "metadata": {
        "id": "UX4K-FwNHnxV"
      }
    },
    {
      "cell_type": "code",
      "source": [
        "l = [(\"x\", 1), (\"x\", 2), (\"x\", 3), (\"y\", 1), (\"y\", 2), (\"z\", 1)]"
      ],
      "metadata": {
        "id": "Ju_maFvJHruC"
      },
      "execution_count": 50,
      "outputs": []
    },
    {
      "cell_type": "code",
      "source": [
        "d = {}\n",
        "for a, b in l:\n",
        "    d.setdefault(a, []).append(b)\n",
        "print (d)"
      ],
      "metadata": {
        "colab": {
          "base_uri": "https://localhost:8080/"
        },
        "id": "4rORzBJRHsM4",
        "outputId": "66db223e-2ac4-4ee5-8871-2d0e2ac7c27a"
      },
      "execution_count": 51,
      "outputs": [
        {
          "output_type": "stream",
          "name": "stdout",
          "text": [
            "{'x': [1, 2, 3], 'y': [1, 2], 'z': [1]}\n"
          ]
        }
      ]
    },
    {
      "cell_type": "code",
      "source": [
        "list_to_tuple"
      ],
      "metadata": {
        "colab": {
          "base_uri": "https://localhost:8080/"
        },
        "id": "jctwJJ5iH0WZ",
        "outputId": "a1e5673d-938b-42ba-844f-ff2a84b47455"
      },
      "execution_count": 52,
      "outputs": [
        {
          "output_type": "execute_result",
          "data": {
            "text/plain": [
              "('w', 3, 'r', 'e', 's', 'o', 'u', 'r', 'c', 'e')"
            ]
          },
          "metadata": {},
          "execution_count": 52
        }
      ]
    },
    {
      "cell_type": "code",
      "source": [
        "print(\"This is a tuple {0}\".format(list_to_tuple))"
      ],
      "metadata": {
        "colab": {
          "base_uri": "https://localhost:8080/"
        },
        "id": "pDzpAxzZKH5f",
        "outputId": "8d6ead68-9ffd-4479-c353-6994717a95ee"
      },
      "execution_count": 53,
      "outputs": [
        {
          "output_type": "stream",
          "name": "stdout",
          "text": [
            "This is a tuple ('w', 3, 'r', 'e', 's', 'o', 'u', 'r', 'c', 'e')\n"
          ]
        }
      ]
    },
    {
      "cell_type": "markdown",
      "source": [
        "**Replace Last value of Tuples in a List**"
      ],
      "metadata": {
        "id": "vr1OmHeULEpd"
      }
    },
    {
      "cell_type": "code",
      "source": [
        "l=[(10, 20, 40), (40, 50, 60), (70, 80, 90)]"
      ],
      "metadata": {
        "id": "aNN00cz7KP1w"
      },
      "execution_count": 54,
      "outputs": []
    },
    {
      "cell_type": "code",
      "source": [
        "replaced_l=[t[:-1]+(100,) for t in l]\n"
      ],
      "metadata": {
        "id": "5r41IdHhLJsB"
      },
      "execution_count": 55,
      "outputs": []
    },
    {
      "cell_type": "code",
      "source": [
        "print(replaced_l)"
      ],
      "metadata": {
        "colab": {
          "base_uri": "https://localhost:8080/"
        },
        "id": "O_s7WQaZLnKB",
        "outputId": "336e439d-e15e-454c-803f-12212dddf674"
      },
      "execution_count": 56,
      "outputs": [
        {
          "output_type": "stream",
          "name": "stdout",
          "text": [
            "[(10, 20, 100), (40, 50, 100), (70, 80, 100)]\n"
          ]
        }
      ]
    },
    {
      "cell_type": "markdown",
      "source": [
        "**Replace any empty tuple from list of tuples**"
      ],
      "metadata": {
        "id": "VKmccTBVNNlH"
      }
    },
    {
      "cell_type": "code",
      "source": [
        " empty_tuple=[(), (), ('',), ('a', 'b'), ('a', 'b', 'c'), ('d')]"
      ],
      "metadata": {
        "id": "UJbUxjO4LphR"
      },
      "execution_count": 57,
      "outputs": []
    },
    {
      "cell_type": "code",
      "source": [
        "replaced_tuple=[t for t in empty_tuple if t]"
      ],
      "metadata": {
        "id": "fQl2q4WjNYRy"
      },
      "execution_count": 58,
      "outputs": []
    },
    {
      "cell_type": "code",
      "source": [
        "print(replaced_tuple)"
      ],
      "metadata": {
        "colab": {
          "base_uri": "https://localhost:8080/"
        },
        "id": "YQ8mbJBPNzex",
        "outputId": "1d2c0b1b-1ba4-40e8-b8d9-22270db9fdd1"
      },
      "execution_count": 59,
      "outputs": [
        {
          "output_type": "stream",
          "name": "stdout",
          "text": [
            "[('',), ('a', 'b'), ('a', 'b', 'c'), 'd']\n"
          ]
        }
      ]
    },
    {
      "cell_type": "markdown",
      "source": [
        "**Sort a Tuple by its float element**"
      ],
      "metadata": {
        "id": "J_iwiyWPOeK2"
      }
    },
    {
      "cell_type": "code",
      "source": [
        "l=[('item1', '12.20'), ('item2', '15.10'), ('item3', '24.5')]"
      ],
      "metadata": {
        "id": "JKEEsbnxN1sh"
      },
      "execution_count": 60,
      "outputs": []
    },
    {
      "cell_type": "code",
      "source": [
        "def sort_tuple(item):\n",
        "  item.sort(key = lambda x: x[1], reverse=True)\n",
        "  return item "
      ],
      "metadata": {
        "id": "Th6KPOJcOjZy"
      },
      "execution_count": 61,
      "outputs": []
    },
    {
      "cell_type": "code",
      "source": [
        "sort_tuple(l)"
      ],
      "metadata": {
        "id": "mOzVdBtgPiQR",
        "outputId": "b51fd339-8fea-43e7-e50d-16c7666038a5",
        "colab": {
          "base_uri": "https://localhost:8080/"
        }
      },
      "execution_count": 62,
      "outputs": [
        {
          "output_type": "execute_result",
          "data": {
            "text/plain": [
              "[('item3', '24.5'), ('item2', '15.10'), ('item1', '12.20')]"
            ]
          },
          "metadata": {},
          "execution_count": 62
        }
      ]
    },
    {
      "cell_type": "markdown",
      "source": [
        "**count the elements in a list until an element is a tuple.**"
      ],
      "metadata": {
        "id": "qVO5hp3IQRtX"
      }
    },
    {
      "cell_type": "code",
      "source": [
        "num = [10,20,30,(10,20),40]"
      ],
      "metadata": {
        "id": "T_4Ia6dhPkCB"
      },
      "execution_count": 63,
      "outputs": []
    },
    {
      "cell_type": "code",
      "source": [
        "def cnt(item):\n",
        "  cnt=0\n",
        "  for x in item:\n",
        "    if type(x)==tuple:\n",
        "      break\n",
        "    cnt+=1\n",
        "  return cnt"
      ],
      "metadata": {
        "id": "88NXL8rIQXDx"
      },
      "execution_count": 70,
      "outputs": []
    },
    {
      "cell_type": "code",
      "source": [
        "cnt(num)"
      ],
      "metadata": {
        "id": "EWhNZKWMQ69i",
        "outputId": "13a0c091-459c-4f92-ad77-aa66edc9ada9",
        "colab": {
          "base_uri": "https://localhost:8080/"
        }
      },
      "execution_count": 71,
      "outputs": [
        {
          "output_type": "execute_result",
          "data": {
            "text/plain": [
              "3"
            ]
          },
          "metadata": {},
          "execution_count": 71
        }
      ]
    },
    {
      "cell_type": "code",
      "source": [
        "ctr = 0\n",
        "for n in num:\n",
        "    if isinstance(n, tuple):\n",
        "        break\n",
        "    ctr += 1\n",
        "print(ctr)\n"
      ],
      "metadata": {
        "id": "BkhQJ5pYQ79y",
        "outputId": "4493d43c-df6f-447f-c378-2af3f37e59ab",
        "colab": {
          "base_uri": "https://localhost:8080/"
        }
      },
      "execution_count": 66,
      "outputs": [
        {
          "output_type": "stream",
          "name": "stdout",
          "text": [
            "3\n"
          ]
        }
      ]
    },
    {
      "cell_type": "markdown",
      "source": [
        "Convert String to Tuple"
      ],
      "metadata": {
        "id": "FpYEknHzSQsx"
      }
    },
    {
      "cell_type": "code",
      "source": [
        "string=\"The quick brown fox jumps over the lazy dog\""
      ],
      "metadata": {
        "id": "DUvJcFInREHp"
      },
      "execution_count": 73,
      "outputs": []
    },
    {
      "cell_type": "code",
      "source": [
        "str_to_tuple=tuple(string)"
      ],
      "metadata": {
        "id": "R7VtVfxhSf3S"
      },
      "execution_count": 74,
      "outputs": []
    },
    {
      "cell_type": "code",
      "source": [
        "s=[t for t in str_to_tuple if len(t)>0]"
      ],
      "metadata": {
        "id": "bPzIrM5ASmAI"
      },
      "execution_count": 78,
      "outputs": []
    },
    {
      "cell_type": "code",
      "source": [
        "s"
      ],
      "metadata": {
        "id": "RLLu0t1tSonw",
        "outputId": "d8dbca82-4622-458b-ae1a-98079ccb341d",
        "colab": {
          "base_uri": "https://localhost:8080/"
        }
      },
      "execution_count": 79,
      "outputs": [
        {
          "output_type": "execute_result",
          "data": {
            "text/plain": [
              "['T',\n",
              " 'h',\n",
              " 'e',\n",
              " ' ',\n",
              " 'q',\n",
              " 'u',\n",
              " 'i',\n",
              " 'c',\n",
              " 'k',\n",
              " ' ',\n",
              " 'b',\n",
              " 'r',\n",
              " 'o',\n",
              " 'w',\n",
              " 'n',\n",
              " ' ',\n",
              " 'f',\n",
              " 'o',\n",
              " 'x',\n",
              " ' ',\n",
              " 'j',\n",
              " 'u',\n",
              " 'm',\n",
              " 'p',\n",
              " 's',\n",
              " ' ',\n",
              " 'o',\n",
              " 'v',\n",
              " 'e',\n",
              " 'r',\n",
              " ' ',\n",
              " 't',\n",
              " 'h',\n",
              " 'e',\n",
              " ' ',\n",
              " 'l',\n",
              " 'a',\n",
              " 'z',\n",
              " 'y',\n",
              " ' ',\n",
              " 'd',\n",
              " 'o',\n",
              " 'g']"
            ]
          },
          "metadata": {},
          "execution_count": 79
        }
      ]
    },
    {
      "cell_type": "markdown",
      "source": [
        "**Convert a Tuple numbers into Integer**"
      ],
      "metadata": {
        "id": "vERR0A2jVEVZ"
      }
    },
    {
      "cell_type": "code",
      "source": [
        "tuple=(1,2,3)"
      ],
      "metadata": {
        "id": "Ab23tIlZS4pD"
      },
      "execution_count": 91,
      "outputs": []
    },
    {
      "cell_type": "code",
      "source": [
        "def tuple_to_int(nums):\n",
        "  result=int(''.join(map(str(),nums)))\n",
        "  return result"
      ],
      "metadata": {
        "id": "dSIlpJiZTdZK"
      },
      "execution_count": 94,
      "outputs": []
    },
    {
      "cell_type": "code",
      "source": [
        "tuple_to_int(tuple)"
      ],
      "metadata": {
        "id": "48XmZY_xTeNW",
        "outputId": "7aea4002-acbe-4da1-c6e4-30b0a90ab692",
        "colab": {
          "base_uri": "https://localhost:8080/",
          "height": 252
        }
      },
      "execution_count": 95,
      "outputs": [
        {
          "output_type": "error",
          "ename": "TypeError",
          "evalue": "ignored",
          "traceback": [
            "\u001b[0;31m---------------------------------------------------------------------------\u001b[0m",
            "\u001b[0;31mTypeError\u001b[0m                                 Traceback (most recent call last)",
            "\u001b[0;32m<ipython-input-95-bd29a8605b0d>\u001b[0m in \u001b[0;36m<module>\u001b[0;34m()\u001b[0m\n\u001b[0;32m----> 1\u001b[0;31m \u001b[0mtuple_to_int\u001b[0m\u001b[0;34m(\u001b[0m\u001b[0mtuple\u001b[0m\u001b[0;34m)\u001b[0m\u001b[0;34m\u001b[0m\u001b[0;34m\u001b[0m\u001b[0m\n\u001b[0m",
            "\u001b[0;32m<ipython-input-94-e3f381d31551>\u001b[0m in \u001b[0;36mtuple_to_int\u001b[0;34m(nums)\u001b[0m\n\u001b[1;32m      1\u001b[0m \u001b[0;32mdef\u001b[0m \u001b[0mtuple_to_int\u001b[0m\u001b[0;34m(\u001b[0m\u001b[0mnums\u001b[0m\u001b[0;34m)\u001b[0m\u001b[0;34m:\u001b[0m\u001b[0;34m\u001b[0m\u001b[0;34m\u001b[0m\u001b[0m\n\u001b[0;32m----> 2\u001b[0;31m   \u001b[0mresult\u001b[0m\u001b[0;34m=\u001b[0m\u001b[0mint\u001b[0m\u001b[0;34m(\u001b[0m\u001b[0;34m''\u001b[0m\u001b[0;34m.\u001b[0m\u001b[0mjoin\u001b[0m\u001b[0;34m(\u001b[0m\u001b[0mmap\u001b[0m\u001b[0;34m(\u001b[0m\u001b[0mstr\u001b[0m\u001b[0;34m(\u001b[0m\u001b[0;34m)\u001b[0m\u001b[0;34m,\u001b[0m\u001b[0mnums\u001b[0m\u001b[0;34m)\u001b[0m\u001b[0;34m)\u001b[0m\u001b[0;34m)\u001b[0m\u001b[0;34m\u001b[0m\u001b[0;34m\u001b[0m\u001b[0m\n\u001b[0m\u001b[1;32m      3\u001b[0m   \u001b[0;32mreturn\u001b[0m \u001b[0mresult\u001b[0m\u001b[0;34m\u001b[0m\u001b[0;34m\u001b[0m\u001b[0m\n",
            "\u001b[0;31mTypeError\u001b[0m: 'str' object is not callable"
          ]
        }
      ]
    },
    {
      "cell_type": "code",
      "source": [
        ""
      ],
      "metadata": {
        "id": "Emei3bzVTiqC"
      },
      "execution_count": 84,
      "outputs": []
    },
    {
      "cell_type": "code",
      "source": [
        ""
      ],
      "metadata": {
        "id": "d8nGUP3MTwU7",
        "outputId": "f60519e6-9a5e-4562-8462-012ec1e6dab2",
        "colab": {
          "base_uri": "https://localhost:8080/",
          "height": 269
        }
      },
      "execution_count": 85,
      "outputs": [
        {
          "output_type": "error",
          "ename": "AttributeError",
          "evalue": "ignored",
          "traceback": [
            "\u001b[0;31m---------------------------------------------------------------------------\u001b[0m",
            "\u001b[0;31mAttributeError\u001b[0m                            Traceback (most recent call last)",
            "\u001b[0;32m<ipython-input-85-fbce5136a944>\u001b[0m in \u001b[0;36m<module>\u001b[0;34m()\u001b[0m\n\u001b[0;32m----> 1\u001b[0;31m \u001b[0mjoin\u001b[0m\u001b[0;34m(\u001b[0m\u001b[0ml\u001b[0m\u001b[0;34m)\u001b[0m\u001b[0;34m\u001b[0m\u001b[0;34m\u001b[0m\u001b[0m\n\u001b[0m",
            "\u001b[0;32m<ipython-input-84-3279be6e40a5>\u001b[0m in \u001b[0;36mjoin\u001b[0;34m(items)\u001b[0m\n\u001b[1;32m      1\u001b[0m \u001b[0;32mdef\u001b[0m \u001b[0mjoin\u001b[0m\u001b[0;34m(\u001b[0m\u001b[0mitems\u001b[0m\u001b[0;34m)\u001b[0m\u001b[0;34m:\u001b[0m\u001b[0;34m\u001b[0m\u001b[0;34m\u001b[0m\u001b[0m\n\u001b[1;32m      2\u001b[0m   \u001b[0;32mfor\u001b[0m \u001b[0mx\u001b[0m \u001b[0;32min\u001b[0m \u001b[0ml\u001b[0m\u001b[0;34m:\u001b[0m\u001b[0;34m\u001b[0m\u001b[0;34m\u001b[0m\u001b[0m\n\u001b[0;32m----> 3\u001b[0;31m     \u001b[0mx\u001b[0m\u001b[0;34m.\u001b[0m\u001b[0mappend\u001b[0m\u001b[0;34m(\u001b[0m\u001b[0mx\u001b[0m\u001b[0;34m)\u001b[0m\u001b[0;34m\u001b[0m\u001b[0;34m\u001b[0m\u001b[0m\n\u001b[0m\u001b[1;32m      4\u001b[0m   \u001b[0;32mreturn\u001b[0m \u001b[0mx\u001b[0m\u001b[0;34m\u001b[0m\u001b[0;34m\u001b[0m\u001b[0m\n",
            "\u001b[0;31mAttributeError\u001b[0m: 'str' object has no attribute 'append'"
          ]
        }
      ]
    },
    {
      "cell_type": "code",
      "source": [
        ""
      ],
      "metadata": {
        "id": "Ds7576uMTxhj"
      },
      "execution_count": null,
      "outputs": []
    }
  ]
}