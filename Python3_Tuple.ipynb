{
  "nbformat": 4,
  "nbformat_minor": 0,
  "metadata": {
    "colab": {
      "name": "Python3-Tuple.ipynb",
      "provenance": [],
      "authorship_tag": "ABX9TyOyoCc1ojNhUEzyb/7r3I9w",
      "include_colab_link": true
    },
    "kernelspec": {
      "name": "python3",
      "display_name": "Python 3"
    },
    "language_info": {
      "name": "python"
    }
  },
  "cells": [
    {
      "cell_type": "markdown",
      "metadata": {
        "id": "view-in-github",
        "colab_type": "text"
      },
      "source": [
        "<a href=\"https://colab.research.google.com/github/arpitsharma27/PythonPractice/blob/main/Python3_Tuple.ipynb\" target=\"_parent\"><img src=\"https://colab.research.google.com/assets/colab-badge.svg\" alt=\"Open In Colab\"/></a>"
      ]
    },
    {
      "cell_type": "markdown",
      "source": [
        "#Here is a practice session for **Tuple** in Python3\n",
        "\n",
        "####Tuples are used to store multiple items in a single variable.\n",
        "\n",
        "####Tuple is one of 4 built-in data types in Python used to store collections of data, the other 3 are List, Set, and Dictionary, all with different qualities and usage.\n",
        "\n",
        "####A tuple is a collection which is ordered and **unchangeable**.\n",
        "\n",
        "####Tuples are written with round brackets.\n",
        "\n",
        "####Below some of the **Tuple** exercises have been obtained from [here](https://www.w3resource.com/python-exercises/tuple/)\n",
        "\n",
        "####And some are just random google search.\n",
        "\n",
        "#### This can serve you and me for quick reference.\n",
        "\n",
        "####Remember \n",
        "\n",
        "\n",
        "1.   Practice\n",
        "2.   Revisit after 3 days.\n",
        "3. Revisit after a week.\n",
        " \n",
        "#####And I am nailed in your brain.\n",
        "\n",
        "\n"
      ],
      "metadata": {
        "id": "UDHG88-Mq9IZ"
      }
    },
    {
      "cell_type": "code",
      "source": [
        ""
      ],
      "metadata": {
        "id": "YvHs27gtuKJR"
      },
      "execution_count": null,
      "outputs": []
    },
    {
      "cell_type": "markdown",
      "source": [
        "Create a Tuple with numbers and display a member"
      ],
      "metadata": {
        "id": "MxfYs96quLWv"
      }
    },
    {
      "cell_type": "code",
      "source": [
        "tuplex= 5,10, 15,20,25"
      ],
      "metadata": {
        "id": "ucfMazccuRSN"
      },
      "execution_count": 1,
      "outputs": []
    },
    {
      "cell_type": "code",
      "source": [
        "print(tuplex)"
      ],
      "metadata": {
        "id": "0VoRR2LSuWrf",
        "outputId": "7d46a045-8fe0-4092-e3e5-ca8a29c71451",
        "colab": {
          "base_uri": "https://localhost:8080/"
        }
      },
      "execution_count": 2,
      "outputs": [
        {
          "output_type": "stream",
          "name": "stdout",
          "text": [
            "(5, 10, 15, 20, 25)\n"
          ]
        }
      ]
    },
    {
      "cell_type": "code",
      "source": [
        "print(type(tuplex))"
      ],
      "metadata": {
        "id": "v3KO17VwuZ6O",
        "outputId": "d4ca8b8e-8924-494c-82b1-eaceeb0cd650",
        "colab": {
          "base_uri": "https://localhost:8080/"
        }
      },
      "execution_count": 3,
      "outputs": [
        {
          "output_type": "stream",
          "name": "stdout",
          "text": [
            "<class 'tuple'>\n"
          ]
        }
      ]
    },
    {
      "cell_type": "markdown",
      "source": [
        "Unpack a Tuple\n",
        "\n",
        "The number of variables must be equal to the number of items of the Tuple"
      ],
      "metadata": {
        "id": "E5PfdQSL21p0"
      }
    },
    {
      "cell_type": "code",
      "source": [
        "n1, n2, n3 ,n4 ,n5= tuplex"
      ],
      "metadata": {
        "id": "ZF3afJ6lubi-"
      },
      "execution_count": 10,
      "outputs": []
    },
    {
      "cell_type": "code",
      "source": [
        "print(n1+n2+n3+n4+n5)"
      ],
      "metadata": {
        "id": "2bXCko9T2J0R",
        "outputId": "9912a4d0-22f8-4bf9-d5f5-f8a357a14bab",
        "colab": {
          "base_uri": "https://localhost:8080/"
        }
      },
      "execution_count": 11,
      "outputs": [
        {
          "output_type": "stream",
          "name": "stdout",
          "text": [
            "75\n"
          ]
        }
      ]
    },
    {
      "cell_type": "code",
      "source": [
        "tuplex"
      ],
      "metadata": {
        "id": "S24EnTrI2PfY",
        "outputId": "57d488cf-0cfb-4b71-b905-07ebb2ce7f32",
        "colab": {
          "base_uri": "https://localhost:8080/"
        }
      },
      "execution_count": 12,
      "outputs": [
        {
          "output_type": "execute_result",
          "data": {
            "text/plain": [
              "(5, 10, 15, 20, 25)"
            ]
          },
          "metadata": {},
          "execution_count": 12
        }
      ]
    },
    {
      "cell_type": "markdown",
      "source": [
        "Convert a Tuple to a List"
      ],
      "metadata": {
        "id": "9VMKstvi3BcJ"
      }
    },
    {
      "cell_type": "code",
      "source": [
        "my_list_tuple=list(tuplex)\n",
        "  "
      ],
      "metadata": {
        "id": "JAbCbuel2SXo"
      },
      "execution_count": 14,
      "outputs": []
    },
    {
      "cell_type": "code",
      "source": [
        "print(my_list_tuple)"
      ],
      "metadata": {
        "id": "Mrn_H38_2uNy",
        "outputId": "fc792959-2535-4db0-8142-1e8813612852",
        "colab": {
          "base_uri": "https://localhost:8080/"
        }
      },
      "execution_count": 15,
      "outputs": [
        {
          "output_type": "stream",
          "name": "stdout",
          "text": [
            "[5, 10, 15, 20, 25]\n"
          ]
        }
      ]
    },
    {
      "cell_type": "markdown",
      "source": [
        "Convert a Tuple to a String"
      ],
      "metadata": {
        "id": "9bwQoXMQ3IXa"
      }
    },
    {
      "cell_type": "code",
      "source": [
        "tup_to_string=[str(x) for x in tuplex]"
      ],
      "metadata": {
        "id": "M3HTeiPX2vnn"
      },
      "execution_count": 23,
      "outputs": []
    },
    {
      "cell_type": "code",
      "source": [
        "tup_to_string"
      ],
      "metadata": {
        "id": "O9EJ7c3-3RYZ",
        "outputId": "c9034e75-3594-449e-a34e-77f16481e1ad",
        "colab": {
          "base_uri": "https://localhost:8080/"
        }
      },
      "execution_count": 24,
      "outputs": [
        {
          "output_type": "execute_result",
          "data": {
            "text/plain": [
              "['5', '10', '15', '20', '25']"
            ]
          },
          "metadata": {},
          "execution_count": 24
        }
      ]
    },
    {
      "cell_type": "code",
      "source": [
        "str=''.join(tup_to_string)"
      ],
      "metadata": {
        "id": "d-3vf0Nj48UJ"
      },
      "execution_count": 25,
      "outputs": []
    },
    {
      "cell_type": "code",
      "source": [
        "str"
      ],
      "metadata": {
        "id": "105yUgtM6osv",
        "outputId": "1b080ac8-26e7-4a5c-e945-eb86133a4f98",
        "colab": {
          "base_uri": "https://localhost:8080/",
          "height": 35
        }
      },
      "execution_count": 26,
      "outputs": [
        {
          "output_type": "execute_result",
          "data": {
            "application/vnd.google.colaboratory.intrinsic+json": {
              "type": "string"
            },
            "text/plain": [
              "'510152025'"
            ]
          },
          "metadata": {},
          "execution_count": 26
        }
      ]
    },
    {
      "cell_type": "code",
      "source": [
        "print(tuplex)"
      ],
      "metadata": {
        "id": "IuBBWfQM6pGg",
        "outputId": "2fb98da2-568e-44c2-9027-358f07e49d33",
        "colab": {
          "base_uri": "https://localhost:8080/"
        }
      },
      "execution_count": 27,
      "outputs": [
        {
          "output_type": "stream",
          "name": "stdout",
          "text": [
            "(5, 10, 15, 20, 25)\n"
          ]
        }
      ]
    },
    {
      "cell_type": "code",
      "source": [
        "h='hello'"
      ],
      "metadata": {
        "id": "5DhTvFwt6y2w"
      },
      "execution_count": 28,
      "outputs": []
    },
    {
      "cell_type": "code",
      "source": [
        "r=h[::-1]"
      ],
      "metadata": {
        "id": "g8MrHRdB7PaR"
      },
      "execution_count": 38,
      "outputs": []
    },
    {
      "cell_type": "code",
      "source": [
        "r"
      ],
      "metadata": {
        "id": "9HBb3zSC7QVJ",
        "outputId": "450b5ef8-ec28-477e-dc33-04bd624941b8",
        "colab": {
          "base_uri": "https://localhost:8080/",
          "height": 35
        }
      },
      "execution_count": 39,
      "outputs": [
        {
          "output_type": "execute_result",
          "data": {
            "application/vnd.google.colaboratory.intrinsic+json": {
              "type": "string"
            },
            "text/plain": [
              "'olleh'"
            ]
          },
          "metadata": {},
          "execution_count": 39
        }
      ]
    },
    {
      "cell_type": "code",
      "source": [
        "tuplex"
      ],
      "metadata": {
        "id": "NRtwfvi28BdI",
        "outputId": "ec9bd13a-7406-4c32-ad2c-3ba16881169a",
        "colab": {
          "base_uri": "https://localhost:8080/"
        }
      },
      "execution_count": 40,
      "outputs": [
        {
          "output_type": "execute_result",
          "data": {
            "text/plain": [
              "(5, 10, 15, 20, 25)"
            ]
          },
          "metadata": {},
          "execution_count": 40
        }
      ]
    },
    {
      "cell_type": "code",
      "source": [
        "tuplex[3]"
      ],
      "metadata": {
        "id": "iBeRKcub8-1B",
        "outputId": "145f84b4-a2bd-4a4d-9b94-2a4ef39d3804",
        "colab": {
          "base_uri": "https://localhost:8080/"
        }
      },
      "execution_count": 55,
      "outputs": [
        {
          "output_type": "execute_result",
          "data": {
            "text/plain": [
              "20"
            ]
          },
          "metadata": {},
          "execution_count": 55
        }
      ]
    },
    {
      "cell_type": "code",
      "source": [
        "tuplex[-4]"
      ],
      "metadata": {
        "id": "Ki3hQTRE9Cvh",
        "outputId": "2effa1f1-33bd-4fd9-c45a-c403785c44ef",
        "colab": {
          "base_uri": "https://localhost:8080/"
        }
      },
      "execution_count": 57,
      "outputs": [
        {
          "output_type": "execute_result",
          "data": {
            "text/plain": [
              "10"
            ]
          },
          "metadata": {},
          "execution_count": 57
        }
      ]
    },
    {
      "cell_type": "markdown",
      "source": [
        "Find Repeated items of a tuple"
      ],
      "metadata": {
        "id": "CLYN3IaKAvQV"
      }
    },
    {
      "cell_type": "code",
      "source": [
        "tuplex = 2, 4, 5, 6, 2, 3, 4, 4, 7"
      ],
      "metadata": {
        "id": "4BxzVzHv9SUS"
      },
      "execution_count": 58,
      "outputs": []
    },
    {
      "cell_type": "code",
      "source": [
        "cnt=tuplex.count(2)\n",
        "print(cnt)"
      ],
      "metadata": {
        "id": "CMf4qY3gA1Ua",
        "outputId": "c3937994-c2d7-4ced-c5c7-f10130b5bf8a",
        "colab": {
          "base_uri": "https://localhost:8080/"
        }
      },
      "execution_count": 60,
      "outputs": [
        {
          "output_type": "stream",
          "name": "stdout",
          "text": [
            "2\n"
          ]
        }
      ]
    },
    {
      "cell_type": "markdown",
      "source": [
        "Check if an Element exists in Tuple"
      ],
      "metadata": {
        "id": "4S-7hR5qCPYW"
      }
    },
    {
      "cell_type": "code",
      "source": [
        "tuplex = (\"w\", 3, \"r\", \"e\", \"s\", \"o\", \"u\", \"r\", \"c\", \"e\")"
      ],
      "metadata": {
        "id": "QVzSsqh4BA2q"
      },
      "execution_count": 61,
      "outputs": []
    },
    {
      "cell_type": "code",
      "source": [
        "print('a' in tuplex)"
      ],
      "metadata": {
        "id": "OeACSSR9CZzY",
        "outputId": "3bbbe203-b5f3-4f97-f0cf-6a692ede55b3",
        "colab": {
          "base_uri": "https://localhost:8080/"
        }
      },
      "execution_count": 62,
      "outputs": [
        {
          "output_type": "stream",
          "name": "stdout",
          "text": [
            "False\n"
          ]
        }
      ]
    },
    {
      "cell_type": "code",
      "source": [
        "print('e' in tuplex)"
      ],
      "metadata": {
        "id": "WoZ-WYQdCcaC",
        "outputId": "92f5efc6-539d-4a22-9a4c-8b964d8830a4",
        "colab": {
          "base_uri": "https://localhost:8080/"
        }
      },
      "execution_count": 63,
      "outputs": [
        {
          "output_type": "stream",
          "name": "stdout",
          "text": [
            "True\n"
          ]
        }
      ]
    },
    {
      "cell_type": "code",
      "source": [
        ""
      ],
      "metadata": {
        "id": "HVgYa34uCe3C"
      },
      "execution_count": null,
      "outputs": []
    }
  ]
}