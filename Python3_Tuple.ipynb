{
  "nbformat": 4,
  "nbformat_minor": 0,
  "metadata": {
    "colab": {
      "name": "Python3-Tuple.ipynb",
      "provenance": [],
      "authorship_tag": "ABX9TyPFQwztIasgAxuSZAY0K73u",
      "include_colab_link": true
    },
    "kernelspec": {
      "name": "python3",
      "display_name": "Python 3"
    },
    "language_info": {
      "name": "python"
    }
  },
  "cells": [
    {
      "cell_type": "markdown",
      "metadata": {
        "id": "view-in-github",
        "colab_type": "text"
      },
      "source": [
        "<a href=\"https://colab.research.google.com/github/arpitsharma27/PythonPractice/blob/main/Python3_Tuple.ipynb\" target=\"_parent\"><img src=\"https://colab.research.google.com/assets/colab-badge.svg\" alt=\"Open In Colab\"/></a>"
      ]
    },
    {
      "cell_type": "markdown",
      "source": [
        "#Here is a practice session for **Tuple** in Python3\n",
        "\n",
        "####Tuples are used to store multiple items in a single variable.\n",
        "\n",
        "####Tuple is one of 4 built-in data types in Python used to store collections of data, the other 3 are List, Set, and Dictionary, all with different qualities and usage.\n",
        "\n",
        "####A tuple is a collection which is ordered and **unchangeable**.\n",
        "\n",
        "####Tuples are written with round brackets.\n",
        "\n",
        "####Below some of the **Tuple** exercises have been obtained from [here](https://www.w3resource.com/python-exercises/tuple/)\n",
        "\n",
        "####And some are just random google search.\n",
        "\n",
        "#### This can serve you and me for quick reference.\n",
        "\n",
        "####Remember \n",
        "\n",
        "\n",
        "1.   Practice\n",
        "2.   Revisit after 3 days.\n",
        "3. Revisit after a week.\n",
        " \n",
        "#####And I am nailed in your brain.\n",
        "\n",
        "\n"
      ],
      "metadata": {
        "id": "UDHG88-Mq9IZ"
      }
    },
    {
      "cell_type": "code",
      "source": [
        ""
      ],
      "metadata": {
        "id": "YvHs27gtuKJR"
      },
      "execution_count": null,
      "outputs": []
    },
    {
      "cell_type": "markdown",
      "source": [
        "**Create a Tuple with numbers and display a member**"
      ],
      "metadata": {
        "id": "MxfYs96quLWv"
      }
    },
    {
      "cell_type": "code",
      "source": [
        "tuplex= 5,10, 15,20,25"
      ],
      "metadata": {
        "id": "ucfMazccuRSN"
      },
      "execution_count": 1,
      "outputs": []
    },
    {
      "cell_type": "code",
      "source": [
        "print(tuplex)"
      ],
      "metadata": {
        "colab": {
          "base_uri": "https://localhost:8080/"
        },
        "id": "0VoRR2LSuWrf",
        "outputId": "7d46a045-8fe0-4092-e3e5-ca8a29c71451"
      },
      "execution_count": 2,
      "outputs": [
        {
          "output_type": "stream",
          "name": "stdout",
          "text": [
            "(5, 10, 15, 20, 25)\n"
          ]
        }
      ]
    },
    {
      "cell_type": "code",
      "source": [
        "print(type(tuplex))"
      ],
      "metadata": {
        "colab": {
          "base_uri": "https://localhost:8080/"
        },
        "id": "v3KO17VwuZ6O",
        "outputId": "d4ca8b8e-8924-494c-82b1-eaceeb0cd650"
      },
      "execution_count": 3,
      "outputs": [
        {
          "output_type": "stream",
          "name": "stdout",
          "text": [
            "<class 'tuple'>\n"
          ]
        }
      ]
    },
    {
      "cell_type": "markdown",
      "source": [
        "**Unpack a Tuple**\n",
        "\n",
        "The number of variables must be equal to the number of items of the Tuple"
      ],
      "metadata": {
        "id": "E5PfdQSL21p0"
      }
    },
    {
      "cell_type": "code",
      "source": [
        "n1, n2, n3 ,n4 ,n5= tuplex"
      ],
      "metadata": {
        "id": "ZF3afJ6lubi-"
      },
      "execution_count": 10,
      "outputs": []
    },
    {
      "cell_type": "code",
      "source": [
        "print(n1+n2+n3+n4+n5)"
      ],
      "metadata": {
        "colab": {
          "base_uri": "https://localhost:8080/"
        },
        "id": "2bXCko9T2J0R",
        "outputId": "9912a4d0-22f8-4bf9-d5f5-f8a357a14bab"
      },
      "execution_count": 11,
      "outputs": [
        {
          "output_type": "stream",
          "name": "stdout",
          "text": [
            "75\n"
          ]
        }
      ]
    },
    {
      "cell_type": "code",
      "source": [
        "tuplex"
      ],
      "metadata": {
        "colab": {
          "base_uri": "https://localhost:8080/"
        },
        "id": "S24EnTrI2PfY",
        "outputId": "57d488cf-0cfb-4b71-b905-07ebb2ce7f32"
      },
      "execution_count": 12,
      "outputs": [
        {
          "output_type": "execute_result",
          "data": {
            "text/plain": [
              "(5, 10, 15, 20, 25)"
            ]
          },
          "metadata": {},
          "execution_count": 12
        }
      ]
    },
    {
      "cell_type": "markdown",
      "source": [
        "Convert a Tuple to a List"
      ],
      "metadata": {
        "id": "9VMKstvi3BcJ"
      }
    },
    {
      "cell_type": "code",
      "source": [
        "my_list_tuple=list(tuplex)\n",
        "  "
      ],
      "metadata": {
        "id": "JAbCbuel2SXo"
      },
      "execution_count": 14,
      "outputs": []
    },
    {
      "cell_type": "code",
      "source": [
        "print(my_list_tuple)"
      ],
      "metadata": {
        "colab": {
          "base_uri": "https://localhost:8080/"
        },
        "id": "Mrn_H38_2uNy",
        "outputId": "fc792959-2535-4db0-8142-1e8813612852"
      },
      "execution_count": 15,
      "outputs": [
        {
          "output_type": "stream",
          "name": "stdout",
          "text": [
            "[5, 10, 15, 20, 25]\n"
          ]
        }
      ]
    },
    {
      "cell_type": "markdown",
      "source": [
        "**Convert a Tuple to a String**"
      ],
      "metadata": {
        "id": "9bwQoXMQ3IXa"
      }
    },
    {
      "cell_type": "code",
      "source": [
        "tup_to_string=[str(x) for x in tuplex]"
      ],
      "metadata": {
        "id": "M3HTeiPX2vnn"
      },
      "execution_count": 23,
      "outputs": []
    },
    {
      "cell_type": "code",
      "source": [
        "tup_to_string"
      ],
      "metadata": {
        "colab": {
          "base_uri": "https://localhost:8080/"
        },
        "id": "O9EJ7c3-3RYZ",
        "outputId": "c9034e75-3594-449e-a34e-77f16481e1ad"
      },
      "execution_count": 24,
      "outputs": [
        {
          "output_type": "execute_result",
          "data": {
            "text/plain": [
              "['5', '10', '15', '20', '25']"
            ]
          },
          "metadata": {},
          "execution_count": 24
        }
      ]
    },
    {
      "cell_type": "code",
      "source": [
        "str=''.join(tup_to_string)"
      ],
      "metadata": {
        "id": "d-3vf0Nj48UJ"
      },
      "execution_count": 25,
      "outputs": []
    },
    {
      "cell_type": "code",
      "source": [
        "str"
      ],
      "metadata": {
        "colab": {
          "base_uri": "https://localhost:8080/",
          "height": 35
        },
        "id": "105yUgtM6osv",
        "outputId": "1b080ac8-26e7-4a5c-e945-eb86133a4f98"
      },
      "execution_count": 26,
      "outputs": [
        {
          "output_type": "execute_result",
          "data": {
            "application/vnd.google.colaboratory.intrinsic+json": {
              "type": "string"
            },
            "text/plain": [
              "'510152025'"
            ]
          },
          "metadata": {},
          "execution_count": 26
        }
      ]
    },
    {
      "cell_type": "code",
      "source": [
        "print(tuplex)"
      ],
      "metadata": {
        "colab": {
          "base_uri": "https://localhost:8080/"
        },
        "id": "IuBBWfQM6pGg",
        "outputId": "2fb98da2-568e-44c2-9027-358f07e49d33"
      },
      "execution_count": 27,
      "outputs": [
        {
          "output_type": "stream",
          "name": "stdout",
          "text": [
            "(5, 10, 15, 20, 25)\n"
          ]
        }
      ]
    },
    {
      "cell_type": "code",
      "source": [
        "h='hello'"
      ],
      "metadata": {
        "id": "5DhTvFwt6y2w"
      },
      "execution_count": 28,
      "outputs": []
    },
    {
      "cell_type": "code",
      "source": [
        "r=h[::-1]"
      ],
      "metadata": {
        "id": "g8MrHRdB7PaR"
      },
      "execution_count": 38,
      "outputs": []
    },
    {
      "cell_type": "code",
      "source": [
        "r"
      ],
      "metadata": {
        "colab": {
          "base_uri": "https://localhost:8080/",
          "height": 35
        },
        "id": "9HBb3zSC7QVJ",
        "outputId": "450b5ef8-ec28-477e-dc33-04bd624941b8"
      },
      "execution_count": 39,
      "outputs": [
        {
          "output_type": "execute_result",
          "data": {
            "application/vnd.google.colaboratory.intrinsic+json": {
              "type": "string"
            },
            "text/plain": [
              "'olleh'"
            ]
          },
          "metadata": {},
          "execution_count": 39
        }
      ]
    },
    {
      "cell_type": "code",
      "source": [
        "tuplex"
      ],
      "metadata": {
        "colab": {
          "base_uri": "https://localhost:8080/"
        },
        "id": "NRtwfvi28BdI",
        "outputId": "ec9bd13a-7406-4c32-ad2c-3ba16881169a"
      },
      "execution_count": 40,
      "outputs": [
        {
          "output_type": "execute_result",
          "data": {
            "text/plain": [
              "(5, 10, 15, 20, 25)"
            ]
          },
          "metadata": {},
          "execution_count": 40
        }
      ]
    },
    {
      "cell_type": "code",
      "source": [
        "tuplex[3]"
      ],
      "metadata": {
        "colab": {
          "base_uri": "https://localhost:8080/"
        },
        "id": "iBeRKcub8-1B",
        "outputId": "145f84b4-a2bd-4a4d-9b94-2a4ef39d3804"
      },
      "execution_count": 55,
      "outputs": [
        {
          "output_type": "execute_result",
          "data": {
            "text/plain": [
              "20"
            ]
          },
          "metadata": {},
          "execution_count": 55
        }
      ]
    },
    {
      "cell_type": "code",
      "source": [
        "tuplex[-4]"
      ],
      "metadata": {
        "colab": {
          "base_uri": "https://localhost:8080/"
        },
        "id": "Ki3hQTRE9Cvh",
        "outputId": "2effa1f1-33bd-4fd9-c45a-c403785c44ef"
      },
      "execution_count": 57,
      "outputs": [
        {
          "output_type": "execute_result",
          "data": {
            "text/plain": [
              "10"
            ]
          },
          "metadata": {},
          "execution_count": 57
        }
      ]
    },
    {
      "cell_type": "markdown",
      "source": [
        "**Find Repeated items of a tuple**"
      ],
      "metadata": {
        "id": "CLYN3IaKAvQV"
      }
    },
    {
      "cell_type": "code",
      "source": [
        "tuplex = 2, 4, 5, 6, 2, 3, 4, 4, 7"
      ],
      "metadata": {
        "id": "4BxzVzHv9SUS"
      },
      "execution_count": 58,
      "outputs": []
    },
    {
      "cell_type": "code",
      "source": [
        "cnt=tuplex.count(2)\n",
        "print(cnt)"
      ],
      "metadata": {
        "colab": {
          "base_uri": "https://localhost:8080/"
        },
        "id": "CMf4qY3gA1Ua",
        "outputId": "c3937994-c2d7-4ced-c5c7-f10130b5bf8a"
      },
      "execution_count": 60,
      "outputs": [
        {
          "output_type": "stream",
          "name": "stdout",
          "text": [
            "2\n"
          ]
        }
      ]
    },
    {
      "cell_type": "markdown",
      "source": [
        "**Check if an Element exists in Tuple**"
      ],
      "metadata": {
        "id": "4S-7hR5qCPYW"
      }
    },
    {
      "cell_type": "code",
      "source": [
        "tuplex = (\"w\", 3, \"r\", \"e\", \"s\", \"o\", \"u\", \"r\", \"c\", \"e\")"
      ],
      "metadata": {
        "id": "QVzSsqh4BA2q"
      },
      "execution_count": 2,
      "outputs": []
    },
    {
      "cell_type": "code",
      "source": [
        "print('a' in tuplex)"
      ],
      "metadata": {
        "colab": {
          "base_uri": "https://localhost:8080/"
        },
        "id": "OeACSSR9CZzY",
        "outputId": "51bca97b-290e-4508-bb0d-f70ddf961699"
      },
      "execution_count": 3,
      "outputs": [
        {
          "output_type": "stream",
          "name": "stdout",
          "text": [
            "False\n"
          ]
        }
      ]
    },
    {
      "cell_type": "code",
      "source": [
        "print('e' in tuplex)"
      ],
      "metadata": {
        "colab": {
          "base_uri": "https://localhost:8080/"
        },
        "id": "WoZ-WYQdCcaC",
        "outputId": "5b01acc6-09c1-42cb-a76d-baf9d4c394a0"
      },
      "execution_count": 4,
      "outputs": [
        {
          "output_type": "stream",
          "name": "stdout",
          "text": [
            "True\n"
          ]
        }
      ]
    },
    {
      "cell_type": "code",
      "source": [
        "tuple_to_list=list(tuplex)"
      ],
      "metadata": {
        "id": "HVgYa34uCe3C"
      },
      "execution_count": 5,
      "outputs": []
    },
    {
      "cell_type": "code",
      "source": [
        "tuple_to_list"
      ],
      "metadata": {
        "colab": {
          "base_uri": "https://localhost:8080/"
        },
        "id": "jgJNBr6R6Lre",
        "outputId": "f0253447-d065-43c2-bf68-23d2a0527b8e"
      },
      "execution_count": 6,
      "outputs": [
        {
          "output_type": "execute_result",
          "data": {
            "text/plain": [
              "['w', 3, 'r', 'e', 's', 'o', 'u', 'r', 'c', 'e']"
            ]
          },
          "metadata": {},
          "execution_count": 6
        }
      ]
    },
    {
      "cell_type": "code",
      "source": [
        "list_to_tuple=tuple(tuple_to_list)"
      ],
      "metadata": {
        "id": "5p2nxK_q6OdO"
      },
      "execution_count": 7,
      "outputs": []
    },
    {
      "cell_type": "code",
      "source": [
        "list_to_tuple"
      ],
      "metadata": {
        "colab": {
          "base_uri": "https://localhost:8080/"
        },
        "id": "CIIskZFz6SSm",
        "outputId": "692e47cd-9810-47ff-e0c1-83407edfc29c"
      },
      "execution_count": 8,
      "outputs": [
        {
          "output_type": "execute_result",
          "data": {
            "text/plain": [
              "('w', 3, 'r', 'e', 's', 'o', 'u', 'r', 'c', 'e')"
            ]
          },
          "metadata": {},
          "execution_count": 8
        }
      ]
    },
    {
      "cell_type": "code",
      "source": [
        "remove_3=list_to_tuple[:1]+list_to_tuple[2:]"
      ],
      "metadata": {
        "id": "4rhsXN406TKu"
      },
      "execution_count": 9,
      "outputs": []
    },
    {
      "cell_type": "code",
      "source": [
        "remove_3"
      ],
      "metadata": {
        "colab": {
          "base_uri": "https://localhost:8080/"
        },
        "id": "czeIhesF7dZs",
        "outputId": "66d851ec-b658-42d2-dc31-5f36d777ac6e"
      },
      "execution_count": 10,
      "outputs": [
        {
          "output_type": "execute_result",
          "data": {
            "text/plain": [
              "('w', 'r', 'e', 's', 'o', 'u', 'r', 'c', 'e')"
            ]
          },
          "metadata": {},
          "execution_count": 10
        }
      ]
    },
    {
      "cell_type": "markdown",
      "source": [
        "**Slice a Tuple**"
      ],
      "metadata": {
        "id": "txuAqysE7vEK"
      }
    },
    {
      "cell_type": "code",
      "source": [
        "print(len(list_to_tuple))"
      ],
      "metadata": {
        "colab": {
          "base_uri": "https://localhost:8080/"
        },
        "id": "YHokeKPt7eHV",
        "outputId": "6c8a1bcd-a81b-43a9-e620-dd105bea31e7"
      },
      "execution_count": 11,
      "outputs": [
        {
          "output_type": "stream",
          "name": "stdout",
          "text": [
            "10\n"
          ]
        }
      ]
    },
    {
      "cell_type": "code",
      "source": [
        "print(list_to_tuple[:5])"
      ],
      "metadata": {
        "colab": {
          "base_uri": "https://localhost:8080/"
        },
        "id": "V4Llbgwy799m",
        "outputId": "4bf6e9c2-f6b5-47b7-e935-2a0c241452d1"
      },
      "execution_count": 12,
      "outputs": [
        {
          "output_type": "stream",
          "name": "stdout",
          "text": [
            "('w', 3, 'r', 'e', 's')\n"
          ]
        }
      ]
    },
    {
      "cell_type": "code",
      "source": [
        "print(list_to_tuple[-5:])"
      ],
      "metadata": {
        "colab": {
          "base_uri": "https://localhost:8080/"
        },
        "id": "ry_OH5XP8HV2",
        "outputId": "295fe5e9-bbc5-47cf-ad6c-ec2c4c825749"
      },
      "execution_count": 15,
      "outputs": [
        {
          "output_type": "stream",
          "name": "stdout",
          "text": [
            "('o', 'u', 'r', 'c', 'e')\n"
          ]
        }
      ]
    },
    {
      "cell_type": "code",
      "source": [
        "print(list_to_tuple[:-5])"
      ],
      "metadata": {
        "colab": {
          "base_uri": "https://localhost:8080/"
        },
        "id": "NQgHzAoV8PD2",
        "outputId": "cd15e340-f585-4081-a740-d9ab61340af6"
      },
      "execution_count": 16,
      "outputs": [
        {
          "output_type": "stream",
          "name": "stdout",
          "text": [
            "('w', 3, 'r', 'e', 's')\n"
          ]
        }
      ]
    },
    {
      "cell_type": "markdown",
      "source": [
        "**Find the Index of the Item**"
      ],
      "metadata": {
        "id": "unWCIUVn9XR7"
      }
    },
    {
      "cell_type": "code",
      "source": [
        "print(list_to_tuple)"
      ],
      "metadata": {
        "colab": {
          "base_uri": "https://localhost:8080/"
        },
        "id": "XPb3lmXp8Yzm",
        "outputId": "94288dfc-1618-4652-ba8c-25b1dac37942"
      },
      "execution_count": 22,
      "outputs": [
        {
          "output_type": "stream",
          "name": "stdout",
          "text": [
            "('w', 3, 'r', 'e', 's', 'o', 'u', 'r', 'c', 'e')\n"
          ]
        }
      ]
    },
    {
      "cell_type": "code",
      "source": [
        "i=list_to_tuple.index('r')\n",
        "print(i)"
      ],
      "metadata": {
        "colab": {
          "base_uri": "https://localhost:8080/"
        },
        "id": "dAGcq8h99l8t",
        "outputId": "c6575d9a-4f20-4d02-d453-226dabaf131b"
      },
      "execution_count": 25,
      "outputs": [
        {
          "output_type": "stream",
          "name": "stdout",
          "text": [
            "2\n"
          ]
        }
      ]
    },
    {
      "cell_type": "code",
      "source": [
        "i=list_to_tuple.index(3)\n",
        "print(i)"
      ],
      "metadata": {
        "colab": {
          "base_uri": "https://localhost:8080/"
        },
        "id": "lxq_8ylL980f",
        "outputId": "97dbce94-8787-43eb-e8b8-a8cea54acbd6"
      },
      "execution_count": 26,
      "outputs": [
        {
          "output_type": "stream",
          "name": "stdout",
          "text": [
            "1\n"
          ]
        }
      ]
    },
    {
      "cell_type": "code",
      "source": [
        "name=('arpit', 'meera', 'mehr', 'mahya', 'sharma')"
      ],
      "metadata": {
        "id": "DckX5UKT-J2_"
      },
      "execution_count": 29,
      "outputs": []
    },
    {
      "cell_type": "code",
      "source": [
        "name_list=list(name)\n",
        "print(name_list)"
      ],
      "metadata": {
        "colab": {
          "base_uri": "https://localhost:8080/"
        },
        "id": "BoxwIfHo-xA-",
        "outputId": "214a196f-955d-415f-ea00-c4af36a19a89"
      },
      "execution_count": 31,
      "outputs": [
        {
          "output_type": "stream",
          "name": "stdout",
          "text": [
            "['arpit', 'meera', 'mehr', 'mahya', 'sharma']\n"
          ]
        }
      ]
    },
    {
      "cell_type": "code",
      "source": [
        "min_name_len=min([len(x) for x in name_list])"
      ],
      "metadata": {
        "id": "hSodWhJd_E6_"
      },
      "execution_count": 33,
      "outputs": []
    },
    {
      "cell_type": "code",
      "source": [
        "print(min_name_len)"
      ],
      "metadata": {
        "colab": {
          "base_uri": "https://localhost:8080/"
        },
        "id": "P1kawabh_WlA",
        "outputId": "228438b0-0ca9-4286-f60b-b512af436978"
      },
      "execution_count": 34,
      "outputs": [
        {
          "output_type": "stream",
          "name": "stdout",
          "text": [
            "4\n"
          ]
        }
      ]
    },
    {
      "cell_type": "code",
      "source": [
        "print(max([len(x) for x in name_list]))"
      ],
      "metadata": {
        "colab": {
          "base_uri": "https://localhost:8080/"
        },
        "id": "v_9Jtwec_1Nn",
        "outputId": "a50f16e8-6216-47a0-faed-c9094583d91c"
      },
      "execution_count": 35,
      "outputs": [
        {
          "output_type": "stream",
          "name": "stdout",
          "text": [
            "6\n"
          ]
        }
      ]
    },
    {
      "cell_type": "code",
      "source": [
        ""
      ],
      "metadata": {
        "id": "JXs33UnS_-Qp"
      },
      "execution_count": 42,
      "outputs": []
    },
    {
      "cell_type": "markdown",
      "source": [
        "**Convert a Tuple to Dictionary**"
      ],
      "metadata": {
        "id": "c_DVsuvdEYrU"
      }
    },
    {
      "cell_type": "code",
      "source": [
        "binary_tuple=((\"arpit\",37),(\"meera\",36),(\"mehr\",6) ,(\"mahya\",3))"
      ],
      "metadata": {
        "id": "H6ShvGsCAD3p"
      },
      "execution_count": 40,
      "outputs": []
    },
    {
      "cell_type": "code",
      "source": [
        "bi_dic=dict(binary_tuple)"
      ],
      "metadata": {
        "id": "gPlMva1XCgK-"
      },
      "execution_count": 41,
      "outputs": []
    },
    {
      "cell_type": "code",
      "source": [
        "bi_dic"
      ],
      "metadata": {
        "colab": {
          "base_uri": "https://localhost:8080/"
        },
        "id": "FnBX8YXACyFn",
        "outputId": "26862013-c85b-4b21-e77d-ba7d585fbeff"
      },
      "execution_count": 42,
      "outputs": [
        {
          "output_type": "execute_result",
          "data": {
            "text/plain": [
              "{'arpit': 37, 'mahya': 3, 'meera': 36, 'mehr': 6}"
            ]
          },
          "metadata": {},
          "execution_count": 42
        }
      ]
    },
    {
      "cell_type": "markdown",
      "source": [
        "**Unizip a List of Tuples into Individual Lists**"
      ],
      "metadata": {
        "id": "SLsUpi1gFYa1"
      }
    },
    {
      "cell_type": "code",
      "source": [
        "print(list(zip(*binary_tuple)))"
      ],
      "metadata": {
        "colab": {
          "base_uri": "https://localhost:8080/"
        },
        "id": "OKx_OZKACzOv",
        "outputId": "3bd92adb-3959-429f-f286-51da96b9e87b"
      },
      "execution_count": 43,
      "outputs": [
        {
          "output_type": "stream",
          "name": "stdout",
          "text": [
            "[('arpit', 'meera', 'mehr', 'mahya'), (37, 36, 6, 3)]\n"
          ]
        }
      ]
    },
    {
      "cell_type": "markdown",
      "source": [
        "**Reverse a Tuple**"
      ],
      "metadata": {
        "id": "Y5_awU62GV5m"
      }
    },
    {
      "cell_type": "code",
      "source": [
        "print(list_to_tuple)"
      ],
      "metadata": {
        "id": "SLQXilqVFQaQ",
        "outputId": "3538a8f0-f8e4-40eb-acb5-6f011f487294",
        "colab": {
          "base_uri": "https://localhost:8080/"
        }
      },
      "execution_count": 44,
      "outputs": [
        {
          "output_type": "stream",
          "name": "stdout",
          "text": [
            "('w', 3, 'r', 'e', 's', 'o', 'u', 'r', 'c', 'e')\n"
          ]
        }
      ]
    },
    {
      "cell_type": "code",
      "source": [
        "r=tuple(reversed(list_to_tuple))"
      ],
      "metadata": {
        "id": "FcaTqJE6GaDI"
      },
      "execution_count": 56,
      "outputs": []
    },
    {
      "cell_type": "code",
      "source": [
        "print(r)"
      ],
      "metadata": {
        "id": "CjIwAcI8GeSx",
        "outputId": "ab2e93e7-31ed-4edb-d793-a425633d48cb",
        "colab": {
          "base_uri": "https://localhost:8080/"
        }
      },
      "execution_count": 57,
      "outputs": [
        {
          "output_type": "stream",
          "name": "stdout",
          "text": [
            "('e', 'c', 'r', 'u', 'o', 's', 'e', 'r', 3, 'w')\n"
          ]
        }
      ]
    },
    {
      "cell_type": "markdown",
      "source": [
        "Convert a List of tuples into Dictionary"
      ],
      "metadata": {
        "id": "UX4K-FwNHnxV"
      }
    },
    {
      "cell_type": "code",
      "source": [
        "l = [(\"x\", 1), (\"x\", 2), (\"x\", 3), (\"y\", 1), (\"y\", 2), (\"z\", 1)]"
      ],
      "metadata": {
        "id": "Ju_maFvJHruC"
      },
      "execution_count": 58,
      "outputs": []
    },
    {
      "cell_type": "code",
      "source": [
        "d = {}\n",
        "for a, b in l:\n",
        "    d.setdefault(a, []).append(b)\n",
        "print (d)"
      ],
      "metadata": {
        "id": "4rORzBJRHsM4",
        "outputId": "1b417d0d-9c08-4ff5-a8fd-88742e059d21",
        "colab": {
          "base_uri": "https://localhost:8080/"
        }
      },
      "execution_count": 61,
      "outputs": [
        {
          "output_type": "stream",
          "name": "stdout",
          "text": [
            "{'x': [1, 2, 3], 'y': [1, 2], 'z': [1]}\n"
          ]
        }
      ]
    },
    {
      "cell_type": "code",
      "source": [
        "list_to_tuple"
      ],
      "metadata": {
        "id": "jctwJJ5iH0WZ",
        "outputId": "725199cf-aec6-4768-a2c2-5d256e2f7771",
        "colab": {
          "base_uri": "https://localhost:8080/"
        }
      },
      "execution_count": 62,
      "outputs": [
        {
          "output_type": "execute_result",
          "data": {
            "text/plain": [
              "('w', 3, 'r', 'e', 's', 'o', 'u', 'r', 'c', 'e')"
            ]
          },
          "metadata": {},
          "execution_count": 62
        }
      ]
    },
    {
      "cell_type": "code",
      "source": [
        "print(\"This is a tuple {0}\".format(list_to_tuple))"
      ],
      "metadata": {
        "id": "pDzpAxzZKH5f",
        "outputId": "f2454af0-4999-4a18-e555-f2102ed94508",
        "colab": {
          "base_uri": "https://localhost:8080/"
        }
      },
      "execution_count": 64,
      "outputs": [
        {
          "output_type": "stream",
          "name": "stdout",
          "text": [
            "This is a tuple ('w', 3, 'r', 'e', 's', 'o', 'u', 'r', 'c', 'e')\n"
          ]
        }
      ]
    },
    {
      "cell_type": "markdown",
      "source": [
        "**Replace Last value of Tuples in a List**"
      ],
      "metadata": {
        "id": "vr1OmHeULEpd"
      }
    },
    {
      "cell_type": "code",
      "source": [
        "l=[(10, 20, 40), (40, 50, 60), (70, 80, 90)]"
      ],
      "metadata": {
        "id": "aNN00cz7KP1w"
      },
      "execution_count": 65,
      "outputs": []
    },
    {
      "cell_type": "code",
      "source": [
        "replaced_l=[t[:-1]+(100,) for t in l]\n"
      ],
      "metadata": {
        "id": "5r41IdHhLJsB"
      },
      "execution_count": 72,
      "outputs": []
    },
    {
      "cell_type": "code",
      "source": [
        "print(replaced_l)"
      ],
      "metadata": {
        "id": "O_s7WQaZLnKB",
        "outputId": "faef0b5e-7540-4a46-ed48-fa95e5071944",
        "colab": {
          "base_uri": "https://localhost:8080/"
        }
      },
      "execution_count": 73,
      "outputs": [
        {
          "output_type": "stream",
          "name": "stdout",
          "text": [
            "[(10, 20, 100), (40, 50, 100), (70, 80, 100)]\n"
          ]
        }
      ]
    },
    {
      "cell_type": "markdown",
      "source": [
        "**Replace any empty tuple from list of tuples**"
      ],
      "metadata": {
        "id": "VKmccTBVNNlH"
      }
    },
    {
      "cell_type": "code",
      "source": [
        " empty_tuple=[(), (), ('',), ('a', 'b'), ('a', 'b', 'c'), ('d')]"
      ],
      "metadata": {
        "id": "UJbUxjO4LphR"
      },
      "execution_count": 74,
      "outputs": []
    },
    {
      "cell_type": "code",
      "source": [
        "replaced_tuple=[t for t in empty_tuple if t]"
      ],
      "metadata": {
        "id": "fQl2q4WjNYRy"
      },
      "execution_count": 77,
      "outputs": []
    },
    {
      "cell_type": "code",
      "source": [
        "print(replaced_tuple)"
      ],
      "metadata": {
        "id": "YQ8mbJBPNzex",
        "outputId": "54422610-90ba-43ff-bc8e-5726bb35ada4",
        "colab": {
          "base_uri": "https://localhost:8080/"
        }
      },
      "execution_count": 78,
      "outputs": [
        {
          "output_type": "stream",
          "name": "stdout",
          "text": [
            "[('',), ('a', 'b'), ('a', 'b', 'c'), 'd']\n"
          ]
        }
      ]
    },
    {
      "cell_type": "code",
      "source": [
        ""
      ],
      "metadata": {
        "id": "JKEEsbnxN1sh"
      },
      "execution_count": null,
      "outputs": []
    }
  ]
}