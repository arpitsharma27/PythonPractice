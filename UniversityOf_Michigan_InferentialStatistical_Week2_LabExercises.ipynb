{
  "nbformat": 4,
  "nbformat_minor": 0,
  "metadata": {
    "colab": {
      "name": "UniversityOf_Michigan_InferentialStatistical_Week2_LabExercises.ipynb",
      "provenance": [],
      "toc_visible": true,
      "authorship_tag": "ABX9TyNyUkjg6RK9AHBh0fQmOmtE",
      "include_colab_link": true
    },
    "kernelspec": {
      "name": "python3",
      "display_name": "Python 3"
    },
    "language_info": {
      "name": "python"
    }
  },
  "cells": [
    {
      "cell_type": "markdown",
      "metadata": {
        "id": "view-in-github",
        "colab_type": "text"
      },
      "source": [
        "<a href=\"https://colab.research.google.com/github/arpitsharma27/PythonPractice/blob/main/UniversityOf_Michigan_InferentialStatistical_Week2_LabExercises.ipynb\" target=\"_parent\"><img src=\"https://colab.research.google.com/assets/colab-badge.svg\" alt=\"Open In Colab\"/></a>"
      ]
    },
    {
      "cell_type": "markdown",
      "metadata": {
        "id": "zqRTXk75n2Hi"
      },
      "source": [
        "## Statistical Inference with Confidence Intervals\n",
        "\n",
        "Throughout week 2, we have explored the concept of confidence intervals, how to calculate them, interpret them, and what confidence really means.  \n",
        "\n",
        "In this tutorial, we're going to review how to calculate confidence intervals of population proportions and means.\n",
        "\n",
        "To begin, let's go over some of the material from this week and why confidence intervals are useful tools when deriving insights from data.\n",
        "\n",
        "### Why Confidence Intervals?\n",
        "\n",
        "Confidence intervals are a calculated range or boundary around a parameter or a statistic that is supported mathematically with a certain level of confidence.  For example, in the lecture, we estimated, with 95% confidence, that the population proportion of parents with a toddler that use a car seat for all travel with their toddler was somewhere between 82.2% and 87.7%.\n",
        "\n",
        "This is *__different__* than having a 95% probability that the true population proportion is within our confidence interval.\n",
        "\n",
        "Essentially, if we were to repeat this process, 95% of our calculated confidence intervals would contain the true proportion.\n",
        "\n",
        "### How are Confidence Intervals Calculated?\n",
        "\n",
        "Our equation for calculating confidence intervals is as follows:\n",
        "\n",
        "$$Best\\ Estimate \\pm Margin\\ of\\ Error$$\n",
        "\n",
        "Where the *Best Estimate* is the **observed population proportion or mean** and the *Margin of Error* is the **t-multiplier**.\n",
        "\n",
        "The t-multiplier is calculated based on the degrees of freedom and desired confidence level.  For samples with more than 30 observations and a confidence level of 95%, the t-multiplier is 1.96\n",
        "\n",
        "The equation to create a 95% confidence interval can also be shown as:\n",
        "\n",
        "$$Population\\ Proportion\\ or\\ Mean\\ \\pm (t-multiplier *\\ Standard\\ Error)$$\n",
        "\n",
        "Lastly, the Standard Error is calculated differenly for population proportion and mean:\n",
        "\n",
        "$$Standard\\ Error \\ for\\ Population\\ Proportion = \\sqrt{\\frac{Population\\ Proportion * (1 - Population\\ Proportion)}{Number\\ Of\\ Observations}}$$\n",
        "\n",
        "$$Standard\\ Error \\ for\\ Mean = \\frac{Standard\\ Deviation}{\\sqrt{Number\\ Of\\ Observations}}$$\n",
        "\n",
        "Let's replicate the car seat example from lecture:"
      ]
    },
    {
      "cell_type": "code",
      "metadata": {
        "id": "dVTdUz_CwO7e"
      },
      "source": [
        "import numpy as np"
      ],
      "execution_count": 1,
      "outputs": []
    },
    {
      "cell_type": "code",
      "metadata": {
        "id": "NBEMUT8zwQne",
        "colab": {
          "base_uri": "https://localhost:8080/"
        },
        "outputId": "2bb0f7d6-1304-4197-d1a2-c831a97da428"
      },
      "source": [
        "tstar=1.96\n",
        "p=0.85\n",
        "n=659\n",
        "\n",
        "se=np.sqrt((p*(1-p))/n)\n",
        "se"
      ],
      "execution_count": 3,
      "outputs": [
        {
          "output_type": "execute_result",
          "data": {
            "text/plain": [
              "0.01390952774409444"
            ]
          },
          "metadata": {
            "tags": []
          },
          "execution_count": 3
        }
      ]
    },
    {
      "cell_type": "code",
      "metadata": {
        "id": "91e2UrOxwgIY",
        "colab": {
          "base_uri": "https://localhost:8080/"
        },
        "outputId": "1f139abf-caa5-448c-f4cb-66d7f18d115d"
      },
      "source": [
        "lcb=p-tstar *se\n",
        "ucb=p+tstar*se\n",
        "(lcb,ucb)"
      ],
      "execution_count": 5,
      "outputs": [
        {
          "output_type": "execute_result",
          "data": {
            "text/plain": [
              "(0.8227373256215749, 0.8772626743784251)"
            ]
          },
          "metadata": {
            "tags": []
          },
          "execution_count": 5
        }
      ]
    },
    {
      "cell_type": "code",
      "metadata": {
        "id": "HhbYO5SBwSfp",
        "colab": {
          "base_uri": "https://localhost:8080/"
        },
        "outputId": "bfc4fe89-1eae-4e12-f0fe-34993a56d189"
      },
      "source": [
        "import statsmodels.api as sm"
      ],
      "execution_count": 6,
      "outputs": [
        {
          "output_type": "stream",
          "text": [
            "/usr/local/lib/python3.7/dist-packages/statsmodels/tools/_testing.py:19: FutureWarning: pandas.util.testing is deprecated. Use the functions in the public API at pandas.testing instead.\n",
            "  import pandas.util.testing as tm\n"
          ],
          "name": "stderr"
        }
      ]
    },
    {
      "cell_type": "code",
      "metadata": {
        "colab": {
          "base_uri": "https://localhost:8080/"
        },
        "id": "-6osJRvTwXtS",
        "outputId": "4a930c2d-2d65-4c1a-a77e-10517c7747d3"
      },
      "source": [
        "sm.stats.proportion_confint(n*p,n)"
      ],
      "execution_count": 7,
      "outputs": [
        {
          "output_type": "execute_result",
          "data": {
            "text/plain": [
              "(0.8227378265796143, 0.8772621734203857)"
            ]
          },
          "metadata": {
            "tags": []
          },
          "execution_count": 7
        }
      ]
    },
    {
      "cell_type": "code",
      "metadata": {
        "id": "PVadnia5wkiv"
      },
      "source": [
        "import pandas as pd\n",
        "\n",
        "url=\"https://raw.githubusercontent.com/arpitsharma27/PythonPractice/main/Coursera_Cartwheeldata.csv\"\n",
        "df=pd.read_csv(url)"
      ],
      "execution_count": 9,
      "outputs": []
    },
    {
      "cell_type": "code",
      "metadata": {
        "id": "vsM_2tkqxANt",
        "colab": {
          "base_uri": "https://localhost:8080/",
          "height": 195
        },
        "outputId": "bc045efe-576b-41b0-b180-7131ae9e73ff"
      },
      "source": [
        "df.head()"
      ],
      "execution_count": 10,
      "outputs": [
        {
          "output_type": "execute_result",
          "data": {
            "text/html": [
              "<div>\n",
              "<style scoped>\n",
              "    .dataframe tbody tr th:only-of-type {\n",
              "        vertical-align: middle;\n",
              "    }\n",
              "\n",
              "    .dataframe tbody tr th {\n",
              "        vertical-align: top;\n",
              "    }\n",
              "\n",
              "    .dataframe thead th {\n",
              "        text-align: right;\n",
              "    }\n",
              "</style>\n",
              "<table border=\"1\" class=\"dataframe\">\n",
              "  <thead>\n",
              "    <tr style=\"text-align: right;\">\n",
              "      <th></th>\n",
              "      <th>ID</th>\n",
              "      <th>Age</th>\n",
              "      <th>Gender</th>\n",
              "      <th>GenderGroup</th>\n",
              "      <th>Glasses</th>\n",
              "      <th>GlassesGroup</th>\n",
              "      <th>Height</th>\n",
              "      <th>Wingspan</th>\n",
              "      <th>CWDistance</th>\n",
              "      <th>Complete</th>\n",
              "      <th>CompleteGroup</th>\n",
              "      <th>Score</th>\n",
              "    </tr>\n",
              "  </thead>\n",
              "  <tbody>\n",
              "    <tr>\n",
              "      <th>0</th>\n",
              "      <td>1</td>\n",
              "      <td>56</td>\n",
              "      <td>F</td>\n",
              "      <td>1</td>\n",
              "      <td>Y</td>\n",
              "      <td>1</td>\n",
              "      <td>62.0</td>\n",
              "      <td>61.0</td>\n",
              "      <td>79</td>\n",
              "      <td>Y</td>\n",
              "      <td>1</td>\n",
              "      <td>7</td>\n",
              "    </tr>\n",
              "    <tr>\n",
              "      <th>1</th>\n",
              "      <td>2</td>\n",
              "      <td>26</td>\n",
              "      <td>F</td>\n",
              "      <td>1</td>\n",
              "      <td>Y</td>\n",
              "      <td>1</td>\n",
              "      <td>62.0</td>\n",
              "      <td>60.0</td>\n",
              "      <td>70</td>\n",
              "      <td>Y</td>\n",
              "      <td>1</td>\n",
              "      <td>8</td>\n",
              "    </tr>\n",
              "    <tr>\n",
              "      <th>2</th>\n",
              "      <td>3</td>\n",
              "      <td>33</td>\n",
              "      <td>F</td>\n",
              "      <td>1</td>\n",
              "      <td>Y</td>\n",
              "      <td>1</td>\n",
              "      <td>66.0</td>\n",
              "      <td>64.0</td>\n",
              "      <td>85</td>\n",
              "      <td>Y</td>\n",
              "      <td>1</td>\n",
              "      <td>7</td>\n",
              "    </tr>\n",
              "    <tr>\n",
              "      <th>3</th>\n",
              "      <td>4</td>\n",
              "      <td>39</td>\n",
              "      <td>F</td>\n",
              "      <td>1</td>\n",
              "      <td>N</td>\n",
              "      <td>0</td>\n",
              "      <td>64.0</td>\n",
              "      <td>63.0</td>\n",
              "      <td>87</td>\n",
              "      <td>Y</td>\n",
              "      <td>1</td>\n",
              "      <td>10</td>\n",
              "    </tr>\n",
              "    <tr>\n",
              "      <th>4</th>\n",
              "      <td>5</td>\n",
              "      <td>27</td>\n",
              "      <td>M</td>\n",
              "      <td>2</td>\n",
              "      <td>N</td>\n",
              "      <td>0</td>\n",
              "      <td>73.0</td>\n",
              "      <td>75.0</td>\n",
              "      <td>72</td>\n",
              "      <td>N</td>\n",
              "      <td>0</td>\n",
              "      <td>4</td>\n",
              "    </tr>\n",
              "  </tbody>\n",
              "</table>\n",
              "</div>"
            ],
            "text/plain": [
              "   ID  Age Gender  GenderGroup  ... CWDistance  Complete  CompleteGroup  Score\n",
              "0   1   56      F            1  ...         79         Y              1      7\n",
              "1   2   26      F            1  ...         70         Y              1      8\n",
              "2   3   33      F            1  ...         85         Y              1      7\n",
              "3   4   39      F            1  ...         87         Y              1     10\n",
              "4   5   27      M            2  ...         72         N              0      4\n",
              "\n",
              "[5 rows x 12 columns]"
            ]
          },
          "metadata": {
            "tags": []
          },
          "execution_count": 10
        }
      ]
    },
    {
      "cell_type": "code",
      "metadata": {
        "colab": {
          "base_uri": "https://localhost:8080/"
        },
        "id": "OE7S8vjwrgol",
        "outputId": "f0a97d47-a4c6-4659-94f2-6077b8360195"
      },
      "source": [
        "mean=df[\"CWDistance\"].mean()\n",
        "sd=df[\"CWDistance\"].std()\n",
        "n=len(df)\n",
        "\n",
        "print(mean)\n",
        "print(sd)\n",
        "print(n)"
      ],
      "execution_count": 13,
      "outputs": [
        {
          "output_type": "stream",
          "text": [
            "82.48\n",
            "15.058552387264855\n",
            "25\n"
          ],
          "name": "stdout"
        }
      ]
    },
    {
      "cell_type": "code",
      "metadata": {
        "colab": {
          "base_uri": "https://localhost:8080/"
        },
        "id": "JJpjZKxGroDQ",
        "outputId": "ca1c80ea-6e14-44c4-fd48-caf97c524cba"
      },
      "source": [
        "tstar=2.064\n",
        "se=sd/np.sqrt(n)\n",
        "se"
      ],
      "execution_count": 14,
      "outputs": [
        {
          "output_type": "execute_result",
          "data": {
            "text/plain": [
              "3.0117104774529713"
            ]
          },
          "metadata": {
            "tags": []
          },
          "execution_count": 14
        }
      ]
    },
    {
      "cell_type": "code",
      "metadata": {
        "colab": {
          "base_uri": "https://localhost:8080/"
        },
        "id": "ygrtNIP3sJc0",
        "outputId": "17426b2f-7122-485e-f6d4-12bebf68ee82"
      },
      "source": [
        "lcb= mean-tstar*se\n",
        "ucb=mean+tstar*se\n",
        "(lcb,ucb)"
      ],
      "execution_count": 15,
      "outputs": [
        {
          "output_type": "execute_result",
          "data": {
            "text/plain": [
              "(76.26382957453707, 88.69617042546294)"
            ]
          },
          "metadata": {
            "tags": []
          },
          "execution_count": 15
        }
      ]
    },
    {
      "cell_type": "code",
      "metadata": {
        "colab": {
          "base_uri": "https://localhost:8080/"
        },
        "id": "BlyGvzRksRdu",
        "outputId": "c599dba7-6256-4fba-f13d-eca850f6f2ed"
      },
      "source": [
        "sm.stats.DescrStatsW(df[\"CWDistance\"]).zconfint_mean()"
      ],
      "execution_count": 16,
      "outputs": [
        {
          "output_type": "execute_result",
          "data": {
            "text/plain": [
              "(76.57715593233024, 88.38284406766977)"
            ]
          },
          "metadata": {
            "tags": []
          },
          "execution_count": 16
        }
      ]
    },
    {
      "cell_type": "markdown",
      "metadata": {
        "id": "76RuWJTEynjz"
      },
      "source": [
        "# Confidence Intervals\n",
        "\n",
        "\n",
        "This tutorial is going to demonstrate how to load data, clean/manipulate a dataset, and construct a confidence interval for the difference between two population proportions and means.\n",
        "\n",
        "We will use the 2015-2016 wave of the NHANES data for our analysis.\n",
        "\n",
        "*Note: We have provided a notebook that includes more analysis, with examples of confidence intervals for one population proportions and means, in addition to the analysis I will show you in this tutorial.  I highly recommend checking it out!\n",
        "\n",
        "For our population proportions, we will analyze the difference of proportion between female and male smokers.  The column that specifies smoker and non-smoker is \"SMQ020\" in our dataset.\n",
        "\n",
        "For our population means, we will analyze the difference of mean of body mass index within our female and male populations.  The column that includes the body mass index value is \"BMXBMI\".\n",
        "\n",
        "Additionally, the gender is specified in the column \"RIAGENDR\"."
      ]
    },
    {
      "cell_type": "code",
      "metadata": {
        "id": "r-Z7tJJbyorG"
      },
      "source": [
        "import pandas as pd\n",
        "import numpy as np\n",
        "import matplotlib\n",
        "matplotlib.use('Agg')\n",
        "import seaborn as sns\n",
        "%matplotlib inline\n",
        "import matplotlib.pyplot as plt\n",
        "import statsmodels.api as sm"
      ],
      "execution_count": 19,
      "outputs": []
    },
    {
      "cell_type": "code",
      "metadata": {
        "id": "9aRKFU0rys3I"
      },
      "source": [
        "url=\"https://raw.githubusercontent.com/arpitsharma27/PythonPractice/main/Coursera_nhanes_2015_2016.csv\"\n",
        "da=pd.read_csv(url)"
      ],
      "execution_count": 20,
      "outputs": []
    },
    {
      "cell_type": "markdown",
      "metadata": {
        "id": "lMWu1W4SzJNv"
      },
      "source": [
        "## **Investigating and Cleaning Data**"
      ]
    },
    {
      "cell_type": "code",
      "metadata": {
        "colab": {
          "base_uri": "https://localhost:8080/"
        },
        "id": "687feILyzGIW",
        "outputId": "cdb1d308-c935-40a3-c6bf-c81dc88c9eb4"
      },
      "source": [
        "#Recode SMQ020 from 1/2 to Yes/No into new variable SMQ020x\n",
        "da[\"SMQ020x\"]=da.SMQ020.replace({1:'Yes', 2:'No', 7:np.nan, 9:np.nan})\n",
        "da[\"SMQ020x\"]"
      ],
      "execution_count": 23,
      "outputs": [
        {
          "output_type": "execute_result",
          "data": {
            "text/plain": [
              "0       Yes\n",
              "1       Yes\n",
              "2       Yes\n",
              "3        No\n",
              "4        No\n",
              "       ... \n",
              "5730    Yes\n",
              "5731     No\n",
              "5732    Yes\n",
              "5733    Yes\n",
              "5734     No\n",
              "Name: SMQ020x, Length: 5735, dtype: object"
            ]
          },
          "metadata": {
            "tags": []
          },
          "execution_count": 23
        }
      ]
    },
    {
      "cell_type": "code",
      "metadata": {
        "colab": {
          "base_uri": "https://localhost:8080/"
        },
        "id": "33Flg2oLzi0j",
        "outputId": "77a4b0af-07af-4ed1-8ec6-ac3d8dedbc59"
      },
      "source": [
        "da.SMQ020x.value_counts()"
      ],
      "execution_count": 24,
      "outputs": [
        {
          "output_type": "execute_result",
          "data": {
            "text/plain": [
              "No     3406\n",
              "Yes    2319\n",
              "Name: SMQ020x, dtype: int64"
            ]
          },
          "metadata": {
            "tags": []
          },
          "execution_count": 24
        }
      ]
    },
    {
      "cell_type": "code",
      "metadata": {
        "colab": {
          "base_uri": "https://localhost:8080/"
        },
        "id": "dMYi6RUd0FNK",
        "outputId": "54b05068-20a9-486d-9c29-c19430af01b2"
      },
      "source": [
        "#Recode RIAGENDR from 1/2 to Male/Female into new variable RIAGENDRx\n",
        "da[\"RIAGENDRx\"]=da.RIAGENDR.replace({1:'Male',2:'Female'})\n",
        "da[\"RIAGENDRx\"]"
      ],
      "execution_count": 26,
      "outputs": [
        {
          "output_type": "execute_result",
          "data": {
            "text/plain": [
              "0         Male\n",
              "1         Male\n",
              "2         Male\n",
              "3       Female\n",
              "4       Female\n",
              "         ...  \n",
              "5730    Female\n",
              "5731      Male\n",
              "5732    Female\n",
              "5733      Male\n",
              "5734    Female\n",
              "Name: RIAGENDRx, Length: 5735, dtype: object"
            ]
          },
          "metadata": {
            "tags": []
          },
          "execution_count": 26
        }
      ]
    },
    {
      "cell_type": "code",
      "metadata": {
        "colab": {
          "base_uri": "https://localhost:8080/"
        },
        "id": "-TuGfijN0XOQ",
        "outputId": "237c7e48-28d5-472e-c047-b542d1643b6f"
      },
      "source": [
        "da.RIAGENDRx.value_counts()"
      ],
      "execution_count": 27,
      "outputs": [
        {
          "output_type": "execute_result",
          "data": {
            "text/plain": [
              "Female    2976\n",
              "Male      2759\n",
              "Name: RIAGENDRx, dtype: int64"
            ]
          },
          "metadata": {
            "tags": []
          },
          "execution_count": 27
        }
      ]
    },
    {
      "cell_type": "code",
      "metadata": {
        "colab": {
          "base_uri": "https://localhost:8080/",
          "height": 136
        },
        "id": "TNrLMRby0mLD",
        "outputId": "e7b21bd0-f85f-484d-8c2f-d576ebf2add5"
      },
      "source": [
        "dx=da[[\"SMQ020x\",\"RIAGENDRx\"]].dropna()\n",
        "pd.crosstab(dx.SMQ020x,dx.RIAGENDRx)"
      ],
      "execution_count": 28,
      "outputs": [
        {
          "output_type": "execute_result",
          "data": {
            "text/html": [
              "<div>\n",
              "<style scoped>\n",
              "    .dataframe tbody tr th:only-of-type {\n",
              "        vertical-align: middle;\n",
              "    }\n",
              "\n",
              "    .dataframe tbody tr th {\n",
              "        vertical-align: top;\n",
              "    }\n",
              "\n",
              "    .dataframe thead th {\n",
              "        text-align: right;\n",
              "    }\n",
              "</style>\n",
              "<table border=\"1\" class=\"dataframe\">\n",
              "  <thead>\n",
              "    <tr style=\"text-align: right;\">\n",
              "      <th>RIAGENDRx</th>\n",
              "      <th>Female</th>\n",
              "      <th>Male</th>\n",
              "    </tr>\n",
              "    <tr>\n",
              "      <th>SMQ020x</th>\n",
              "      <th></th>\n",
              "      <th></th>\n",
              "    </tr>\n",
              "  </thead>\n",
              "  <tbody>\n",
              "    <tr>\n",
              "      <th>No</th>\n",
              "      <td>2066</td>\n",
              "      <td>1340</td>\n",
              "    </tr>\n",
              "    <tr>\n",
              "      <th>Yes</th>\n",
              "      <td>906</td>\n",
              "      <td>1413</td>\n",
              "    </tr>\n",
              "  </tbody>\n",
              "</table>\n",
              "</div>"
            ],
            "text/plain": [
              "RIAGENDRx  Female  Male\n",
              "SMQ020x                \n",
              "No           2066  1340\n",
              "Yes           906  1413"
            ]
          },
          "metadata": {
            "tags": []
          },
          "execution_count": 28
        }
      ]
    },
    {
      "cell_type": "code",
      "metadata": {
        "id": "RRBrxjC72Xiv"
      },
      "source": [
        "#Recode SMQ020x from Yes/No to 1/0 into existing variable SMQ020x\n",
        "dx[\"SMQ020x\"] = dx.SMQ020x.replace({\"Yes\":1, \"No\":2})"
      ],
      "execution_count": 29,
      "outputs": []
    },
    {
      "cell_type": "code",
      "metadata": {
        "colab": {
          "base_uri": "https://localhost:8080/",
          "height": 136
        },
        "id": "eE7EjHTU2tH5",
        "outputId": "185419b8-d23e-40b7-b48b-083c283aa0ab"
      },
      "source": [
        "dz=dx.groupby(\"RIAGENDRx\").agg({\"SMQ020x\": [np.mean, np.size]})\n",
        "dz.columns = [\"Proportion\", \"Total n\"]\n",
        "dz"
      ],
      "execution_count": 30,
      "outputs": [
        {
          "output_type": "execute_result",
          "data": {
            "text/html": [
              "<div>\n",
              "<style scoped>\n",
              "    .dataframe tbody tr th:only-of-type {\n",
              "        vertical-align: middle;\n",
              "    }\n",
              "\n",
              "    .dataframe tbody tr th {\n",
              "        vertical-align: top;\n",
              "    }\n",
              "\n",
              "    .dataframe thead th {\n",
              "        text-align: right;\n",
              "    }\n",
              "</style>\n",
              "<table border=\"1\" class=\"dataframe\">\n",
              "  <thead>\n",
              "    <tr style=\"text-align: right;\">\n",
              "      <th></th>\n",
              "      <th>Proportion</th>\n",
              "      <th>Total n</th>\n",
              "    </tr>\n",
              "    <tr>\n",
              "      <th>RIAGENDRx</th>\n",
              "      <th></th>\n",
              "      <th></th>\n",
              "    </tr>\n",
              "  </thead>\n",
              "  <tbody>\n",
              "    <tr>\n",
              "      <th>Female</th>\n",
              "      <td>1.695155</td>\n",
              "      <td>2972</td>\n",
              "    </tr>\n",
              "    <tr>\n",
              "      <th>Male</th>\n",
              "      <td>1.486742</td>\n",
              "      <td>2753</td>\n",
              "    </tr>\n",
              "  </tbody>\n",
              "</table>\n",
              "</div>"
            ],
            "text/plain": [
              "           Proportion  Total n\n",
              "RIAGENDRx                     \n",
              "Female       1.695155     2972\n",
              "Male         1.486742     2753"
            ]
          },
          "metadata": {
            "tags": []
          },
          "execution_count": 30
        }
      ]
    },
    {
      "cell_type": "markdown",
      "metadata": {
        "id": "M6KTdgLT4vzj"
      },
      "source": [
        "### Constructing Confidence Intervals\n",
        "\n",
        "Now that we have the population proportions of male and female smokers, we can begin to calculate confidence intervals.  From lecture, we know that the equation is as follows:\n",
        "\n",
        "$$Best\\ Estimate \\pm Margin\\ of\\ Error$$\n",
        "\n",
        "Where the *Best Estimate* is the **observed population proportion or mean** from the sample and the *Margin of Error* is the **t-multiplier**.\n",
        "\n",
        "The equation to create a 95% confidence interval can also be shown as:\n",
        "\n",
        "$$Population\\ Proportion\\ or\\ Mean\\ \\pm (t-multiplier *\\ Standard\\ Error)$$\n",
        "\n",
        "The Standard Error (SE) is calculated differenly for population proportion and mean:\n",
        "\n",
        "$$Standard\\ Error \\ for\\ Population\\ Proportion = \\sqrt{\\frac{Population\\ Proportion * (1 - Population\\ Proportion)}{Number\\ Of\\ Observations}}$$\n",
        "\n",
        "$$Standard\\ Error \\ for\\ Mean = \\frac{Standard\\ Deviation}{\\sqrt{Number\\ Of\\ Observations}}$$\n",
        "\n",
        "Lastly, the standard error for difference of population proportions and means is:\n",
        "\n",
        "$$Standard\\ Error\\ for\\ Difference\\ of\\ Two\\ Population\\ Proportions\\ Or\\ Means = \\sqrt{(SE_{\\ 1})^2 + (SE_{\\ 2})^2}$$\n",
        "\n",
        "#### Difference of Two Population Proportions"
      ]
    },
    {
      "cell_type": "code",
      "metadata": {
        "colab": {
          "base_uri": "https://localhost:8080/"
        },
        "id": "ptPppoJl2_8D",
        "outputId": "0bfea35d-78b7-4a09-e732-fd8b3d638c1d"
      },
      "source": [
        "p=0.304845\n",
        "n = 2972\n",
        "se_female = np.sqrt(p*(1-p)/n)\n",
        "se_female"
      ],
      "execution_count": 31,
      "outputs": [
        {
          "output_type": "execute_result",
          "data": {
            "text/plain": [
              "0.00844415041930423"
            ]
          },
          "metadata": {
            "tags": []
          },
          "execution_count": 31
        }
      ]
    },
    {
      "cell_type": "code",
      "metadata": {
        "colab": {
          "base_uri": "https://localhost:8080/"
        },
        "id": "9QfhmSuU5jl6",
        "outputId": "8b715780-85f2-470e-b9cd-0c7ca7630290"
      },
      "source": [
        "p=0.513258\n",
        "n=2753\n",
        "se_male=np.sqrt(p*(1-p)/n)\n",
        "se_male"
      ],
      "execution_count": 32,
      "outputs": [
        {
          "output_type": "execute_result",
          "data": {
            "text/plain": [
              "0.009526078787008965"
            ]
          },
          "metadata": {
            "tags": []
          },
          "execution_count": 32
        }
      ]
    },
    {
      "cell_type": "code",
      "metadata": {
        "colab": {
          "base_uri": "https://localhost:8080/"
        },
        "id": "ULc-jwc45sGV",
        "outputId": "7d5602b8-03a4-4630-da9e-9597b28fc4da"
      },
      "source": [
        "se_diff=np.sqrt((se_female)**2+(se_male)**2)\n",
        "se_diff"
      ],
      "execution_count": 33,
      "outputs": [
        {
          "output_type": "execute_result",
          "data": {
            "text/plain": [
              "0.012729880335656654"
            ]
          },
          "metadata": {
            "tags": []
          },
          "execution_count": 33
        }
      ]
    },
    {
      "cell_type": "code",
      "metadata": {
        "colab": {
          "base_uri": "https://localhost:8080/"
        },
        "id": "SBTvUjCE51Dr",
        "outputId": "fb8603b3-c0ba-4bda-bd27-31f1683a763c"
      },
      "source": [
        "d=0.304845-0.513258\n",
        "lcb=d-1.96*se_diff\n",
        "ucb=d+1.96*se_diff\n",
        "(lcb, ucb)"
      ],
      "execution_count": 34,
      "outputs": [
        {
          "output_type": "execute_result",
          "data": {
            "text/plain": [
              "(-0.23336356545788706, -0.18346243454211297)"
            ]
          },
          "metadata": {
            "tags": []
          },
          "execution_count": 34
        }
      ]
    },
    {
      "cell_type": "markdown",
      "metadata": {
        "id": "PA5P-3ba6VZ7"
      },
      "source": [
        "**Difference of Two Population Means**"
      ]
    },
    {
      "cell_type": "code",
      "metadata": {
        "colab": {
          "base_uri": "https://localhost:8080/"
        },
        "id": "mQuxaAsv6On0",
        "outputId": "0bd6974e-dc55-47a5-f4ba-79606c59de9b"
      },
      "source": [
        "da[\"BMXBMI\"].head()"
      ],
      "execution_count": 35,
      "outputs": [
        {
          "output_type": "execute_result",
          "data": {
            "text/plain": [
              "0    27.8\n",
              "1    30.8\n",
              "2    28.8\n",
              "3    42.4\n",
              "4    20.3\n",
              "Name: BMXBMI, dtype: float64"
            ]
          },
          "metadata": {
            "tags": []
          },
          "execution_count": 35
        }
      ]
    },
    {
      "cell_type": "code",
      "metadata": {
        "colab": {
          "base_uri": "https://localhost:8080/",
          "height": 166
        },
        "id": "L6ePpWP16clM",
        "outputId": "79aa8090-9b85-4a1d-9b2a-9216015e9f89"
      },
      "source": [
        "da.groupby(\"RIAGENDRx\").agg({\"BMXBMI\": [np.mean, np.std, np.size]})"
      ],
      "execution_count": 36,
      "outputs": [
        {
          "output_type": "execute_result",
          "data": {
            "text/html": [
              "<div>\n",
              "<style scoped>\n",
              "    .dataframe tbody tr th:only-of-type {\n",
              "        vertical-align: middle;\n",
              "    }\n",
              "\n",
              "    .dataframe tbody tr th {\n",
              "        vertical-align: top;\n",
              "    }\n",
              "\n",
              "    .dataframe thead tr th {\n",
              "        text-align: left;\n",
              "    }\n",
              "\n",
              "    .dataframe thead tr:last-of-type th {\n",
              "        text-align: right;\n",
              "    }\n",
              "</style>\n",
              "<table border=\"1\" class=\"dataframe\">\n",
              "  <thead>\n",
              "    <tr>\n",
              "      <th></th>\n",
              "      <th colspan=\"3\" halign=\"left\">BMXBMI</th>\n",
              "    </tr>\n",
              "    <tr>\n",
              "      <th></th>\n",
              "      <th>mean</th>\n",
              "      <th>std</th>\n",
              "      <th>size</th>\n",
              "    </tr>\n",
              "    <tr>\n",
              "      <th>RIAGENDRx</th>\n",
              "      <th></th>\n",
              "      <th></th>\n",
              "      <th></th>\n",
              "    </tr>\n",
              "  </thead>\n",
              "  <tbody>\n",
              "    <tr>\n",
              "      <th>Female</th>\n",
              "      <td>29.939946</td>\n",
              "      <td>7.753319</td>\n",
              "      <td>2976.0</td>\n",
              "    </tr>\n",
              "    <tr>\n",
              "      <th>Male</th>\n",
              "      <td>28.778072</td>\n",
              "      <td>6.252568</td>\n",
              "      <td>2759.0</td>\n",
              "    </tr>\n",
              "  </tbody>\n",
              "</table>\n",
              "</div>"
            ],
            "text/plain": [
              "              BMXBMI                  \n",
              "                mean       std    size\n",
              "RIAGENDRx                             \n",
              "Female     29.939946  7.753319  2976.0\n",
              "Male       28.778072  6.252568  2759.0"
            ]
          },
          "metadata": {
            "tags": []
          },
          "execution_count": 36
        }
      ]
    },
    {
      "cell_type": "code",
      "metadata": {
        "colab": {
          "base_uri": "https://localhost:8080/"
        },
        "id": "O03wiALN6muP",
        "outputId": "c9b56b08-84e7-4261-949f-f61741c62e31"
      },
      "source": [
        "sem_female=7.753319/np.sqrt(2976)\n",
        "sem_male = 6.252568/np.sqrt(2759)\n",
        "(sem_female, sem_male)"
      ],
      "execution_count": 37,
      "outputs": [
        {
          "output_type": "execute_result",
          "data": {
            "text/plain": [
              "(0.14212523289878048, 0.11903716451870151)"
            ]
          },
          "metadata": {
            "tags": []
          },
          "execution_count": 37
        }
      ]
    },
    {
      "cell_type": "code",
      "metadata": {
        "colab": {
          "base_uri": "https://localhost:8080/"
        },
        "id": "2qwgWinh7JKX",
        "outputId": "b12639e3-4d67-401d-b57b-37d6cd4148f9"
      },
      "source": [
        "sem_diff=np.sqrt(sem_female**2+sem_male**2)\n",
        "sem_diff"
      ],
      "execution_count": 38,
      "outputs": [
        {
          "output_type": "execute_result",
          "data": {
            "text/plain": [
              "0.18538993598139303"
            ]
          },
          "metadata": {
            "tags": []
          },
          "execution_count": 38
        }
      ]
    },
    {
      "cell_type": "code",
      "metadata": {
        "id": "daad2Zrf7TNh"
      },
      "source": [
        "d=29.939946 - 28.778072"
      ],
      "execution_count": 39,
      "outputs": []
    },
    {
      "cell_type": "code",
      "metadata": {
        "colab": {
          "base_uri": "https://localhost:8080/"
        },
        "id": "6qOwZsxu7b-G",
        "outputId": "ae31c964-e961-466f-9894-7279707e8a41"
      },
      "source": [
        "lcb=d-1.96 * sem_diff\n",
        "ucb=d+1.96 * sem_diff\n",
        "(lcb,ucb)"
      ],
      "execution_count": 41,
      "outputs": [
        {
          "output_type": "execute_result",
          "data": {
            "text/plain": [
              "(0.798509725476467, 1.5252382745235278)"
            ]
          },
          "metadata": {
            "tags": []
          },
          "execution_count": 41
        }
      ]
    },
    {
      "cell_type": "code",
      "metadata": {
        "id": "N5wb5IQd7f4E"
      },
      "source": [
        ""
      ],
      "execution_count": null,
      "outputs": []
    }
  ]
}