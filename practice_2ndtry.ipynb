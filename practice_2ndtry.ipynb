{
  "nbformat": 4,
  "nbformat_minor": 0,
  "metadata": {
    "colab": {
      "name": "practice_2ndtry.ipynb",
      "provenance": [],
      "authorship_tag": "ABX9TyM6UdEEettG0nu+CGBht3wA",
      "include_colab_link": true
    },
    "kernelspec": {
      "name": "python3",
      "display_name": "Python 3"
    },
    "language_info": {
      "name": "python"
    }
  },
  "cells": [
    {
      "cell_type": "markdown",
      "metadata": {
        "id": "view-in-github",
        "colab_type": "text"
      },
      "source": [
        "<a href=\"https://colab.research.google.com/github/arpitsharma27/PythonPractice/blob/main/practice_2ndtry.ipynb\" target=\"_parent\"><img src=\"https://colab.research.google.com/assets/colab-badge.svg\" alt=\"Open In Colab\"/></a>"
      ]
    },
    {
      "cell_type": "code",
      "execution_count": null,
      "metadata": {
        "id": "EGBVHs7BWtrM"
      },
      "outputs": [],
      "source": [
        "string='mississipi'"
      ]
    },
    {
      "cell_type": "code",
      "source": [
        "def func_string(item,str):\n",
        "  cntr=0\n",
        "  for x in item:\n",
        "    if x==str:\n",
        "      cntr+=1\n",
        "  return cntr"
      ],
      "metadata": {
        "id": "EwdOkrdiWwUO"
      },
      "execution_count": null,
      "outputs": []
    },
    {
      "cell_type": "code",
      "source": [
        "func_string(string,'s')"
      ],
      "metadata": {
        "colab": {
          "base_uri": "https://localhost:8080/"
        },
        "id": "-5owbZ6FXB59",
        "outputId": "cee30c57-fc34-49f7-d212-91e42d03f503"
      },
      "execution_count": null,
      "outputs": [
        {
          "output_type": "execute_result",
          "data": {
            "text/plain": [
              "4"
            ]
          },
          "metadata": {},
          "execution_count": 8
        }
      ]
    },
    {
      "cell_type": "code",
      "source": [
        "func_string(string,'')"
      ],
      "metadata": {
        "colab": {
          "base_uri": "https://localhost:8080/"
        },
        "id": "mxwbLuUbXHn7",
        "outputId": "56d72e76-c003-492d-a464-e890199d7bce"
      },
      "execution_count": null,
      "outputs": [
        {
          "output_type": "execute_result",
          "data": {
            "text/plain": [
              "0"
            ]
          },
          "metadata": {},
          "execution_count": 9
        }
      ]
    },
    {
      "cell_type": "code",
      "source": [
        "x=[1,2,'None',3,'None','None']\n",
        "print(x[:-1])"
      ],
      "metadata": {
        "colab": {
          "base_uri": "https://localhost:8080/"
        },
        "id": "OHyXn_3SXPID",
        "outputId": "b03ecae5-8d38-4f1b-d901-32bc5b4281a8"
      },
      "execution_count": null,
      "outputs": [
        {
          "output_type": "stream",
          "name": "stdout",
          "text": [
            "[1, 2, 'None', 3, 'None']\n"
          ]
        }
      ]
    },
    {
      "cell_type": "code",
      "source": [
        "def fill_blanks(item):\n",
        "  for i,e in enumerate(item[:-1],1):\n",
        "    if item[i]=='None':\n",
        "      item[i]=item[i-1]\n",
        "  return item"
      ],
      "metadata": {
        "id": "3USiXWFYXcqs"
      },
      "execution_count": null,
      "outputs": []
    },
    {
      "cell_type": "code",
      "source": [
        "fill_blanks(x)"
      ],
      "metadata": {
        "colab": {
          "base_uri": "https://localhost:8080/"
        },
        "id": "ASL3Px91XvtE",
        "outputId": "899aa033-7718-42ec-a1a9-4a763da5d5c8"
      },
      "execution_count": null,
      "outputs": [
        {
          "output_type": "execute_result",
          "data": {
            "text/plain": [
              "[1, 2, 2, 3, 3, 3]"
            ]
          },
          "metadata": {},
          "execution_count": 25
        }
      ]
    },
    {
      "cell_type": "code",
      "source": [
        "sentence1='this is my first sentence'\n",
        "sentence2='this is my second one'"
      ],
      "metadata": {
        "id": "9ZY940GVXxcs"
      },
      "execution_count": null,
      "outputs": []
    },
    {
      "cell_type": "code",
      "source": [
        "l1=[x for x in sentence1.split(\" \") if x not in sentence2.split(\" \")]\n",
        "l2=[x for x in sentence2.split(\" \") if x not in sentence1.split(\" \")]\n",
        "l3=l1+l2\n",
        "print(l3)"
      ],
      "metadata": {
        "colab": {
          "base_uri": "https://localhost:8080/"
        },
        "id": "vau8vMqlZs1S",
        "outputId": "be69161d-675f-4fba-d66c-b6059ba5b02b"
      },
      "execution_count": null,
      "outputs": [
        {
          "output_type": "stream",
          "name": "stdout",
          "text": [
            "['first', 'sentence', 'second', 'one']\n"
          ]
        }
      ]
    },
    {
      "cell_type": "code",
      "source": [
        "names = {'peter': 40,'mike': 90, 'sam': 60,'wohn': 90, 'jimmy1': 32, 'jimmy2': 42, 'jimmy3': 52, 'jimmy4': 62, 'jimmy5': 72, 'jimmy6': 82, 'jimmy7': 92, }"
      ],
      "metadata": {
        "id": "kI-Gj4w_aHD7"
      },
      "execution_count": 19,
      "outputs": []
    },
    {
      "cell_type": "code",
      "source": [
        "def nth_highest(dict, nth):\n",
        "  val=dict.values()\n",
        "  unq=set(val)\n",
        "  srtd=sorted(unq)\n",
        "  output=srtd[nth]\n",
        "  d=[key for key, val in dict.items() if val==output]\n",
        "  return d"
      ],
      "metadata": {
        "id": "isRRX5CrbpWm"
      },
      "execution_count": 20,
      "outputs": []
    },
    {
      "cell_type": "code",
      "source": [
        "nth_highest(names,5)"
      ],
      "metadata": {
        "colab": {
          "base_uri": "https://localhost:8080/"
        },
        "id": "DKbajNWpckxl",
        "outputId": "3873efed-908e-444b-bbdf-6422a7f186e8"
      },
      "execution_count": 21,
      "outputs": [
        {
          "output_type": "execute_result",
          "data": {
            "text/plain": [
              "['jimmy4']"
            ]
          },
          "metadata": {},
          "execution_count": 21
        }
      ]
    },
    {
      "cell_type": "code",
      "source": [
        "def myf(ip_list):\n",
        "ip_dict = Counter(ip_list)\n",
        "->print(ip_dict)\n",
        "->max_reps=0\n",
        "->for v in ip_dict.values():\n",
        "->->if max_reps->->max_reps=v\n",
        "->print(max_reps)\n",
        "\n",
        "->op_dict={}\n",
        "->for k,v in ip_dict.items():\n",
        "->->if ip_dict[k]==max_reps:\n",
        "->->->continue\n",
        "->->else:\n",
        "->->->op_dict[k] = max_reps-v\n",
        "->print(op_dict)"
      ],
      "metadata": {
        "id": "dDz9Q36PcnCf"
      },
      "execution_count": null,
      "outputs": []
    },
    {
      "cell_type": "code",
      "source": [
        "#Find the number of followers.\n",
        "# ar_1=[['D'],['A','B'],['A','C'],['C','A']]\n",
        "# Ans\n",
        "# D=0\n",
        "# A=2\n",
        "# c=1"
      ],
      "metadata": {
        "id": "-E6FqPXyY-SO"
      },
      "execution_count": 1,
      "outputs": []
    },
    {
      "cell_type": "code",
      "source": [
        "input_array = [['D'],['A','B'],['A','C'],['C','A'],['A','D'],['A','E']]\n",
        "#\n",
        "#We deal with each element of input_array one at a time\n",
        "#\n",
        "#if we are seeing the key first time\n",
        "#    we check the length of the element.\n",
        "#        if the length > 1 then we assign the key value of 1\n",
        "#        if the length = 0 then we assign the key value of 0\n",
        "#\n",
        "#else we iterate the value with adding 1\n",
        "abc = dict()\n",
        "for x in input_array:\n",
        "  if x[0] not in abc.keys():\n",
        "    if len(x) > 1:\n",
        "      abc[x[0]] = 1\n",
        "    else:\n",
        "      abc[x[0]] = 0\n",
        "  else:\n",
        "    abc[x[0]] += 1\n",
        "print (abc)"
      ],
      "metadata": {
        "id": "hupcAimWZKaf",
        "outputId": "e358f3f2-e071-403a-98b5-8d1d220c3813",
        "colab": {
          "base_uri": "https://localhost:8080/"
        }
      },
      "execution_count": 16,
      "outputs": [
        {
          "output_type": "stream",
          "name": "stdout",
          "text": [
            "{'D': 0, 'A': 4, 'C': 1}\n"
          ]
        }
      ]
    },
    {
      "cell_type": "code",
      "source": [
        ""
      ],
      "metadata": {
        "id": "eTfYS-c9Z1fd"
      },
      "execution_count": null,
      "outputs": []
    }
  ]
}