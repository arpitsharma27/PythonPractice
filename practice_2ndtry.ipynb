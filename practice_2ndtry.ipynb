{
  "nbformat": 4,
  "nbformat_minor": 0,
  "metadata": {
    "colab": {
      "name": "practice_2ndtry.ipynb",
      "provenance": [],
      "authorship_tag": "ABX9TyMO9ZYhXpAcZRTof7qdEwv4",
      "include_colab_link": true
    },
    "kernelspec": {
      "name": "python3",
      "display_name": "Python 3"
    },
    "language_info": {
      "name": "python"
    }
  },
  "cells": [
    {
      "cell_type": "markdown",
      "metadata": {
        "id": "view-in-github",
        "colab_type": "text"
      },
      "source": [
        "<a href=\"https://colab.research.google.com/github/arpitsharma27/PythonPractice/blob/main/practice_2ndtry.ipynb\" target=\"_parent\"><img src=\"https://colab.research.google.com/assets/colab-badge.svg\" alt=\"Open In Colab\"/></a>"
      ]
    },
    {
      "cell_type": "code",
      "execution_count": 1,
      "metadata": {
        "id": "EGBVHs7BWtrM"
      },
      "outputs": [],
      "source": [
        "string='mississipi'"
      ]
    },
    {
      "cell_type": "code",
      "source": [
        "def func_string(item,str):\n",
        "  cntr=0\n",
        "  for x in item:\n",
        "    if x==str:\n",
        "      cntr+=1\n",
        "  return cntr"
      ],
      "metadata": {
        "id": "EwdOkrdiWwUO"
      },
      "execution_count": 7,
      "outputs": []
    },
    {
      "cell_type": "code",
      "source": [
        "func_string(string,'s')"
      ],
      "metadata": {
        "colab": {
          "base_uri": "https://localhost:8080/"
        },
        "id": "-5owbZ6FXB59",
        "outputId": "cee30c57-fc34-49f7-d212-91e42d03f503"
      },
      "execution_count": 8,
      "outputs": [
        {
          "output_type": "execute_result",
          "data": {
            "text/plain": [
              "4"
            ]
          },
          "metadata": {},
          "execution_count": 8
        }
      ]
    },
    {
      "cell_type": "code",
      "source": [
        "func_string(string,'')"
      ],
      "metadata": {
        "colab": {
          "base_uri": "https://localhost:8080/"
        },
        "id": "mxwbLuUbXHn7",
        "outputId": "56d72e76-c003-492d-a464-e890199d7bce"
      },
      "execution_count": 9,
      "outputs": [
        {
          "output_type": "execute_result",
          "data": {
            "text/plain": [
              "0"
            ]
          },
          "metadata": {},
          "execution_count": 9
        }
      ]
    },
    {
      "cell_type": "code",
      "source": [
        "x=[1,2,'None',3,'None','None']"
      ],
      "metadata": {
        "id": "OHyXn_3SXPID"
      },
      "execution_count": 23,
      "outputs": []
    },
    {
      "cell_type": "code",
      "source": [
        "def fill_blanks(item):\n",
        "  for i,e in enumerate(item[:-1],1):\n",
        "    if item[i]=='None':\n",
        "      item[i]=item[i-1]\n",
        "  return item"
      ],
      "metadata": {
        "id": "3USiXWFYXcqs"
      },
      "execution_count": 24,
      "outputs": []
    },
    {
      "cell_type": "code",
      "source": [
        "fill_blanks(x)"
      ],
      "metadata": {
        "colab": {
          "base_uri": "https://localhost:8080/"
        },
        "id": "ASL3Px91XvtE",
        "outputId": "899aa033-7718-42ec-a1a9-4a763da5d5c8"
      },
      "execution_count": 25,
      "outputs": [
        {
          "output_type": "execute_result",
          "data": {
            "text/plain": [
              "[1, 2, 2, 3, 3, 3]"
            ]
          },
          "metadata": {},
          "execution_count": 25
        }
      ]
    },
    {
      "cell_type": "code",
      "source": [
        "sentence1='this is my first sentence'\n",
        "sentence2='this is my second one'"
      ],
      "metadata": {
        "id": "9ZY940GVXxcs"
      },
      "execution_count": 26,
      "outputs": []
    },
    {
      "cell_type": "code",
      "source": [
        "l1=[x for x in sentence1.split(\" \") if x not in sentence2.split(\" \")]\n",
        "l2=[x for x in sentence2.split(\" \") if x not in sentence1.split(\" \")]\n",
        "l3=l1+l2\n",
        "print(l3)"
      ],
      "metadata": {
        "colab": {
          "base_uri": "https://localhost:8080/"
        },
        "id": "vau8vMqlZs1S",
        "outputId": "be69161d-675f-4fba-d66c-b6059ba5b02b"
      },
      "execution_count": 29,
      "outputs": [
        {
          "output_type": "stream",
          "name": "stdout",
          "text": [
            "['first', 'sentence', 'second', 'one']\n"
          ]
        }
      ]
    },
    {
      "cell_type": "code",
      "source": [
        "names = {'peter': 40,'mike': 90, 'sam': 60,'wohn': 90, 'jimmy1': 32, 'jimmy2': 42, 'jimmy3': 52, 'jimmy4': 62, 'jimmy5': 72, 'jimmy6': 82, 'jimmy7': 92, }"
      ],
      "metadata": {
        "id": "kI-Gj4w_aHD7"
      },
      "execution_count": 30,
      "outputs": []
    },
    {
      "cell_type": "code",
      "source": [
        "def nth_highest(dict, nth):\n",
        "  val=dict.values()\n",
        "  unq=set(val)\n",
        "  srtd=sorted(unq)\n",
        "  output=srtd[nth]\n",
        "  d=[key for key, val in dict.items() if val==output]\n",
        "  return srtd,output,d"
      ],
      "metadata": {
        "id": "isRRX5CrbpWm"
      },
      "execution_count": 39,
      "outputs": []
    },
    {
      "cell_type": "code",
      "source": [
        "nth_highest(names,5)"
      ],
      "metadata": {
        "colab": {
          "base_uri": "https://localhost:8080/"
        },
        "id": "DKbajNWpckxl",
        "outputId": "63996a15-2e68-470a-9624-7dd12e13ba21"
      },
      "execution_count": 40,
      "outputs": [
        {
          "output_type": "execute_result",
          "data": {
            "text/plain": [
              "([32, 40, 42, 52, 60, 62, 72, 82, 90, 92], 62, ['jimmy4'])"
            ]
          },
          "metadata": {},
          "execution_count": 40
        }
      ]
    },
    {
      "cell_type": "code",
      "source": [
        ""
      ],
      "metadata": {
        "id": "dDz9Q36PcnCf"
      },
      "execution_count": null,
      "outputs": []
    }
  ]
}