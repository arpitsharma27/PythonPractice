{
  "nbformat": 4,
  "nbformat_minor": 0,
  "metadata": {
    "colab": {
      "name": "UniversityOf_Michigan_InferentialStatisticalAnalysis_Week1_.ipynb",
      "provenance": [],
      "authorship_tag": "ABX9TyOWfF3M59yMdeuyeCDLf7gi",
      "include_colab_link": true
    },
    "kernelspec": {
      "name": "python3",
      "display_name": "Python 3"
    },
    "language_info": {
      "name": "python"
    }
  },
  "cells": [
    {
      "cell_type": "markdown",
      "metadata": {
        "id": "view-in-github",
        "colab_type": "text"
      },
      "source": [
        "<a href=\"https://colab.research.google.com/github/arpitsharma27/PythonPractice/blob/main/UniversityOf_Michigan_InferentialStatisticalAnalysis_Week1_.ipynb\" target=\"_parent\"><img src=\"https://colab.research.google.com/assets/colab-badge.svg\" alt=\"Open In Colab\"/></a>"
      ]
    },
    {
      "cell_type": "markdown",
      "metadata": {
        "id": "1Pdsjpy8JpKS"
      },
      "source": [
        "# **Lists vs numpy arrays**\n",
        "\n",
        "**Lists** can have **multiple datatypes**. \n",
        "\n",
        "For example one element can be a string and another can be and int and another a float. \n",
        "\n",
        "Lists are defined by using the square brackets: [ ], with elements separated by commas, ','. \n",
        "\n",
        "Ex:my_list = [1, 'Colorado', 4.7, 'rain']\n",
        "\n",
        "\n",
        "Lists are indexed by position. \n",
        "\n",
        "Remember, in Python, the index starts at 0 and ends at length(list)-1. \n",
        "\n",
        "So to retrieve the first element of the list you call:my_list[0]\n",
        "\n",
        "\n",
        "**Numpy** arrays np.arrays differ from lists is that the contain **only 1 datatype**. \n",
        "\n",
        "For example all the elements might be ints or strings or floats or objects. \n",
        "\n",
        "It is defined by np.array(object), where the input 'object' can be for example a list or a tuple.\n",
        "Ex:\n",
        "\n",
        "my_array = np.array([1, 4, 5, 2])\n",
        "\n",
        "or\n",
        "\n",
        "my_array = np.array((1, 4, 5, 2))\n",
        "\n",
        "Lists and numpy arrays differ in their speed and memory efficiency. \n",
        "\n",
        "An intuitive reason for this is that python lists have to store the value of each element and also the type of each element (since the types can differ). \n",
        "\n",
        "\n",
        "Whereas numpy arrays only need to store the type once because it is the same for all the elements in the array.\n",
        "\n",
        "You can do calculations with numpy arrays that can't be done on lists.\n",
        "\n",
        "Ex:my_array/3 will return a numpy array, with each of the elements divided by 3. \n",
        "\n",
        "Whereas: my_list/3 Will throw an error.\n",
        "\n",
        "You can appened items to the end of lists and numpy arrays, though they have slightly different commands. \n",
        "\n",
        "It is almost of note that lists can append an item 'in place', but numpy arrays cannot.\n",
        "\n",
        "my_list.append('new item')\n",
        "np.append(my_array, 5) # new element must be of the same type as all other elements\n",
        "\n"
      ]
    },
    {
      "cell_type": "code",
      "metadata": {
        "id": "UQxSXyoIuU9D"
      },
      "source": [
        "import numpy as np\n",
        "import pandas as pd\n",
        "import matplotlib as plt"
      ],
      "execution_count": 1,
      "outputs": []
    },
    {
      "cell_type": "code",
      "metadata": {
        "id": "NgO3nR4xvQCV"
      },
      "source": [
        "#List vs Array\n",
        "my_list=[1,2,3]\n",
        "my_array=np.array([1,2,3])"
      ],
      "execution_count": 2,
      "outputs": []
    },
    {
      "cell_type": "code",
      "metadata": {
        "colab": {
          "base_uri": "https://localhost:8080/"
        },
        "id": "vpk0sdFzvb5r",
        "outputId": "8147b4ac-8e18-422b-d4d7-aa7ee9e1c05c"
      },
      "source": [
        "#Both are indexed by Position\n",
        "print(my_list[0])\n",
        "print(my_array[0])"
      ],
      "execution_count": 4,
      "outputs": [
        {
          "output_type": "stream",
          "text": [
            "1\n",
            "1\n"
          ],
          "name": "stdout"
        }
      ]
    },
    {
      "cell_type": "code",
      "metadata": {
        "colab": {
          "base_uri": "https://localhost:8080/"
        },
        "id": "K14du41zviTa",
        "outputId": "c5bba48e-2097-4bdd-bb9c-97447bff767d"
      },
      "source": [
        "##print(my_list/3)##Does not work. You cannot divide a list.\n",
        "print(my_array/3)"
      ],
      "execution_count": 9,
      "outputs": [
        {
          "output_type": "stream",
          "text": [
            "[0.33333333 0.66666667 1.        ]\n"
          ],
          "name": "stdout"
        }
      ]
    },
    {
      "cell_type": "code",
      "metadata": {
        "id": "uAKmrWlovvg8"
      },
      "source": [
        "my_list.append(5)"
      ],
      "execution_count": 10,
      "outputs": []
    },
    {
      "cell_type": "code",
      "metadata": {
        "colab": {
          "base_uri": "https://localhost:8080/"
        },
        "id": "G_f4O5pJwJut",
        "outputId": "7a97f0b7-6132-4ed2-f4c8-aaac97d35210"
      },
      "source": [
        "my_list"
      ],
      "execution_count": 11,
      "outputs": [
        {
          "output_type": "execute_result",
          "data": {
            "text/plain": [
              "[1, 2, 3, 5]"
            ]
          },
          "metadata": {
            "tags": []
          },
          "execution_count": 11
        }
      ]
    },
    {
      "cell_type": "code",
      "metadata": {
        "id": "aI4dIxSXwKf-"
      },
      "source": [
        "my_array=np.append(my_array,5)"
      ],
      "execution_count": 12,
      "outputs": []
    },
    {
      "cell_type": "code",
      "metadata": {
        "colab": {
          "base_uri": "https://localhost:8080/"
        },
        "id": "2DysgwL_wSAF",
        "outputId": "48fde125-42e2-4f6c-c62e-dea0864b9d54"
      },
      "source": [
        "my_array"
      ],
      "execution_count": 13,
      "outputs": [
        {
          "output_type": "execute_result",
          "data": {
            "text/plain": [
              "array([1, 2, 3, 5])"
            ]
          },
          "metadata": {
            "tags": []
          },
          "execution_count": 13
        }
      ]
    },
    {
      "cell_type": "code",
      "metadata": {
        "id": "ME5_yTNzwSyN"
      },
      "source": [
        ""
      ],
      "execution_count": null,
      "outputs": []
    },
    {
      "cell_type": "markdown",
      "metadata": {
        "id": "1fKBtZKcwYpB"
      },
      "source": [
        "# **Dictionaries**\n",
        "Store key-values pairs and are indexed by the keys denoted with {key1: value1, key2: value2}. The keys must be unique, the values do not need to be unique. Can be used for many tasks, for example, creating DataFrames and changing Column Names."
      ]
    },
    {
      "cell_type": "code",
      "metadata": {
        "colab": {
          "base_uri": "https://localhost:8080/"
        },
        "id": "mmlLioHRwsuk",
        "outputId": "dea63756-dde3-463e-d642-12663270a67a"
      },
      "source": [
        "dct={'thing1':1,'thing2':2}\n",
        "dct['thing1']"
      ],
      "execution_count": 17,
      "outputs": [
        {
          "output_type": "execute_result",
          "data": {
            "text/plain": [
              "1"
            ]
          },
          "metadata": {
            "tags": []
          },
          "execution_count": 17
        }
      ]
    },
    {
      "cell_type": "code",
      "metadata": {
        "id": "MlGy5swfxkz1"
      },
      "source": [
        "dct['new thing']='woo'"
      ],
      "execution_count": 18,
      "outputs": []
    },
    {
      "cell_type": "code",
      "metadata": {
        "colab": {
          "base_uri": "https://localhost:8080/"
        },
        "id": "hwBrfECvHUW6",
        "outputId": "f77d5420-f110-4036-9381-b001e7a8014d"
      },
      "source": [
        "dct"
      ],
      "execution_count": 19,
      "outputs": [
        {
          "output_type": "execute_result",
          "data": {
            "text/plain": [
              "{'new thing': 'woo', 'thing1': 1, 'thing2': 2}"
            ]
          },
          "metadata": {
            "tags": []
          },
          "execution_count": 19
        }
      ]
    },
    {
      "cell_type": "code",
      "metadata": {
        "colab": {
          "base_uri": "https://localhost:8080/",
          "height": 35
        },
        "id": "dlTzo7YEHVYh",
        "outputId": "391ea27b-3fff-4d0a-e7e5-7df331444f42"
      },
      "source": [
        "dct['new thing']"
      ],
      "execution_count": 20,
      "outputs": [
        {
          "output_type": "execute_result",
          "data": {
            "application/vnd.google.colaboratory.intrinsic+json": {
              "type": "string"
            },
            "text/plain": [
              "'woo'"
            ]
          },
          "metadata": {
            "tags": []
          },
          "execution_count": 20
        }
      ]
    },
    {
      "cell_type": "code",
      "metadata": {
        "colab": {
          "base_uri": "https://localhost:8080/",
          "height": 136
        },
        "id": "FqdEHSPWHZ6w",
        "outputId": "cc91029f-d718-477b-b87f-87605c25b3a2"
      },
      "source": [
        "#create a data frame\n",
        "df=pd.DataFrame({'col1':range(3),'col2':range(3,6)})\n",
        "df"
      ],
      "execution_count": 24,
      "outputs": [
        {
          "output_type": "execute_result",
          "data": {
            "text/html": [
              "<div>\n",
              "<style scoped>\n",
              "    .dataframe tbody tr th:only-of-type {\n",
              "        vertical-align: middle;\n",
              "    }\n",
              "\n",
              "    .dataframe tbody tr th {\n",
              "        vertical-align: top;\n",
              "    }\n",
              "\n",
              "    .dataframe thead th {\n",
              "        text-align: right;\n",
              "    }\n",
              "</style>\n",
              "<table border=\"1\" class=\"dataframe\">\n",
              "  <thead>\n",
              "    <tr style=\"text-align: right;\">\n",
              "      <th></th>\n",
              "      <th>col1</th>\n",
              "      <th>col2</th>\n",
              "    </tr>\n",
              "  </thead>\n",
              "  <tbody>\n",
              "    <tr>\n",
              "      <th>0</th>\n",
              "      <td>0</td>\n",
              "      <td>3</td>\n",
              "    </tr>\n",
              "    <tr>\n",
              "      <th>1</th>\n",
              "      <td>1</td>\n",
              "      <td>4</td>\n",
              "    </tr>\n",
              "    <tr>\n",
              "      <th>2</th>\n",
              "      <td>2</td>\n",
              "      <td>5</td>\n",
              "    </tr>\n",
              "  </tbody>\n",
              "</table>\n",
              "</div>"
            ],
            "text/plain": [
              "   col1  col2\n",
              "0     0     3\n",
              "1     1     4\n",
              "2     2     5"
            ]
          },
          "metadata": {
            "tags": []
          },
          "execution_count": 24
        }
      ]
    },
    {
      "cell_type": "code",
      "metadata": {
        "id": "Ev5C3iVNHdBE"
      },
      "source": [
        "#change column Names\n",
        "df=df.rename(columns={'col1':'apples','col2':'oranges'})"
      ],
      "execution_count": 28,
      "outputs": []
    },
    {
      "cell_type": "code",
      "metadata": {
        "colab": {
          "base_uri": "https://localhost:8080/",
          "height": 136
        },
        "id": "ECNwZhKkIOCh",
        "outputId": "52afd502-b8f7-4bfe-e101-f435709a39b7"
      },
      "source": [
        "df"
      ],
      "execution_count": 29,
      "outputs": [
        {
          "output_type": "execute_result",
          "data": {
            "text/html": [
              "<div>\n",
              "<style scoped>\n",
              "    .dataframe tbody tr th:only-of-type {\n",
              "        vertical-align: middle;\n",
              "    }\n",
              "\n",
              "    .dataframe tbody tr th {\n",
              "        vertical-align: top;\n",
              "    }\n",
              "\n",
              "    .dataframe thead th {\n",
              "        text-align: right;\n",
              "    }\n",
              "</style>\n",
              "<table border=\"1\" class=\"dataframe\">\n",
              "  <thead>\n",
              "    <tr style=\"text-align: right;\">\n",
              "      <th></th>\n",
              "      <th>apples</th>\n",
              "      <th>oranges</th>\n",
              "    </tr>\n",
              "  </thead>\n",
              "  <tbody>\n",
              "    <tr>\n",
              "      <th>0</th>\n",
              "      <td>0</td>\n",
              "      <td>3</td>\n",
              "    </tr>\n",
              "    <tr>\n",
              "      <th>1</th>\n",
              "      <td>1</td>\n",
              "      <td>4</td>\n",
              "    </tr>\n",
              "    <tr>\n",
              "      <th>2</th>\n",
              "      <td>2</td>\n",
              "      <td>5</td>\n",
              "    </tr>\n",
              "  </tbody>\n",
              "</table>\n",
              "</div>"
            ],
            "text/plain": [
              "   apples  oranges\n",
              "0       0        3\n",
              "1       1        4\n",
              "2       2        5"
            ]
          },
          "metadata": {
            "tags": []
          },
          "execution_count": 29
        }
      ]
    },
    {
      "cell_type": "code",
      "metadata": {
        "id": "_hKrEffVIRtE"
      },
      "source": [
        ""
      ],
      "execution_count": null,
      "outputs": []
    }
  ]
}