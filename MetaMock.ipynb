{
  "nbformat": 4,
  "nbformat_minor": 0,
  "metadata": {
    "colab": {
      "name": "MetaMock.ipynb",
      "provenance": [],
      "authorship_tag": "ABX9TyNjfpjfnPdRBcXTfPdCbibi",
      "include_colab_link": true
    },
    "kernelspec": {
      "name": "python3",
      "display_name": "Python 3"
    },
    "language_info": {
      "name": "python"
    }
  },
  "cells": [
    {
      "cell_type": "markdown",
      "metadata": {
        "id": "view-in-github",
        "colab_type": "text"
      },
      "source": [
        "<a href=\"https://colab.research.google.com/github/arpitsharma27/PythonPractice/blob/main/MetaMock.ipynb\" target=\"_parent\"><img src=\"https://colab.research.google.com/assets/colab-badge.svg\" alt=\"Open In Colab\"/></a>"
      ]
    },
    {
      "cell_type": "code",
      "execution_count": null,
      "metadata": {
        "id": "viUx60zffN-a"
      },
      "outputs": [],
      "source": [
        "import random"
      ]
    },
    {
      "cell_type": "code",
      "source": [
        "l1=random.sample(range(1,10),8)"
      ],
      "metadata": {
        "id": "R3-dHNpFU7VF"
      },
      "execution_count": null,
      "outputs": []
    },
    {
      "cell_type": "code",
      "source": [
        "l1"
      ],
      "metadata": {
        "colab": {
          "base_uri": "https://localhost:8080/"
        },
        "id": "l_r44L8rVDo7",
        "outputId": "b2262bae-70dc-483d-b921-1c88598ab6c4"
      },
      "execution_count": null,
      "outputs": [
        {
          "output_type": "execute_result",
          "data": {
            "text/plain": [
              "[6, 5, 3, 2, 1, 7, 4, 9]"
            ]
          },
          "metadata": {},
          "execution_count": 14
        }
      ]
    },
    {
      "cell_type": "code",
      "source": [
        "l2=random.sample(range(1,10),5)\n",
        "l2"
      ],
      "metadata": {
        "colab": {
          "base_uri": "https://localhost:8080/"
        },
        "id": "QBB9jL4SVMy6",
        "outputId": "7f0c1e11-52ea-473b-a7fc-1fa4f1ae795b"
      },
      "execution_count": null,
      "outputs": [
        {
          "output_type": "execute_result",
          "data": {
            "text/plain": [
              "[4, 6, 5, 2, 7]"
            ]
          },
          "metadata": {},
          "execution_count": 20
        }
      ]
    },
    {
      "cell_type": "code",
      "source": [
        "print(set(l1) & set(l2))"
      ],
      "metadata": {
        "colab": {
          "base_uri": "https://localhost:8080/"
        },
        "id": "RrERyzP3VQzj",
        "outputId": "97d04f38-f3d2-4b2b-d7b3-47338f689d2d"
      },
      "execution_count": null,
      "outputs": [
        {
          "output_type": "stream",
          "name": "stdout",
          "text": [
            "{1, 2, 3, 5, 6, 7, 9}\n"
          ]
        }
      ]
    },
    {
      "cell_type": "code",
      "source": [
        "print(set(l1) ^ set(l2))"
      ],
      "metadata": {
        "colab": {
          "base_uri": "https://localhost:8080/"
        },
        "id": "wlkNJ_JIVWJi",
        "outputId": "8b78f5e2-12e1-40e1-a3fd-e4f0676aa1b7"
      },
      "execution_count": null,
      "outputs": [
        {
          "output_type": "stream",
          "name": "stdout",
          "text": [
            "{4, 8}\n"
          ]
        }
      ]
    },
    {
      "cell_type": "code",
      "source": [
        "l1= {'a':6, 'b':5, 'c':3, 'd':2, 'e':1, 'f':7, 'g':4, 'h':9}"
      ],
      "metadata": {
        "id": "uQJQT2i7ViLb"
      },
      "execution_count": 26,
      "outputs": []
    },
    {
      "cell_type": "code",
      "source": [
        "l2={'a':7, 'b':5, 'c':2, 'd':3, 'e':8}"
      ],
      "metadata": {
        "id": "Xinck-M0YKUG"
      },
      "execution_count": 27,
      "outputs": []
    },
    {
      "cell_type": "code",
      "source": [
        "op=[sum(val) for val in zip(l1.values(),l2.values())]"
      ],
      "metadata": {
        "id": "qtVKDGApZLXv"
      },
      "execution_count": 37,
      "outputs": []
    },
    {
      "cell_type": "code",
      "source": [
        "print(op)"
      ],
      "metadata": {
        "id": "df_A1PLRZOPH",
        "colab": {
          "base_uri": "https://localhost:8080/"
        },
        "outputId": "83a9c44e-9a88-4193-c093-d8764be31f2b"
      },
      "execution_count": 38,
      "outputs": [
        {
          "output_type": "stream",
          "name": "stdout",
          "text": [
            "[13, 10, 5, 5, 9]\n"
          ]
        }
      ]
    },
    {
      "cell_type": "code",
      "source": [
        "test = {'A': 1, 'B': 2, 'C': 3, 'G': 88}\n",
        "test2 = {'D': 5, 'E': 6, 'F': 7}\n",
        "\n",
        "x=zip(test.values(),test2.values())\n",
        "#\n",
        "op = [val[0]*val[1] for val in x]\n",
        "print(op)"
      ],
      "metadata": {
        "id": "XCAHYI06ZOtQ",
        "colab": {
          "base_uri": "https://localhost:8080/"
        },
        "outputId": "a4c4e6b1-fbe3-4c15-dfa6-eeeb9efd71af"
      },
      "execution_count": 48,
      "outputs": [
        {
          "output_type": "stream",
          "name": "stdout",
          "text": [
            "[5, 12, 21]\n"
          ]
        }
      ]
    },
    {
      "cell_type": "code",
      "source": [
        "print(list(x))"
      ],
      "metadata": {
        "id": "GqjmQnujZxqi",
        "outputId": "b09dc6ec-db04-4f19-baae-093176861936",
        "colab": {
          "base_uri": "https://localhost:8080/"
        }
      },
      "execution_count": 42,
      "outputs": [
        {
          "output_type": "stream",
          "name": "stdout",
          "text": [
            "[(1, 5), (2, 6), (3, 7)]\n"
          ]
        }
      ]
    },
    {
      "cell_type": "code",
      "source": [
        ""
      ],
      "metadata": {
        "id": "AfhtV0G-bs9A"
      },
      "execution_count": null,
      "outputs": []
    }
  ]
}