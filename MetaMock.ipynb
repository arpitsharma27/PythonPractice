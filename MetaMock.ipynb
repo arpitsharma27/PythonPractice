{
  "nbformat": 4,
  "nbformat_minor": 0,
  "metadata": {
    "colab": {
      "name": "MetaMock.ipynb",
      "provenance": [],
      "authorship_tag": "ABX9TyMBQ/rAjSjvxejwx1Bp2qvG",
      "include_colab_link": true
    },
    "kernelspec": {
      "name": "python3",
      "display_name": "Python 3"
    },
    "language_info": {
      "name": "python"
    }
  },
  "cells": [
    {
      "cell_type": "markdown",
      "metadata": {
        "id": "view-in-github",
        "colab_type": "text"
      },
      "source": [
        "<a href=\"https://colab.research.google.com/github/arpitsharma27/PythonPractice/blob/main/MetaMock.ipynb\" target=\"_parent\"><img src=\"https://colab.research.google.com/assets/colab-badge.svg\" alt=\"Open In Colab\"/></a>"
      ]
    },
    {
      "cell_type": "code",
      "execution_count": null,
      "metadata": {
        "id": "viUx60zffN-a"
      },
      "outputs": [],
      "source": [
        "import random"
      ]
    },
    {
      "cell_type": "code",
      "source": [
        "l1=random.sample(range(1,10),8)"
      ],
      "metadata": {
        "id": "R3-dHNpFU7VF"
      },
      "execution_count": null,
      "outputs": []
    },
    {
      "cell_type": "code",
      "source": [
        "l1"
      ],
      "metadata": {
        "colab": {
          "base_uri": "https://localhost:8080/"
        },
        "id": "l_r44L8rVDo7",
        "outputId": "b2262bae-70dc-483d-b921-1c88598ab6c4"
      },
      "execution_count": null,
      "outputs": [
        {
          "output_type": "execute_result",
          "data": {
            "text/plain": [
              "[6, 5, 3, 2, 1, 7, 4, 9]"
            ]
          },
          "metadata": {},
          "execution_count": 14
        }
      ]
    },
    {
      "cell_type": "code",
      "source": [
        "l2=random.sample(range(1,10),5)\n",
        "l2"
      ],
      "metadata": {
        "colab": {
          "base_uri": "https://localhost:8080/"
        },
        "id": "QBB9jL4SVMy6",
        "outputId": "7f0c1e11-52ea-473b-a7fc-1fa4f1ae795b"
      },
      "execution_count": null,
      "outputs": [
        {
          "output_type": "execute_result",
          "data": {
            "text/plain": [
              "[4, 6, 5, 2, 7]"
            ]
          },
          "metadata": {},
          "execution_count": 20
        }
      ]
    },
    {
      "cell_type": "code",
      "source": [
        "print(set(l1) & set(l2))"
      ],
      "metadata": {
        "colab": {
          "base_uri": "https://localhost:8080/"
        },
        "id": "RrERyzP3VQzj",
        "outputId": "97d04f38-f3d2-4b2b-d7b3-47338f689d2d"
      },
      "execution_count": null,
      "outputs": [
        {
          "output_type": "stream",
          "name": "stdout",
          "text": [
            "{1, 2, 3, 5, 6, 7, 9}\n"
          ]
        }
      ]
    },
    {
      "cell_type": "code",
      "source": [
        "print(set(l1) ^ set(l2))"
      ],
      "metadata": {
        "colab": {
          "base_uri": "https://localhost:8080/"
        },
        "id": "wlkNJ_JIVWJi",
        "outputId": "8b78f5e2-12e1-40e1-a3fd-e4f0676aa1b7"
      },
      "execution_count": null,
      "outputs": [
        {
          "output_type": "stream",
          "name": "stdout",
          "text": [
            "{4, 8}\n"
          ]
        }
      ]
    },
    {
      "cell_type": "code",
      "source": [
        "l1= {'a':6, 'b':5, 'c':3, 'd':2, 'e':1, 'f':7, 'g':4, 'h':9}"
      ],
      "metadata": {
        "id": "uQJQT2i7ViLb"
      },
      "execution_count": null,
      "outputs": []
    },
    {
      "cell_type": "code",
      "source": [
        "l2={'a':7, 'b':5, 'c':2, 'd':3, 'e':8}"
      ],
      "metadata": {
        "id": "Xinck-M0YKUG"
      },
      "execution_count": null,
      "outputs": []
    },
    {
      "cell_type": "code",
      "source": [
        "op=[sum(val) for val in zip(l1.values(),l2.values())]"
      ],
      "metadata": {
        "id": "qtVKDGApZLXv"
      },
      "execution_count": null,
      "outputs": []
    },
    {
      "cell_type": "code",
      "source": [
        "print(op)"
      ],
      "metadata": {
        "id": "df_A1PLRZOPH",
        "colab": {
          "base_uri": "https://localhost:8080/"
        },
        "outputId": "83a9c44e-9a88-4193-c093-d8764be31f2b"
      },
      "execution_count": null,
      "outputs": [
        {
          "output_type": "stream",
          "name": "stdout",
          "text": [
            "[13, 10, 5, 5, 9]\n"
          ]
        }
      ]
    },
    {
      "cell_type": "code",
      "source": [
        "test = {'A': 1, 'B': 2, 'C': 3, 'G': 88}\n",
        "test2 = {'D': 5, 'E': 6, 'F': 7}\n",
        "\n",
        "x=zip(test.values(),test2.values())\n",
        "#\n",
        "op = [val[0]*val[1] for val in x]\n",
        "print(op)"
      ],
      "metadata": {
        "id": "XCAHYI06ZOtQ",
        "colab": {
          "base_uri": "https://localhost:8080/"
        },
        "outputId": "a4c4e6b1-fbe3-4c15-dfa6-eeeb9efd71af"
      },
      "execution_count": null,
      "outputs": [
        {
          "output_type": "stream",
          "name": "stdout",
          "text": [
            "[5, 12, 21]\n"
          ]
        }
      ]
    },
    {
      "cell_type": "code",
      "source": [
        "print(list(x))"
      ],
      "metadata": {
        "colab": {
          "base_uri": "https://localhost:8080/"
        },
        "id": "GqjmQnujZxqi",
        "outputId": "b09dc6ec-db04-4f19-baae-093176861936"
      },
      "execution_count": null,
      "outputs": [
        {
          "output_type": "stream",
          "name": "stdout",
          "text": [
            "[(1, 5), (2, 6), (3, 7)]\n"
          ]
        }
      ]
    },
    {
      "cell_type": "code",
      "source": [
        "test = ['None', 'Hello', 'None', 'Akshay', 'None', 'None', 'Here']\n",
        "test = ['None', 'Hello']\n",
        "test = ['None', 'Hello','None']"
      ],
      "metadata": {
        "id": "AfhtV0G-bs9A"
      },
      "execution_count": 89,
      "outputs": []
    },
    {
      "cell_type": "code",
      "source": [
        "def fill_blanks(item):\n",
        "  for i in range(len(item)):\n",
        "    if item[i]=='None':\n",
        "      item[i]=item[i-1]\n",
        "  return item"
      ],
      "metadata": {
        "id": "B2IC3g_PdzUU"
      },
      "execution_count": 90,
      "outputs": []
    },
    {
      "cell_type": "code",
      "source": [
        "fill_blanks(test)"
      ],
      "metadata": {
        "colab": {
          "base_uri": "https://localhost:8080/"
        },
        "id": "fxbMJ9zde2Yu",
        "outputId": "cfeaf948-a344-45cc-d4e2-04b1c929f50b"
      },
      "execution_count": 91,
      "outputs": [
        {
          "output_type": "execute_result",
          "data": {
            "text/plain": [
              "['None', 'Hello', 'Hello']"
            ]
          },
          "metadata": {},
          "execution_count": 91
        }
      ]
    },
    {
      "cell_type": "code",
      "source": [
        "def fill_blanks(item):\n",
        "  for i,e in enumerate(item[:-1],1):\n",
        "    if item[i]=='None':\n",
        "      item[i]=item[i-1]\n",
        "  return item"
      ],
      "metadata": {
        "id": "kztJzAyge4Uu"
      },
      "execution_count": null,
      "outputs": []
    },
    {
      "cell_type": "code",
      "source": [
        "test = ['None', 'Hello', 'None', 'Akshay', 'None', 'None', 'Here']\n",
        "# test = ['None', 'Hello']\n",
        "# test = ['None', 'Hello','None']\n",
        "# test = ['None']"
      ],
      "metadata": {
        "id": "dCWuHTq2ffb3"
      },
      "execution_count": 86,
      "outputs": []
    },
    {
      "cell_type": "code",
      "source": [
        "def fill_b(item):\n",
        "  for x in range(len(item)):\n",
        "    if item[x]=='None':\n",
        "      item[x]==item[x-1]\n",
        "  return item"
      ],
      "metadata": {
        "id": "WjBEubyFgk5G"
      },
      "execution_count": 87,
      "outputs": []
    },
    {
      "cell_type": "code",
      "source": [
        "fill_b(test)"
      ],
      "metadata": {
        "colab": {
          "base_uri": "https://localhost:8080/"
        },
        "id": "HmU_cdayhAJm",
        "outputId": "ac656d16-671a-447a-f806-089fa27df395"
      },
      "execution_count": 88,
      "outputs": [
        {
          "output_type": "execute_result",
          "data": {
            "text/plain": [
              "['None', 'Hello', 'None', 'Akshay', 'None', 'None', 'Here']"
            ]
          },
          "metadata": {},
          "execution_count": 88
        }
      ]
    },
    {
      "cell_type": "code",
      "source": [
        "List = [5,4,3,1,1]"
      ],
      "metadata": {
        "id": "WJDUR9IwhB2e"
      },
      "execution_count": null,
      "outputs": []
    },
    {
      "cell_type": "code",
      "source": [
        "true_list = [5,4,3,1,1]\n",
        "true_list1=list[::-1]\n",
        "\n",
        "f_list = [5,4,9,1,1]\n",
        "f_list1=f_list[::-1]"
      ],
      "metadata": {
        "id": "N9asFJz-jmlu"
      },
      "execution_count": 74,
      "outputs": []
    },
    {
      "cell_type": "code",
      "source": [
        "def isMonotonic(item):\n",
        "  if len(item)==1:\n",
        "    return True\n",
        "  else:\n",
        "    if all(item[x]<=item[x+1]  for x in range(0,len(item)-1) or \n",
        "           item[x]>=item[x+1] for x in range(0,len(item)-1) ):\n",
        "        return True\n",
        "    else:\n",
        "      return False"
      ],
      "metadata": {
        "id": "9ZogR84JjoVs"
      },
      "execution_count": 75,
      "outputs": []
    },
    {
      "cell_type": "code",
      "source": [
        "print(true_list)\n",
        "print(isMonotonic(true_list))\n",
        "print(true_list1)\n",
        "print(isMonotonic(true_list1))\n",
        "print(f_list)\n",
        "print(isMonotonic(f_list))\n",
        "print(f_list1)\n",
        "print(isMonotonic(f_list1))"
      ],
      "metadata": {
        "id": "_cdvm5MkkVtd",
        "outputId": "2cbae052-eb11-4ea0-cb2b-56816be66f2d",
        "colab": {
          "base_uri": "https://localhost:8080/"
        }
      },
      "execution_count": 76,
      "outputs": [
        {
          "output_type": "stream",
          "name": "stdout",
          "text": [
            "[5, 4, 3, 1, 1]\n",
            "False\n",
            "[1, 1, 3, 4, 5]\n",
            "True\n",
            "[5, 4, 9, 1, 1]\n",
            "False\n",
            "[1, 1, 9, 4, 5]\n",
            "False\n"
          ]
        }
      ]
    },
    {
      "cell_type": "code",
      "source": [
        "def isMonotonic(A):\n",
        "  \n",
        "    return all((A[i] <= A[i + 1] for i in range(len(A) - 1)) or\n",
        "               (A[i] >= A[i + 1] for i in range(len(A) - 1)))"
      ],
      "metadata": {
        "id": "Pqc280dEkXP0"
      },
      "execution_count": 68,
      "outputs": []
    },
    {
      "cell_type": "code",
      "source": [
        "print(true_list)\n",
        "print(isotonic(true_list))\n",
        "print(true_list1)\n",
        "print(isotonic(true_list1))\n",
        "print(f_list)\n",
        "print(isotonic(f_list))\n",
        "print(f_list1)\n",
        "print(isotonic(f_list1))"
      ],
      "metadata": {
        "id": "Ow_XYCRRuauH",
        "outputId": "706db710-12af-486f-eb73-84bc71ddb929",
        "colab": {
          "base_uri": "https://localhost:8080/"
        }
      },
      "execution_count": 69,
      "outputs": [
        {
          "output_type": "stream",
          "name": "stdout",
          "text": [
            "[5, 4, 3, 1, 1]\n",
            "False\n",
            "[1, 1, 3, 4, 5]\n",
            "True\n",
            "[5, 4, 9, 1, 1]\n",
            "False\n",
            "[1, 1, 9, 4, 5]\n",
            "False\n"
          ]
        }
      ]
    },
    {
      "cell_type": "code",
      "source": [
        "test = ['None', 'Hello', 'None', 'Akshay', 'None', 'None', 'Here']"
      ],
      "metadata": {
        "id": "gbDzdW0Lucvu"
      },
      "execution_count": 114,
      "outputs": []
    },
    {
      "cell_type": "code",
      "source": [
        "def fill_blank(item):\n",
        "  for i in range(len(item)):\n",
        "    if i==0:\n",
        "      item[i]=item[i]\n",
        "    else:\n",
        "      if item[i]=='None':\n",
        "        item[i]=item[i-1]\n",
        "  return item"
      ],
      "metadata": {
        "id": "V8BAouOixUS8"
      },
      "execution_count": 115,
      "outputs": []
    },
    {
      "cell_type": "code",
      "source": [
        "fill_blank(test)"
      ],
      "metadata": {
        "id": "Ev046TWcxmd1",
        "outputId": "0e227f60-d043-4775-9a07-ba3f7e376705",
        "colab": {
          "base_uri": "https://localhost:8080/"
        }
      },
      "execution_count": 116,
      "outputs": [
        {
          "output_type": "execute_result",
          "data": {
            "text/plain": [
              "['None', 'Hello', 'Hello', 'Akshay', 'Akshay', 'Akshay', 'Here']"
            ]
          },
          "metadata": {},
          "execution_count": 116
        }
      ]
    },
    {
      "cell_type": "code",
      "source": [
        "def fill_blanks(item):\n",
        "  for i in range(len(item)):\n",
        "    if item[i]=='None':\n",
        "      item[i]=item[i-1]\n",
        "  return item"
      ],
      "metadata": {
        "id": "L9XiDoSNxn61"
      },
      "execution_count": 101,
      "outputs": []
    },
    {
      "cell_type": "code",
      "source": [
        "fill_blanks(test)"
      ],
      "metadata": {
        "id": "h13j__pZyYed",
        "outputId": "a5cf42b4-f33c-496e-98d1-a474a92649e7",
        "colab": {
          "base_uri": "https://localhost:8080/"
        }
      },
      "execution_count": 102,
      "outputs": [
        {
          "output_type": "execute_result",
          "data": {
            "text/plain": [
              "['Here', 'Hello', 'Hello', 'Akshay', 'Akshay', 'Akshay', 'Here']"
            ]
          },
          "metadata": {},
          "execution_count": 102
        }
      ]
    },
    {
      "cell_type": "code",
      "source": [
        ""
      ],
      "metadata": {
        "id": "nzhgxh06ybFU"
      },
      "execution_count": null,
      "outputs": []
    }
  ]
}