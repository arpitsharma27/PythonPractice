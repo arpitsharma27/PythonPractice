{
  "nbformat": 4,
  "nbformat_minor": 0,
  "metadata": {
    "colab": {
      "name": "MetaMock.ipynb",
      "provenance": [],
      "authorship_tag": "ABX9TyNiTcm9OHlZ8v5OyWqpCp8v",
      "include_colab_link": true
    },
    "kernelspec": {
      "name": "python3",
      "display_name": "Python 3"
    },
    "language_info": {
      "name": "python"
    }
  },
  "cells": [
    {
      "cell_type": "markdown",
      "metadata": {
        "id": "view-in-github",
        "colab_type": "text"
      },
      "source": [
        "<a href=\"https://colab.research.google.com/github/arpitsharma27/PythonPractice/blob/main/MetaMock.ipynb\" target=\"_parent\"><img src=\"https://colab.research.google.com/assets/colab-badge.svg\" alt=\"Open In Colab\"/></a>"
      ]
    },
    {
      "cell_type": "code",
      "execution_count": null,
      "metadata": {
        "id": "viUx60zffN-a"
      },
      "outputs": [],
      "source": [
        "import random"
      ]
    },
    {
      "cell_type": "code",
      "source": [
        "l1=random.sample(range(1,10),8)"
      ],
      "metadata": {
        "id": "R3-dHNpFU7VF"
      },
      "execution_count": null,
      "outputs": []
    },
    {
      "cell_type": "code",
      "source": [
        "l1"
      ],
      "metadata": {
        "colab": {
          "base_uri": "https://localhost:8080/"
        },
        "id": "l_r44L8rVDo7",
        "outputId": "b2262bae-70dc-483d-b921-1c88598ab6c4"
      },
      "execution_count": null,
      "outputs": [
        {
          "output_type": "execute_result",
          "data": {
            "text/plain": [
              "[6, 5, 3, 2, 1, 7, 4, 9]"
            ]
          },
          "metadata": {},
          "execution_count": 14
        }
      ]
    },
    {
      "cell_type": "code",
      "source": [
        "l2=random.sample(range(1,10),5)\n",
        "l2"
      ],
      "metadata": {
        "colab": {
          "base_uri": "https://localhost:8080/"
        },
        "id": "QBB9jL4SVMy6",
        "outputId": "7f0c1e11-52ea-473b-a7fc-1fa4f1ae795b"
      },
      "execution_count": null,
      "outputs": [
        {
          "output_type": "execute_result",
          "data": {
            "text/plain": [
              "[4, 6, 5, 2, 7]"
            ]
          },
          "metadata": {},
          "execution_count": 20
        }
      ]
    },
    {
      "cell_type": "code",
      "source": [
        "print(set(l1) & set(l2))"
      ],
      "metadata": {
        "colab": {
          "base_uri": "https://localhost:8080/"
        },
        "id": "RrERyzP3VQzj",
        "outputId": "97d04f38-f3d2-4b2b-d7b3-47338f689d2d"
      },
      "execution_count": null,
      "outputs": [
        {
          "output_type": "stream",
          "name": "stdout",
          "text": [
            "{1, 2, 3, 5, 6, 7, 9}\n"
          ]
        }
      ]
    },
    {
      "cell_type": "code",
      "source": [
        "print(set(l1) ^ set(l2))"
      ],
      "metadata": {
        "colab": {
          "base_uri": "https://localhost:8080/"
        },
        "id": "wlkNJ_JIVWJi",
        "outputId": "8b78f5e2-12e1-40e1-a3fd-e4f0676aa1b7"
      },
      "execution_count": null,
      "outputs": [
        {
          "output_type": "stream",
          "name": "stdout",
          "text": [
            "{4, 8}\n"
          ]
        }
      ]
    },
    {
      "cell_type": "code",
      "source": [
        "l1= {'a':6, 'b':5, 'c':3, 'd':2, 'e':1, 'f':7, 'g':4, 'h':9}"
      ],
      "metadata": {
        "id": "uQJQT2i7ViLb"
      },
      "execution_count": null,
      "outputs": []
    },
    {
      "cell_type": "code",
      "source": [
        "l1= {'a':6, 'b':5, 'c':3, 'd':2, 'e':1, 'f':7, 'g':4, 'h':9}\n",
        "l2={'a':7, 'b':5, 'c':2, 'd':3, 'e':8}"
      ],
      "metadata": {
        "id": "Xinck-M0YKUG"
      },
      "execution_count": null,
      "outputs": []
    },
    {
      "cell_type": "code",
      "source": [
        "op=[sum(val) for val in zip(l1.values(),l2.values())]"
      ],
      "metadata": {
        "id": "qtVKDGApZLXv"
      },
      "execution_count": null,
      "outputs": []
    },
    {
      "cell_type": "code",
      "source": [
        "print(op)"
      ],
      "metadata": {
        "id": "df_A1PLRZOPH",
        "colab": {
          "base_uri": "https://localhost:8080/"
        },
        "outputId": "83a9c44e-9a88-4193-c093-d8764be31f2b"
      },
      "execution_count": null,
      "outputs": [
        {
          "output_type": "stream",
          "name": "stdout",
          "text": [
            "[13, 10, 5, 5, 9]\n"
          ]
        }
      ]
    },
    {
      "cell_type": "code",
      "source": [
        "test = {'A': 1, 'B': 2, 'C': 3, 'G': 88}\n",
        "test2 = {'D': 5, 'E': 6, 'F': 7}\n",
        "\n",
        "x=zip(test.values(),test2.values())\n",
        "#\n",
        "op = [val[0]*val[1] for val in x]\n",
        "print(op)"
      ],
      "metadata": {
        "id": "XCAHYI06ZOtQ",
        "colab": {
          "base_uri": "https://localhost:8080/"
        },
        "outputId": "a4c4e6b1-fbe3-4c15-dfa6-eeeb9efd71af"
      },
      "execution_count": null,
      "outputs": [
        {
          "output_type": "stream",
          "name": "stdout",
          "text": [
            "[5, 12, 21]\n"
          ]
        }
      ]
    },
    {
      "cell_type": "code",
      "source": [
        "print(list(x))"
      ],
      "metadata": {
        "colab": {
          "base_uri": "https://localhost:8080/"
        },
        "id": "GqjmQnujZxqi",
        "outputId": "b09dc6ec-db04-4f19-baae-093176861936"
      },
      "execution_count": null,
      "outputs": [
        {
          "output_type": "stream",
          "name": "stdout",
          "text": [
            "[(1, 5), (2, 6), (3, 7)]\n"
          ]
        }
      ]
    },
    {
      "cell_type": "code",
      "source": [
        "test = ['None', 'Hello', 'None', 'Akshay', 'None', 'None', 'Here']\n",
        "test = ['None', 'Hello']\n",
        "test = ['None', 'Hello','None']"
      ],
      "metadata": {
        "id": "AfhtV0G-bs9A"
      },
      "execution_count": null,
      "outputs": []
    },
    {
      "cell_type": "code",
      "source": [
        "def fill_blanks(item):\n",
        "  for i in range(len(item)):\n",
        "    if item[i]=='None':\n",
        "      item[i]=item[i-1]\n",
        "  return item"
      ],
      "metadata": {
        "id": "B2IC3g_PdzUU"
      },
      "execution_count": null,
      "outputs": []
    },
    {
      "cell_type": "code",
      "source": [
        "fill_blanks(test)"
      ],
      "metadata": {
        "colab": {
          "base_uri": "https://localhost:8080/"
        },
        "id": "fxbMJ9zde2Yu",
        "outputId": "cfeaf948-a344-45cc-d4e2-04b1c929f50b"
      },
      "execution_count": null,
      "outputs": [
        {
          "output_type": "execute_result",
          "data": {
            "text/plain": [
              "['None', 'Hello', 'Hello']"
            ]
          },
          "metadata": {},
          "execution_count": 91
        }
      ]
    },
    {
      "cell_type": "code",
      "source": [
        "def fill_blanks(item):\n",
        "  for i,e in enumerate(item[:-1],1):\n",
        "    if item[i]=='None':\n",
        "      item[i]=item[i-1]\n",
        "  return item"
      ],
      "metadata": {
        "id": "kztJzAyge4Uu"
      },
      "execution_count": null,
      "outputs": []
    },
    {
      "cell_type": "code",
      "source": [
        "test = ['None', 'Hello', 'None', 'Akshay', 'None', 'None', 'Here']\n",
        "# test = ['None', 'Hello']\n",
        "# test = ['None', 'Hello','None']\n",
        "# test = ['None']"
      ],
      "metadata": {
        "id": "dCWuHTq2ffb3"
      },
      "execution_count": null,
      "outputs": []
    },
    {
      "cell_type": "code",
      "source": [
        "def fill_b(item):\n",
        "  for x in range(len(item)):\n",
        "    if item[x]=='None':\n",
        "      item[x]==item[x-1]\n",
        "  return item"
      ],
      "metadata": {
        "id": "WjBEubyFgk5G"
      },
      "execution_count": null,
      "outputs": []
    },
    {
      "cell_type": "code",
      "source": [
        "fill_b(test)"
      ],
      "metadata": {
        "colab": {
          "base_uri": "https://localhost:8080/"
        },
        "id": "HmU_cdayhAJm",
        "outputId": "ac656d16-671a-447a-f806-089fa27df395"
      },
      "execution_count": null,
      "outputs": [
        {
          "output_type": "execute_result",
          "data": {
            "text/plain": [
              "['None', 'Hello', 'None', 'Akshay', 'None', 'None', 'Here']"
            ]
          },
          "metadata": {},
          "execution_count": 88
        }
      ]
    },
    {
      "cell_type": "code",
      "source": [
        "List = [5,4,3,1,1]"
      ],
      "metadata": {
        "id": "WJDUR9IwhB2e"
      },
      "execution_count": null,
      "outputs": []
    },
    {
      "cell_type": "code",
      "source": [
        "true_list = [5,4,3,1,1]\n",
        "true_list1=list[::-1]\n",
        "\n",
        "f_list = [5,4,9,1,1]\n",
        "f_list1=f_list[::-1]"
      ],
      "metadata": {
        "id": "N9asFJz-jmlu"
      },
      "execution_count": null,
      "outputs": []
    },
    {
      "cell_type": "code",
      "source": [
        "def isMonotonic(item):\n",
        "  if len(item)==1:\n",
        "    return True\n",
        "  else:\n",
        "    if all(item[x]<=item[x+1]  for x in range(0,len(item)-1) or \n",
        "           item[x]>=item[x+1] for x in range(0,len(item)-1) ):\n",
        "        return True\n",
        "    else:\n",
        "      return False"
      ],
      "metadata": {
        "id": "9ZogR84JjoVs"
      },
      "execution_count": null,
      "outputs": []
    },
    {
      "cell_type": "code",
      "source": [
        "print(true_list)\n",
        "print(isMonotonic(true_list))\n",
        "print(true_list1)\n",
        "print(isMonotonic(true_list1))\n",
        "print(f_list)\n",
        "print(isMonotonic(f_list))\n",
        "print(f_list1)\n",
        "print(isMonotonic(f_list1))"
      ],
      "metadata": {
        "colab": {
          "base_uri": "https://localhost:8080/"
        },
        "id": "_cdvm5MkkVtd",
        "outputId": "2cbae052-eb11-4ea0-cb2b-56816be66f2d"
      },
      "execution_count": null,
      "outputs": [
        {
          "output_type": "stream",
          "name": "stdout",
          "text": [
            "[5, 4, 3, 1, 1]\n",
            "False\n",
            "[1, 1, 3, 4, 5]\n",
            "True\n",
            "[5, 4, 9, 1, 1]\n",
            "False\n",
            "[1, 1, 9, 4, 5]\n",
            "False\n"
          ]
        }
      ]
    },
    {
      "cell_type": "code",
      "source": [
        "def isMonotonic(A):\n",
        "  \n",
        "    return all((A[i] <= A[i + 1] for i in range(len(A) - 1)) or\n",
        "               (A[i] >= A[i + 1] for i in range(len(A) - 1)))"
      ],
      "metadata": {
        "id": "Pqc280dEkXP0"
      },
      "execution_count": null,
      "outputs": []
    },
    {
      "cell_type": "code",
      "source": [
        "print(true_list)\n",
        "print(isotonic(true_list))\n",
        "print(true_list1)\n",
        "print(isotonic(true_list1))\n",
        "print(f_list)\n",
        "print(isotonic(f_list))\n",
        "print(f_list1)\n",
        "print(isotonic(f_list1))"
      ],
      "metadata": {
        "colab": {
          "base_uri": "https://localhost:8080/"
        },
        "id": "Ow_XYCRRuauH",
        "outputId": "706db710-12af-486f-eb73-84bc71ddb929"
      },
      "execution_count": null,
      "outputs": [
        {
          "output_type": "stream",
          "name": "stdout",
          "text": [
            "[5, 4, 3, 1, 1]\n",
            "False\n",
            "[1, 1, 3, 4, 5]\n",
            "True\n",
            "[5, 4, 9, 1, 1]\n",
            "False\n",
            "[1, 1, 9, 4, 5]\n",
            "False\n"
          ]
        }
      ]
    },
    {
      "cell_type": "code",
      "source": [
        "test = ['None', 'Hello', 'None', 'Akshay', 'None', 'None', 'Here']"
      ],
      "metadata": {
        "id": "gbDzdW0Lucvu"
      },
      "execution_count": null,
      "outputs": []
    },
    {
      "cell_type": "code",
      "source": [
        "def fill_blank(item):\n",
        "  for i in range(len(item)):\n",
        "    if i==0:\n",
        "      item[i]=item[i]\n",
        "    else:\n",
        "      if item[i]=='None':\n",
        "        item[i]=item[i-1]\n",
        "  return item"
      ],
      "metadata": {
        "id": "V8BAouOixUS8"
      },
      "execution_count": null,
      "outputs": []
    },
    {
      "cell_type": "code",
      "source": [
        "fill_blank(test)"
      ],
      "metadata": {
        "colab": {
          "base_uri": "https://localhost:8080/"
        },
        "id": "Ev046TWcxmd1",
        "outputId": "0e227f60-d043-4775-9a07-ba3f7e376705"
      },
      "execution_count": null,
      "outputs": [
        {
          "output_type": "execute_result",
          "data": {
            "text/plain": [
              "['None', 'Hello', 'Hello', 'Akshay', 'Akshay', 'Akshay', 'Here']"
            ]
          },
          "metadata": {},
          "execution_count": 116
        }
      ]
    },
    {
      "cell_type": "code",
      "source": [
        "def fill_blanks(item):\n",
        "  for i in range(len(item)):\n",
        "    if item[i]=='None':\n",
        "      item[i]=item[i-1]\n",
        "  return item"
      ],
      "metadata": {
        "id": "L9XiDoSNxn61"
      },
      "execution_count": null,
      "outputs": []
    },
    {
      "cell_type": "code",
      "source": [
        "fill_blanks(test)"
      ],
      "metadata": {
        "colab": {
          "base_uri": "https://localhost:8080/"
        },
        "id": "h13j__pZyYed",
        "outputId": "a5cf42b4-f33c-496e-98d1-a474a92649e7"
      },
      "execution_count": null,
      "outputs": [
        {
          "output_type": "execute_result",
          "data": {
            "text/plain": [
              "['Here', 'Hello', 'Hello', 'Akshay', 'Akshay', 'Akshay', 'Here']"
            ]
          },
          "metadata": {},
          "execution_count": 102
        }
      ]
    },
    {
      "cell_type": "code",
      "source": [
        "test = {'A': 1, 'B': 2, 'C': 3, 'G': 88}\n",
        "test2 = {'D': 5, 'E': 6, 'C': 3}"
      ],
      "metadata": {
        "id": "nzhgxh06ybFU"
      },
      "execution_count": null,
      "outputs": []
    },
    {
      "cell_type": "code",
      "source": [
        "op=[val[0]**val[1] for val in zip(test.values(),test2.values())]\n",
        "# op=[sum(val) for val in zip(l1.values(),l2.values())]"
      ],
      "metadata": {
        "id": "IVJnG9QH2cHq"
      },
      "execution_count": null,
      "outputs": []
    },
    {
      "cell_type": "code",
      "source": [
        "print(op)"
      ],
      "metadata": {
        "id": "VH00tpD52mb6",
        "outputId": "0e80cbc8-886d-4186-b2c9-ed63d274c5c7",
        "colab": {
          "base_uri": "https://localhost:8080/"
        }
      },
      "execution_count": null,
      "outputs": [
        {
          "output_type": "stream",
          "name": "stdout",
          "text": [
            "[1, 64, 27]\n"
          ]
        }
      ]
    },
    {
      "cell_type": "code",
      "source": [
        "s=set(test)"
      ],
      "metadata": {
        "id": "tKA6_9ep2nWK"
      },
      "execution_count": null,
      "outputs": []
    },
    {
      "cell_type": "code",
      "source": [
        "s=[set(test.values()) & set(test2.values())]"
      ],
      "metadata": {
        "id": "P4E7MflG3SKL"
      },
      "execution_count": null,
      "outputs": []
    },
    {
      "cell_type": "code",
      "source": [
        "print(s)"
      ],
      "metadata": {
        "id": "wvuHP7rf3Xu6",
        "outputId": "de503379-3440-4750-db4d-90ad060209df",
        "colab": {
          "base_uri": "https://localhost:8080/"
        }
      },
      "execution_count": null,
      "outputs": [
        {
          "output_type": "stream",
          "name": "stdout",
          "text": [
            "[{3}]\n"
          ]
        }
      ]
    },
    {
      "cell_type": "code",
      "source": [
        "l1=[5, 5, 1, 1, 1, 1, 1, 1]\n",
        "l2=[4, 4, 2, 2, 2, 2, 2, 1]"
      ],
      "metadata": {
        "id": "T4YM_8iM3YmC"
      },
      "execution_count": null,
      "outputs": []
    },
    {
      "cell_type": "code",
      "source": [
        "op=zip(l1,l2)\n",
        "print(list(op))"
      ],
      "metadata": {
        "id": "eJnJveim4dt0",
        "outputId": "f6ad63e2-d7e0-476d-986b-ce24467d6597",
        "colab": {
          "base_uri": "https://localhost:8080/"
        }
      },
      "execution_count": null,
      "outputs": [
        {
          "output_type": "stream",
          "name": "stdout",
          "text": [
            "[(5, 4), (5, 4), (1, 2), (1, 2), (1, 2), (1, 2), (1, 2), (1, 1)]\n"
          ]
        }
      ]
    },
    {
      "cell_type": "code",
      "source": [
        "product=[val[0]*val[1] for val in zip(l1,l2)]"
      ],
      "metadata": {
        "id": "N7xitvah496H"
      },
      "execution_count": null,
      "outputs": []
    },
    {
      "cell_type": "code",
      "source": [
        "product"
      ],
      "metadata": {
        "id": "GNaMhUdD4_X9",
        "outputId": "e690f889-3edc-415b-9535-59d78600780e",
        "colab": {
          "base_uri": "https://localhost:8080/"
        }
      },
      "execution_count": null,
      "outputs": [
        {
          "output_type": "execute_result",
          "data": {
            "text/plain": [
              "[20, 20, 2, 2, 2, 2, 2, 1]"
            ]
          },
          "metadata": {},
          "execution_count": 7
        }
      ]
    },
    {
      "cell_type": "code",
      "source": [
        "l1=[0,1,2,3,4] #= true;\n",
        "l2=[4,2,1,0,3] #= true;\n",
        "l3=[0,1,5,2,4] #= false;"
      ],
      "metadata": {
        "id": "DWN9P26s5nNc"
      },
      "execution_count": null,
      "outputs": []
    },
    {
      "cell_type": "code",
      "source": [
        "print(len(l2)>max(l2))"
      ],
      "metadata": {
        "id": "TtatuFXg6p4K",
        "outputId": "c0c656dd-69a7-4bdf-b5bc-177214964e44",
        "colab": {
          "base_uri": "https://localhost:8080/"
        }
      },
      "execution_count": null,
      "outputs": [
        {
          "output_type": "stream",
          "name": "stdout",
          "text": [
            "True\n"
          ]
        }
      ]
    },
    {
      "cell_type": "code",
      "source": [
        "# Find Peak Element\n",
        "nums = [1,2,3,1]\n",
        "print(nums.index(min(nums)))"
      ],
      "metadata": {
        "id": "bTn7VqO66yYk",
        "outputId": "07f87a15-a99f-415e-d03d-4a13b6f61b48",
        "colab": {
          "base_uri": "https://localhost:8080/"
        }
      },
      "execution_count": null,
      "outputs": [
        {
          "output_type": "stream",
          "name": "stdout",
          "text": [
            "0\n"
          ]
        }
      ]
    },
    {
      "cell_type": "code",
      "source": [
        "# 1249. Minimum Remove to Make Valid Parentheses"
      ],
      "metadata": {
        "id": "RUgcTkoY8dmL"
      },
      "execution_count": null,
      "outputs": []
    },
    {
      "cell_type": "code",
      "source": [
        "test = ['None', 'Hello', 'None', 'Akshay', 'None', 'None', 'Here']"
      ],
      "metadata": {
        "id": "HjM0p6AmEDy2"
      },
      "execution_count": null,
      "outputs": []
    },
    {
      "cell_type": "code",
      "source": [
        "def fillblank(list):\n",
        "  for x in range(len(list)):\n",
        "    if x==0:\n",
        "      list[x]=list[x]\n",
        "    else:\n",
        "      if list[x]=='None':\n",
        "        list[x]=list[x-1]\n",
        "  return list"
      ],
      "metadata": {
        "id": "-mmL7seIEEXd"
      },
      "execution_count": null,
      "outputs": []
    },
    {
      "cell_type": "code",
      "source": [
        "fillblank(test)"
      ],
      "metadata": {
        "id": "E0kPs1MPEgTm",
        "outputId": "5f0bfd9a-f6ba-4fc5-fc63-4504f9206e88",
        "colab": {
          "base_uri": "https://localhost:8080/"
        }
      },
      "execution_count": null,
      "outputs": [
        {
          "output_type": "execute_result",
          "data": {
            "text/plain": [
              "['None', 'Hello', 'Hello', 'Akshay', 'Akshay', 'Akshay', 'Here']"
            ]
          },
          "metadata": {},
          "execution_count": 25
        }
      ]
    },
    {
      "cell_type": "code",
      "source": [
        "l1= {'a':6, 'b':5, 'c':3, 'd':2, 'e':1, 'f':7, 'g':4, 'h':9}\n",
        "l2={'a':7, 'b':5, 'c':2, 'd':3, 'e':8}"
      ],
      "metadata": {
        "id": "gCgPnZ3JEhy9"
      },
      "execution_count": null,
      "outputs": []
    },
    {
      "cell_type": "code",
      "source": [
        "z=zip(l1.values(),l2.values())\n",
        "print(list(z))"
      ],
      "metadata": {
        "id": "vCENLL0R7Xd8",
        "outputId": "05ae1bf3-18ad-4ebf-97ee-e01928da2d51",
        "colab": {
          "base_uri": "https://localhost:8080/"
        }
      },
      "execution_count": null,
      "outputs": [
        {
          "output_type": "stream",
          "name": "stdout",
          "text": [
            "[(6, 7), (5, 5), (3, 2), (2, 3), (1, 8)]\n",
            "[]\n"
          ]
        }
      ]
    },
    {
      "cell_type": "code",
      "source": [
        "print(list(zip(l1.values(),l2.values())))\n",
        "print(list(zip(l1.values(),l2.values())))\n",
        "print(list(zip(l1.values(),l2.values())))\n",
        "print(list(zip(l1.values(),l2.values())))\n",
        "print(list(zip(l1.values(),l2.values())))\n",
        "print(list(zip(l1.values(),l2.values())))"
      ],
      "metadata": {
        "id": "GvQgHuCM7oAc",
        "outputId": "8671338c-4819-45f5-dd74-b03b8c776db4",
        "colab": {
          "base_uri": "https://localhost:8080/"
        }
      },
      "execution_count": null,
      "outputs": [
        {
          "output_type": "stream",
          "name": "stdout",
          "text": [
            "[(6, 7), (5, 5), (3, 2), (2, 3), (1, 8)]\n",
            "[(6, 7), (5, 5), (3, 2), (2, 3), (1, 8)]\n",
            "[(6, 7), (5, 5), (3, 2), (2, 3), (1, 8)]\n",
            "[(6, 7), (5, 5), (3, 2), (2, 3), (1, 8)]\n",
            "[(6, 7), (5, 5), (3, 2), (2, 3), (1, 8)]\n",
            "[(6, 7), (5, 5), (3, 2), (2, 3), (1, 8)]\n"
          ]
        }
      ]
    },
    {
      "cell_type": "code",
      "source": [
        "l2_keys=list(l2.keys())\n",
        "l2_values=list(l2.values())"
      ],
      "metadata": {
        "id": "5v4gXwFk7xok"
      },
      "execution_count": null,
      "outputs": []
    },
    {
      "cell_type": "code",
      "source": [
        "l2_values"
      ],
      "metadata": {
        "id": "aylY0Npo70JU",
        "outputId": "3387a22a-c2ae-47f8-a2c7-e26a94b33b41",
        "colab": {
          "base_uri": "https://localhost:8080/"
        }
      },
      "execution_count": null,
      "outputs": [
        {
          "output_type": "execute_result",
          "data": {
            "text/plain": [
              "[7, 5, 2, 3, 8]"
            ]
          },
          "metadata": {},
          "execution_count": 33
        }
      ]
    },
    {
      "cell_type": "code",
      "source": [
        "h=max(l2_values)\n",
        "h"
      ],
      "metadata": {
        "id": "1dm7SHCl_ZjL",
        "outputId": "8ebf265d-dcc8-4c8f-c0b4-b759772b635c",
        "colab": {
          "base_uri": "https://localhost:8080/"
        }
      },
      "execution_count": null,
      "outputs": [
        {
          "output_type": "execute_result",
          "data": {
            "text/plain": [
              "8"
            ]
          },
          "metadata": {},
          "execution_count": 36
        }
      ]
    },
    {
      "cell_type": "code",
      "source": [
        "i=l2_values.index(h)\n",
        "i"
      ],
      "metadata": {
        "id": "02FUmpq2_vlj",
        "outputId": "37842919-bbc0-4e64-911d-a71e7f6099dd",
        "colab": {
          "base_uri": "https://localhost:8080/"
        }
      },
      "execution_count": null,
      "outputs": [
        {
          "output_type": "execute_result",
          "data": {
            "text/plain": [
              "4"
            ]
          },
          "metadata": {},
          "execution_count": 38
        }
      ]
    },
    {
      "cell_type": "code",
      "source": [
        "l2_keys[i]"
      ],
      "metadata": {
        "id": "L2bo8Hbk_3Tx",
        "outputId": "3f5d7d50-5c1a-48a2-b060-e21f19dea8a3",
        "colab": {
          "base_uri": "https://localhost:8080/",
          "height": 35
        }
      },
      "execution_count": null,
      "outputs": [
        {
          "output_type": "execute_result",
          "data": {
            "application/vnd.google.colaboratory.intrinsic+json": {
              "type": "string"
            },
            "text/plain": [
              "'e'"
            ]
          },
          "metadata": {},
          "execution_count": 39
        }
      ]
    },
    {
      "cell_type": "code",
      "source": [
        "# average of books\n",
        "import random\n",
        "a=random.sample(range(0,20),10)"
      ],
      "metadata": {
        "id": "WkRzmAh0AArS"
      },
      "execution_count": 1,
      "outputs": []
    },
    {
      "cell_type": "code",
      "source": [
        "a"
      ],
      "metadata": {
        "colab": {
          "base_uri": "https://localhost:8080/"
        },
        "id": "y1N6uovkZSAv",
        "outputId": "b67952d8-8369-456e-b9da-4cbc7a75a9ae"
      },
      "execution_count": 2,
      "outputs": [
        {
          "output_type": "execute_result",
          "data": {
            "text/plain": [
              "[1, 0, 18, 12, 10, 5, 15, 19, 9, 4]"
            ]
          },
          "metadata": {},
          "execution_count": 2
        }
      ]
    },
    {
      "cell_type": "code",
      "source": [
        "for "
      ],
      "metadata": {
        "colab": {
          "base_uri": "https://localhost:8080/",
          "height": 165
        },
        "id": "vIlvMWnNZU3n",
        "outputId": "9b5e03fd-b2e6-4b40-bd27-0c6ef33356dc"
      },
      "execution_count": 4,
      "outputs": [
        {
          "output_type": "error",
          "ename": "NameError",
          "evalue": "ignored",
          "traceback": [
            "\u001b[0;31m---------------------------------------------------------------------------\u001b[0m",
            "\u001b[0;31mNameError\u001b[0m                                 Traceback (most recent call last)",
            "\u001b[0;32m<ipython-input-4-8675b708d7a5>\u001b[0m in \u001b[0;36m<module>\u001b[0;34m()\u001b[0m\n\u001b[0;32m----> 1\u001b[0;31m \u001b[0mt\u001b[0m\u001b[0;34m=\u001b[0m\u001b[0mavg\u001b[0m\u001b[0;34m(\u001b[0m\u001b[0ma\u001b[0m\u001b[0;34m)\u001b[0m\u001b[0;34m\u001b[0m\u001b[0;34m\u001b[0m\u001b[0m\n\u001b[0m",
            "\u001b[0;31mNameError\u001b[0m: name 'avg' is not defined"
          ]
        }
      ]
    },
    {
      "cell_type": "code",
      "source": [
        ""
      ],
      "metadata": {
        "id": "hK11hAnRZYvn"
      },
      "execution_count": null,
      "outputs": []
    },
    {
      "cell_type": "markdown",
      "source": [
        "#Facebook DE Questions\n",
        "##Python\n",
        "*    average of books(None-None , [] to 0 )\n",
        "*    number of books you can buy in the budget- python(there were tuples)\n",
        "\n",
        "\n",
        "##SQL\n",
        "*   5 distinct genres\n",
        "*   percentage of transaction on registration date\n",
        "*   more than 4 books bought on the first and last day\n",
        "\n",
        "\n",
        "\n"
      ],
      "metadata": {
        "id": "yK-umPxhZsP0"
      }
    },
    {
      "cell_type": "code",
      "source": [
        ""
      ],
      "metadata": {
        "id": "gJu9k_IdZx6G"
      },
      "execution_count": null,
      "outputs": []
    }
  ]
}