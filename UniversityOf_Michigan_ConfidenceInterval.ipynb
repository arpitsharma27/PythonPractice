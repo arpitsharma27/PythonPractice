{
  "nbformat": 4,
  "nbformat_minor": 0,
  "metadata": {
    "colab": {
      "name": "UniversityOf_Michigan_ConfidenceInterval.ipynb",
      "provenance": [],
      "authorship_tag": "ABX9TyNO9/pTmjtgIJ6bRFL37Vo5",
      "include_colab_link": true
    },
    "kernelspec": {
      "name": "python3",
      "display_name": "Python 3"
    },
    "language_info": {
      "name": "python"
    }
  },
  "cells": [
    {
      "cell_type": "markdown",
      "metadata": {
        "id": "view-in-github",
        "colab_type": "text"
      },
      "source": [
        "<a href=\"https://colab.research.google.com/github/arpitsharma27/PythonPractice/blob/main/UniversityOf_Michigan_ConfidenceInterval.ipynb\" target=\"_parent\"><img src=\"https://colab.research.google.com/assets/colab-badge.svg\" alt=\"Open In Colab\"/></a>"
      ]
    },
    {
      "cell_type": "code",
      "metadata": {
        "id": "Gu4zJJ3RJjuI"
      },
      "source": [
        "import numpy as np\n",
        "import pandas as pd\n",
        "import matplotlib.pyplot as plt\n",
        "import scipy.stats as stats\n",
        "import seaborn as sns"
      ],
      "execution_count": 37,
      "outputs": []
    },
    {
      "cell_type": "code",
      "metadata": {
        "id": "_2GtxxHxJ5kx"
      },
      "source": [
        "url=\"https://raw.githubusercontent.com/kshedden/statswpy/master/NHANES/merged/nhanes_2015_2016.csv\"\n",
        "df=pd.read_csv(url)"
      ],
      "execution_count": 8,
      "outputs": []
    },
    {
      "cell_type": "code",
      "metadata": {
        "colab": {
          "base_uri": "https://localhost:8080/",
          "height": 422
        },
        "id": "w_ag__GWJ8HR",
        "outputId": "46a843b3-9407-4d02-e8bc-74f28c22a389"
      },
      "source": [
        "df"
      ],
      "execution_count": 9,
      "outputs": [
        {
          "output_type": "execute_result",
          "data": {
            "text/html": [
              "<div>\n",
              "<style scoped>\n",
              "    .dataframe tbody tr th:only-of-type {\n",
              "        vertical-align: middle;\n",
              "    }\n",
              "\n",
              "    .dataframe tbody tr th {\n",
              "        vertical-align: top;\n",
              "    }\n",
              "\n",
              "    .dataframe thead th {\n",
              "        text-align: right;\n",
              "    }\n",
              "</style>\n",
              "<table border=\"1\" class=\"dataframe\">\n",
              "  <thead>\n",
              "    <tr style=\"text-align: right;\">\n",
              "      <th></th>\n",
              "      <th>SEQN</th>\n",
              "      <th>ALQ101</th>\n",
              "      <th>ALQ110</th>\n",
              "      <th>ALQ130</th>\n",
              "      <th>SMQ020</th>\n",
              "      <th>RIAGENDR</th>\n",
              "      <th>RIDAGEYR</th>\n",
              "      <th>RIDRETH1</th>\n",
              "      <th>DMDCITZN</th>\n",
              "      <th>DMDEDUC2</th>\n",
              "      <th>DMDMARTL</th>\n",
              "      <th>DMDHHSIZ</th>\n",
              "      <th>WTINT2YR</th>\n",
              "      <th>SDMVPSU</th>\n",
              "      <th>SDMVSTRA</th>\n",
              "      <th>INDFMPIR</th>\n",
              "      <th>BPXSY1</th>\n",
              "      <th>BPXDI1</th>\n",
              "      <th>BPXSY2</th>\n",
              "      <th>BPXDI2</th>\n",
              "      <th>BMXWT</th>\n",
              "      <th>BMXHT</th>\n",
              "      <th>BMXBMI</th>\n",
              "      <th>BMXLEG</th>\n",
              "      <th>BMXARML</th>\n",
              "      <th>BMXARMC</th>\n",
              "      <th>BMXWAIST</th>\n",
              "      <th>HIQ210</th>\n",
              "    </tr>\n",
              "  </thead>\n",
              "  <tbody>\n",
              "    <tr>\n",
              "      <th>0</th>\n",
              "      <td>83732</td>\n",
              "      <td>1.0</td>\n",
              "      <td>NaN</td>\n",
              "      <td>1.0</td>\n",
              "      <td>1</td>\n",
              "      <td>1</td>\n",
              "      <td>62</td>\n",
              "      <td>3</td>\n",
              "      <td>1.0</td>\n",
              "      <td>5.0</td>\n",
              "      <td>1.0</td>\n",
              "      <td>2</td>\n",
              "      <td>134671.37</td>\n",
              "      <td>1</td>\n",
              "      <td>125</td>\n",
              "      <td>4.39</td>\n",
              "      <td>128.0</td>\n",
              "      <td>70.0</td>\n",
              "      <td>124.0</td>\n",
              "      <td>64.0</td>\n",
              "      <td>94.8</td>\n",
              "      <td>184.5</td>\n",
              "      <td>27.8</td>\n",
              "      <td>43.3</td>\n",
              "      <td>43.6</td>\n",
              "      <td>35.9</td>\n",
              "      <td>101.1</td>\n",
              "      <td>2.0</td>\n",
              "    </tr>\n",
              "    <tr>\n",
              "      <th>1</th>\n",
              "      <td>83733</td>\n",
              "      <td>1.0</td>\n",
              "      <td>NaN</td>\n",
              "      <td>6.0</td>\n",
              "      <td>1</td>\n",
              "      <td>1</td>\n",
              "      <td>53</td>\n",
              "      <td>3</td>\n",
              "      <td>2.0</td>\n",
              "      <td>3.0</td>\n",
              "      <td>3.0</td>\n",
              "      <td>1</td>\n",
              "      <td>24328.56</td>\n",
              "      <td>1</td>\n",
              "      <td>125</td>\n",
              "      <td>1.32</td>\n",
              "      <td>146.0</td>\n",
              "      <td>88.0</td>\n",
              "      <td>140.0</td>\n",
              "      <td>88.0</td>\n",
              "      <td>90.4</td>\n",
              "      <td>171.4</td>\n",
              "      <td>30.8</td>\n",
              "      <td>38.0</td>\n",
              "      <td>40.0</td>\n",
              "      <td>33.2</td>\n",
              "      <td>107.9</td>\n",
              "      <td>NaN</td>\n",
              "    </tr>\n",
              "    <tr>\n",
              "      <th>2</th>\n",
              "      <td>83734</td>\n",
              "      <td>1.0</td>\n",
              "      <td>NaN</td>\n",
              "      <td>NaN</td>\n",
              "      <td>1</td>\n",
              "      <td>1</td>\n",
              "      <td>78</td>\n",
              "      <td>3</td>\n",
              "      <td>1.0</td>\n",
              "      <td>3.0</td>\n",
              "      <td>1.0</td>\n",
              "      <td>2</td>\n",
              "      <td>12400.01</td>\n",
              "      <td>1</td>\n",
              "      <td>131</td>\n",
              "      <td>1.51</td>\n",
              "      <td>138.0</td>\n",
              "      <td>46.0</td>\n",
              "      <td>132.0</td>\n",
              "      <td>44.0</td>\n",
              "      <td>83.4</td>\n",
              "      <td>170.1</td>\n",
              "      <td>28.8</td>\n",
              "      <td>35.6</td>\n",
              "      <td>37.0</td>\n",
              "      <td>31.0</td>\n",
              "      <td>116.5</td>\n",
              "      <td>2.0</td>\n",
              "    </tr>\n",
              "    <tr>\n",
              "      <th>3</th>\n",
              "      <td>83735</td>\n",
              "      <td>2.0</td>\n",
              "      <td>1.0</td>\n",
              "      <td>1.0</td>\n",
              "      <td>2</td>\n",
              "      <td>2</td>\n",
              "      <td>56</td>\n",
              "      <td>3</td>\n",
              "      <td>1.0</td>\n",
              "      <td>5.0</td>\n",
              "      <td>6.0</td>\n",
              "      <td>1</td>\n",
              "      <td>102718.00</td>\n",
              "      <td>1</td>\n",
              "      <td>131</td>\n",
              "      <td>5.00</td>\n",
              "      <td>132.0</td>\n",
              "      <td>72.0</td>\n",
              "      <td>134.0</td>\n",
              "      <td>68.0</td>\n",
              "      <td>109.8</td>\n",
              "      <td>160.9</td>\n",
              "      <td>42.4</td>\n",
              "      <td>38.5</td>\n",
              "      <td>37.7</td>\n",
              "      <td>38.3</td>\n",
              "      <td>110.1</td>\n",
              "      <td>2.0</td>\n",
              "    </tr>\n",
              "    <tr>\n",
              "      <th>4</th>\n",
              "      <td>83736</td>\n",
              "      <td>2.0</td>\n",
              "      <td>1.0</td>\n",
              "      <td>1.0</td>\n",
              "      <td>2</td>\n",
              "      <td>2</td>\n",
              "      <td>42</td>\n",
              "      <td>4</td>\n",
              "      <td>1.0</td>\n",
              "      <td>4.0</td>\n",
              "      <td>3.0</td>\n",
              "      <td>5</td>\n",
              "      <td>17627.67</td>\n",
              "      <td>2</td>\n",
              "      <td>126</td>\n",
              "      <td>1.23</td>\n",
              "      <td>100.0</td>\n",
              "      <td>70.0</td>\n",
              "      <td>114.0</td>\n",
              "      <td>54.0</td>\n",
              "      <td>55.2</td>\n",
              "      <td>164.9</td>\n",
              "      <td>20.3</td>\n",
              "      <td>37.4</td>\n",
              "      <td>36.0</td>\n",
              "      <td>27.2</td>\n",
              "      <td>80.4</td>\n",
              "      <td>2.0</td>\n",
              "    </tr>\n",
              "    <tr>\n",
              "      <th>...</th>\n",
              "      <td>...</td>\n",
              "      <td>...</td>\n",
              "      <td>...</td>\n",
              "      <td>...</td>\n",
              "      <td>...</td>\n",
              "      <td>...</td>\n",
              "      <td>...</td>\n",
              "      <td>...</td>\n",
              "      <td>...</td>\n",
              "      <td>...</td>\n",
              "      <td>...</td>\n",
              "      <td>...</td>\n",
              "      <td>...</td>\n",
              "      <td>...</td>\n",
              "      <td>...</td>\n",
              "      <td>...</td>\n",
              "      <td>...</td>\n",
              "      <td>...</td>\n",
              "      <td>...</td>\n",
              "      <td>...</td>\n",
              "      <td>...</td>\n",
              "      <td>...</td>\n",
              "      <td>...</td>\n",
              "      <td>...</td>\n",
              "      <td>...</td>\n",
              "      <td>...</td>\n",
              "      <td>...</td>\n",
              "      <td>...</td>\n",
              "    </tr>\n",
              "    <tr>\n",
              "      <th>5730</th>\n",
              "      <td>93695</td>\n",
              "      <td>2.0</td>\n",
              "      <td>2.0</td>\n",
              "      <td>NaN</td>\n",
              "      <td>1</td>\n",
              "      <td>2</td>\n",
              "      <td>76</td>\n",
              "      <td>3</td>\n",
              "      <td>1.0</td>\n",
              "      <td>3.0</td>\n",
              "      <td>2.0</td>\n",
              "      <td>1</td>\n",
              "      <td>58614.08</td>\n",
              "      <td>2</td>\n",
              "      <td>130</td>\n",
              "      <td>1.43</td>\n",
              "      <td>112.0</td>\n",
              "      <td>48.0</td>\n",
              "      <td>112.0</td>\n",
              "      <td>46.0</td>\n",
              "      <td>59.1</td>\n",
              "      <td>165.8</td>\n",
              "      <td>21.5</td>\n",
              "      <td>38.2</td>\n",
              "      <td>37.0</td>\n",
              "      <td>29.5</td>\n",
              "      <td>95.0</td>\n",
              "      <td>2.0</td>\n",
              "    </tr>\n",
              "    <tr>\n",
              "      <th>5731</th>\n",
              "      <td>93696</td>\n",
              "      <td>2.0</td>\n",
              "      <td>2.0</td>\n",
              "      <td>NaN</td>\n",
              "      <td>2</td>\n",
              "      <td>1</td>\n",
              "      <td>26</td>\n",
              "      <td>3</td>\n",
              "      <td>1.0</td>\n",
              "      <td>5.0</td>\n",
              "      <td>1.0</td>\n",
              "      <td>3</td>\n",
              "      <td>122920.60</td>\n",
              "      <td>1</td>\n",
              "      <td>121</td>\n",
              "      <td>2.99</td>\n",
              "      <td>118.0</td>\n",
              "      <td>68.0</td>\n",
              "      <td>116.0</td>\n",
              "      <td>76.0</td>\n",
              "      <td>112.1</td>\n",
              "      <td>182.2</td>\n",
              "      <td>33.8</td>\n",
              "      <td>43.4</td>\n",
              "      <td>41.8</td>\n",
              "      <td>42.3</td>\n",
              "      <td>110.2</td>\n",
              "      <td>2.0</td>\n",
              "    </tr>\n",
              "    <tr>\n",
              "      <th>5732</th>\n",
              "      <td>93697</td>\n",
              "      <td>1.0</td>\n",
              "      <td>NaN</td>\n",
              "      <td>1.0</td>\n",
              "      <td>1</td>\n",
              "      <td>2</td>\n",
              "      <td>80</td>\n",
              "      <td>3</td>\n",
              "      <td>1.0</td>\n",
              "      <td>4.0</td>\n",
              "      <td>2.0</td>\n",
              "      <td>1</td>\n",
              "      <td>49050.06</td>\n",
              "      <td>2</td>\n",
              "      <td>132</td>\n",
              "      <td>2.97</td>\n",
              "      <td>154.0</td>\n",
              "      <td>56.0</td>\n",
              "      <td>146.0</td>\n",
              "      <td>58.0</td>\n",
              "      <td>71.7</td>\n",
              "      <td>152.2</td>\n",
              "      <td>31.0</td>\n",
              "      <td>31.3</td>\n",
              "      <td>37.5</td>\n",
              "      <td>28.8</td>\n",
              "      <td>NaN</td>\n",
              "      <td>2.0</td>\n",
              "    </tr>\n",
              "    <tr>\n",
              "      <th>5733</th>\n",
              "      <td>93700</td>\n",
              "      <td>NaN</td>\n",
              "      <td>NaN</td>\n",
              "      <td>NaN</td>\n",
              "      <td>1</td>\n",
              "      <td>1</td>\n",
              "      <td>35</td>\n",
              "      <td>3</td>\n",
              "      <td>2.0</td>\n",
              "      <td>1.0</td>\n",
              "      <td>1.0</td>\n",
              "      <td>5</td>\n",
              "      <td>42314.29</td>\n",
              "      <td>1</td>\n",
              "      <td>126</td>\n",
              "      <td>0.00</td>\n",
              "      <td>104.0</td>\n",
              "      <td>62.0</td>\n",
              "      <td>106.0</td>\n",
              "      <td>66.0</td>\n",
              "      <td>78.2</td>\n",
              "      <td>173.3</td>\n",
              "      <td>26.0</td>\n",
              "      <td>40.3</td>\n",
              "      <td>37.5</td>\n",
              "      <td>30.6</td>\n",
              "      <td>98.9</td>\n",
              "      <td>2.0</td>\n",
              "    </tr>\n",
              "    <tr>\n",
              "      <th>5734</th>\n",
              "      <td>93702</td>\n",
              "      <td>1.0</td>\n",
              "      <td>NaN</td>\n",
              "      <td>2.0</td>\n",
              "      <td>2</td>\n",
              "      <td>2</td>\n",
              "      <td>24</td>\n",
              "      <td>3</td>\n",
              "      <td>1.0</td>\n",
              "      <td>5.0</td>\n",
              "      <td>5.0</td>\n",
              "      <td>3</td>\n",
              "      <td>107361.91</td>\n",
              "      <td>2</td>\n",
              "      <td>119</td>\n",
              "      <td>3.54</td>\n",
              "      <td>118.0</td>\n",
              "      <td>66.0</td>\n",
              "      <td>114.0</td>\n",
              "      <td>68.0</td>\n",
              "      <td>58.3</td>\n",
              "      <td>165.0</td>\n",
              "      <td>21.4</td>\n",
              "      <td>38.2</td>\n",
              "      <td>33.5</td>\n",
              "      <td>26.2</td>\n",
              "      <td>72.5</td>\n",
              "      <td>2.0</td>\n",
              "    </tr>\n",
              "  </tbody>\n",
              "</table>\n",
              "<p>5735 rows × 28 columns</p>\n",
              "</div>"
            ],
            "text/plain": [
              "       SEQN  ALQ101  ALQ110  ALQ130  ...  BMXARML  BMXARMC  BMXWAIST  HIQ210\n",
              "0     83732     1.0     NaN     1.0  ...     43.6     35.9     101.1     2.0\n",
              "1     83733     1.0     NaN     6.0  ...     40.0     33.2     107.9     NaN\n",
              "2     83734     1.0     NaN     NaN  ...     37.0     31.0     116.5     2.0\n",
              "3     83735     2.0     1.0     1.0  ...     37.7     38.3     110.1     2.0\n",
              "4     83736     2.0     1.0     1.0  ...     36.0     27.2      80.4     2.0\n",
              "...     ...     ...     ...     ...  ...      ...      ...       ...     ...\n",
              "5730  93695     2.0     2.0     NaN  ...     37.0     29.5      95.0     2.0\n",
              "5731  93696     2.0     2.0     NaN  ...     41.8     42.3     110.2     2.0\n",
              "5732  93697     1.0     NaN     1.0  ...     37.5     28.8       NaN     2.0\n",
              "5733  93700     NaN     NaN     NaN  ...     37.5     30.6      98.9     2.0\n",
              "5734  93702     1.0     NaN     2.0  ...     33.5     26.2      72.5     2.0\n",
              "\n",
              "[5735 rows x 28 columns]"
            ]
          },
          "metadata": {
            "tags": []
          },
          "execution_count": 9
        }
      ]
    },
    {
      "cell_type": "code",
      "metadata": {
        "id": "JOuhO4IzKCSA"
      },
      "source": [
        "df['GENDER']=np.where(df['RIAGENDR']==1,'Male','Female')"
      ],
      "execution_count": 10,
      "outputs": []
    },
    {
      "cell_type": "code",
      "metadata": {
        "colab": {
          "base_uri": "https://localhost:8080/"
        },
        "id": "kSy_0jtfK20v",
        "outputId": "916cc23e-4f56-4350-a3d2-02c172daef12"
      },
      "source": [
        "df.GENDER.value_counts()"
      ],
      "execution_count": 11,
      "outputs": [
        {
          "output_type": "execute_result",
          "data": {
            "text/plain": [
              "Female    2976\n",
              "Male      2759\n",
              "Name: GENDER, dtype: int64"
            ]
          },
          "metadata": {
            "tags": []
          },
          "execution_count": 11
        }
      ]
    },
    {
      "cell_type": "code",
      "metadata": {
        "colab": {
          "base_uri": "https://localhost:8080/"
        },
        "id": "n1RLylSjLFlG",
        "outputId": "0693d763-9162-4bd8-8b4f-cdf0470e1cf2"
      },
      "source": [
        "df.RIDRETH1.value_counts()"
      ],
      "execution_count": 12,
      "outputs": [
        {
          "output_type": "execute_result",
          "data": {
            "text/plain": [
              "3    1839\n",
              "4    1227\n",
              "1    1018\n",
              "5     901\n",
              "2     750\n",
              "Name: RIDRETH1, dtype: int64"
            ]
          },
          "metadata": {
            "tags": []
          },
          "execution_count": 12
        }
      ]
    },
    {
      "cell_type": "code",
      "metadata": {
        "colab": {
          "base_uri": "https://localhost:8080/",
          "height": 225
        },
        "id": "_RIqCU51MDiH",
        "outputId": "121b0645-851b-46da-dc7e-d33bfb05134c"
      },
      "source": [
        "df.groupby(['RIDRETH1','GENDER']).BMXBMI.mean().unstack()"
      ],
      "execution_count": 18,
      "outputs": [
        {
          "output_type": "execute_result",
          "data": {
            "text/html": [
              "<div>\n",
              "<style scoped>\n",
              "    .dataframe tbody tr th:only-of-type {\n",
              "        vertical-align: middle;\n",
              "    }\n",
              "\n",
              "    .dataframe tbody tr th {\n",
              "        vertical-align: top;\n",
              "    }\n",
              "\n",
              "    .dataframe thead th {\n",
              "        text-align: right;\n",
              "    }\n",
              "</style>\n",
              "<table border=\"1\" class=\"dataframe\">\n",
              "  <thead>\n",
              "    <tr style=\"text-align: right;\">\n",
              "      <th>GENDER</th>\n",
              "      <th>Female</th>\n",
              "      <th>Male</th>\n",
              "    </tr>\n",
              "    <tr>\n",
              "      <th>RIDRETH1</th>\n",
              "      <th></th>\n",
              "      <th></th>\n",
              "    </tr>\n",
              "  </thead>\n",
              "  <tbody>\n",
              "    <tr>\n",
              "      <th>1</th>\n",
              "      <td>31.716978</td>\n",
              "      <td>30.098276</td>\n",
              "    </tr>\n",
              "    <tr>\n",
              "      <th>2</th>\n",
              "      <td>30.160235</td>\n",
              "      <td>29.620872</td>\n",
              "    </tr>\n",
              "    <tr>\n",
              "      <th>3</th>\n",
              "      <td>29.364667</td>\n",
              "      <td>29.037158</td>\n",
              "    </tr>\n",
              "    <tr>\n",
              "      <th>4</th>\n",
              "      <td>31.704050</td>\n",
              "      <td>28.917699</td>\n",
              "    </tr>\n",
              "    <tr>\n",
              "      <th>5</th>\n",
              "      <td>26.173696</td>\n",
              "      <td>26.131126</td>\n",
              "    </tr>\n",
              "  </tbody>\n",
              "</table>\n",
              "</div>"
            ],
            "text/plain": [
              "GENDER       Female       Male\n",
              "RIDRETH1                      \n",
              "1         31.716978  30.098276\n",
              "2         30.160235  29.620872\n",
              "3         29.364667  29.037158\n",
              "4         31.704050  28.917699\n",
              "5         26.173696  26.131126"
            ]
          },
          "metadata": {
            "tags": []
          },
          "execution_count": 18
        }
      ]
    },
    {
      "cell_type": "code",
      "metadata": {
        "colab": {
          "base_uri": "https://localhost:8080/",
          "height": 254
        },
        "id": "a4vVp0V8SfVl",
        "outputId": "99ca5bd4-58d6-4fdd-f5ee-42c6b29251b9"
      },
      "source": [
        "pd.crosstab(df.RIDRETH1,df.GENDER ,margins=True)"
      ],
      "execution_count": 33,
      "outputs": [
        {
          "output_type": "execute_result",
          "data": {
            "text/html": [
              "<div>\n",
              "<style scoped>\n",
              "    .dataframe tbody tr th:only-of-type {\n",
              "        vertical-align: middle;\n",
              "    }\n",
              "\n",
              "    .dataframe tbody tr th {\n",
              "        vertical-align: top;\n",
              "    }\n",
              "\n",
              "    .dataframe thead th {\n",
              "        text-align: right;\n",
              "    }\n",
              "</style>\n",
              "<table border=\"1\" class=\"dataframe\">\n",
              "  <thead>\n",
              "    <tr style=\"text-align: right;\">\n",
              "      <th>GENDER</th>\n",
              "      <th>Female</th>\n",
              "      <th>Male</th>\n",
              "      <th>All</th>\n",
              "    </tr>\n",
              "    <tr>\n",
              "      <th>RIDRETH1</th>\n",
              "      <th></th>\n",
              "      <th></th>\n",
              "      <th></th>\n",
              "    </tr>\n",
              "  </thead>\n",
              "  <tbody>\n",
              "    <tr>\n",
              "      <th>1</th>\n",
              "      <td>543</td>\n",
              "      <td>475</td>\n",
              "      <td>1018</td>\n",
              "    </tr>\n",
              "    <tr>\n",
              "      <th>2</th>\n",
              "      <td>428</td>\n",
              "      <td>322</td>\n",
              "      <td>750</td>\n",
              "    </tr>\n",
              "    <tr>\n",
              "      <th>3</th>\n",
              "      <td>910</td>\n",
              "      <td>929</td>\n",
              "      <td>1839</td>\n",
              "    </tr>\n",
              "    <tr>\n",
              "      <th>4</th>\n",
              "      <td>651</td>\n",
              "      <td>576</td>\n",
              "      <td>1227</td>\n",
              "    </tr>\n",
              "    <tr>\n",
              "      <th>5</th>\n",
              "      <td>444</td>\n",
              "      <td>457</td>\n",
              "      <td>901</td>\n",
              "    </tr>\n",
              "    <tr>\n",
              "      <th>All</th>\n",
              "      <td>2976</td>\n",
              "      <td>2759</td>\n",
              "      <td>5735</td>\n",
              "    </tr>\n",
              "  </tbody>\n",
              "</table>\n",
              "</div>"
            ],
            "text/plain": [
              "GENDER    Female  Male   All\n",
              "RIDRETH1                    \n",
              "1            543   475  1018\n",
              "2            428   322   750\n",
              "3            910   929  1839\n",
              "4            651   576  1227\n",
              "5            444   457   901\n",
              "All         2976  2759  5735"
            ]
          },
          "metadata": {
            "tags": []
          },
          "execution_count": 33
        }
      ]
    },
    {
      "cell_type": "code",
      "metadata": {
        "colab": {
          "base_uri": "https://localhost:8080/",
          "height": 225
        },
        "id": "Gz5YUC5fNXCM",
        "outputId": "ec3fcf14-d2af-4456-8af9-147ae4f95d39"
      },
      "source": [
        "pd.crosstab(df.RIDRETH1,df.GENDER,normalize=1 )"
      ],
      "execution_count": 26,
      "outputs": [
        {
          "output_type": "execute_result",
          "data": {
            "text/html": [
              "<div>\n",
              "<style scoped>\n",
              "    .dataframe tbody tr th:only-of-type {\n",
              "        vertical-align: middle;\n",
              "    }\n",
              "\n",
              "    .dataframe tbody tr th {\n",
              "        vertical-align: top;\n",
              "    }\n",
              "\n",
              "    .dataframe thead th {\n",
              "        text-align: right;\n",
              "    }\n",
              "</style>\n",
              "<table border=\"1\" class=\"dataframe\">\n",
              "  <thead>\n",
              "    <tr style=\"text-align: right;\">\n",
              "      <th>GENDER</th>\n",
              "      <th>Female</th>\n",
              "      <th>Male</th>\n",
              "    </tr>\n",
              "    <tr>\n",
              "      <th>RIDRETH1</th>\n",
              "      <th></th>\n",
              "      <th></th>\n",
              "    </tr>\n",
              "  </thead>\n",
              "  <tbody>\n",
              "    <tr>\n",
              "      <th>1</th>\n",
              "      <td>0.182460</td>\n",
              "      <td>0.172164</td>\n",
              "    </tr>\n",
              "    <tr>\n",
              "      <th>2</th>\n",
              "      <td>0.143817</td>\n",
              "      <td>0.116709</td>\n",
              "    </tr>\n",
              "    <tr>\n",
              "      <th>3</th>\n",
              "      <td>0.305780</td>\n",
              "      <td>0.336716</td>\n",
              "    </tr>\n",
              "    <tr>\n",
              "      <th>4</th>\n",
              "      <td>0.218750</td>\n",
              "      <td>0.208771</td>\n",
              "    </tr>\n",
              "    <tr>\n",
              "      <th>5</th>\n",
              "      <td>0.149194</td>\n",
              "      <td>0.165640</td>\n",
              "    </tr>\n",
              "  </tbody>\n",
              "</table>\n",
              "</div>"
            ],
            "text/plain": [
              "GENDER      Female      Male\n",
              "RIDRETH1                    \n",
              "1         0.182460  0.172164\n",
              "2         0.143817  0.116709\n",
              "3         0.305780  0.336716\n",
              "4         0.218750  0.208771\n",
              "5         0.149194  0.165640"
            ]
          },
          "metadata": {
            "tags": []
          },
          "execution_count": 26
        }
      ]
    },
    {
      "cell_type": "code",
      "metadata": {
        "colab": {
          "base_uri": "https://localhost:8080/"
        },
        "id": "z5TX9TA1P36r",
        "outputId": "a4f59ae3-bdd5-48e6-fc88-bb2254ade937"
      },
      "source": [
        "se_f_1=np.sqrt((0.18*(1-0.18))/2976)\n",
        "print(se_f_1)"
      ],
      "execution_count": 44,
      "outputs": [
        {
          "output_type": "stream",
          "text": [
            "0.007042497724071226\n"
          ],
          "name": "stdout"
        }
      ]
    },
    {
      "cell_type": "code",
      "metadata": {
        "colab": {
          "base_uri": "https://localhost:8080/"
        },
        "id": "KPhKWkVOWo1M",
        "outputId": "7018af15-7675-4e4c-82fd-08126f81eb66"
      },
      "source": [
        "se_f_2=np.sqrt((0.14)*(1-0.14)/2976)\n",
        "print(se_f_2)"
      ],
      "execution_count": 46,
      "outputs": [
        {
          "output_type": "stream",
          "text": [
            "0.00636058088914148\n"
          ],
          "name": "stdout"
        }
      ]
    },
    {
      "cell_type": "code",
      "metadata": {
        "colab": {
          "base_uri": "https://localhost:8080/"
        },
        "id": "70E0SYc9aex6",
        "outputId": "9d3c2328-153d-476d-a245-8d89f96e1937"
      },
      "source": [
        "z_score=1.96\n",
        "lcb=(0.18)-z_score*se_f_1\n",
        "ucb=(0.18)+z_score*se_f_1\n",
        "print(lcb)\n",
        "print(ucb)"
      ],
      "execution_count": 49,
      "outputs": [
        {
          "output_type": "stream",
          "text": [
            "0.16619670446082038\n",
            "0.1938032955391796\n"
          ],
          "name": "stdout"
        }
      ]
    },
    {
      "cell_type": "code",
      "metadata": {
        "colab": {
          "base_uri": "https://localhost:8080/"
        },
        "id": "MYrQ219Qa49C",
        "outputId": "eabafecf-c27d-4b98-fc7e-874f33480fc0"
      },
      "source": [
        "import statsmodels.api as sm\n",
        "sm.stats.proportion_confint(2976*0.18,2976)"
      ],
      "execution_count": 51,
      "outputs": [
        {
          "output_type": "execute_result",
          "data": {
            "text/plain": [
              "(0.1661969580996151, 0.1938030419003849)"
            ]
          },
          "metadata": {
            "tags": []
          },
          "execution_count": 51
        }
      ]
    },
    {
      "cell_type": "code",
      "metadata": {
        "colab": {
          "base_uri": "https://localhost:8080/"
        },
        "id": "W8615RylbDdO",
        "outputId": "4aa7bc19-cdc6-44fc-a997-56fc006b0473"
      },
      "source": [
        "se_m_1=np.sqrt(((0.17)*(1-0.17)/2759))\n",
        "print(se_m_1)"
      ],
      "execution_count": 55,
      "outputs": [
        {
          "output_type": "stream",
          "text": [
            "0.007151343790769194\n"
          ],
          "name": "stdout"
        }
      ]
    },
    {
      "cell_type": "code",
      "metadata": {
        "colab": {
          "base_uri": "https://localhost:8080/"
        },
        "id": "AGegw9EId1nI",
        "outputId": "2fffaf34-adca-4781-fbee-b444128a4f16"
      },
      "source": [
        "sm.stats.proportion_confint(2759*0.17,2759)"
      ],
      "execution_count": 56,
      "outputs": [
        {
          "output_type": "execute_result",
          "data": {
            "text/plain": [
              "(0.15598362372902824, 0.18401637627097178)"
            ]
          },
          "metadata": {
            "tags": []
          },
          "execution_count": 56
        }
      ]
    },
    {
      "cell_type": "code",
      "metadata": {
        "colab": {
          "base_uri": "https://localhost:8080/"
        },
        "id": "UMcpurMbeMg4",
        "outputId": "8a966746-01c2-4c51-d720-98a551967038"
      },
      "source": [
        "print(se_f_1)\n",
        "print(se_m_1)"
      ],
      "execution_count": 57,
      "outputs": [
        {
          "output_type": "stream",
          "text": [
            "0.007042497724071226\n",
            "0.007151343790769194\n"
          ],
          "name": "stdout"
        }
      ]
    },
    {
      "cell_type": "code",
      "metadata": {
        "colab": {
          "base_uri": "https://localhost:8080/"
        },
        "id": "Xo6to9CSeT1W",
        "outputId": "1ef03cb1-f56e-47c4-81f0-07ecddc57989"
      },
      "source": [
        "se_diff=np.sqrt((se_f_1)**2+(se_m_1)**2)\n",
        "print(se_diff)"
      ],
      "execution_count": 59,
      "outputs": [
        {
          "output_type": "stream",
          "text": [
            "0.010036856689587707\n"
          ],
          "name": "stdout"
        }
      ]
    },
    {
      "cell_type": "code",
      "metadata": {
        "colab": {
          "base_uri": "https://localhost:8080/"
        },
        "id": "y4J1S6rweixH",
        "outputId": "cc24caa2-5d31-4bee-b59f-58078e8d39fa"
      },
      "source": [
        "d=0.182-0.172\n",
        "lcb=d-1.96*se_diff\n",
        "ucb=d+1.96*se_diff\n",
        "print(lcb)\n",
        "print(ucb)"
      ],
      "execution_count": 61,
      "outputs": [
        {
          "output_type": "stream",
          "text": [
            "-0.009672239111591895\n",
            "0.029672239111591912\n"
          ],
          "name": "stdout"
        }
      ]
    },
    {
      "cell_type": "markdown",
      "metadata": {
        "id": "f1Jh926NgrC6"
      },
      "source": [
        "# **Calculate the CI-ConfidenceInterval of Mean**"
      ]
    },
    {
      "cell_type": "code",
      "metadata": {
        "colab": {
          "base_uri": "https://localhost:8080/"
        },
        "id": "FTqC0IV7fQpJ",
        "outputId": "2a257734-1cbe-4e09-adef-7c5b2ee6a734"
      },
      "source": [
        "df.groupby(['GENDER']).BMXBMI.mean()"
      ],
      "execution_count": 62,
      "outputs": [
        {
          "output_type": "execute_result",
          "data": {
            "text/plain": [
              "GENDER\n",
              "Female    29.939946\n",
              "Male      28.778072\n",
              "Name: BMXBMI, dtype: float64"
            ]
          },
          "metadata": {
            "tags": []
          },
          "execution_count": 62
        }
      ]
    },
    {
      "cell_type": "code",
      "metadata": {
        "colab": {
          "base_uri": "https://localhost:8080/",
          "height": 136
        },
        "id": "kw5vJH2EhB6s",
        "outputId": "783f442f-0743-4592-b256-917e87acb097"
      },
      "source": [
        "df.groupby(['GENDER']).BMXBMI.describe()"
      ],
      "execution_count": 63,
      "outputs": [
        {
          "output_type": "execute_result",
          "data": {
            "text/html": [
              "<div>\n",
              "<style scoped>\n",
              "    .dataframe tbody tr th:only-of-type {\n",
              "        vertical-align: middle;\n",
              "    }\n",
              "\n",
              "    .dataframe tbody tr th {\n",
              "        vertical-align: top;\n",
              "    }\n",
              "\n",
              "    .dataframe thead th {\n",
              "        text-align: right;\n",
              "    }\n",
              "</style>\n",
              "<table border=\"1\" class=\"dataframe\">\n",
              "  <thead>\n",
              "    <tr style=\"text-align: right;\">\n",
              "      <th></th>\n",
              "      <th>count</th>\n",
              "      <th>mean</th>\n",
              "      <th>std</th>\n",
              "      <th>min</th>\n",
              "      <th>25%</th>\n",
              "      <th>50%</th>\n",
              "      <th>75%</th>\n",
              "      <th>max</th>\n",
              "    </tr>\n",
              "    <tr>\n",
              "      <th>GENDER</th>\n",
              "      <th></th>\n",
              "      <th></th>\n",
              "      <th></th>\n",
              "      <th></th>\n",
              "      <th></th>\n",
              "      <th></th>\n",
              "      <th></th>\n",
              "      <th></th>\n",
              "    </tr>\n",
              "  </thead>\n",
              "  <tbody>\n",
              "    <tr>\n",
              "      <th>Female</th>\n",
              "      <td>2944.0</td>\n",
              "      <td>29.939946</td>\n",
              "      <td>7.753319</td>\n",
              "      <td>14.5</td>\n",
              "      <td>24.1</td>\n",
              "      <td>28.8</td>\n",
              "      <td>34.100</td>\n",
              "      <td>67.3</td>\n",
              "    </tr>\n",
              "    <tr>\n",
              "      <th>Male</th>\n",
              "      <td>2718.0</td>\n",
              "      <td>28.778072</td>\n",
              "      <td>6.252568</td>\n",
              "      <td>15.1</td>\n",
              "      <td>24.4</td>\n",
              "      <td>27.9</td>\n",
              "      <td>31.975</td>\n",
              "      <td>58.8</td>\n",
              "    </tr>\n",
              "  </tbody>\n",
              "</table>\n",
              "</div>"
            ],
            "text/plain": [
              "         count       mean       std   min   25%   50%     75%   max\n",
              "GENDER                                                             \n",
              "Female  2944.0  29.939946  7.753319  14.5  24.1  28.8  34.100  67.3\n",
              "Male    2718.0  28.778072  6.252568  15.1  24.4  27.9  31.975  58.8"
            ]
          },
          "metadata": {
            "tags": []
          },
          "execution_count": 63
        }
      ]
    },
    {
      "cell_type": "code",
      "metadata": {
        "id": "4xKJXy5Hhwxe"
      },
      "source": [
        "se_female=7.75/np.sqrt(2944)\n",
        "se_male=6.25/np.sqrt(2718)"
      ],
      "execution_count": 68,
      "outputs": []
    },
    {
      "cell_type": "code",
      "metadata": {
        "colab": {
          "base_uri": "https://localhost:8080/"
        },
        "id": "Q3JyFYiTlHTt",
        "outputId": "c1f2388d-9128-4c5e-e527-ffe6c55507b0"
      },
      "source": [
        "lcb_fe=29.93-1.96*se_female\n",
        "ucb_fe=29.93+1.96*se_female\n",
        "print(lcb_fe)\n",
        "print(ucb_fe)"
      ],
      "execution_count": 70,
      "outputs": [
        {
          "output_type": "stream",
          "text": [
            "29.650044585750887\n",
            "30.209955414249112\n"
          ],
          "name": "stdout"
        }
      ]
    },
    {
      "cell_type": "code",
      "metadata": {
        "colab": {
          "base_uri": "https://localhost:8080/"
        },
        "id": "jyVTCWE-lf3g",
        "outputId": "5556309f-7b1f-484e-c6f5-cd11b8fc3a1a"
      },
      "source": [
        "lcb_male=28.77-1.96*se_male\n",
        "ucb_male=28.77+1.96*se_male\n",
        "print(lcb_male)\n",
        "print(ucb_male)"
      ],
      "execution_count": 71,
      "outputs": [
        {
          "output_type": "stream",
          "text": [
            "28.535030570460222\n",
            "29.004969429539777\n"
          ],
          "name": "stdout"
        }
      ]
    },
    {
      "cell_type": "code",
      "metadata": {
        "colab": {
          "base_uri": "https://localhost:8080/"
        },
        "id": "B5XSgMPzl-nd",
        "outputId": "cca32ea0-c153-44f8-a5ee-20f1cfe779b6"
      },
      "source": [
        "mean_d=29.93-28.77\n",
        "print(mean_d)"
      ],
      "execution_count": 72,
      "outputs": [
        {
          "output_type": "stream",
          "text": [
            "1.1600000000000001\n"
          ],
          "name": "stdout"
        }
      ]
    },
    {
      "cell_type": "code",
      "metadata": {
        "id": "Qz5uk8tjnNL1"
      },
      "source": [
        "n1=2944\n",
        "n2=2718"
      ],
      "execution_count": 73,
      "outputs": []
    },
    {
      "cell_type": "code",
      "metadata": {
        "colab": {
          "base_uri": "https://localhost:8080/"
        },
        "id": "oIo60WpknpDo",
        "outputId": "38655a1e-10cd-4336-f046-c7a1863d9e0f"
      },
      "source": [
        "_1=np.sqrt(((n1-1)*se_female**2+(n2-1)*se_male**2)/(n1+n2-2))\n",
        "_2=np.sqrt((1/n1)+(1/n2))\n",
        "sem_d= _1*_2\n",
        "print(sem_d)"
      ],
      "execution_count": 75,
      "outputs": [
        {
          "output_type": "stream",
          "text": [
            "0.003519642057224516\n"
          ],
          "name": "stdout"
        }
      ]
    },
    {
      "cell_type": "code",
      "metadata": {
        "colab": {
          "base_uri": "https://localhost:8080/"
        },
        "id": "cEzgt4Rgof05",
        "outputId": "eebea11f-ca01-4cf5-e84a-8656b04dc78d"
      },
      "source": [
        "lcb=mean_d-1.96*(sem_d)\n",
        "ucb=mean_d+1.96*(sem_d)\n",
        "print(lcb)\n",
        "print(ucb)"
      ],
      "execution_count": 77,
      "outputs": [
        {
          "output_type": "stream",
          "text": [
            "1.15310150156784\n",
            "1.1668984984321602\n"
          ],
          "name": "stdout"
        }
      ]
    },
    {
      "cell_type": "code",
      "metadata": {
        "id": "25Z2nEMlo1x7"
      },
      "source": [
        "\n",
        "gender_bmi=df[['GENDER','BMXBMI']].copy()"
      ],
      "execution_count": 83,
      "outputs": []
    },
    {
      "cell_type": "code",
      "metadata": {
        "colab": {
          "base_uri": "https://localhost:8080/",
          "height": 136
        },
        "id": "P0qQv04Ztfdo",
        "outputId": "262a90f3-126a-4c5a-fcac-55618772ee9e"
      },
      "source": [
        "gender_bmi.groupby('GENDER').mean()"
      ],
      "execution_count": 87,
      "outputs": [
        {
          "output_type": "execute_result",
          "data": {
            "text/html": [
              "<div>\n",
              "<style scoped>\n",
              "    .dataframe tbody tr th:only-of-type {\n",
              "        vertical-align: middle;\n",
              "    }\n",
              "\n",
              "    .dataframe tbody tr th {\n",
              "        vertical-align: top;\n",
              "    }\n",
              "\n",
              "    .dataframe thead th {\n",
              "        text-align: right;\n",
              "    }\n",
              "</style>\n",
              "<table border=\"1\" class=\"dataframe\">\n",
              "  <thead>\n",
              "    <tr style=\"text-align: right;\">\n",
              "      <th></th>\n",
              "      <th>BMXBMI</th>\n",
              "    </tr>\n",
              "    <tr>\n",
              "      <th>GENDER</th>\n",
              "      <th></th>\n",
              "    </tr>\n",
              "  </thead>\n",
              "  <tbody>\n",
              "    <tr>\n",
              "      <th>Female</th>\n",
              "      <td>29.939946</td>\n",
              "    </tr>\n",
              "    <tr>\n",
              "      <th>Male</th>\n",
              "      <td>28.778072</td>\n",
              "    </tr>\n",
              "  </tbody>\n",
              "</table>\n",
              "</div>"
            ],
            "text/plain": [
              "           BMXBMI\n",
              "GENDER           \n",
              "Female  29.939946\n",
              "Male    28.778072"
            ]
          },
          "metadata": {
            "tags": []
          },
          "execution_count": 87
        }
      ]
    },
    {
      "cell_type": "code",
      "metadata": {
        "colab": {
          "base_uri": "https://localhost:8080/"
        },
        "id": "jGJ2b292sLEX",
        "outputId": "c1f4e350-c94d-49f2-d762-5a9f04abfcea"
      },
      "source": [
        "from scipy.stats import ttest_ind\n",
        "cat1 = gender_bmi[gender_bmi['GENDER']=='Female']\n",
        "cat2 = gender_bmi[gender_bmi['GENDER']=='Male']\n",
        "\n",
        "ttest_ind(cat1['BMXBMI'], cat2['BMXBMI'])"
      ],
      "execution_count": 88,
      "outputs": [
        {
          "output_type": "execute_result",
          "data": {
            "text/plain": [
              "Ttest_indResult(statistic=nan, pvalue=nan)"
            ]
          },
          "metadata": {
            "tags": []
          },
          "execution_count": 88
        }
      ]
    },
    {
      "cell_type": "code",
      "metadata": {
        "id": "HGCPEEors9A5"
      },
      "source": [
        ""
      ],
      "execution_count": null,
      "outputs": []
    }
  ]
}